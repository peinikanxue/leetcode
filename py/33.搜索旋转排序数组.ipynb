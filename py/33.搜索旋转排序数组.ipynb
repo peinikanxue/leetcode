{
 "nbformat": 4,
 "nbformat_minor": 2,
 "metadata": {
  "language_info": {
   "name": "python",
   "codemirror_mode": {
    "name": "ipython",
    "version": 3
   },
   "version": "3.6.9"
  },
  "orig_nbformat": 2,
  "file_extension": ".py",
  "mimetype": "text/x-python",
  "name": "python",
  "npconvert_exporter": "python",
  "pygments_lexer": "ipython3",
  "version": 3
 },
 "cells": [
  {
   "cell_type": "markdown",
   "execution_count": null,
   "metadata": {},
   "outputs": [],
   "source": [
    "# 1"
   ]
  },
  {
   "cell_type": "markdown",
   "execution_count": null,
   "metadata": {},
   "outputs": [],
   "source": [
    "多个条件判断，划分区域判断。 （思路对，但不够清晰，没能全部通过）"
   ]
  },
  {
   "cell_type": "markdown",
   "execution_count": null,
   "metadata": {},
   "outputs": [],
   "source": [
    "# 题解"
   ]
  },
  {
   "cell_type": "code",
   "execution_count": 1,
   "metadata": {},
   "outputs": [
    {
     "name": "stdout",
     "output_type": "stream",
     "text": "5\n1\n5\n4\n-1\n-1\n0\n-1\n-1\n1\n1\n4\n"
    }
   ],
   "source": [
    "from utils import *\n",
    "\n",
    "class Solution:\n",
    "    def search(self, nums: List[int], target: int) -> int:\n",
    "\n",
    "        l = 0\n",
    "        r = len(nums) - 1\n",
    "\n",
    "        while l <= r:\n",
    "            m = (l + r) // 2\n",
    "            if target == nums[m]:\n",
    "                return m\n",
    "            if nums[l] <= nums[m]:  # 左边是顺序的\n",
    "                if nums[l] <= target <= nums[m]:\n",
    "                    r = m - 1\n",
    "                else:\n",
    "                    l = m + 1\n",
    "            else:                   # 右边是顺序的\n",
    "                if nums[m] < target <= nums[r]:\n",
    "                    l = m + 1\n",
    "                else:\n",
    "                    r = m - 1\n",
    "        return -1\n",
    "        \n",
    "        \n",
    "if __name__ == \"__main__\":\n",
    "    nums_list = [\n",
    "        [0,1,2,3,4,5,6],\n",
    "        [4,5,6,7,0,1,2],\n",
    "        [4,5,6,7,0,1,2],\n",
    "        [4,5,6,7,0,1,2],\n",
    "        [4,5,6,7,0,1,2],\n",
    "        [],\n",
    "        [1],\n",
    "        [1, 3],\n",
    "        [1, 3],\n",
    "        [1, 3],\n",
    "        [3,4,5,1,2],\n",
    "        [4,5,6,7,0,1,2],\n",
    "    ]\n",
    "    target_list = [5, 5, 1, 0, 3, 5, 1, 0, 2, 3, 4, 0]\n",
    "\n",
    "    for nums, target in zip(nums_list, target_list):\n",
    "        print(Solution().search(nums, target))"
   ]
  },
  {
   "cell_type": "markdown",
   "execution_count": null,
   "metadata": {},
   "outputs": [],
   "source": [
    "执行用时 :44 ms, 在所有 python3 提交中击败了94.46%的用户\n",
    "\n",
    "内存消耗 :12.6 MB, 在所有 python3 提交中击败了99.57%的用户"
   ]
  },
  {
   "cell_type": "markdown",
   "execution_count": null,
   "metadata": {},
   "outputs": [],
   "source": [
    "time:O(logn)\n",
    "\n",
    "space:O(1)"
   ]
  }
 ]
}