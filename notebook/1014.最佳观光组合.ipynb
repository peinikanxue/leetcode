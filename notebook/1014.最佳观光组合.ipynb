{
 "cells": [
  {
   "cell_type": "markdown",
   "metadata": {},
   "source": [
    "# 1"
   ]
  },
  {
   "cell_type": "markdown",
   "metadata": {},
   "source": [
    "将数值绘制成柱状图，再倒下后就发现了状态转移的规律。\n",
    "\n",
    "![](../imgs/1014.svg)"
   ]
  },
  {
   "cell_type": "code",
   "execution_count": null,
   "metadata": {},
   "outputs": [],
   "source": [
    "#include <iostream>\n",
    "#include <vector>\n",
    "#include <algorithm>\n",
    "\n",
    "using namespace std;\n",
    "\n",
    "// @lc code=start\n",
    "class Solution {\n",
    "public:\n",
    "    int maxScoreSightseeingPair(vector<int>& values) {\n",
    "        vector<int> dp(values.size());\n",
    "\n",
    "        for(int i=0; i<values.size(); ++i){\n",
    "            dp[i] += values[i];\n",
    "            for(int k=1; k<values[i] && i+k<values.size(); ++k){\n",
    "                // dp[i+k] = max(dp[i+k], values[i]-k);\n",
    "                if(values[i]-k > dp[i+k])\n",
    "                    dp[i+k] = values[i]-k;\n",
    "                else                    //剪枝\n",
    "                    break;\n",
    "            }\n",
    "        }\n",
    "\n",
    "        return *max_element(dp.begin(), dp.end());\n",
    "    }\n",
    "};\n",
    "// @lc code=end\n",
    "\n",
    "int main(int argc, char const *argv[])\n",
    "{\n",
    "    vector<int> values {6, 1, 5, 2, 6, 1, 2, 7};\n",
    "    cout << Solution().maxScoreSightseeingPair(values) << endl;\n",
    "    return 0;\n",
    "}"
   ]
  },
  {
   "cell_type": "markdown",
   "metadata": {},
   "source": [
    "53/53 cases passed (180 ms)\\\n",
    "Your runtime beats 6.78 % of cpp submissions\\\n",
    "Your memory usage beats 11.19 % of cpp submissions (39.9 MB)"
   ]
  },
  {
   "cell_type": "markdown",
   "metadata": {},
   "source": [
    "time: O(nlogn)\n",
    "\n",
    "space: O(n)"
   ]
  },
  {
   "cell_type": "markdown",
   "metadata": {},
   "source": [
    "# 题解"
   ]
  },
  {
   "cell_type": "markdown",
   "metadata": {},
   "source": [
    "可以将其拆分成$values[i]+i$和$values[j]-j$两部分，\\\n",
    "这样对于统计景点j答案的时候，由于$values[j]-j$是固定不变的（并不是指数组的值为同一个固定数，而是数组内的数不会随着遍历发生变化），\\\n",
    "因此最大化$values[i]+i+values[j]-j$的值其实就等价于求[0,j-1]中$values[i]+i$的最大值mx，景点j的答案即为$mx+values[j]-j$。\n",
    "\n",
    "而mx的值我们只要从前往后遍历j的时候同时维护即可，这样每次遍历到景点j的时候，寻找使得得分最大的i就能从O(n)降至O(1)的时间复杂度，总时间复杂度就能从$O(n^2)$降至$O(n)$。\n",
    "\n",
    "[ref](https://leetcode-cn.com/problems/best-sightseeing-pair/solution/zui-jia-guan-guang-zu-he-by-leetcode-solution/)"
   ]
  },
  {
   "cell_type": "markdown",
   "metadata": {},
   "source": [
    "![](../imgs/1014-ans.svg)"
   ]
  },
  {
   "cell_type": "code",
   "execution_count": null,
   "metadata": {},
   "outputs": [],
   "source": [
    "class Solution {\n",
    "public:\n",
    "    int maxScoreSightseeingPair(vector<int>& values) {\n",
    "        int ans = 0, mx = values[0] + 0;\n",
    "        for (int j = 1; j < values.size(); ++j) {\n",
    "            ans = max(ans, mx + values[j] - j);\n",
    "            // 边遍历边维护\n",
    "            mx = max(mx, values[j] + j);    // 这里的j是前面描述的i的含义，j = i\n",
    "        }\n",
    "        return ans;\n",
    "    }\n",
    "};"
   ]
  },
  {
   "cell_type": "markdown",
   "metadata": {},
   "source": [
    "time: O(n)\n",
    "\n",
    "space: O(1)"
   ]
  }
 ],
 "metadata": {
  "interpreter": {
   "hash": "31f2aee4e71d21fbe5cf8b01ff0e069b9275f58929596ceb00d14d90e3e16cd6"
  },
  "kernelspec": {
   "display_name": "Python 3.8.10 64-bit",
   "name": "python3"
  },
  "language_info": {
   "name": "python",
   "version": "3.8.10"
  },
  "orig_nbformat": 4
 },
 "nbformat": 4,
 "nbformat_minor": 2
}
