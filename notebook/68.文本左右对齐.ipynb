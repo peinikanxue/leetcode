{
 "cells": [
  {
   "cell_type": "markdown",
   "source": [
    "# 1"
   ],
   "metadata": {}
  },
  {
   "cell_type": "markdown",
   "source": [
    "先找出一行可以放几个单词， \\\n",
    "再尽量均匀的插入空格，否则左侧空格要比右侧多。\n",
    "\n",
    "> 题目虽然是hard，却没难度。只是很繁琐。"
   ],
   "metadata": {}
  },
  {
   "cell_type": "code",
   "execution_count": 12,
   "source": [
    "from typing import List\n",
    "from math import ceil\n",
    "\n",
    "\n",
    "class Solution:\n",
    "    def fullJustify(self, words: List[str], max_width: int) -> List[str]:\n",
    "        def search_start_end(words, start, max_width):\n",
    "            for i in range(start, len(words)):\n",
    "                max_width -= len(words[i]) if i == start else len(words[i]) + 1 # 除第一个词以外，都需要配一个空格\n",
    "                if max_width < 0:\n",
    "                    return (start, i)\n",
    "            return (start, len(words))  # 最后一行\n",
    "\n",
    "        def cal_space_num(words, start, end, max_width):\n",
    "            sum_num = sum([len(x) for x in words[start:end]])\n",
    "            space_num = max_width - sum_num\n",
    "            if len(words[start:end]) == 1:  # 一行只有1个单词，单独处理\n",
    "                return 0, 0, space_num, 1\n",
    "            elif end == len(words):   # 最后一行，单独处理\n",
    "                print((end - start -1), space_num - (end - start - 1))\n",
    "                return 1, (end - start -1), space_num - (end - start - 1), 1\n",
    "            else:\n",
    "                gap_num = end - start - 1\n",
    "                avg = space_num / gap_num\n",
    "                left_num = ceil(avg)\n",
    "                left_count = space_num // left_num\n",
    "                last_num = space_num - left_num * left_count\n",
    "                right_num = 0\n",
    "                right_count = gap_num - left_count\n",
    "                if left_count < gap_num:\n",
    "                    left_count -= 1\n",
    "                    last_num += left_num\n",
    "                while left_count < gap_num and last_num % right_count != 0:\n",
    "                    left_count -= 1\n",
    "                    last_num += left_num\n",
    "                right_count = gap_num - left_count\n",
    "                right_num = last_num // right_count if right_count != 0 else 0\n",
    "\n",
    "                # print(f'gap_num:{gap_num} avg:{avg} space:{space_num} {left_num}*{left_count} {right_num}*{right_count} {last_num}')\n",
    "                return left_num, left_count, right_num, right_count\n",
    "\n",
    "        ans = []\n",
    "        i = 0\n",
    "        while i < len(words):\n",
    "            start, end = search_start_end(words, i, max_width)\n",
    "            ln, lc, rn, rc = cal_space_num(words, start, end, max_width)\n",
    "            # print(f'{start}:{end} {ln}:{lc} {rn}:{rc}')\n",
    "            if end == len(words) or len(words[start:end]) == 1:    # 最后一行或一行只有一个单词，单独处理\n",
    "                sentence = ' '.join(words[start:end]) + (' ' * rn)\n",
    "            else:\n",
    "                if rn == 0:\n",
    "                    sentence = (' ' * ln).join(words[start:end])\n",
    "                else:\n",
    "                    sentence = (' ' * ln).join(words[start:end-rc]) + (' ' * rn) + (' ' * rn).join(words[end-rc:end])\n",
    "            ans.append(sentence)\n",
    "            i = end\n",
    "        return ans\n",
    "\n",
    "\n",
    "if __name__ == '__main__':\n",
    "    words_maxWidth = [\n",
    "        [[\"This\", \"is\", \"an\", \"example\", \"of\", \"text\", \"justification.\"], 16],\n",
    "        [[\"What\",\"must\",\"be\",\"acknowledgment\",\"shall\",\"be\"], 16],\n",
    "        [[\"Science\",\"is\",\"what\",\"we\",\"understand\",\"well\",\"enough\",\"to\",\"explain\",\n",
    "         \"to\",\"a\",\"computer.\",\"Art\",\"is\",\"everything\",\"else\",\"we\",\"do\"], 20],\n",
    "        [[\"This\", \"is\", \"an\", \"example\", \"of\", \"text\", \"justification.\"], 16],\n",
    "        [[\"ask\",\"not\",\"what\",\"your\",\"country\",\"can\",\"do\",\"for\",\"you\",\"ask\",\"what\",\"you\",\"can\",\"do\",\"for\",\"your\",\"country\"], 16],\n",
    "    ]\n",
    "\n",
    "    for words, maxWidth in words_maxWidth:\n",
    "        print(Solution().fullJustify(words, maxWidth))"
   ],
   "outputs": [
    {
     "output_type": "stream",
     "name": "stdout",
     "text": [
      "['This    is    an', 'example of text', 'justification.  ']\n",
      "1 8\n",
      "['What   must   be', 'acknowledgment  ', 'shall be        ']\n",
      "['Science  is what we', 'understand      well', 'enough to explain to', 'a  computer. Art is', 'everything  else  we', 'do                  ']\n",
      "['This    is    an', 'example of text', 'justification.  ']\n",
      "2 0\n",
      "['ask   not   what', 'your country can', 'do  for you ask', 'what  you can do', 'for your country']\n"
     ]
    }
   ],
   "metadata": {}
  },
  {
   "cell_type": "markdown",
   "source": [
    "未完全通过"
   ],
   "metadata": {}
  },
  {
   "cell_type": "markdown",
   "source": [
    "# 题解"
   ],
   "metadata": {}
  },
  {
   "cell_type": "code",
   "execution_count": null,
   "source": [
    "# blank 返回长度为 n 的由空格组成的字符串\n",
    "def blank(n: int) -> str:\n",
    "    return ' ' * n\n",
    "\n",
    "class Solution:\n",
    "    def fullJustify(self, words: List[str], maxWidth: int) -> List[str]:\n",
    "        ans = []\n",
    "        right, n = 0, len(words)\n",
    "        while True:\n",
    "            left = right  # 当前行的第一个单词在 words 的位置\n",
    "            sumLen = 0  # 统计这一行单词长度之和\n",
    "            # 循环确定当前行可以放多少单词，注意单词之间应至少有一个空格\n",
    "            while right < n and sumLen + len(words[right]) + right - left <= maxWidth:\n",
    "                sumLen += len(words[right])\n",
    "                right += 1\n",
    "\n",
    "            # 当前行是最后一行：单词左对齐，且单词之间应只有一个空格，在行末填充剩余空格\n",
    "            if right == n:\n",
    "                s = \" \".join(words[left:])\n",
    "                ans.append(s + blank(maxWidth - len(s)))\n",
    "                break\n",
    "\n",
    "            numWords = right - left\n",
    "            numSpaces = maxWidth - sumLen\n",
    "\n",
    "            # 当前行只有一个单词：该单词左对齐，在行末填充空格\n",
    "            if numWords == 1:\n",
    "                ans.append(words[left] + blank(numSpaces))\n",
    "                continue\n",
    "\n",
    "            # 当前行不只一个单词\n",
    "            avgSpaces = numSpaces // (numWords - 1)\n",
    "            extraSpaces = numSpaces % (numWords - 1)\n",
    "            s1 = blank(avgSpaces + 1).join(words[left:left + extraSpaces + 1])  # 拼接额外加一个空格的单词\n",
    "            s2 = blank(avgSpaces).join(words[left + extraSpaces + 1:right])  # 拼接其余单词\n",
    "            ans.append(s1 + blank(avgSpaces) + s2)\n",
    "\n",
    "        return ans"
   ],
   "outputs": [],
   "metadata": {}
  }
 ],
 "metadata": {
  "orig_nbformat": 4,
  "language_info": {
   "name": "python",
   "version": "3.8.10",
   "mimetype": "text/x-python",
   "codemirror_mode": {
    "name": "ipython",
    "version": 3
   },
   "pygments_lexer": "ipython3",
   "nbconvert_exporter": "python",
   "file_extension": ".py"
  },
  "kernelspec": {
   "name": "python3",
   "display_name": "Python 3.8.10 64-bit"
  },
  "interpreter": {
   "hash": "31f2aee4e71d21fbe5cf8b01ff0e069b9275f58929596ceb00d14d90e3e16cd6"
  }
 },
 "nbformat": 4,
 "nbformat_minor": 2
}