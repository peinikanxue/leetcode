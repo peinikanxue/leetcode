{
 "cells": [
  {
   "cell_type": "markdown",
   "metadata": {},
   "source": [
    "# 1"
   ]
  },
  {
   "cell_type": "markdown",
   "metadata": {},
   "source": [
    "二进制处理\n",
    "\n",
    "/2,-1,+1操作对于二进制操作更加适合，目标就是将二进制的位数减为1，\\\n",
    "偶数时，/2操作没有选择，>>1是最好选择，二进制将减少一位\\\n",
    "奇数时，-1,+1的选择不会使得二进制的位数减少，为了减少后续出现+1,-1的选择，需要判断+1,-1后的值二进制中'1'的数量更少。\n",
    "\n",
    "ps:注意n=763的二进制值为1011111011，所以-1,+1后的二进制'1'的个数想同时，优先+1使得连在一起的'1'更多更好，方便一次性'消掉'。\\\n",
    "    唯一特殊的是，仅有n=3的二进制值为11，-1,+1后的二进制'1'的个数想同，但却应该-1。"
   ]
  },
  {
   "cell_type": "code",
   "execution_count": null,
   "metadata": {},
   "outputs": [],
   "source": [
    "#include <climits>\n",
    "\n",
    "class Solution {\n",
    "public:\n",
    "    int integerReplacement(int n) {\n",
    "        if(n == INT_MAX)\n",
    "            return 32;\n",
    "        int count = 0;\n",
    "\n",
    "        while(n != 1){\n",
    "            if(n == 3){\n",
    "                count += 2;\n",
    "                break;\n",
    "            }else if(n % 2 == 0){\n",
    "                n >>= 1;\n",
    "            }else{\n",
    "                n = count1(n - 1) < count1(n + 1) ? n - 1 : n + 1;\n",
    "            }\n",
    "            ++count;\n",
    "        }\n",
    "        return count;\n",
    "    }\n",
    "\n",
    "\n",
    "    int count1(int n){\n",
    "        int count = 0;\n",
    "        while(n != 0){\n",
    "            ++count;\n",
    "            n = (n - 1) & n;\n",
    "        }\n",
    "        return count;\n",
    "    }\n",
    "\n",
    "};"
   ]
  },
  {
   "cell_type": "markdown",
   "metadata": {},
   "source": [
    "47/47 cases passed (0 ms)\\\n",
    "Your runtime beats 100 % of cpp submissions\\\n",
    "Your memory usage beats 85.69 % of cpp submissions (5.8 MB)"
   ]
  },
  {
   "cell_type": "markdown",
   "metadata": {},
   "source": [
    "# 题解"
   ]
  },
  {
   "cell_type": "markdown",
   "metadata": {},
   "source": [
    "递归枚举所有可能\n",
    "\n",
    "(ref)[https://leetcode-cn.com/problems/integer-replacement/solution/zheng-shu-ti-huan-by-leetcode-solution-swef/]"
   ]
  },
  {
   "cell_type": "code",
   "execution_count": null,
   "metadata": {},
   "outputs": [],
   "source": [
    "class Solution {\n",
    "public:\n",
    "    int integerReplacement(int n) {\n",
    "        if (n == 1) {\n",
    "            return 0;\n",
    "        }\n",
    "        if (n % 2 == 0) {\n",
    "            return 1 + integerReplacement(n / 2);\n",
    "        }\n",
    "        return 2 + min(integerReplacement(n / 2), integerReplacement(n / 2 + 1));\n",
    "    }\n",
    "};"
   ]
  },
  {
   "cell_type": "markdown",
   "metadata": {},
   "source": [
    "47/47 cases passed (4 ms)\\\n",
    "Your runtime beats 49.56 % of cpp submissions\\\n",
    "Your memory usage beats 27.73 % of cpp submissions (6 MB)"
   ]
  },
  {
   "cell_type": "markdown",
   "metadata": {},
   "source": [
    "增加cache"
   ]
  },
  {
   "cell_type": "code",
   "execution_count": null,
   "metadata": {},
   "outputs": [],
   "source": [
    "class Solution {\n",
    "private:\n",
    "    unordered_map<int, int> memo;\n",
    "\n",
    "public:\n",
    "    int integerReplacement(int n) {\n",
    "        if (n == 1) {\n",
    "            return 0;\n",
    "        }\n",
    "        if (memo.count(n)) {\n",
    "            return memo[n];\n",
    "        }\n",
    "        if (n % 2 == 0) {\n",
    "            return memo[n] = 1 + integerReplacement(n / 2);\n",
    "        }\n",
    "        return memo[n] = 2 + min(integerReplacement(n / 2), integerReplacement(n / 2 + 1));\n",
    "    }\n",
    "};"
   ]
  },
  {
   "cell_type": "markdown",
   "metadata": {},
   "source": [
    "47/47 cases passed (0 ms)\\\n",
    "Your runtime beats 100 % of cpp submissions\\\n",
    "Your memory usage beats 20.05 % of cpp submissions (7.1 MB)"
   ]
  },
  {
   "cell_type": "markdown",
   "metadata": {},
   "source": [
    "不一定快，但思路更直观，直接。"
   ]
  }
 ],
 "metadata": {
  "interpreter": {
   "hash": "31f2aee4e71d21fbe5cf8b01ff0e069b9275f58929596ceb00d14d90e3e16cd6"
  },
  "kernelspec": {
   "display_name": "Python 3.8.10 64-bit",
   "name": "python3"
  },
  "language_info": {
   "name": "python",
   "version": "3.8.10"
  },
  "orig_nbformat": 4
 },
 "nbformat": 4,
 "nbformat_minor": 2
}
