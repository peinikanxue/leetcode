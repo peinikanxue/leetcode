{
 "cells": [
  {
   "cell_type": "markdown",
   "metadata": {},
   "source": [
    "# 题解"
   ]
  },
  {
   "cell_type": "markdown",
   "metadata": {},
   "source": [
    "数学类，位移运算。"
   ]
  },
  {
   "cell_type": "code",
   "execution_count": 1,
   "metadata": {},
   "outputs": [
    {
     "name": "stdout",
     "output_type": "stream",
     "text": [
      "3\n",
      "-2\n",
      "-2\n",
      "3\n",
      "0\n",
      "0\n",
      "33\n",
      "2147483647\n"
     ]
    }
   ],
   "source": [
    "class Solution:\n",
    "    def divide(self, dividend: int, divisor: int) -> int:\n",
    "\n",
    "        symbol = (dividend < 0) ^ (divisor < 0)\n",
    "        count = 0\n",
    "        result = 0\n",
    "\n",
    "        dividend = abs(dividend)\n",
    "        divisor = abs(divisor)\n",
    "        \n",
    "        while dividend >= divisor:\n",
    "            count += 1\n",
    "            divisor <<= 1\n",
    "\n",
    "        while count > 0:\n",
    "            count -= 1\n",
    "            divisor >>= 1\n",
    "            result <<= 1\n",
    "            if dividend >= divisor:\n",
    "                result += 1\n",
    "                dividend -= divisor\n",
    "\n",
    "        if symbol:\n",
    "            result = -result\n",
    "\n",
    "        return result if -(1<<31) <= result <= (1<<31) - 1 else (1<<31) - 1\n",
    "\n",
    "\n",
    "if __name__ == \"__main__\":\n",
    "    dividend_list = [10, 7, -7, -10, 0, 0, 100, -2147483648]\n",
    "    divisor_list = [3, -3, 3, -3, -1, 1, 3, -1]\n",
    "\n",
    "    for dividend, divisor in zip(dividend_list, divisor_list):\n",
    "        print(Solution().divide(dividend, divisor))"
   ]
  },
  {
   "cell_type": "markdown",
   "metadata": {},
   "source": [
    "执行用时 :52 ms, 在所有 python3 提交中击败了55.12%的用户\n",
    "\n",
    "内存消耗 :13.8 MB, 在所有 python3 提交中击败了5.30%的用户"
   ]
  },
  {
   "cell_type": "markdown",
   "metadata": {},
   "source": [
    "time:O(logn)\n",
    "\n",
    "space:O(1)"
   ]
  }
 ],
 "metadata": {
  "kernelspec": {
   "display_name": "Python 3",
   "language": "python",
   "name": "python3"
  },
  "language_info": {
   "codemirror_mode": {
    "name": "ipython",
    "version": 3
   },
   "file_extension": ".py",
   "mimetype": "text/x-python",
   "name": "python",
   "nbconvert_exporter": "python",
   "pygments_lexer": "ipython3",
   "version": "3.6.8"
  }
 },
 "nbformat": 4,
 "nbformat_minor": 2
}
