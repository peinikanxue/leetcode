{
 "cells": [
  {
   "cell_type": "markdown",
   "metadata": {},
   "source": [
    "# 1"
   ]
  },
  {
   "cell_type": "markdown",
   "metadata": {},
   "source": [
    "字母a-z，只有26个，可以被编码到32字节的int中。\n",
    "\n",
    "然后，判断两个字符串是否有重复，就十分快速了。"
   ]
  },
  {
   "cell_type": "code",
   "execution_count": null,
   "metadata": {},
   "outputs": [],
   "source": [
    "#include <string>\n",
    "#include <vector>\n",
    "#include <cmath>\n",
    "\n",
    "using namespace std;\n",
    "\n",
    "class Solution {\n",
    "public:\n",
    "    int maxProduct(vector<string>& words) {\n",
    "        int ans = 0;\n",
    "        vector<int> encode_words = encode(words);\n",
    "        \n",
    "        for(int i = 0; i < words.size(); ++i){\n",
    "            for(int j = i + 1; j < words.size(); ++j){\n",
    "                if((encode_words[i] & encode_words[j]) == 0){\n",
    "                    ans = fmax(ans, words[i].length() * words[j].length());\n",
    "                }\n",
    "            }\n",
    "        }\n",
    "\n",
    "        return ans;\n",
    "    }\n",
    "\n",
    "    vector<int> encode(vector<string>& words){\n",
    "        vector<int> encode_words(words.size(), 0);\n",
    "        for(int i = 0; i < words.size(); ++i){\n",
    "            for(const auto &c : words[i]){\n",
    "                encode_words[i] |= 1 << (c - 'a');\n",
    "            }\n",
    "        }\n",
    "\n",
    "        return encode_words;\n",
    "    }\n",
    "};"
   ]
  },
  {
   "cell_type": "markdown",
   "metadata": {},
   "source": [
    "167/167 cases passed (48 ms)\\\n",
    "Your runtime beats 43.1 % of cpp submissions\\\n",
    "Your memory usage beats 87.27 % of cpp submissions (15.2 MB)"
   ]
  },
  {
   "cell_type": "markdown",
   "metadata": {},
   "source": [
    "time: O(L*n + n^2)\n",
    "\n",
    "space: O(n)"
   ]
  },
  {
   "cell_type": "markdown",
   "metadata": {},
   "source": [
    "评论区的std库用的真棒！\n",
    "\n",
    "[ref](https://leetcode-cn.com/problems/maximum-product-of-word-lengths/solution/zui-da-dan-ci-chang-du-cheng-ji-by-leetc-lym9/1234278)"
   ]
  },
  {
   "cell_type": "code",
   "execution_count": null,
   "metadata": {},
   "outputs": [],
   "source": [
    "#include <string>\n",
    "#include <vector>\n",
    "#include <unordered_map>\n",
    "#include <cmath>        // fmax()\n",
    "#include <numeric>      // transform_reduce()   -std=c++17\n",
    "#include <functional>   // bit_or()             -std=c++14\n",
    "\n",
    "class Solution {\n",
    "public:\n",
    "    int maxProduct(vector<string>& words) {\n",
    "        unordered_map<int, int> m;\n",
    "        int ans = 0;\n",
    "        for(auto&& s: words){\n",
    "            int t = transform_reduce(begin(s), end(s), 0, bit_or(), [](auto&& c){return 1<<(c-'a');});\n",
    "            m[t] = fmax(m[t], s.size());\n",
    "            for(auto&& [a,b] : m) ans = fmax(ans, (a&t) ? 0 : b * s.size());\n",
    "        }\n",
    "        return ans;\n",
    "    }  \n",
    "};"
   ]
  }
 ],
 "metadata": {
  "interpreter": {
   "hash": "31f2aee4e71d21fbe5cf8b01ff0e069b9275f58929596ceb00d14d90e3e16cd6"
  },
  "kernelspec": {
   "display_name": "Python 3.8.10 64-bit",
   "name": "python3"
  },
  "language_info": {
   "name": "python",
   "version": "3.8.10"
  },
  "orig_nbformat": 4
 },
 "nbformat": 4,
 "nbformat_minor": 2
}
