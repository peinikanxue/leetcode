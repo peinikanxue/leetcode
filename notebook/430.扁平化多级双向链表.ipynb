{
 "cells": [
  {
   "cell_type": "markdown",
   "source": [
    "# 1"
   ],
   "metadata": {}
  },
  {
   "cell_type": "markdown",
   "source": [
    "直接做"
   ],
   "metadata": {}
  },
  {
   "cell_type": "code",
   "execution_count": 5,
   "source": [
    "class Solution:\n",
    "    def flatten(self, head: 'Node') -> 'Node':\n",
    "        ans = []\n",
    "        while head:\n",
    "            x = head.pop(0)\n",
    "            if x:\n",
    "                ans.append(x)\n",
    "            else:\n",
    "                break\n",
    "        pre_start = 1\n",
    "        idx = 1\n",
    "        while head:\n",
    "            idx = pre_start\n",
    "            while head and not head[0]:\n",
    "                idx += 1\n",
    "                head.pop(0)\n",
    "            pre_start = idx\n",
    "            while head and head[0]:\n",
    "                x = head.pop(0)\n",
    "                ans.insert(idx, x)\n",
    "                idx += 1\n",
    "        return ans\n",
    "\n",
    "\n",
    "if __name__ == '__main__':\n",
    "    head_list = [\n",
    "        [1,2,3,4,5,6,None,None,None,7,8,9,10,None,None,11,12],\n",
    "        [1,2,None,3],\n",
    "        [],\n",
    "    ]\n",
    "\n",
    "    for head in head_list:\n",
    "        print(Solution().flatten(head))"
   ],
   "outputs": [
    {
     "output_type": "stream",
     "name": "stdout",
     "text": [
      "[1, 2, 3, 7, 8, 11, 12, 9, 10, 4, 5, 6]\n",
      "[1, 3, 2]\n",
      "[]\n"
     ]
    }
   ],
   "metadata": {}
  },
  {
   "cell_type": "markdown",
   "source": [
    "实际输入的是Node，而不是数组。\n",
    "\n",
    "改造一下"
   ],
   "metadata": {}
  },
  {
   "cell_type": "code",
   "execution_count": null,
   "source": [
    "class Node:\n",
    "    def __init__(self, val, prev, next, child):\n",
    "        self.val = val\n",
    "        self.prev = prev\n",
    "        self.next = next\n",
    "        self.child = child\n",
    "\n",
    "class Solution:\n",
    "    def flatten(self, head: 'Node') -> 'Node':\n",
    "        def enter_child(p):\n",
    "            while p:\n",
    "                if p.child:\n",
    "                    tmp_next = p.next\n",
    "                    p.child.prev = p\n",
    "                    p.next = p.child\n",
    "                    p.child = None\n",
    "                    last_p = enter_child(p.next)\n",
    "                    last_p.next = tmp_next\n",
    "                    if tmp_next:\n",
    "                        tmp_next.prev = last_p\n",
    "                if p.next:\n",
    "                    p = p.next\n",
    "                else:\n",
    "                    return p\n",
    "        enter_child(head)\n",
    "        return head\n",
    "\n",
    "# 建链表太麻烦了"
   ],
   "outputs": [],
   "metadata": {}
  },
  {
   "cell_type": "markdown",
   "source": [
    "26/26 cases passed (44 ms)\\\n",
    "Your runtime beats 34.34 % of python3 submissions\\\n",
    "Your memory usage beats 37.95 % of python3 submissions (15.9 MB)"
   ],
   "metadata": {}
  },
  {
   "cell_type": "markdown",
   "source": [
    "time: O(n)\n",
    "\n",
    "space: O(1)"
   ],
   "metadata": {}
  }
 ],
 "metadata": {
  "orig_nbformat": 4,
  "language_info": {
   "name": "python",
   "version": "3.8.10",
   "mimetype": "text/x-python",
   "codemirror_mode": {
    "name": "ipython",
    "version": 3
   },
   "pygments_lexer": "ipython3",
   "nbconvert_exporter": "python",
   "file_extension": ".py"
  },
  "kernelspec": {
   "name": "python3",
   "display_name": "Python 3.8.10 64-bit"
  },
  "interpreter": {
   "hash": "31f2aee4e71d21fbe5cf8b01ff0e069b9275f58929596ceb00d14d90e3e16cd6"
  }
 },
 "nbformat": 4,
 "nbformat_minor": 2
}