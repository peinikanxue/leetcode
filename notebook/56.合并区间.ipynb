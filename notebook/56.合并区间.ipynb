{
 "cells": [
  {
   "cell_type": "markdown",
   "metadata": {},
   "source": [
    "# 1"
   ]
  },
  {
   "cell_type": "code",
   "execution_count": null,
   "metadata": {},
   "outputs": [],
   "source": [
    "class Solution {\n",
    "public:\n",
    "    vector<vector<int>> merge(vector<vector<int>>& intervals) {\n",
    "        sort(intervals.begin(), intervals.end());\n",
    "\n",
    "        for(auto it=intervals.begin(); it != intervals.end(); ++it){\n",
    "            if(it == intervals.begin())\n",
    "                continue;\n",
    "            if((*(it-1))[1] >= (*it)[1]){\n",
    "                intervals.erase(it);            // vector是连续的内存空间，删除会导致后面的元素向前收缩\n",
    "                --it;                           // 因此需要回退\n",
    "            }else if((*(it-1))[1] >= (*it)[0]){\n",
    "                (*(it-1))[1] = (*it)[1];\n",
    "                intervals.erase(it);\n",
    "                --it;\n",
    "            }\n",
    "        }\n",
    "\n",
    "        return intervals;\n",
    "    }\n",
    "};"
   ]
  },
  {
   "cell_type": "markdown",
   "metadata": {},
   "source": [
    "Time Limit Exceeded\\\n",
    "168/168 cases passed (N/A)"
   ]
  },
  {
   "cell_type": "markdown",
   "metadata": {},
   "source": [
    "超时，猜测可能是频繁的删除操作，vector空间调整开销大。\\\n",
    "那就用空间换时间吧。"
   ]
  },
  {
   "cell_type": "code",
   "execution_count": null,
   "metadata": {},
   "outputs": [],
   "source": [
    "class Solution {\n",
    "public:\n",
    "    vector<vector<int>> merge(vector<vector<int>>& intervals) {\n",
    "        vector<vector<int>> ans;\n",
    "        sort(intervals.begin(), intervals.end());\n",
    "\n",
    "        for(auto it=intervals.begin(); it != intervals.end(); ++it){\n",
    "            if(it == intervals.begin())\n",
    "            {\n",
    "                ans.push_back(*it);\n",
    "                continue;\n",
    "            }\n",
    "            if(ans.back()[1] >= (*it)[1]){\n",
    "                continue;\n",
    "            }else if(ans.back()[1] >= (*it)[0]){\n",
    "                ans.back()[1] = (*it)[1];\n",
    "            }else{\n",
    "                ans.push_back(*it);\n",
    "            }\n",
    "        }\n",
    "\n",
    "        return ans;\n",
    "    }\n",
    "};"
   ]
  },
  {
   "cell_type": "markdown",
   "metadata": {},
   "source": [
    "168/168 cases passed (16 ms)\\\n",
    "Your runtime beats 86 % of cpp submissions\\\n",
    "Your memory usage beats 39.34 % of cpp submissions (13.9 MB)"
   ]
  },
  {
   "cell_type": "markdown",
   "metadata": {},
   "source": [
    "time: O(n)\n",
    "\n",
    "space: O(n)"
   ]
  }
 ],
 "metadata": {
  "interpreter": {
   "hash": "31f2aee4e71d21fbe5cf8b01ff0e069b9275f58929596ceb00d14d90e3e16cd6"
  },
  "kernelspec": {
   "display_name": "Python 3.8.10 64-bit",
   "name": "python3"
  },
  "language_info": {
   "name": "python",
   "version": "3.8.10"
  },
  "orig_nbformat": 4
 },
 "nbformat": 4,
 "nbformat_minor": 2
}
