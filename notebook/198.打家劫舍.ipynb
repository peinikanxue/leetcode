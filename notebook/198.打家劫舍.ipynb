{
 "nbformat": 4,
 "nbformat_minor": 2,
 "metadata": {
  "language_info": {
   "name": "python",
   "version": "3.8.10",
   "mimetype": "text/x-python",
   "codemirror_mode": {
    "name": "ipython",
    "version": 3
   },
   "pygments_lexer": "ipython3",
   "nbconvert_exporter": "python",
   "file_extension": ".py"
  },
  "orig_nbformat": 2,
  "file_extension": ".py",
  "mimetype": "text/x-python",
  "name": "python",
  "npconvert_exporter": "python",
  "pygments_lexer": "ipython3",
  "version": 3,
  "kernelspec": {
   "name": "python3",
   "display_name": "Python 3.8.10 64-bit"
  },
  "interpreter": {
   "hash": "31f2aee4e71d21fbe5cf8b01ff0e069b9275f58929596ceb00d14d90e3e16cd6"
  }
 },
 "cells": [
  {
   "cell_type": "markdown",
   "source": [
    "# 1"
   ],
   "metadata": {}
  },
  {
   "cell_type": "markdown",
   "source": [
    "找出n=1，2，3，4的情况，找规律。"
   ],
   "metadata": {}
  },
  {
   "cell_type": "markdown",
   "source": [
    "# 解"
   ],
   "metadata": {}
  },
  {
   "cell_type": "markdown",
   "source": [
    "动态规划，找到转移方程。\n",
    "\n",
    "- n=1,$f(1)=A_1$.\n",
    "- n=2,$f(2)=max(A_1, A_2)$\n",
    "- n=3,有2种选择：\n",
    "- - 1.抢第3个房子，数额+第1个房子的。\n",
    "- - 2.不抢第3个房子，数额保持。"
   ],
   "metadata": {}
  },
  {
   "cell_type": "code",
   "execution_count": 1,
   "source": [
    "from typing import *\n",
    "\n",
    "class Solution:\n",
    "    def rob(self, nums: List[int]) -> int:\n",
    "        dp = [0]\n",
    "        if nums == []:\n",
    "            return 0\n",
    "        dp.append(nums[0])\n",
    "\n",
    "        i = 0\n",
    "        for i in range(2, len(nums)+1):\n",
    "            dp.append(max(dp[i-1], dp[i-2]+nums[i-1]))\n",
    "        return dp[-1]\n",
    "\n",
    "\n",
    "if __name__ == \"__main__\":\n",
    "    nums_list = [\n",
    "        [1,2,3,1],\n",
    "        [2,7,9,3,1],\n",
    "        [2,1,1,2],\n",
    "        [2,4,8,9,9,3],\n",
    "    ]\n",
    "\n",
    "    for nums in nums_list:\n",
    "        print(Solution().rob(nums))"
   ],
   "outputs": [
    {
     "output_type": "stream",
     "name": "stdout",
     "text": [
      "4\n",
      "12\n",
      "4\n",
      "19\n"
     ]
    }
   ],
   "metadata": {}
  },
  {
   "cell_type": "markdown",
   "source": [
    "执行用时 :32 ms, 在所有 Python3 提交中击败了80.11%的用户\n",
    "\n",
    "内存消耗 :13 MB, 在所有 Python3 提交中击败了43.42%的用户"
   ],
   "metadata": {}
  },
  {
   "cell_type": "markdown",
   "source": [
    "time:O(n)\n",
    "\n",
    "space:O(n)"
   ],
   "metadata": {}
  },
  {
   "cell_type": "markdown",
   "source": [
    "PS：思维的活化，状态表用于记录可能的情况，不存在条件判断跳过遗漏一些情形。"
   ],
   "metadata": {}
  },
  {
   "cell_type": "markdown",
   "source": [
    "# re.1"
   ],
   "metadata": {}
  },
  {
   "cell_type": "markdown",
   "source": [
    "动态规划\n",
    "\n",
    "可以选择抢或不抢，\\\n",
    "不抢的话，可以抢往后的第3个。\n",
    "\n",
    "dp[i] = max(dp[i-2]+num[i], dp[i-3]+num[i])"
   ],
   "metadata": {}
  },
  {
   "cell_type": "code",
   "execution_count": 4,
   "source": [
    "from typing import List\n",
    "\n",
    "class Solution:\n",
    "    def rob(self, nums: List[int]) -> int:\n",
    "        nums = [0] * 3 + nums   # 哨，可以干掉下面的注释\n",
    "        dp = nums   # 可以直接原地处理\n",
    "        \n",
    "        # if len(nums) >= 2:\n",
    "        #     dp[1] = max(dp[0], dp[1])\n",
    "        # if len(nums) >= 3:\n",
    "        #     dp[1] = max(dp[0], dp[1])\n",
    "        #     dp[2] = max(dp[1], dp[0] + dp[2])\n",
    "        \n",
    "        for i in range(3, len(nums)):\n",
    "            dp[i] = max(dp[i-2]+nums[i], dp[i-3]+nums[i])\n",
    "        # print(dp)\n",
    "        return max(dp)\n",
    "\n",
    "        \n",
    "\n",
    "\n",
    "if __name__ == '__main__':\n",
    "    nums_list = [\n",
    "        [1,2,3,1],\n",
    "        [2,7,9,3,1],\n",
    "        [1],\n",
    "        [1, 2],\n",
    "        [1, 2, 3],\n",
    "        [1,2,1,1],\n",
    "        [2,1,1,4],\n",
    "    ]\n",
    "\n",
    "    for nums in nums_list:\n",
    "        print(Solution().rob(nums))"
   ],
   "outputs": [
    {
     "output_type": "stream",
     "name": "stdout",
     "text": [
      "[0, 0, 0, 1, 2, 4, 3]\n",
      "4\n",
      "[0, 0, 0, 2, 7, 11, 10, 12]\n",
      "12\n",
      "[0, 0, 0, 1]\n",
      "1\n",
      "[0, 0, 0, 1, 2]\n",
      "2\n",
      "[0, 0, 0, 1, 2, 4]\n",
      "4\n",
      "[0, 0, 0, 1, 2, 2, 3]\n",
      "3\n",
      "[0, 0, 0, 2, 1, 3, 6]\n",
      "6\n"
     ]
    }
   ],
   "metadata": {}
  },
  {
   "cell_type": "markdown",
   "source": [
    "68/68 cases passed (28 ms)\\\n",
    "Your runtime beats 88.86 % of python3 submissions\\\n",
    "Your memory usage beats 71.52 % of python3 submissions (14.9 MB)"
   ],
   "metadata": {}
  },
  {
   "cell_type": "markdown",
   "source": [
    "time: O(n)\n",
    "\n",
    "space: O(1)\n",
    "\n",
    "> 空间是原地处理的"
   ],
   "metadata": {}
  },
  {
   "cell_type": "markdown",
   "source": [
    "重新再做，哈哈:)，已经能自己做出来了。\\\n",
    "思维还和题解不太一样，\\\n",
    "而且空间更省了。"
   ],
   "metadata": {}
  }
 ]
}