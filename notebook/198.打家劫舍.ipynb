{
 "nbformat": 4,
 "nbformat_minor": 2,
 "metadata": {
  "language_info": {
   "name": "python",
   "codemirror_mode": {
    "name": "ipython",
    "version": 3
   },
   "version": "3.6.9-final"
  },
  "orig_nbformat": 2,
  "file_extension": ".py",
  "mimetype": "text/x-python",
  "name": "python",
  "npconvert_exporter": "python",
  "pygments_lexer": "ipython3",
  "version": 3,
  "kernelspec": {
   "name": "python36964bite598b62db32c485f95dbcc3befe555ab",
   "display_name": "Python 3.6.9 64-bit"
  }
 },
 "cells": [
  {
   "cell_type": "markdown",
   "metadata": {},
   "source": [
    "# 1"
   ]
  },
  {
   "cell_type": "markdown",
   "metadata": {},
   "source": [
    "找出n=1，2，3，4的情况，找规律。"
   ]
  },
  {
   "cell_type": "markdown",
   "metadata": {},
   "source": [
    "# 解"
   ]
  },
  {
   "cell_type": "markdown",
   "metadata": {},
   "source": [
    "动态规划，找到转移方程。\n",
    "\n",
    "- n=1,$f(1)=A_1$.\n",
    "- n=2,$f(2)=max(A_1, A_2)$\n",
    "- n=3,有2种选择：\n",
    "- - 1.抢第3个房子，数额+第1个房子的。\n",
    "- - 2.不抢第3个房子，数额保持。"
   ]
  },
  {
   "cell_type": "code",
   "execution_count": 1,
   "metadata": {},
   "outputs": [
    {
     "name": "stdout",
     "output_type": "stream",
     "text": "4\n12\n4\n19\n"
    }
   ],
   "source": [
    "from utils import *\n",
    "\n",
    "class Solution:\n",
    "    def rob(self, nums: List[int]) -> int:\n",
    "        dp = [0]\n",
    "        if nums == []:\n",
    "            return 0\n",
    "        dp.append(nums[0])\n",
    "\n",
    "        i = 0\n",
    "        for i in range(2, len(nums)+1):\n",
    "            dp.append(max(dp[i-1], dp[i-2]+nums[i-1]))\n",
    "        return dp[-1]\n",
    "\n",
    "\n",
    "if __name__ == \"__main__\":\n",
    "    nums_list = [\n",
    "        [1,2,3,1],\n",
    "        [2,7,9,3,1],\n",
    "        [2,1,1,2],\n",
    "        [2,4,8,9,9,3],\n",
    "    ]\n",
    "\n",
    "    for nums in nums_list:\n",
    "        print(Solution().rob(nums))"
   ]
  },
  {
   "cell_type": "markdown",
   "metadata": {},
   "source": [
    "执行用时 :32 ms, 在所有 Python3 提交中击败了80.11%的用户\n",
    "\n",
    "内存消耗 :13 MB, 在所有 Python3 提交中击败了43.42%的用户"
   ]
  },
  {
   "cell_type": "markdown",
   "metadata": {},
   "source": [
    "time:O(n)\n",
    "\n",
    "space:O(1)"
   ]
  },
  {
   "cell_type": "markdown",
   "metadata": {},
   "source": [
    "PS：思维的活化，状态表用于记录可能的情况，不存在条件判断跳过遗漏一些情形。"
   ]
  }
 ]
}