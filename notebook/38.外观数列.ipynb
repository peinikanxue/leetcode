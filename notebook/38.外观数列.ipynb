{
 "cells": [
  {
   "cell_type": "markdown",
   "metadata": {},
   "source": [
    "# 1"
   ]
  },
  {
   "cell_type": "markdown",
   "metadata": {},
   "source": [
    "直接打印"
   ]
  },
  {
   "cell_type": "code",
   "execution_count": null,
   "metadata": {},
   "outputs": [],
   "source": [
    "class Solution:\n",
    "    def countAndSay(self, n: int) -> str:\n",
    "        s = '1'\n",
    "        if n <= 1:  # 边界\n",
    "            return s\n",
    "\n",
    "        for _ in range(1, n):\n",
    "            pre = s[0]\n",
    "            count = 0\n",
    "            s2 = ''\n",
    "            for i, ss in enumerate(s):\n",
    "                if pre != ss:\n",
    "                    s2 += str(count) + pre\n",
    "                    pre = ss\n",
    "                    count = 0\n",
    "                count += 1\n",
    "\n",
    "                if i == len(s) - 1: # 最后一个\n",
    "                    s2 += str(count) + ss\n",
    "            s = s2\n",
    "        return s\n",
    "        "
   ]
  }
 ],
 "metadata": {
  "language_info": {
   "codemirror_mode": {
    "name": "ipython",
    "version": 3
   },
   "file_extension": ".py",
   "mimetype": "text/x-python",
   "name": "python",
   "nbconvert_exporter": "python",
   "pygments_lexer": "ipython3",
   "version": 3
  },
  "orig_nbformat": 2
 },
 "nbformat": 4,
 "nbformat_minor": 2
}