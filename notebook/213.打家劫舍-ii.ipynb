{
 "cells": [
  {
   "cell_type": "markdown",
   "source": [
    "# 1 ✘"
   ],
   "metadata": {}
  },
  {
   "cell_type": "markdown",
   "source": [
    "与198题相似，\\\n",
    "主要是保证抢了最后一个时，之前没有抢第一个。\n",
    "\n",
    "可以想到`同位素标记法`，利用特殊方法标记。"
   ],
   "metadata": {}
  },
  {
   "cell_type": "markdown",
   "source": [
    "数组记录标记\n",
    "\n",
    "占空间"
   ],
   "metadata": {}
  },
  {
   "cell_type": "code",
   "execution_count": 30,
   "source": [
    "# ..."
   ],
   "outputs": [
    {
     "output_type": "stream",
     "name": "stdout",
     "text": [
      "[2, 3, 4]\n",
      "[True, False, True]\n",
      "4\n",
      "[1, 2, 4, 3]\n",
      "[True, False, True, False]\n",
      "4\n",
      "[0]\n",
      "[True]\n",
      "0\n",
      "[2, 2, 3, 6]\n",
      "[True, True, True, True]\n",
      "6\n"
     ]
    }
   ],
   "metadata": {}
  },
  {
   "cell_type": "markdown",
   "source": [
    "符号标记，负号"
   ],
   "metadata": {}
  },
  {
   "cell_type": "code",
   "execution_count": 85,
   "source": [
    "from typing import List\n",
    "\n",
    "class Solution:\n",
    "    def rob(self, nums: List[int]) -> int:\n",
    "        first_num, last_num = nums[0], nums[-1]\n",
    "        nums = [0] * 3 + nums   # 哨，可以干掉下面的注释\n",
    "        dp = nums               # 可以直接原地处理\n",
    "        dp[3] = -dp[3]          # 标记\n",
    "\n",
    "        for i in range(4, len(nums)):\n",
    "            if abs(dp[i-2]) >= abs(dp[i-3]):    # 需要=，优先选择i-2，而不是i-3\n",
    "                dp[i] = (abs(dp[i-2])+nums[i]) * (1 if dp[i-2] >= 0 else -1)\n",
    "            else:\n",
    "                dp[i] = (abs(dp[i-3])+nums[i]) * (1 if dp[i-3] >= 0 else -1)\n",
    "        \n",
    "        print(dp)\n",
    "        if dp[-1] < 0 and len(nums) > 1+3:                      # 如果最后一个被标记，且原nums长度大于1\n",
    "            dp[-1] = dp[-1] + min(first_num, last_num)          # 哪么将其减去 min(第一个元素, 最后一个元素)\n",
    "            dp[-1] = max(abs(dp[-1]), max(dp[:-2])+last_num)    # 也有可能前面没被标记的max(dp[:-2])+nums[-1]更大\n",
    "        dp = list(map(lambda x: abs(x), dp))    # 清除标记\n",
    "        \n",
    "        return max(dp)\n",
    "\n",
    "\n",
    "if __name__ == '__main__':\n",
    "    nums_list = [\n",
    "        [2,3,2],\n",
    "        [1,2,3,1],\n",
    "        [0],\n",
    "        [2,1,1,4],\n",
    "        [6,6,4,8,4,3,3,10],\n",
    "        [1,1,3,6,7,10,7,1,8,5,9,1,4,4,3],\n",
    "        [1],\n",
    "        [1, 2],\n",
    "        [2, 1],\n",
    "        [5, 2, 1],\n",
    "        [2,2,4,3,2,5],\n",
    "        [4,1,2,7,5,3,1],\n",
    "        [2,1,2,6,1,8,10,10],\n",
    "    ]\n",
    "\n",
    "    for nums in nums_list:\n",
    "        print(Solution().rob(nums))"
   ],
   "outputs": [
    {
     "output_type": "stream",
     "name": "stdout",
     "text": [
      "[0, 0, 0, -2, 3, -4]\n",
      "3\n",
      "[0, 0, 0, -1, 2, -4, 3]\n",
      "4\n",
      "[0, 0, 0, 0]\n",
      "0\n",
      "[0, 0, 0, -2, 1, -3, -6]\n",
      "5\n",
      "[0, 0, 0, -6, 6, -10, 14, -14, 17, -17, 27]\n",
      "27\n",
      "[0, 0, 0, -1, 1, -4, 7, -11, 17, -18, 18, -26, 23, -35, -27, -39, -39, -42]\n",
      "41\n",
      "[0, 0, 0, -1]\n",
      "1\n",
      "[0, 0, 0, -1, 2]\n",
      "2\n",
      "[0, 0, 0, -2, 1]\n",
      "2\n",
      "[0, 0, 0, -5, 2, -6]\n",
      "5\n",
      "[0, 0, 0, -2, 2, -6, 5, -8, -11]\n",
      "10\n",
      "[0, 0, 0, -4, 1, -6, -11, -11, -14, -12]\n",
      "14\n",
      "[0, 0, 0, -2, 1, -4, -8, -5, -16, -18, -26]\n",
      "24\n"
     ]
    }
   ],
   "metadata": {}
  },
  {
   "cell_type": "markdown",
   "source": [
    "67/75 cases passed (N/A)"
   ],
   "metadata": {}
  },
  {
   "cell_type": "markdown",
   "source": [
    "# 2"
   ],
   "metadata": {}
  },
  {
   "cell_type": "markdown",
   "source": [
    "💐丽胡哨，弄半天，想复杂了。\n",
    "\n",
    "还是用朴实无华的方法吧，直接跑两遍198题的方法。\\\n",
    "一次带第一个元素，一次带最后一个元素。"
   ],
   "metadata": {}
  },
  {
   "cell_type": "code",
   "execution_count": 93,
   "source": [
    "from typing import List\n",
    "\n",
    "class Solution:\n",
    "    def rob(self, nums: List[int]) -> int:\n",
    "        if len(nums) == 1:                  # 只有一个元素\n",
    "            return nums[0]\n",
    "        origin_nums = nums\n",
    "\n",
    "        # 第一遍\n",
    "        nums = [0] * 3 + origin_nums[:-1]   # 哨，可以干掉下面的注释\n",
    "        dp = nums               # 可以直接原地处理\n",
    "        for i in range(3, len(nums)):\n",
    "            dp[i] = max(dp[i-2]+nums[i], dp[i-3]+nums[i])\n",
    "\n",
    "        max_val = max(dp)\n",
    "\n",
    "        # 第二遍\n",
    "        nums = [0] * 3 + origin_nums[1:]\n",
    "        dp = nums\n",
    "        for i in range(3, len(nums)):\n",
    "            dp[i] = max(dp[i-2]+nums[i], dp[i-3]+nums[i])\n",
    "\n",
    "        max_val = max(max_val, max(dp))\n",
    "\n",
    "        return max_val\n",
    "\n",
    "\n",
    "if __name__ == '__main__':\n",
    "    nums_list = [\n",
    "        [2,3,2],\n",
    "        [1,2,3,1],\n",
    "        [0],\n",
    "        [2,1,1,4],\n",
    "        [6,6,4,8,4,3,3,10],\n",
    "        [1,1,3,6,7,10,7,1,8,5,9,1,4,4,3],\n",
    "        [1],\n",
    "        [1, 2],\n",
    "        [2, 1],\n",
    "        [5, 2, 1],\n",
    "        [2,2,4,3,2,5],\n",
    "        [4,1,2,7,5,3,1],\n",
    "        [2,1,2,6,1,8,10,10],\n",
    "    ]\n",
    "\n",
    "    for nums in nums_list:\n",
    "        print(Solution().rob(nums))"
   ],
   "outputs": [
    {
     "output_type": "stream",
     "name": "stdout",
     "text": [
      "3\n",
      "4\n",
      "0\n",
      "5\n",
      "27\n",
      "41\n",
      "1\n",
      "2\n",
      "2\n",
      "5\n",
      "10\n",
      "14\n",
      "25\n"
     ]
    }
   ],
   "metadata": {}
  },
  {
   "cell_type": "markdown",
   "source": [
    "75/75 cases passed (44 ms)\\\n",
    "Your runtime beats 9.2 % of python3 submissions\\\n",
    "Your memory usage beats 15.99 % of python3 submissions (15.1 MB)"
   ],
   "metadata": {}
  },
  {
   "cell_type": "markdown",
   "source": [
    "time: O(n)\n",
    "\n",
    "space: O(1)"
   ],
   "metadata": {}
  },
  {
   "cell_type": "markdown",
   "source": [
    "做完发现，和题解思路一致。"
   ],
   "metadata": {}
  }
 ],
 "metadata": {
  "orig_nbformat": 4,
  "language_info": {
   "name": "python",
   "version": "3.8.10",
   "mimetype": "text/x-python",
   "codemirror_mode": {
    "name": "ipython",
    "version": 3
   },
   "pygments_lexer": "ipython3",
   "nbconvert_exporter": "python",
   "file_extension": ".py"
  },
  "kernelspec": {
   "name": "python3",
   "display_name": "Python 3.8.10 64-bit"
  },
  "interpreter": {
   "hash": "31f2aee4e71d21fbe5cf8b01ff0e069b9275f58929596ceb00d14d90e3e16cd6"
  }
 },
 "nbformat": 4,
 "nbformat_minor": 2
}