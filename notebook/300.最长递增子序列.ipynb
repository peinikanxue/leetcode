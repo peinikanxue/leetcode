{
 "cells": [
  {
   "cell_type": "markdown",
   "source": [
    "# 1"
   ],
   "metadata": {}
  },
  {
   "cell_type": "markdown",
   "source": [
    "动态规划\n",
    "\n",
    "没有找出状态转移方程。\n",
    "\n",
    "> 没想到动态规划也弄出O(n^2)，需要遍历两遍。（从2^n降到n^2也是有意义的）"
   ],
   "metadata": {}
  },
  {
   "cell_type": "markdown",
   "source": [
    "贪心\n",
    "\n",
    "尽可能找最大长度下，最小的值。\n",
    "\n",
    "> 没有想过对贪心算法，也需要维护一个状态数组。（导致无法处理新子序列的出现）"
   ],
   "metadata": {}
  },
  {
   "cell_type": "markdown",
   "source": [
    "# 题解1"
   ],
   "metadata": {}
  },
  {
   "cell_type": "markdown",
   "source": [
    "动态规划\n",
    "\n",
    "对序列的每个位置，在满足nums[i]>nums[j]，（其中0<j<i），\\\n",
    "则当前位置的子序列长度，为满足条件的最长+1。\n",
    "\n",
    "状态转移方程：\n",
    "$$\n",
    "dp[i]=max(dp[j])+1, if\\ nums[i]>nums[j] \\\\\n",
    "， 其中0<j<i\n",
    "$$\n",
    "\n",
    "[ref](https://leetcode-cn.com/problems/longest-increasing-subsequence/solution/zui-chang-shang-sheng-zi-xu-lie-dong-tai-gui-hua-2/)"
   ],
   "metadata": {}
  },
  {
   "cell_type": "code",
   "execution_count": 4,
   "source": [
    "class Solution:\n",
    "    def lengthOfLIS(self, nums: List[int]) -> int:\n",
    "        if not nums: return 0\n",
    "        dp = [1] * len(nums)\n",
    "        for i in range(len(nums)):\n",
    "            for j in range(i):\n",
    "                if nums[j] < nums[i]: # 如果要求非严格递增，将此行 '<' 改为 '<=' 即可。\n",
    "                    dp[i] = max(dp[i], dp[j] + 1)\n",
    "        return max(dp)\n",
    "\n",
    "\n",
    "if __name__ == '__main__':\n",
    "    nums_list = [\n",
    "        [3,4,10,1,2,3,4,11],    # 新串也能匹配\n",
    "        [10,9,2,5,3,7,101,18],\n",
    "        [0,1,0,3,2,3],\n",
    "        [7,7,7,7,7,7,7],\n",
    "    ]\n",
    "    for nums in nums_list:\n",
    "        print(Solution().lengthOfLIS(nums))"
   ],
   "outputs": [
    {
     "output_type": "stream",
     "name": "stdout",
     "text": [
      "5\n",
      "4\n",
      "4\n",
      "1\n"
     ]
    }
   ],
   "metadata": {}
  },
  {
   "cell_type": "markdown",
   "source": [
    "time: O(n^2)\n",
    "\n",
    "space: O(n)"
   ],
   "metadata": {}
  },
  {
   "cell_type": "markdown",
   "source": [
    "# 题解2"
   ],
   "metadata": {}
  },
  {
   "cell_type": "markdown",
   "source": [
    "贪心\n",
    "\n",
    "下图解答了\"贪心\"，\\\n",
    "不断的维护tail数组，使其能匹配的最长子序列，的最后一个元素最小，\\\n",
    "能够使如果出现新串也能重新匹配。\n",
    "\n",
    "[ref](https://leetcode-cn.com/problems/longest-increasing-subsequence/solution/dong-tai-gui-hua-er-fen-cha-zhao-tan-xin-suan-fa-p/)\n",
    "\n",
    "![](https://pic.leetcode-cn.com/09cc26acbdc0fe62ec9a79d95d0bb878c0abd8b2af61f7330098ac1b7ddf8e42-300-greed-binary-search-15.png)"
   ],
   "metadata": {}
  },
  {
   "cell_type": "code",
   "execution_count": 3,
   "source": [
    "from typing import List\n",
    "\n",
    "class Solution:\n",
    "    def lengthOfLIS(self, nums: List[int]) -> int:\n",
    "        tails, res = [0] * len(nums), 0\n",
    "        for num in nums:\n",
    "            i, j = 0, res\n",
    "            while i < j:\n",
    "                m = (i + j) // 2\n",
    "                if tails[m] < num: i = m + 1 # 如果要求非严格递增，将此行 '<' 改为 '<=' 即可。\n",
    "                else: j = m\n",
    "            tails[i] = num\n",
    "            if j == res: res += 1\n",
    "        return res\n",
    "\n",
    "\n",
    "if __name__ == '__main__':\n",
    "    nums_list = [\n",
    "        [3,4,10,1,2,3,4,11],    # 新串也能匹配\n",
    "        [10,9,2,5,3,7,101,18],\n",
    "        [0,1,0,3,2,3],\n",
    "        [7,7,7,7,7,7,7],\n",
    "    ]\n",
    "    for nums in nums_list:\n",
    "        print(Solution().lengthOfLIS(nums))"
   ],
   "outputs": [
    {
     "output_type": "stream",
     "name": "stdout",
     "text": [
      "5\n",
      "4\n",
      "4\n",
      "1\n"
     ]
    }
   ],
   "metadata": {}
  },
  {
   "cell_type": "markdown",
   "source": [
    "time: O(nlogn)\n",
    "\n",
    "space: O(n)\n",
    "\n",
    "> 由于维护tail数组时间开销为logn，\\\n",
    "> 而该数组是顺序的，所以可以二分查找。"
   ],
   "metadata": {}
  }
 ],
 "metadata": {
  "orig_nbformat": 4,
  "language_info": {
   "name": "python",
   "version": "3.8.10",
   "mimetype": "text/x-python",
   "codemirror_mode": {
    "name": "ipython",
    "version": 3
   },
   "pygments_lexer": "ipython3",
   "nbconvert_exporter": "python",
   "file_extension": ".py"
  },
  "kernelspec": {
   "name": "python3",
   "display_name": "Python 3.8.10 64-bit"
  },
  "interpreter": {
   "hash": "31f2aee4e71d21fbe5cf8b01ff0e069b9275f58929596ceb00d14d90e3e16cd6"
  }
 },
 "nbformat": 4,
 "nbformat_minor": 2
}