{
 "cells": [
  {
   "cell_type": "markdown",
   "metadata": {},
   "source": [
    "# 1"
   ]
  },
  {
   "cell_type": "markdown",
   "metadata": {},
   "source": [
    "直接算"
   ]
  },
  {
   "cell_type": "code",
   "execution_count": null,
   "metadata": {},
   "outputs": [],
   "source": [
    "#include <iostream>\n",
    "#include <vector>\n",
    "using namespace std;\n",
    "\n",
    "class Solution {\n",
    "public:\n",
    "    vector<vector<int>> generate(int numRows) {\n",
    "        vector<vector<int>> ans;\n",
    "        ans.push_back(vector<int>{1});\n",
    "\n",
    "        for(int i = 1; i < numRows; ++i){\n",
    "            vector<int> row {1, 1};\n",
    "            vector<int> &pre = ans.back();\n",
    "            for(int j = 1; j < i; ++j){\n",
    "                row.insert(row.begin()+j, pre[j-1] + pre[j]);\n",
    "                // cout << i << \" \" << j << \":\" << pre[j-1] << \"+\" << pre[j] << endl;  // debug\n",
    "            }\n",
    "            ans.push_back(row);\n",
    "        }\n",
    "\n",
    "        return ans;\n",
    "    }\n",
    "};\n",
    "\n",
    "int main(int argc, char const *argv[])\n",
    "{\n",
    "    Solution s = Solution();\n",
    "    vector<vector<int>> ans = s.generate(5);\n",
    "\n",
    "    for(auto li : ans){\n",
    "        for(auto x : li){\n",
    "            cout << x << \" \";\n",
    "        }\n",
    "        cout << endl;\n",
    "    }\n",
    "    return 0;\n",
    "}"
   ]
  },
  {
   "cell_type": "markdown",
   "metadata": {},
   "source": [
    "14/14 cases passed (4 ms)\\\n",
    "Your runtime beats 23.22 % of cpp submissions\\\n",
    "Your memory usage beats 93.06 % of cpp submissions (6.2 MB)"
   ]
  },
  {
   "cell_type": "markdown",
   "metadata": {},
   "source": [
    "time: O(n^2 / 2)\n",
    "\n",
    "space: O(n^2 / 2)"
   ]
  }
 ],
 "metadata": {
  "interpreter": {
   "hash": "31f2aee4e71d21fbe5cf8b01ff0e069b9275f58929596ceb00d14d90e3e16cd6"
  },
  "kernelspec": {
   "display_name": "Python 3.8.10 64-bit",
   "name": "python3"
  },
  "language_info": {
   "name": "python",
   "version": "3.8.10"
  },
  "orig_nbformat": 4
 },
 "nbformat": 4,
 "nbformat_minor": 2
}
