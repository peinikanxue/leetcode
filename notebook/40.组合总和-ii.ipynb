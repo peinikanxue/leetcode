{
 "cells": [
  {
   "cell_type": "markdown",
   "source": [
    "# 1"
   ],
   "metadata": {}
  },
  {
   "cell_type": "markdown",
   "source": [
    "同上一题，\n",
    "搜索回溯，\n",
    "每个元素的选择有2种，要么用当前元素；要么不用当前元素，并进入下一个元素的抉择。\n",
    "此处元素不可重复，所以，用了当前元素后，进入下一元素的抉择。\n",
    "\n",
    "这题需要剪枝，否则超时。"
   ],
   "metadata": {}
  },
  {
   "cell_type": "code",
   "execution_count": 2,
   "source": [
    "from typing import *\n",
    "\n",
    "class Solution:\n",
    "    def combinationSum2(self, candidates: List[int], target: int) -> List[List[int]]:\n",
    "        candidates.sort()     # 排序\n",
    "        self.ans = []\n",
    "        self.dfs(candidates, target, 0, [])\n",
    "        self.ans = [list(y) for y in set([tuple(x) for x in self.ans])]            # 集合，去重\n",
    "        return self.ans\n",
    "\n",
    "    def dfs(self, candidates, target, idx, record):\n",
    "        if idx == len(candidates):\n",
    "            return\n",
    "        if target == 0:\n",
    "            self.ans.append(record.copy())                              # 防止record被接下来的操作覆盖\n",
    "            return\n",
    "        if sum(candidates[idx:]) < target:  # 剪枝，后面的值总和小于目标数，就可以放弃了\n",
    "            return\n",
    "        \n",
    "        self.dfs(candidates, target, idx + 1, record)                   # 跳过该元素\n",
    "\n",
    "        if target - candidates[idx] >= 0:\n",
    "            record.append(candidates[idx])\n",
    "            self.dfs(candidates, target-candidates[idx], idx + 1, record)   # 使用当前元素\n",
    "            record.pop()\n",
    "\n",
    "\n",
    "if __name__ == '__main__':\n",
    "    candidates_list = [\n",
    "        [10,1,2,7,6,1,5],\n",
    "        [2,5,2,1,2],\n",
    "        [1,1,1,1,1,1,1,1,1,1,1,1,1,1,1,1,1,1,1,1,1,1,1,1,1],\n",
    "        [1,1,1,1,1,1,1,1,1,1,1,1,1,1,1,1,1,1,1,1,1,1,1,1,1,1,1,1,1,1,1,1,1,1,1,1,1,1,1,1,1,1,1,1,1,1,1,1,1,1,1,1,1,1,1,1,1,1,1,1,1,1,1,1,1,1,1,1,1,1,1,1,1,1,1,1,1,1,1,1,1,1,1,1,1,1,1,1,1,1,1,1,1,1,1,1,1,1,1,1],\n",
    "    ]\n",
    "    target_list = [\n",
    "        8,\n",
    "        5,\n",
    "        27,\n",
    "        30,\n",
    "    ]\n",
    "\n",
    "    for candidates, target in zip(candidates_list, target_list):\n",
    "        print(Solution().combinationSum2(candidates, target))"
   ],
   "outputs": [
    {
     "output_type": "stream",
     "name": "stdout",
     "text": [
      "[[1, 7], [2, 6], [1, 2, 5], [1, 1, 6]]\n",
      "[[1, 2, 2]]\n",
      "[]\n"
     ]
    }
   ],
   "metadata": {}
  },
  {
   "cell_type": "markdown",
   "source": [
    "依然超时，剪枝不够。"
   ],
   "metadata": {}
  },
  {
   "cell_type": "markdown",
   "source": [
    "# 题解"
   ],
   "metadata": {}
  },
  {
   "cell_type": "markdown",
   "source": [
    "ref: https://leetcode-cn.com/problems/combination-sum-ii/solution/hui-su-suan-fa-jian-zhi-python-dai-ma-java-dai-m-3/"
   ],
   "metadata": {}
  },
  {
   "cell_type": "markdown",
   "source": [
    "与上一题相似，但也可以认为分支变了，之前时二叉树，现在可认为是多分支。\n",
    "\n",
    "同一层数值相同的结点，第2、3、...个结点，\n",
    "因为数值相同的第一个结点已经搜索出了包含这个数值的全部结果，\n",
    "所以第2、3、...\n",
    "\n",
    "将兄弟相同的结点都跳过后，也避免了重复的结果，不需要去重了。\n",
    "\n",
    "```\n",
    "                                                                    (5)\n",
    "                                                                    |\n",
    "                        --------------------------------------------|--------\n",
    "                        -1              -2                  -2      -2      -5\n",
    "                        |               |                   |       |       |\n",
    "                        (4)             (3)                 (3)     (3)     (0)\n",
    "------------------------|       --------|--------           |       |\n",
    "|       |       |       |       |       |       |           |       |\n",
    "-2      -2      -2      -5      -2      -2      -5          -2      -5\n",
    "|       |       |       |       |       |       |           |       |\n",
    "(2)     (2)     (3)     (-1)    (1)     (1)     (-2)        (1)     (-2)\n",
    "|       |       |               |       |                   |\n",
    "-2      -2      -5              -2      -5                  -5\n",
    "|       |       |               |       |                   |\n",
    "(0)     (0)     (-3)            (-1)    (-3)                (-4)\n",
    "```"
   ],
   "metadata": {}
  },
  {
   "cell_type": "code",
   "execution_count": 8,
   "source": [
    "from typing import *\n",
    "\n",
    "class Solution:\n",
    "    def combinationSum2(self, candidates: List[int], target: int) -> List[List[int]]:\n",
    "        candidates.sort()     # 排序\n",
    "        self.ans = []\n",
    "        self.dfs(candidates, target, 0, [])\n",
    "        return self.ans\n",
    "\n",
    "    def dfs(self, candidates, target, idx, record):\n",
    "        # if idx == len(candidates):                                    # 不再需要：只有一个元素时，影响了下面target==0的分支执行\n",
    "        #     return\n",
    "        # if sum(candidates[idx:]) < target:                            # 不再需要：有candiates[i] > target做剪枝就够了\n",
    "        #     return\n",
    "        if target == 0:\n",
    "            self.ans.append(record[:])                                  # deep copy\n",
    "            return\n",
    "        \n",
    "        for i in range(idx, len(candidates)):\n",
    "            if candidates[i] > target:                                  # 剪枝\n",
    "                break\n",
    "\n",
    "            if i > idx and candidates[i - 1] == candidates[i]:          # *核心剪枝：将同一层数值相同的结点，第2、3、...个结点都跳过\n",
    "                continue\n",
    "\n",
    "            record.append(candidates[i])\n",
    "            self.dfs(candidates, target-candidates[i], i + 1, record)   # 使用当前元素\n",
    "            record.pop()\n",
    "\n",
    "\n",
    "if __name__ == '__main__':\n",
    "    candidates_list = [\n",
    "        [10,1,2,7,6,1,5],\n",
    "        [2,5,2,1,2],\n",
    "        [1,1,1,1,1,1,1,1,1,1,1,1,1,1,1,1,1,1,1,1,1,1,1,1,1],\n",
    "        [1,1,1,1,1,1,1,1,1,1,1,1,1,1,1,1,1,1,1,1,1,1,1,1,1,1,1,1,1,1,1,1,1,1,1,1,1,1,1,1,1,1,1,1,1,1,1,1,1,1,1,1,1,1,1,1,1,1,1,1,1,1,1,1,1,1,1,1,1,1,1,1,1,1,1,1,1,1,1,1,1,1,1,1,1,1,1,1,1,1,1,1,1,1,1,1,1,1,1,1],\n",
    "        [2,5,2,1,2],\n",
    "        [5],\n",
    "    ]\n",
    "    target_list = [\n",
    "        8,\n",
    "        5,\n",
    "        27,\n",
    "        30,\n",
    "        5,\n",
    "        5,\n",
    "    ]\n",
    "\n",
    "    for candidates, target in zip(candidates_list, target_list):\n",
    "        print(Solution().combinationSum2(candidates, target))"
   ],
   "outputs": [
    {
     "output_type": "stream",
     "name": "stdout",
     "text": [
      "[[1, 1, 6], [1, 2, 5], [1, 7], [2, 6]]\n",
      "[[1, 2, 2], [5]]\n",
      "[]\n",
      "[[1, 1, 1, 1, 1, 1, 1, 1, 1, 1, 1, 1, 1, 1, 1, 1, 1, 1, 1, 1, 1, 1, 1, 1, 1, 1, 1, 1, 1, 1]]\n",
      "[[1, 2, 2], [5]]\n",
      "[[5]]\n"
     ]
    }
   ],
   "metadata": {}
  },
  {
   "cell_type": "markdown",
   "source": [
    "执行用时：36 ms, 在所有 Python3 提交中击败了90.54%的用户\n",
    "\n",
    "内存消耗：15.1 MB, 在所有 Python3 提交中击败了43.25%的用户"
   ],
   "metadata": {}
  },
  {
   "cell_type": "markdown",
   "source": [
    "time:O(2^n * n) 最差2^n种组合都会被枚举到，O(n)为列表复制。\n",
    "\n",
    "space:O(n)"
   ],
   "metadata": {}
  }
 ],
 "metadata": {
  "language_info": {
   "codemirror_mode": {
    "name": "ipython",
    "version": 3
   },
   "file_extension": ".py",
   "mimetype": "text/x-python",
   "name": "python",
   "nbconvert_exporter": "python",
   "pygments_lexer": "ipython3",
   "version": "3.8.10"
  },
  "orig_nbformat": 2,
  "kernelspec": {
   "name": "python3",
   "display_name": "Python 3.8.10 64-bit"
  },
  "interpreter": {
   "hash": "916dbcbb3f70747c44a77c7bcd40155683ae19c65e1c03b4aa3499c5328201f1"
  }
 },
 "nbformat": 4,
 "nbformat_minor": 2
}