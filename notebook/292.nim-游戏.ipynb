{
 "cells": [
  {
   "cell_type": "markdown",
   "source": [
    "# 1"
   ],
   "metadata": {}
  },
  {
   "cell_type": "markdown",
   "source": [
    "直观上，有必胜的策略，所以考虑如何推导。\n",
    "\n",
    "需要拿到最后一块，\\\n",
    "A的目的是余4；\\\n",
    "B的目的是余数小于4。\n",
    "\n",
    "观察规律：\n",
    "\n",
    "![](../imgs/292.svg)\n",
    "\n",
    "游戏转变为，谁能控制第4i+1块石头。\\\n",
    "只有当石头总数为4的倍数时，B才能一定拿到最后一块石头。"
   ],
   "metadata": {}
  },
  {
   "cell_type": "code",
   "execution_count": 2,
   "source": [
    "class Solution:\n",
    "    def canWinNim(self, n: int) -> bool:\n",
    "        return not (n % 4 == 0)\n",
    "\n",
    "\n",
    "if __name__ == '__main__':\n",
    "    n_list = [\n",
    "        4,\n",
    "        1,\n",
    "        2,\n",
    "    ]\n",
    "\n",
    "    for n in n_list:\n",
    "        print(Solution().canWinNim(n))"
   ],
   "outputs": [
    {
     "output_type": "stream",
     "name": "stdout",
     "text": [
      "False\n",
      "True\n",
      "True\n"
     ]
    }
   ],
   "metadata": {}
  },
  {
   "cell_type": "markdown",
   "source": [
    "60/60 cases passed (28 ms)\\\n",
    "Your runtime beats 87.42 % of python3 submissions\\\n",
    "Your memory usage beats 62.5 % of python3 submissions (14.9 MB)"
   ],
   "metadata": {}
  },
  {
   "cell_type": "markdown",
   "source": [
    "time: O(1)\n",
    "\n",
    "space: O(1)"
   ],
   "metadata": {}
  }
 ],
 "metadata": {
  "orig_nbformat": 4,
  "language_info": {
   "name": "python",
   "version": "3.8.10",
   "mimetype": "text/x-python",
   "codemirror_mode": {
    "name": "ipython",
    "version": 3
   },
   "pygments_lexer": "ipython3",
   "nbconvert_exporter": "python",
   "file_extension": ".py"
  },
  "kernelspec": {
   "name": "python3",
   "display_name": "Python 3.8.10 64-bit"
  },
  "interpreter": {
   "hash": "31f2aee4e71d21fbe5cf8b01ff0e069b9275f58929596ceb00d14d90e3e16cd6"
  }
 },
 "nbformat": 4,
 "nbformat_minor": 2
}