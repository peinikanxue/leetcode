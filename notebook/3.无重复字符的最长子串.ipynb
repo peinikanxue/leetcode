{
 "cells": [
  {
   "cell_type": "markdown",
   "metadata": {},
   "source": [
    "难度：中等\n",
    "\n",
    "给定一个字符串，请你找出其中不含有重复字符的 最长子串 的长度。\n",
    "\n",
    "示例1：\n",
    "\n",
    "- 输入：\"abcabcbb\"\n",
    "- 输出：3\n",
    "- 解释：因为无重复字符的最长子串是 \"abc\"，所以其长度为 3。\n",
    "\n",
    "示例2：\n",
    "\n",
    "- 输入：\"bbbbb\"\n",
    "- 输出：1\n",
    "- 解释：因为无重复字符的最长子串是 \"b\"，所以其长度为 1。\n",
    "\n",
    "示例3：\n",
    "\n",
    "- 输入：\"pwwkew\"\n",
    "- 输出：3\n",
    "- 解释：因为无重复字符的最长子串是 \"wke\"，所以其长度为 3。"
   ]
  },
  {
   "cell_type": "markdown",
   "metadata": {},
   "source": [
    "## 最终"
   ]
  },
  {
   "cell_type": "code",
   "execution_count": 1,
   "metadata": {},
   "outputs": [],
   "source": [
    "class Solution:\n",
    "    def lengthOfLongestSubstring(self, s: str) -> int:\n",
    "        ss = ''\n",
    "        ss_max = ''\n",
    "        ss_pos = {}    # 记录每个字母最后的位置\n",
    "        i = 0\n",
    "        pre_i = -1      # 记录上次切片的位置\n",
    "\n",
    "        for x in s:\n",
    "            if x not in ss_pos:\n",
    "                ss += x\n",
    "            else:\n",
    "                if ss_pos[x] > pre_i:\n",
    "                    ss = s[ss_pos[x]+1: i+1]\n",
    "                    pre_i = ss_pos[x]\n",
    "                else:\n",
    "                    ss += x\n",
    "            # 记录字母最后的位置\n",
    "            ss_pos[x] = i\n",
    "            # 记录最长子串\n",
    "            if len(ss) >= len(ss_max):\n",
    "                ss_max = ss\n",
    "            i += 1\n",
    "        \n",
    "        return len(ss_max)"
   ]
  },
  {
   "cell_type": "markdown",
   "metadata": {},
   "source": [
    "执行用时 :84 ms, 在所有 Python3 提交中击败了90.58%的用户\n",
    "\n",
    "内存消耗 :13.1 MB, 在所有 Python3 提交中击败了89.32%的用户"
   ]
  },
  {
   "cell_type": "markdown",
   "metadata": {},
   "source": [
    "时间复杂度：O(n)\n",
    "\n",
    "空间复杂度：O(n)"
   ]
  },
  {
   "cell_type": "markdown",
   "metadata": {},
   "source": [
    "## 过程"
   ]
  },
  {
   "cell_type": "markdown",
   "metadata": {},
   "source": [
    "### 1"
   ]
  },
  {
   "cell_type": "markdown",
   "metadata": {},
   "source": [
    "考虑不重复，为了减少每次检索是否用过该字母，直接hash。"
   ]
  },
  {
   "cell_type": "code",
   "execution_count": 2,
   "metadata": {},
   "outputs": [
    {
     "name": "stdout",
     "output_type": "stream",
     "text": [
      "3\n",
      "2\n"
     ]
    }
   ],
   "source": [
    "class Solution:\n",
    "    def lengthOfLongestSubstring(self, s: str) -> int:\n",
    "        ss = ''\n",
    "        ss_max = ''\n",
    "        ss_set = set()\n",
    "\n",
    "        for x in s:\n",
    "            if x not in ss_set:\n",
    "                ss += x\n",
    "                ss_set.add(x)\n",
    "            else:\n",
    "                if len(ss) > len(ss_max):\n",
    "                    ss_max = ss\n",
    "                ss = ''\n",
    "                ss_set = set()\n",
    "        \n",
    "        return len(ss_max)\n",
    "\n",
    "s = ['abcabcbb', 'pwwkew']\n",
    "for ss in s:\n",
    "    print(Solution().lengthOfLongestSubstring(ss))"
   ]
  },
  {
   "cell_type": "markdown",
   "metadata": {},
   "source": [
    "遇到测试用例`' '`挂掉。\n",
    "\n",
    "只有一个字母时，代码没有将其赋值给ss_max。(细节不够注意)"
   ]
  },
  {
   "cell_type": "markdown",
   "metadata": {},
   "source": [
    "### 2"
   ]
  },
  {
   "cell_type": "markdown",
   "metadata": {},
   "source": [
    "补充"
   ]
  },
  {
   "cell_type": "code",
   "execution_count": 3,
   "metadata": {},
   "outputs": [
    {
     "name": "stdout",
     "output_type": "stream",
     "text": [
      "3\n",
      "3\n",
      "1\n"
     ]
    }
   ],
   "source": [
    "class Solution:\n",
    "    def lengthOfLongestSubstring(self, s: str) -> int:\n",
    "        ss = ''\n",
    "        ss_max = ''\n",
    "        ss_set = set()\n",
    "\n",
    "        for x in s:\n",
    "            if x not in ss_set:\n",
    "                ss += x\n",
    "                ss_set.add(x)\n",
    "            else:\n",
    "                # 清空\n",
    "                ss = x\n",
    "                ss_set = set()\n",
    "                ss_set.add(x)\n",
    "            # 记录最长子串\n",
    "            if len(ss) > len(ss_max):\n",
    "                ss_max = ss\n",
    "        \n",
    "        return len(ss_max)\n",
    "\n",
    "s = ['abcabcbb', 'pwwkew', ' ']\n",
    "for ss in s:\n",
    "    print(Solution().lengthOfLongestSubstring(ss))"
   ]
  },
  {
   "cell_type": "markdown",
   "metadata": {},
   "source": [
    "在测试用例`'dvdf'`挂掉。\n",
    "\n",
    "没考虑到遇到重复字母后，返回到重复的位置的后一位。"
   ]
  },
  {
   "cell_type": "markdown",
   "metadata": {},
   "source": [
    "### 3"
   ]
  },
  {
   "cell_type": "markdown",
   "metadata": {},
   "source": [
    "可以先记录每个字母最后的位置，以便之后回到它的后一位做切片。\n",
    "\n",
    "此时，set集合可以替换为dict字典。"
   ]
  },
  {
   "cell_type": "code",
   "execution_count": 4,
   "metadata": {},
   "outputs": [
    {
     "name": "stdout",
     "output_type": "stream",
     "text": [
      "3\n",
      "3\n",
      "1\n",
      "3\n"
     ]
    }
   ],
   "source": [
    "class Solution:\n",
    "    def lengthOfLongestSubstring(self, s: str) -> int:\n",
    "        ss = ''\n",
    "        ss_max = ''\n",
    "        ss_pos = {}    # 记录每个字母最后的位置\n",
    "        i = 0\n",
    "\n",
    "        for x in s:\n",
    "            if x not in ss_pos:\n",
    "                ss += x\n",
    "            else:\n",
    "                ss = s[ss_pos[x]+1: i+1]\n",
    "            # 记录字母最后的位置\n",
    "            ss_pos[x] = i\n",
    "            # 记录最长子串\n",
    "            if len(ss) >= len(ss_max):\n",
    "                ss_max = ss\n",
    "            i += 1\n",
    "        \n",
    "        return len(ss_max)\n",
    "\n",
    "s = ['abcabcbb', 'pwwkew', ' ', 'dvdf']\n",
    "for ss in s:\n",
    "    print(Solution().lengthOfLongestSubstring(ss))"
   ]
  },
  {
   "cell_type": "markdown",
   "metadata": {},
   "source": [
    "遇到测试用例`'abba'`挂掉。\n",
    "\n",
    "这是由于多次的切片时，有交叉重叠的部分。"
   ]
  },
  {
   "cell_type": "markdown",
   "metadata": {},
   "source": [
    "### 4"
   ]
  },
  {
   "cell_type": "markdown",
   "metadata": {},
   "source": [
    "可以通过记录上一次切片的起始位置，以判断是否该作下一次的切片。\n",
    "\n",
    "当前切片的判断条件，当前字母在重复的位置要>上次切片的位置。"
   ]
  },
  {
   "cell_type": "code",
   "execution_count": 5,
   "metadata": {},
   "outputs": [
    {
     "name": "stdout",
     "output_type": "stream",
     "text": [
      "3\n",
      "3\n",
      "1\n",
      "3\n",
      "2\n"
     ]
    }
   ],
   "source": [
    "class Solution:\n",
    "    def lengthOfLongestSubstring(self, s: str) -> int:\n",
    "        ss = ''\n",
    "        ss_max = ''\n",
    "        ss_pos = {}    # 记录每个字母最后的位置\n",
    "        i = 0\n",
    "        pre_i = -1      # 记录上次切片的位置\n",
    "\n",
    "        for x in s:\n",
    "            if x not in ss_pos:\n",
    "                ss += x\n",
    "            else:\n",
    "                if ss_pos[x] > pre_i:\n",
    "                    ss = s[ss_pos[x]+1: i+1]\n",
    "                    pre_i = ss_pos[x]\n",
    "                else:\n",
    "                    ss += x\n",
    "            # 记录字母最后的位置\n",
    "            ss_pos[x] = i\n",
    "            # 记录最长子串\n",
    "            if len(ss) >= len(ss_max):\n",
    "                ss_max = ss\n",
    "            i += 1\n",
    "        \n",
    "        return len(ss_max)\n",
    "\n",
    "s = ['abcabcbb', 'pwwkew', ' ', 'dvdf', 'abba']\n",
    "for ss in s:\n",
    "    print(Solution().lengthOfLongestSubstring(ss))"
   ]
  },
  {
   "cell_type": "markdown",
   "metadata": {},
   "source": [
    "PS：后面考虑到本题其实只要的`长度`，只需要记录位置算出长度即可，可以省略去切片的部分。"
   ]
  },
  {
   "cell_type": "markdown",
   "metadata": {},
   "source": [
    "PS：总的来说，目的都是为了尽可能的只扫描一遍字符串。"
   ]
  }
 ],
 "metadata": {
  "kernelspec": {
   "display_name": "Python 3",
   "language": "python",
   "name": "python3"
  },
  "language_info": {
   "codemirror_mode": {
    "name": "ipython",
    "version": 3
   },
   "file_extension": ".py",
   "mimetype": "text/x-python",
   "name": "python",
   "nbconvert_exporter": "python",
   "pygments_lexer": "ipython3",
   "version": "3.6.8"
  }
 },
 "nbformat": 4,
 "nbformat_minor": 2
}
