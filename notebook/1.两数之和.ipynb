{
 "cells": [
  {
   "cell_type": "markdown",
   "metadata": {},
   "source": [
    "PS:leetcode使用类型检查，详细操作:https://mypy.readthedocs.io/en/stable/getting_started.html\n",
    "\n",
    "为了避免在这运行报错，先导包。"
   ]
  },
  {
   "cell_type": "code",
   "execution_count": 1,
   "metadata": {},
   "outputs": [],
   "source": [
    "from typing import List"
   ]
  },
  {
   "cell_type": "markdown",
   "metadata": {},
   "source": [
    "### 1"
   ]
  },
  {
   "cell_type": "markdown",
   "metadata": {},
   "source": [
    "简单的遍历方法先试试"
   ]
  },
  {
   "cell_type": "code",
   "execution_count": 3,
   "metadata": {},
   "outputs": [],
   "source": [
    "class Solution:\n",
    "    def twoSum(self, nums: List[int], target: int) -> List[int]:\n",
    "        for i in range(len(nums)):\n",
    "            for j in range(i+1, len(nums)):\n",
    "                if nums[i] + nums[j] == target:\n",
    "                    return [i, j]"
   ]
  },
  {
   "cell_type": "markdown",
   "metadata": {},
   "source": [
    "执行用时 : 6900 ms, 在Two Sum的Python3提交中击败了16.99% 的用户\n",
    "\n",
    "内存消耗 : 13.5 MB, 在Two Sum的Python3提交中击败了97.35% 的用户"
   ]
  },
  {
   "cell_type": "markdown",
   "metadata": {},
   "source": [
    "时间复杂度：O(n^2)\n",
    "\n",
    "空间复杂度：O(1)"
   ]
  },
  {
   "cell_type": "markdown",
   "metadata": {},
   "source": [
    "耗时有点丢人啊"
   ]
  },
  {
   "cell_type": "markdown",
   "metadata": {},
   "source": [
    "### 2"
   ]
  },
  {
   "cell_type": "markdown",
   "metadata": {},
   "source": [
    "一开始想过通过target目标值-数组里面的值，拿结果查看数组中是否存在，但这样判断存在的操作也是O(n)，最终是O(n^2)\n",
    "\n",
    "不小心在哪瞄到了map单词，回想起hash方法，可以压缩判断存在的操作为O(1)"
   ]
  },
  {
   "cell_type": "markdown",
   "metadata": {},
   "source": [
    "考虑以nums数组的值作为键，以索引位置作为值"
   ]
  },
  {
   "cell_type": "code",
   "execution_count": 4,
   "metadata": {},
   "outputs": [],
   "source": [
    "class Solution:\n",
    "    def twoSum(self, nums: List[int], target: int) -> List[int]:\n",
    "        map = {}\n",
    "        for i in range(len(nums)):\n",
    "            map[nums[i]] = i\n",
    "            \n",
    "        for i in range(len(nums)):\n",
    "            result = target - nums[i]\n",
    "            if result in map:\n",
    "                return [i, map[result]]"
   ]
  },
  {
   "cell_type": "markdown",
   "metadata": {},
   "source": [
    "解答错误：\n",
    "\n",
    "输入\n",
    "\n",
    "[3,2,4]\n",
    "6\n",
    "\n",
    "输出\n",
    "\n",
    "[0,0]\n",
    "\n",
    "预期结果\n",
    "\n",
    "[1,2]"
   ]
  },
  {
   "cell_type": "markdown",
   "metadata": {},
   "source": [
    "error1: 没过滤掉题目中的限制：你不能重复利用这个数组中同样的元素。\n",
    "\n",
    "error2: 而且有个问题是，测试集有相同的元素，导致dict映射时会覆盖。\n",
    "想到了java中的hashmap的数组+链表(jdk8:数组+红黑树)的配合。"
   ]
  },
  {
   "cell_type": "markdown",
   "metadata": {},
   "source": [
    "### 3"
   ]
  },
  {
   "cell_type": "markdown",
   "metadata": {},
   "source": [
    "采用hash+链表的解决方案，并判断是否重复使用过元素。"
   ]
  },
  {
   "cell_type": "code",
   "execution_count": 5,
   "metadata": {},
   "outputs": [],
   "source": [
    "class Solution:\n",
    "    def twoSum(self, nums: List[int], target: int) -> List[int]:\n",
    "        map = {}\n",
    "        for i in range(len(nums)):\n",
    "            key = nums[i]\n",
    "            if key not in map:  # 如果前面没有这个键\n",
    "                map[key] = []\n",
    "            map[key].append(i)\n",
    "            \n",
    "        for i in range(len(nums)):\n",
    "            result = target - nums[i]\n",
    "            if result in map:   # 如果键存在\n",
    "                for j in range(len(map[result])):\n",
    "                    if map[result][j] != i:     # 元素未使用过\n",
    "                        return [i, map[result][j]]"
   ]
  },
  {
   "cell_type": "markdown",
   "metadata": {},
   "source": [
    "执行用时 : 60 ms, 在Two Sum的Python3提交中击败了70.76% 的用户\n",
    "\n",
    "内存消耗 : 16 MB, 在Two Sum的Python3提交中击败了5.05% 的用户"
   ]
  },
  {
   "cell_type": "markdown",
   "metadata": {},
   "source": [
    "时间复杂度：O(n)\n",
    "\n",
    "空间复杂度：O(n)"
   ]
  },
  {
   "cell_type": "markdown",
   "metadata": {},
   "source": [
    "PS:每次提交，用时都不一样，可能是和hash效果有关。"
   ]
  },
  {
   "cell_type": "markdown",
   "metadata": {},
   "source": [
    "## 题解"
   ]
  },
  {
   "cell_type": "markdown",
   "metadata": {},
   "source": [
    "一遍哈希表\n",
    "事实证明，我们可以一次完成。在进行迭代并将元素插入到表中的同时，我们还会回过头来检查表中是否已经存在当前元素所对应的目标元素。如果它存在，那我们已经找到了对应解，并立即将其返回。"
   ]
  },
  {
   "cell_type": "markdown",
   "metadata": {},
   "source": [
    "还是太年轻了，官方给的答案，在插入哈希表的同时，并做判断处理。\n",
    "\n",
    "以下根据题解提示的改动。"
   ]
  },
  {
   "cell_type": "code",
   "execution_count": 6,
   "metadata": {},
   "outputs": [],
   "source": [
    "class Solution:\n",
    "    def twoSum(self, nums: List[int], target: int) -> List[int]:\n",
    "        map = {}\n",
    "        for i in range(len(nums)):\n",
    "            key = nums[i]\n",
    "            if key not in map:  # 如果前面没有这个键\n",
    "                map[key] = []\n",
    "            map[key].append(i)\n",
    "            \n",
    "        # for i in range(len(nums)):    # 注释以后，一边添加一边做判断\n",
    "            result = target - nums[i]\n",
    "            if result in map:   # 如果键存在\n",
    "                for j in range(len(map[result])):\n",
    "                    if map[result][j] != i:     # 元素未使用过\n",
    "                        return [i, map[result][j]]"
   ]
  },
  {
   "cell_type": "markdown",
   "metadata": {},
   "source": [
    "## 最优"
   ]
  },
  {
   "cell_type": "markdown",
   "metadata": {},
   "source": [
    "山外有山啊，用时最少的代码。\n",
    "\n",
    "即使存入哈希表的这个元素不存在，也将它与target目标值的差存入，避免后续对nums数组的二次遍历。\n",
    "\n",
    "真是将其遍历次数将至最低1次。"
   ]
  },
  {
   "cell_type": "code",
   "execution_count": 7,
   "metadata": {},
   "outputs": [],
   "source": [
    "class Solution:\n",
    "    def twoSum(self, nums: 'List[int]', target: 'int') -> 'List[int]':\n",
    "        dict = {}\n",
    "        for i in range(0, len(nums)):\n",
    "            if nums[i] in dict:\n",
    "                return [dict[nums[i]], i]\n",
    "            else:\n",
    "                dict[target - nums[i]] = i"
   ]
  },
  {
   "cell_type": "markdown",
   "metadata": {},
   "source": [
    "PS：注意return [dict[nums[i]], i]语句的返回列表的次序。"
   ]
  }
 ],
 "metadata": {
  "kernelspec": {
   "display_name": "Python 3",
   "language": "python",
   "name": "python3"
  },
  "language_info": {
   "codemirror_mode": {
    "name": "ipython",
    "version": 3
   },
   "file_extension": ".py",
   "mimetype": "text/x-python",
   "name": "python",
   "nbconvert_exporter": "python",
   "pygments_lexer": "ipython3",
   "version": "3.6.8"
  }
 },
 "nbformat": 4,
 "nbformat_minor": 2
}
