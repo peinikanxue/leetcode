{
 "cells": [
  {
   "cell_type": "markdown",
   "metadata": {},
   "source": [
    "## 1"
   ]
  },
  {
   "cell_type": "markdown",
   "metadata": {},
   "source": [
    "使用if判断回溯条件。"
   ]
  },
  {
   "cell_type": "code",
   "execution_count": 1,
   "metadata": {
    "scrolled": true
   },
   "outputs": [
    {
     "name": "stdout",
     "output_type": "stream",
     "text": [
      "False\n",
      "True\n",
      "True\n",
      "True\n",
      "False\n",
      "True\n",
      "False\n"
     ]
    }
   ],
   "source": [
    "class Solution:\n",
    "    def isMatch(self, s: str, p: str) -> bool:\n",
    "        if s == p == '':\n",
    "            return True\n",
    "        if p == '':\n",
    "            return False\n",
    "\n",
    "        i = 0\n",
    "        j = 0\n",
    "        is_star = False\n",
    "        is_dot = False\n",
    "        star_char = ''\n",
    "\n",
    "        while i < len(s) and j < len(p):\n",
    "            # 如果字符是'.'，则开启通配。\n",
    "            if p[j] == '.':\n",
    "                is_dot = True\n",
    "            # 如果后一个字符是'*'，则开启匹配前一个字符。\n",
    "            if j+1 < len(p) and p[j+1] == '*':\n",
    "                is_star = True\n",
    "                star_char = p[j]\n",
    "\n",
    "            # .*\n",
    "            if is_dot and is_star:\n",
    "                while i < len(s) and s[i] != p[j]:\n",
    "                    i += 1\n",
    "                j += 2  # 跳过*\n",
    "            # .\n",
    "            elif is_dot:\n",
    "                i += 1\n",
    "                j += 1\n",
    "            # *\n",
    "            elif is_star:\n",
    "                while i < len(s) and s[i] == p[j]:\n",
    "                    i += 1\n",
    "                j += 2  # 跳过*\n",
    "                # 跳过p中*后重复的字符,处理\"aaaa\",\"a*aa\"的情况.\n",
    "                while j < len(p) and p[j] == star_char:\n",
    "                    j += 1\n",
    "            # 正常字符串匹配\n",
    "            else:\n",
    "                i += 1\n",
    "                j += 1\n",
    "\n",
    "            # 清除标志\n",
    "            is_star = False\n",
    "            is_dot = False\n",
    "        \n",
    "        # 是否匹配完全\n",
    "        if i == len(s) and j == len(p):\n",
    "            return True\n",
    "        else:\n",
    "            return False\n",
    "        \n",
    "if __name__ == \"__main__\":\n",
    "    s_list = [\"aa\", \"aa\", \"ab\", \"aab\", \"mississippi\", \"aaaa\", \"aaa\"]\n",
    "    p_list = [\"a\", \"a*\", \".*\", \"c*a*b\", \"mis*is*p*.\", \"a*aa\", \"ab*a*c*a\"]\n",
    "\n",
    "    for i in range(len(s_list)):\n",
    "        print(Solution().isMatch(s_list[i], p_list[i]))"
   ]
  },
  {
   "cell_type": "markdown",
   "metadata": {},
   "source": [
    "不够通用，简洁。一些细节问题不能很好处理。"
   ]
  },
  {
   "cell_type": "markdown",
   "metadata": {},
   "source": [
    "# 题解"
   ]
  },
  {
   "cell_type": "markdown",
   "metadata": {},
   "source": [
    "使用递归法去回溯。"
   ]
  },
  {
   "cell_type": "code",
   "execution_count": 2,
   "metadata": {},
   "outputs": [],
   "source": [
    "class Solution:\n",
    "    def isMatch(self, text: str, pattern: str) -> bool:\n",
    "        if not pattern:\n",
    "            return not text\n",
    "\n",
    "        first_match = bool(text) and pattern[0] in {text[0], '.'}\n",
    "\n",
    "        if len(pattern) >= 2 and pattern[1] == '*':\n",
    "            return (self.isMatch(text, pattern[2:]) or  # '*' 0个的情况\n",
    "                    first_match and                     # '*' 1个的情况\n",
    "                    self.isMatch(text[1:], pattern))    # ‘*’ 1个以上的情况\n",
    "        else:\n",
    "            return first_match and self.isMatch(text[1:], pattern[1:])  # 没有'*'的情况"
   ]
  },
  {
   "cell_type": "markdown",
   "metadata": {},
   "source": [
    "时间复杂度：O(n^2)\n",
    "\n",
    "空间复杂度：O(1)"
   ]
  }
 ],
 "metadata": {
  "kernelspec": {
   "display_name": "Python 3",
   "language": "python",
   "name": "python3"
  },
  "language_info": {
   "codemirror_mode": {
    "name": "ipython",
    "version": 3
   },
   "file_extension": ".py",
   "mimetype": "text/x-python",
   "name": "python",
   "nbconvert_exporter": "python",
   "pygments_lexer": "ipython3",
   "version": "3.6.8"
  }
 },
 "nbformat": 4,
 "nbformat_minor": 2
}
