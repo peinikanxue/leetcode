{
 "nbformat": 4,
 "nbformat_minor": 2,
 "metadata": {
  "language_info": {
   "name": "python",
   "codemirror_mode": {
    "name": "ipython",
    "version": 3
   },
   "version": "3.6.9"
  },
  "orig_nbformat": 2,
  "file_extension": ".py",
  "mimetype": "text/x-python",
  "name": "python",
  "npconvert_exporter": "python",
  "pygments_lexer": "ipython3",
  "version": 3
 },
 "cells": [
  {
   "cell_type": "markdown",
   "source": [
    "# 1"
   ],
   "metadata": {}
  },
  {
   "cell_type": "markdown",
   "source": [
    "有序->二分查找。\n",
    "\n",
    "先二分查找到目标数，在左右各自二分查找其边界。"
   ],
   "metadata": {}
  },
  {
   "cell_type": "code",
   "execution_count": 1,
   "source": [
    "from typing import List"
   ],
   "outputs": [],
   "metadata": {}
  },
  {
   "cell_type": "code",
   "execution_count": 2,
   "source": [
    "class Solution:\n",
    "    def searchRange(self, nums: List[int], target: int) -> List[int]:\n",
    "        l = 0\n",
    "        r = len(nums) - 1\n",
    "\n",
    "        l_limt = -1\n",
    "        r_limt = -1\n",
    "\n",
    "        while l <= r:\n",
    "            m = (l + r) // 2\n",
    "            if nums[m] == target:\n",
    "                l_limt = self.search_l(nums, target, 0, m)            # 搜索左边的边界\n",
    "                r_limt = self.search_r(nums, target, m, len(nums) - 1)# 搜索右边的边界\n",
    "                break\n",
    "            elif nums[m] < target:\n",
    "                l = m + 1\n",
    "            elif nums[m] > target:\n",
    "                r = m - 1\n",
    "        return [l_limt, r_limt]\n",
    "\n",
    "\n",
    "    def search_l(self, nums, target, l, r):\n",
    "        m = (l + r) // 2\n",
    "        \n",
    "        if nums[m] == target and (m == 0 or nums[m-1] < target):    # 左边\n",
    "            return m\n",
    "        \n",
    "        if nums[m] < target:\n",
    "            l = m + 1\n",
    "        else:\n",
    "            r = m - 1\n",
    "        return self.search_l(nums, target, l, r)\n",
    "\n",
    "\n",
    "    def search_r(self, nums, target, l, r):\n",
    "        m = (l + r) // 2\n",
    "\n",
    "        if nums[m] == target and (m == len(nums) - 1 or nums[m+1] > target):    # 右边\n",
    "            return m\n",
    "        \n",
    "        if nums[m] <= target:\n",
    "            l = m + 1\n",
    "        else:\n",
    "            r = m - 1\n",
    "        return self.search_r(nums, target, l, r)\n",
    "\n",
    "\n",
    "\n",
    "if __name__ == \"__main__\":\n",
    "    nums_list = [\n",
    "        [5,7,7,8,8,10],\n",
    "        [5,7,7,8,8,10],\n",
    "        [1],\n",
    "        [0, 1],\n",
    "        [0, 1],\n",
    "        [0, 1, 2],\n",
    "        [0, 1, 2],\n",
    "        [0, 1, 2],\n",
    "        [2, 2],\n",
    "        [0,0,0,1,2,3],\n",
    "        [0,1,2,3,3,3],\n",
    "    ]\n",
    "\n",
    "    target_list = [8, 6, 1, 0, 1, 0, 1, 2, 2, 0, 3]\n",
    "\n",
    "    for nums, target in zip(nums_list, target_list):\n",
    "        print(Solution().searchRange(nums, target))\n"
   ],
   "outputs": [
    {
     "output_type": "stream",
     "name": "stdout",
     "text": [
      "[3, 4]\n",
      "[-1, -1]\n",
      "[0, 0]\n",
      "[0, 0]\n",
      "[1, 1]\n",
      "[0, 0]\n",
      "[1, 1]\n",
      "[2, 2]\n",
      "[0, 1]\n",
      "[0, 2]\n",
      "[3, 5]\n"
     ]
    }
   ],
   "metadata": {}
  },
  {
   "cell_type": "markdown",
   "source": [
    "执行用时 :96 ms, 在所有 Python3 提交中击败了92.10%的用户\n",
    "\n",
    "内存消耗 :14.1 MB, 在所有 Python3 提交中击败了5.30%的用户"
   ],
   "metadata": {}
  },
  {
   "cell_type": "markdown",
   "source": [
    "time:O(logn)\n",
    "\n",
    "space:O(1)"
   ],
   "metadata": {}
  }
 ]
}