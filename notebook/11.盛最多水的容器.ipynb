{
 "cells": [
  {
   "cell_type": "markdown",
   "metadata": {},
   "source": [
    "## 1"
   ]
  },
  {
   "cell_type": "markdown",
   "metadata": {},
   "source": [
    "如果直接遍历，时间复杂度：O(n^2)，重点是找出重复计算的部分。\n",
    "\n",
    "难以看出有可复用的部分。\n",
    "\n",
    "找规律：横轴总是在缩小，在纵轴上操作。"
   ]
  },
  {
   "cell_type": "code",
   "execution_count": 1,
   "metadata": {},
   "outputs": [
    {
     "name": "stdout",
     "output_type": "stream",
     "text": [
      "49\n",
      "4\n",
      "24\n"
     ]
    }
   ],
   "source": [
    "from typing import List\n",
    "\n",
    "class Solution:\n",
    "    def maxArea(self, height: List[int]) -> int:\n",
    "        \n",
    "        max_area = 0\n",
    "        cur_area = 0\n",
    "\n",
    "        start = 0\n",
    "        end = len(height) - 1\n",
    "\n",
    "        while start < end:\n",
    "            # 计算面积\n",
    "            cur_area = min(height[start], height[end]) * (end - start)\n",
    "            if cur_area >= max_area:\n",
    "                max_area = cur_area\n",
    "            # 前进\n",
    "            if height[start] < height[end]: # 左边的矮，左边向右进\n",
    "                start += 1\n",
    "            else:\n",
    "                end -= 1\n",
    "        \n",
    "        return max_area\n",
    "\n",
    "\n",
    "if __name__ == \"__main__\":\n",
    "    height_list = [\n",
    "        [1,8,6,2,5,4,8,3,7],\n",
    "        [1,2,4,3],\n",
    "        [1,3,2,5,25,24,5],\n",
    "    ]\n",
    "    for height in height_list:\n",
    "        print(Solution().maxArea(height))"
   ]
  },
  {
   "cell_type": "markdown",
   "metadata": {},
   "source": [
    "执行用时 :188 ms, 在所有 python3 提交中击败了49.18%的用户\n",
    "\n",
    "内存消耗 :15.4 MB, 在所有 python3 提交中击败了5.18%的用户"
   ]
  },
  {
   "cell_type": "markdown",
   "metadata": {},
   "source": [
    "时间复杂度：O(n)\n",
    "\n",
    "空间复杂度：O(1)"
   ]
  }
 ],
 "metadata": {
  "kernelspec": {
   "display_name": "Python 3",
   "language": "python",
   "name": "python3"
  },
  "language_info": {
   "codemirror_mode": {
    "name": "ipython",
    "version": 3
   },
   "file_extension": ".py",
   "mimetype": "text/x-python",
   "name": "python",
   "nbconvert_exporter": "python",
   "pygments_lexer": "ipython3",
   "version": "3.6.8"
  }
 },
 "nbformat": 4,
 "nbformat_minor": 2
}
