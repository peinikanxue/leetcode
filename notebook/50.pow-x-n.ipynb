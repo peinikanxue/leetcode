{
 "cells": [
  {
   "cell_type": "markdown",
   "source": [
    "# 1"
   ],
   "metadata": {}
  },
  {
   "cell_type": "markdown",
   "source": [
    "没有给任何限制，直接`x**n`了。"
   ],
   "metadata": {}
  },
  {
   "cell_type": "markdown",
   "source": [
    "305/305 cases passed (36 ms)\\\n",
    "Your runtime beats 49.69 % of python3 submissions\\\n",
    "Your memory usage beats 74.55 % of python3 submissions (14.9 MB)"
   ],
   "metadata": {}
  },
  {
   "cell_type": "markdown",
   "source": [
    "看题解，原来是想快速幂。"
   ],
   "metadata": {}
  },
  {
   "cell_type": "code",
   "execution_count": 6,
   "source": [
    "class Solution:\n",
    "    def myPow(self, x: float, n: int) -> float:\n",
    "        if n == 1:\n",
    "            return x\n",
    "        elif n == 0:\n",
    "            return 1\n",
    "        elif n == -1:\n",
    "            return 1 / x\n",
    "        return self.myPow(x, n // 2) ** 2 * self.myPow(x, n % 2)\n",
    "\n",
    "\n",
    "if __name__ == '__main__':\n",
    "    x_n = [\n",
    "        [2.00000, 10],\n",
    "        [2.10000, 3],\n",
    "        [2.00000, -2],\n",
    "    ]\n",
    "\n",
    "    for x, n in x_n:\n",
    "        print(Solution().myPow(x, n))"
   ],
   "outputs": [
    {
     "output_type": "stream",
     "name": "stdout",
     "text": [
      "1024.0\n",
      "9.261000000000001\n",
      "0.25\n"
     ]
    }
   ],
   "metadata": {}
  },
  {
   "cell_type": "markdown",
   "source": [
    "305/305 cases passed (40 ms)\\\n",
    "Your runtime beats 27.35 % of python3 submissions\\\n",
    "Your memory usage beats 28.86 % of python3 submissions (15 MB)"
   ],
   "metadata": {}
  },
  {
   "cell_type": "markdown",
   "source": [
    "time: O(logn)\n",
    "\n",
    "space: O(logn)\n",
    "\n",
    "> 空间复杂度logn，是由于递归调用所用到的栈空间。"
   ],
   "metadata": {}
  }
 ],
 "metadata": {
  "orig_nbformat": 4,
  "language_info": {
   "name": "python",
   "version": "3.8.10",
   "mimetype": "text/x-python",
   "codemirror_mode": {
    "name": "ipython",
    "version": 3
   },
   "pygments_lexer": "ipython3",
   "nbconvert_exporter": "python",
   "file_extension": ".py"
  },
  "kernelspec": {
   "name": "python3",
   "display_name": "Python 3.8.10 64-bit"
  },
  "interpreter": {
   "hash": "31f2aee4e71d21fbe5cf8b01ff0e069b9275f58929596ceb00d14d90e3e16cd6"
  }
 },
 "nbformat": 4,
 "nbformat_minor": 2
}