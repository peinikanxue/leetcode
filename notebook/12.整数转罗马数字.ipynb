{
 "cells": [
  {
   "cell_type": "markdown",
   "metadata": {},
   "source": [
    "## 1"
   ]
  },
  {
   "cell_type": "markdown",
   "metadata": {},
   "source": [
    "从最高位取依次处理,单独处理4,9的特殊情况."
   ]
  },
  {
   "cell_type": "code",
   "execution_count": 2,
   "metadata": {
    "scrolled": true
   },
   "outputs": [
    {
     "name": "stdout",
     "output_type": "stream",
     "text": [
      "III\n",
      "IV\n",
      "IX\n",
      "LVIII\n",
      "MCMXCIV\n"
     ]
    }
   ],
   "source": [
    "class Solution:\n",
    "    def intToRoman(self, num: int) -> str:\n",
    "        table = {\n",
    "            1   :   'I',\n",
    "            5   :   'V',\n",
    "            10  :   'X',\n",
    "            50  :   'L',\n",
    "            100 :   'C',\n",
    "            500 :   'D',\n",
    "            1000:   'M'\n",
    "        }\n",
    "        num_t = [1, 5, 10, 50, 100, 500, 1000]\n",
    "        special_t = {\n",
    "            4   :   'IV',\n",
    "            9   :   'IX',\n",
    "            40  :   'XL',\n",
    "            90  :   'XC',\n",
    "            400 :   'CD',\n",
    "            900 :   'CM'\n",
    "        }\n",
    "\n",
    "        result = ''\n",
    "\n",
    "        for x in num_t[::-1]:\n",
    "            # 特殊规则\n",
    "            special_val = self.get_highest_number(num)\n",
    "            if special_val in special_t:\n",
    "                result += special_t[special_val]\n",
    "                num -= special_val\n",
    "                continue\n",
    "            # 常规\n",
    "            n = num // x\n",
    "            if n != 0:\n",
    "                num %= x\n",
    "            result += table[x] * n\n",
    "\n",
    "            # 提前结束\n",
    "            if num == 0:\n",
    "                break\n",
    "        \n",
    "        return result\n",
    "    \n",
    "    # 获取最高位的值\n",
    "    def get_highest_number(self, num):\n",
    "        result = 1\n",
    "        pre = 0\n",
    "        while num != 0:\n",
    "            result *= 10\n",
    "            pre = num % 10\n",
    "            num //= 10\n",
    "        return result * pre // 10\n",
    "\n",
    "if __name__ == \"__main__\":\n",
    "    num_list = [3, 4, 9, 58, 1994]\n",
    "    for num in num_list:\n",
    "        print(Solution().intToRoman(num))"
   ]
  },
  {
   "cell_type": "markdown",
   "metadata": {},
   "source": [
    "时间复杂度:O(n)\n",
    "\n",
    "空间复杂度:O(n)"
   ]
  },
  {
   "cell_type": "markdown",
   "metadata": {},
   "source": [
    "执行用时 :80 ms, 在所有 Python3 提交中击败了55.78%的用户\n",
    "\n",
    "内存消耗 :14 MB, 在所有 Python3 提交中击败了5.26%的用户"
   ]
  },
  {
   "cell_type": "markdown",
   "metadata": {},
   "source": [
    "# 题解"
   ]
  },
  {
   "cell_type": "markdown",
   "metadata": {},
   "source": [
    "基于点钱的思路,将4,9的特殊情况都一起对应."
   ]
  },
  {
   "cell_type": "code",
   "execution_count": 3,
   "metadata": {},
   "outputs": [],
   "source": [
    "class Solution:\n",
    "    def intToRoman(self, num: int) -> str:\n",
    "        # 把阿拉伯数字与罗马数字可能出现的所有情况和对应关系，放在两个数组中\n",
    "        # 并且按照阿拉伯数字的大小降序排列，这是贪心选择思想\n",
    "        nums = [1000, 900, 500, 400, 100, 90, 50, 40, 10, 9, 5, 4, 1]\n",
    "        romans = [\"M\", \"CM\", \"D\", \"CD\", \"C\", \"XC\", \"L\", \"XL\", \"X\", \"IX\", \"V\", \"IV\", \"I\"]\n",
    "\n",
    "        index = 0\n",
    "        res = ''\n",
    "        while index < 13:\n",
    "            # 注意：这里是等于号，表示尽量使用大的\"面值\"\n",
    "            while num >= nums[index]:\n",
    "                res += romans[index]\n",
    "                num -= nums[index]\n",
    "            index += 1\n",
    "        return res"
   ]
  }
 ],
 "metadata": {
  "kernelspec": {
   "display_name": "Python 3",
   "language": "python",
   "name": "python3"
  },
  "language_info": {
   "codemirror_mode": {
    "name": "ipython",
    "version": 3
   },
   "file_extension": ".py",
   "mimetype": "text/x-python",
   "name": "python",
   "nbconvert_exporter": "python",
   "pygments_lexer": "ipython3",
   "version": "3.6.8"
  }
 },
 "nbformat": 4,
 "nbformat_minor": 2
}
