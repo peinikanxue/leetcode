{
 "cells": [
  {
   "cell_type": "markdown",
   "metadata": {},
   "source": [
    "# 题解"
   ]
  },
  {
   "cell_type": "markdown",
   "metadata": {},
   "source": [
    "找规律。\n",
    "\n",
    "逆序找到非逆序的数，\n",
    "\n",
    "再逆序找到大于上面找到的第一个数，\n",
    "\n",
    "交换这2个数，\n",
    "\n",
    "将第一步之后的所有数反转。"
   ]
  },
  {
   "cell_type": "code",
   "execution_count": 1,
   "metadata": {},
   "outputs": [
    {
     "name": "stdout",
     "output_type": "stream",
     "text": [
      "[1, 3, 2]\n",
      "[1, 2, 3]\n",
      "[1, 5, 1]\n",
      "[1, 2, 3, 5, 4]\n",
      "[1, 2, 4, 3, 5]\n",
      "[1, 2, 4, 5, 3]\n",
      "[1, 2, 5, 3, 4]\n",
      "[1, 3, 2, 5, 4]\n",
      "[1, 3, 4, 2, 5]\n",
      "[1, 2, 3, 4, 5]\n"
     ]
    }
   ],
   "source": [
    "from utils import *\n",
    "\n",
    "class Solution:\n",
    "    def nextPermutation(self, nums: List[int]) -> None:\n",
    "        \n",
    "        if not nums:\n",
    "            return []\n",
    "\n",
    "        i = len(nums) - 1\n",
    "        pos = -1\n",
    "\n",
    "        while i > 0:\n",
    "            \n",
    "            if pos == -1 and nums[i-1] < nums[i]: # 找到逆序的地方\n",
    "                pos = i - 1\n",
    "                i = len(nums) - 1\n",
    "            \n",
    "            if pos != -1 and nums[pos] < nums[i]:   # 找到下一个序列的值，交换到pos位置\n",
    "                nums[pos], nums[i] = nums[i], nums[pos]\n",
    "                self.reversed(nums, pos + 1, len(nums))  # pos右侧的全部反转\n",
    "                break\n",
    "\n",
    "            i -= 1\n",
    "\n",
    "        if pos == -1:      # 全逆\n",
    "            nums.reverse()\n",
    "\n",
    "\n",
    "    def reversed(self, nums, start, end):\n",
    "        i = 0\n",
    "        while i != (end - start) // 2:\n",
    "            nums[start + i], nums[end - i - 1] = nums[end - i - 1], nums[start + i]\n",
    "            i += 1\n",
    "\n",
    "\n",
    "\n",
    "if __name__ == \"__main__\":\n",
    "    nums_list = [\n",
    "        [1, 2, 3],\n",
    "        [3, 2, 1],\n",
    "        [1, 1, 5],\n",
    "        [1, 2, 3, 4, 5],\n",
    "        [1, 2, 3, 5, 4],\n",
    "        [1, 2, 4, 3, 5],\n",
    "        [1, 2, 4, 5, 3],\n",
    "        [1, 3, 2, 4, 5],\n",
    "        [1, 3, 2, 5, 4],\n",
    "        [5, 4, 3, 2, 1],\n",
    "    ]\n",
    "\n",
    "    for nums in nums_list:\n",
    "        Solution().nextPermutation(nums)\n",
    "        print(nums)"
   ]
  },
  {
   "cell_type": "markdown",
   "metadata": {},
   "source": [
    "执行用时 :64 ms, 在所有 python3 提交中击败了53.89%的用户\n",
    "\n",
    "内存消耗 :13.9 MB, 在所有 python3 提交中击败了5.12%的用户"
   ]
  },
  {
   "cell_type": "markdown",
   "metadata": {},
   "source": [
    "time:O(n)\n",
    "\n",
    "space:O(1)"
   ]
  }
 ],
 "metadata": {
  "kernelspec": {
   "display_name": "Python 3",
   "language": "python",
   "name": "python3"
  },
  "language_info": {
   "codemirror_mode": {
    "name": "ipython",
    "version": 3
   },
   "file_extension": ".py",
   "mimetype": "text/x-python",
   "name": "python",
   "nbconvert_exporter": "python",
   "pygments_lexer": "ipython3",
   "version": "3.6.8"
  }
 },
 "nbformat": 4,
 "nbformat_minor": 2
}
