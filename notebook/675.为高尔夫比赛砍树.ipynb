{
 "cells": [
  {
   "cell_type": "markdown",
   "source": [
    "# 1"
   ],
   "metadata": {}
  },
  {
   "cell_type": "markdown",
   "source": [
    "难度不高，没认真读懂题目。"
   ],
   "metadata": {}
  },
  {
   "cell_type": "markdown",
   "source": [
    "# 题解"
   ],
   "metadata": {}
  },
  {
   "cell_type": "markdown",
   "source": [
    "将任务分为计算路径长度 和 累积总路程。就是多次bfs。\n",
    "\n",
    "计算路径长度就是路径规划算法，题解给出bfs或A*。"
   ],
   "metadata": {}
  },
  {
   "cell_type": "code",
   "execution_count": null,
   "source": [
    "import collections\n",
    "\n",
    "class Solution(object):\n",
    "    def cutOffTree(self, forest):\n",
    "        trees = sorted((v, r, c) for r, row in enumerate(forest)\n",
    "                       for c, v in enumerate(row) if v > 1)\n",
    "        sr = sc = ans = 0\n",
    "        for _, tr, tc in trees:\n",
    "            d = bfs(forest, sr, sc, tr, tc)\n",
    "            if d < 0: return -1\n",
    "            ans += d\n",
    "            sr, sc = tr, tc\n",
    "        return ans\n",
    "\n",
    "def bfs(forest, sr, sc, tr, tc):\n",
    "    R, C = len(forest), len(forest[0])\n",
    "    queue = collections.deque([(sr, sc, 0)])\n",
    "    seen = {(sr, sc)}\n",
    "    while queue:\n",
    "        r, c, d = queue.popleft()\n",
    "        if r == tr and c == tc:\n",
    "            return d\n",
    "        for nr, nc in ((r-1, c), (r+1, c), (r, c-1), (r, c+1)):\n",
    "            if (0 <= nr < R and 0 <= nc < C and\n",
    "                    (nr, nc) not in seen and forest[nr][nc]):\n",
    "                seen.add((nr, nc))\n",
    "                queue.append((nr, nc, d+1))\n",
    "    return -1"
   ],
   "outputs": [],
   "metadata": {}
  },
  {
   "cell_type": "markdown",
   "source": [
    "time: O((RC)^2) 在给定的 forest 中有 RR 行和 CC 列。我们步行到 RCRC 树，每一次步行都可以花费 O(RC)O(RC) 时间搜索树。\n",
    "\n",
    "space:O(R*C) 所用数据结构的最大大小。"
   ],
   "metadata": {}
  }
 ],
 "metadata": {
  "language_info": {
   "codemirror_mode": {
    "name": "ipython",
    "version": 3
   },
   "file_extension": ".py",
   "mimetype": "text/x-python",
   "name": "python",
   "nbconvert_exporter": "python",
   "pygments_lexer": "ipython3",
   "version": "3.8.10"
  },
  "orig_nbformat": 2,
  "kernelspec": {
   "name": "python3",
   "display_name": "Python 3.8.10 64-bit"
  },
  "interpreter": {
   "hash": "916dbcbb3f70747c44a77c7bcd40155683ae19c65e1c03b4aa3499c5328201f1"
  }
 },
 "nbformat": 4,
 "nbformat_minor": 2
}