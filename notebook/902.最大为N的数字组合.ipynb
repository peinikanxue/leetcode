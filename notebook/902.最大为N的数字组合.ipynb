{
 "nbformat": 4,
 "nbformat_minor": 2,
 "metadata": {
  "language_info": {
   "name": "python",
   "version": "3.8.10",
   "mimetype": "text/x-python",
   "codemirror_mode": {
    "name": "ipython",
    "version": 3
   },
   "pygments_lexer": "ipython3",
   "nbconvert_exporter": "python",
   "file_extension": ".py"
  },
  "orig_nbformat": 2,
  "file_extension": ".py",
  "mimetype": "text/x-python",
  "name": "python",
  "npconvert_exporter": "python",
  "pygments_lexer": "ipython3",
  "version": 3,
  "kernelspec": {
   "name": "python3",
   "display_name": "Python 3.8.10 64-bit"
  },
  "interpreter": {
   "hash": "916dbcbb3f70747c44a77c7bcd40155683ae19c65e1c03b4aa3499c5328201f1"
  }
 },
 "cells": [
  {
   "cell_type": "markdown",
   "source": [
    "# 1"
   ],
   "metadata": {}
  },
  {
   "cell_type": "markdown",
   "source": [
    "经典求排列组合\n",
    "\n",
    "逐位判断可能的取值数量，代码不够简洁。\n"
   ],
   "metadata": {}
  },
  {
   "cell_type": "code",
   "execution_count": null,
   "source": [
    "from typing import List\n",
    "\n",
    "class Solution:\n",
    "    def atMostNGivenDigitSet(self, digits: List[str], num: int) -> int:\n",
    "        # digits = list(map(int, digits))\n",
    "        digits = list(map(int, digits))\n",
    "        num_list = list(map(int, list(str(num))))\n",
    "        count = 0\n",
    "        n1 = len(digits)    # 可选择数字个数\n",
    "        n2 = len(str(num))    # 目标值的位数\n",
    "\n",
    "        # 1.处理最高位的情况\n",
    "        def find_min(digits, target):   # 找到小于等于目标值的位置(digits有序) (替换为字典更舒服)\n",
    "            l, r = 0, len(digits)-1\n",
    "            while l < r:\n",
    "                m = (l + r) // 2\n",
    "                if digits[m] == target:\n",
    "                    return m + 1    # 索引值少-1\n",
    "                elif digits[m] > target:\n",
    "                    r = m - 1\n",
    "                elif digits[m] < target:\n",
    "                    l = m + 1\n",
    "            l = l if digits[l] > target else l + 1\n",
    "            return l\n",
    "        \n",
    "        # 1.1 判断是否存在位数一样 且小于目标值的数\n",
    "        is_all_usable = True    # num的每一位都能找到对应的数\n",
    "        for x in num_list:\n",
    "            if digits[find_min(digits, x) - 1] != x:\n",
    "                is_all_usable = False\n",
    "                break\n",
    "        is_max_usable = find_min(digits, num_list[0]) # 最高位能找到数\n",
    "\n",
    "        # 1.2 如果存在，可以计算小于目标值的数量\n",
    "        if is_all_usable:   # 每一位都可找到\n",
    "            count += 1\n",
    "        if is_max_usable:   # 最大的一位能找到\n",
    "            num_size = len(num_list)\n",
    "            digits_size = len(digits)\n",
    "            prob = 0\n",
    "            for i in range(num_size):    # 不同位的可能性相乘\n",
    "                x = num_list[i]\n",
    "                idx = find_min(digits, x)\n",
    "                idx_copy = idx\n",
    "                idx = max(0, idx - 1 if digits[idx-1] == x else idx)\n",
    "                prob += idx * digits_size ** (num_size - 1 - i)\n",
    "                if digits[idx_copy - 1] != x:   # 当前位不能在digital中找到时，下一位没必要再循环，因为都被统计在内了\n",
    "                    break\n",
    "            count += prob\n",
    "\n",
    "        # 2.n少一位的情况\n",
    "        for nn2 in range(1, n2):    # 解决高位为'0'的情况\n",
    "            count += n1 ** (nn2)\n",
    "        return count"
   ],
   "outputs": [],
   "metadata": {}
  },
  {
   "cell_type": "markdown",
   "source": [
    "执行用时：28 ms, 在所有 Python3 提交中击败了97.01%的用户\n",
    "\n",
    "内存消耗：15 MB, 在所有 Python3 提交中击败了49.25%的用户"
   ],
   "metadata": {}
  },
  {
   "cell_type": "markdown",
   "source": [
    "time: O(n)\n",
    "\n",
    "space: O(1)"
   ],
   "metadata": {}
  },
  {
   "cell_type": "markdown",
   "source": [
    "（审题后，数字是1-9之间，没有0，上述代码存在多余部分。）"
   ],
   "metadata": {}
  },
  {
   "cell_type": "markdown",
   "source": [
    "# 题解"
   ],
   "metadata": {}
  },
  {
   "cell_type": "markdown",
   "source": [
    "方法一：数位动态规划\n",
    "\n",
    "将问题分为2部分： \\\n",
    "第1部分，与目标数的位数少于`k < K`的合法值有 D^k个。 \\\n",
    "第2部分，与目标数的位数相等时，又分情况。第1位小于目标的第1位，合法值有 D^(k-1)个；第1位等于目标的第1位，那么考虑第2位，以此类推。"
   ],
   "metadata": {}
  },
  {
   "cell_type": "code",
   "execution_count": 9,
   "source": [
    "class Solution:\n",
    "    def atMostNGivenDigitSet(self, D, N):\n",
    "        S = str(N)\n",
    "        K = len(S)\n",
    "        dp = [0] * K + [1]\n",
    "        # dp[i] = total number of valid integers if N was \"N[i:]\"\n",
    "\n",
    "        for i in range(K-1, -1, -1):\n",
    "            # Compute dp[i]\n",
    "\n",
    "            for d in D:\n",
    "                if d < S[i]:        # 当前位i的值d小于S[i]时，合法取值的数量为K-i-1个位的所有可能。\n",
    "                    dp[i] += len(D) ** (K-i-1)\n",
    "                elif d == S[i]:     # 当前位i的值相等S[i]时，合法取值的数量为i+1位的数量。\n",
    "                    dp[i] += dp[i+1]    # dp的i会依赖i+1。          2.dp[0]最终的结果是目标数N的位数==K的所有取值可能。\n",
    "        return dp[0] + sum(len(D) ** i for i in range(1, K))    # 1.后半部分是目标数N的位数<K的所有取值可能。\n",
    "\n",
    "\n",
    "if __name__ == '__main__':\n",
    "    D_list = [\n",
    "        ['2','3','4','5'],\n",
    "        ['1', '3', '5', '7'],\n",
    "    ]\n",
    "    N_list = [2345, 57]\n",
    "\n",
    "    for D, N in zip(D_list, N_list):\n",
    "        print(Solution().atMostNGivenDigitSet(D, N))"
   ],
   "outputs": [
    {
     "output_type": "stream",
     "name": "stdout",
     "text": [
      "112\n",
      "16\n"
     ]
    }
   ],
   "metadata": {}
  },
  {
   "cell_type": "markdown",
   "source": [
    "方法二：数学\n",
    "\n",
    "令 B = |D|，一个合法的数仅包含 D 中的数字，如果我们把 D 中数字从小到大映射为 [1 .. B]，那么将对我们的计数有很大的便利。例如，当 D 包含 [1, 3, 5, 7] 时，我们将它映射为 [1, 2, 3, 4]，那么合法的数也从 1, 3, 5, 7, 11, 13, 15, 17, 31, ... 映射为 1, 2, 3, 4, 11, 12, 13, 14, 21, ...。这样的好处是，对于任何一个映射好的数，我们可以用类似进制转换的方式，得到它是第一个合法的数，例如 57(/58/59)->34 就是第 3 * B + 4 = 3 * 4 + 4 = 16 个合法的数。"
   ],
   "metadata": {}
  },
  {
   "cell_type": "markdown",
   "source": [
    "注： :)想过将数字映射到1~B，但没想到有这样的关系。"
   ],
   "metadata": {}
  },
  {
   "cell_type": "code",
   "execution_count": 10,
   "source": [
    "import bisect\n",
    "\n",
    "class Solution(object):\n",
    "    def atMostNGivenDigitSet(self, D, N):\n",
    "        B = len(D) # bijective-base B\n",
    "        S = str(N)\n",
    "        K = len(S)\n",
    "        A = []  #  The largest valid number in bijective-base-B.\n",
    "\n",
    "        # 1.映射\n",
    "        for c in S:\n",
    "            if c in D:\n",
    "                A.append(D.index(c) + 1)\n",
    "            else:\n",
    "                i = bisect.bisect(D, c)\n",
    "                A.append(i)\n",
    "                # i = 1 + (largest index j with c >= D[j], or -1 if impossible)\n",
    "                if i == 0:\n",
    "                    # subtract 1\n",
    "                    for j in range(len(A) - 1, 0, -1):\n",
    "                        if A[j]: break\n",
    "                        A[j] += B\n",
    "                        A[j-1] -= 1\n",
    "\n",
    "                A.extend([B] * (K - len(A)))\n",
    "                break\n",
    "\n",
    "        # 2.计算\n",
    "        ans = 0\n",
    "        for x in A:\n",
    "            ans = ans * B + x   # K==4时，A[0]*4^3 + A[1]*4^2 + A[2]*4^1 + A[3]\n",
    "        return ans\n",
    "\n",
    "\n",
    "if __name__ == '__main__':\n",
    "    D_list = [\n",
    "        ['2','3','4','5'],\n",
    "        ['1', '3', '5', '7'],\n",
    "    ]\n",
    "    N_list = [2345, 57]\n",
    "\n",
    "    for D, N in zip(D_list, N_list):\n",
    "        print(Solution().atMostNGivenDigitSet(D, N))"
   ],
   "outputs": [
    {
     "output_type": "stream",
     "name": "stdout",
     "text": [
      "[1, 2, 3, 4]\n",
      "112\n",
      "[3, 4]\n",
      "16\n"
     ]
    }
   ],
   "metadata": {}
  }
 ]
}