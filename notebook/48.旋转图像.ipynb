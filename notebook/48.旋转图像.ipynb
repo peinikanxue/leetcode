{
 "cells": [
  {
   "cell_type": "markdown",
   "source": [
    "# 1"
   ],
   "metadata": {}
  },
  {
   "cell_type": "markdown",
   "source": [
    "找规律\n",
    "\n",
    "方形的矩阵，根据规律交换。\\\n",
    "外层轮着交换，再交换内层；\\\n",
    "中间一个不交换。\n",
    "\n",
    "方法1：如果一行（或一列）的交换，哪么需要一个长度为矩阵边长的数组存储第一行（或第一列）的值。\n",
    "\n",
    "方法2：为了保证空间复杂度为O(1)，原地交换，哪么只用一个tmp变量。（下图所示）"
   ],
   "metadata": {}
  },
  {
   "cell_type": "markdown",
   "source": [
    "![](../imgs/48-1.svg)\n",
    "\n",
    "tmp=(0,0)\\\n",
    "(4,0)->(0,0)\\\n",
    "(4,4)->(4,0)\\\n",
    "(0,4)->(4,4)\\\n",
    "(0,0)->(0,4)\n",
    "\n",
    "![](../imgs/48-2.svg)\n",
    "\n",
    "tmp=(0,1)\\\n",
    "(3,0)->(0,1)\\\n",
    "(4,3)->(3,0)\\\n",
    "(1,4)->(4,3)\\\n",
    "(0,1)->(1,4)"
   ],
   "metadata": {}
  },
  {
   "cell_type": "code",
   "execution_count": 33,
   "source": [
    "from typing import List\n",
    "\n",
    "class Solution:\n",
    "    def rotate(self, M: List[List[int]]) -> None:\n",
    "        \"\"\"\n",
    "        Do not return anything, modify matrix in-place instead.\n",
    "        \"\"\"\n",
    "        n = len(M)\n",
    "        for l in range(n // 2):         # layer\n",
    "            for i in range(n - l*2-1):\n",
    "                tmp = M[l][l+i]\n",
    "                M[l][l+i] = M[n-1-i-l][l]\n",
    "                M[n-1-i-l][l] = M[n-1-l][n-1-i-l]\n",
    "                M[n-1-l][n-1-i-l] = M[l+i][n-1-l]\n",
    "                M[l+i][n-1-l] = tmp\n",
    "\n",
    "\n",
    "if __name__ == '__main__':\n",
    "    matrix_list = [\n",
    "        [[1,2,3],[4,5,6],[7,8,9]],\n",
    "        [[5,1,9,11],[2,4,8,10],[13,3,6,7],[15,14,12,16]],\n",
    "        [[1]],\n",
    "        [[1,2],[3,4]],\n",
    "        [[1,2,3,4,5],[6,7,8,9,10],[11,12,13,14,15],[16,17,18,19,20],[21,22,23,24,25]],\n",
    "    ]\n",
    "\n",
    "    for matrix in matrix_list:\n",
    "        Solution().rotate(matrix)\n",
    "        print(matrix)"
   ],
   "outputs": [
    {
     "output_type": "stream",
     "name": "stdout",
     "text": [
      "[[7, 4, 1], [8, 5, 2], [9, 6, 3]]\n",
      "[[15, 13, 2, 5], [14, 3, 4, 1], [12, 6, 8, 9], [16, 7, 10, 11]]\n",
      "[[1]]\n",
      "[[3, 1], [4, 2]]\n",
      "[[21, 16, 11, 6, 1], [22, 17, 12, 7, 2], [23, 18, 13, 8, 3], [24, 19, 14, 9, 4], [25, 20, 15, 10, 5]]\n"
     ]
    }
   ],
   "metadata": {}
  },
  {
   "cell_type": "markdown",
   "source": [
    "21/21 cases passed (28 ms)\n",
    "\n",
    "Your runtime beats 90.59 % of python3 submissions\n",
    "\n",
    "Your memory usage beats 67 % of python3 submissions (14.9 MB)"
   ],
   "metadata": {}
  },
  {
   "cell_type": "markdown",
   "source": [
    "time: O(n)\n",
    "\n",
    "space: O(1)\n",
    "\n",
    "> n是矩阵的元素个数"
   ],
   "metadata": {}
  },
  {
   "cell_type": "markdown",
   "source": [
    "# test"
   ],
   "metadata": {}
  },
  {
   "cell_type": "code",
   "execution_count": 35,
   "source": [
    "import numpy as np\n",
    "from pprint import pprint\n",
    "n = 5\n",
    "M = np.arange(1, n**2+1, 1).reshape(n, n).tolist()\n",
    "\n",
    "# 顺时针旋转\n",
    "for c in range(len(M[0])):\n",
    "    for r in range(len(M)-1, -1, -1):\n",
    "        print(M[r][c], end=' ')\n",
    "    print()\n",
    "\n",
    "# 元素转移\n",
    "n = len(M)\n",
    "for l in range(n // 2):         # layer\n",
    "    print('========')\n",
    "    for i in range(n - l*2-1):\n",
    "        print(l, l+i)\n",
    "        print(n-1-i-l, l, '->', l, l+i)\n",
    "        print(n-1-l, n-1-i-l, '->', n-1-i-l, l)\n",
    "        print(l+i, n-1-l, '->', n-1-l, n-1-i-l)\n",
    "        print(l, l+i, '->', l+i, n-1-l)\n",
    "        print('---')\n"
   ],
   "outputs": [
    {
     "output_type": "stream",
     "name": "stdout",
     "text": [
      "21 16 11 6 1 \n",
      "22 17 12 7 2 \n",
      "23 18 13 8 3 \n",
      "24 19 14 9 4 \n",
      "25 20 15 10 5 \n",
      "========\n",
      "0 0\n",
      "4 0 -> 0 0\n",
      "4 4 -> 4 0\n",
      "0 4 -> 4 4\n",
      "0 0 -> 0 4\n",
      "---\n",
      "0 1\n",
      "3 0 -> 0 1\n",
      "4 3 -> 3 0\n",
      "1 4 -> 4 3\n",
      "0 1 -> 1 4\n",
      "---\n",
      "0 2\n",
      "2 0 -> 0 2\n",
      "4 2 -> 2 0\n",
      "2 4 -> 4 2\n",
      "0 2 -> 2 4\n",
      "---\n",
      "0 3\n",
      "1 0 -> 0 3\n",
      "4 1 -> 1 0\n",
      "3 4 -> 4 1\n",
      "0 3 -> 3 4\n",
      "---\n",
      "========\n",
      "1 1\n",
      "3 1 -> 1 1\n",
      "3 3 -> 3 1\n",
      "1 3 -> 3 3\n",
      "1 1 -> 1 3\n",
      "---\n",
      "1 2\n",
      "2 1 -> 1 2\n",
      "3 2 -> 2 1\n",
      "2 3 -> 3 2\n",
      "1 2 -> 2 3\n",
      "---\n"
     ]
    }
   ],
   "metadata": {}
  }
 ],
 "metadata": {
  "orig_nbformat": 4,
  "language_info": {
   "name": "python",
   "version": "3.8.10",
   "mimetype": "text/x-python",
   "codemirror_mode": {
    "name": "ipython",
    "version": 3
   },
   "pygments_lexer": "ipython3",
   "nbconvert_exporter": "python",
   "file_extension": ".py"
  },
  "kernelspec": {
   "name": "python3",
   "display_name": "Python 3.8.10 64-bit"
  },
  "interpreter": {
   "hash": "31f2aee4e71d21fbe5cf8b01ff0e069b9275f58929596ceb00d14d90e3e16cd6"
  }
 },
 "nbformat": 4,
 "nbformat_minor": 2
}