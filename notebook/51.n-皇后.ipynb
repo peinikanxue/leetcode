{
 "cells": [
  {
   "cell_type": "markdown",
   "source": [
    "# 1"
   ],
   "metadata": {}
  },
  {
   "cell_type": "markdown",
   "source": [
    "搜索+回溯\n",
    "\n",
    "dfs做搜索，for做回溯。"
   ],
   "metadata": {}
  },
  {
   "cell_type": "code",
   "execution_count": 29,
   "source": [
    "from typing import List\n",
    "from copy import deepcopy\n",
    "\n",
    "class Solution:\n",
    "    def solveNQueens(self, n: int) -> List[List[str]]:\n",
    "\n",
    "        # 根据Q的位置列表，将位置占领\n",
    "        def update_vis(vis, Q_pos):\n",
    "            direction = [(+1, +1), (-1, -1), (-1, +1), (+1, -1)]\n",
    "            rows, cols = [x[0] for x in Q_pos], [x[1] for x in Q_pos]\n",
    "            vis_pos, n = [], len(vis)\n",
    "            [[[vis_pos.append((row+x*rate, col+y*rate)) for rate in range(n) if 0<=row+x*rate<n and 0<=col+y*rate<n] for x, y in direction] for row, col in Q_pos]\n",
    "            vis_pos = set(vis_pos)\n",
    "\n",
    "            for i in range(n):\n",
    "                for j in range(n):\n",
    "                    if i in rows or j in cols or (i, j) in vis_pos:\n",
    "                        vis[i][j] = True\n",
    "                    else:\n",
    "                        vis[i][j] = False\n",
    "            return vis\n",
    "\n",
    "        # 搜索回溯\n",
    "        def dfs(vis, Q_pos, row, ans):\n",
    "            '''\n",
    "                棋盘，是否被占据，棋盘边长，已经放置了几个，第几行\n",
    "            '''\n",
    "            n = len(vis)\n",
    "            if len(Q_pos) == n:                 # 满足条件，加入答案\n",
    "                # print(Q_pos)\n",
    "                ans.append(deepcopy(Q_pos))\n",
    "            if row >= n:\n",
    "                return\n",
    "\n",
    "            # vis = get_vis(vis, Q_pos)   # 占据位置\n",
    "            for col in range(n):\n",
    "                if not vis[row][col]:\n",
    "                    # print(f'{row},{col}')\n",
    "                    Q_pos.append((row, col))\n",
    "                    vis = update_vis(vis, Q_pos)   # 更新占据的位置\n",
    "                    # print(row, ' append:', Q_pos)\n",
    "                    dfs(vis, Q_pos, row+1, ans) # 前往下一层\n",
    "                    Q_pos.pop()                 # 回溯\n",
    "                    vis = update_vis(vis, Q_pos)   # 更新占据的位置\n",
    "                    # print(row, ' pop:', Q_pos)\n",
    "\n",
    "        # 1.搜索\n",
    "        vis = [[False] * n for _ in range(n)]\n",
    "        ans = []\n",
    "        dfs(vis, [], 0, ans)\n",
    "        # print(ans)\n",
    "\n",
    "        # 2.转换格式\n",
    "        ans_format = [['.'*n for _ in range(n)] for _ in range(len(ans))]\n",
    "        for i, Q_pos in enumerate(ans):\n",
    "            for row, col in Q_pos:\n",
    "                ans_format[i][row] = ans_format[i][row][:col] + 'Q' + ans_format[i][row][col+1:]\n",
    "\n",
    "        return ans_format\n",
    "\n",
    "\n",
    "if __name__ == '__main__':\n",
    "    n_list = [\n",
    "        4,\n",
    "        1,\n",
    "    ]\n",
    "\n",
    "    for n in n_list:\n",
    "        print(Solution().solveNQueens(n))"
   ],
   "outputs": [
    {
     "output_type": "stream",
     "name": "stdout",
     "text": [
      "[['.Q..', '...Q', 'Q...', '..Q.'], ['..Q.', 'Q...', '...Q', '.Q..']]\n",
      "[['Q']]\n"
     ]
    }
   ],
   "metadata": {}
  },
  {
   "cell_type": "markdown",
   "source": [
    "9/9 cases passed (992 ms)\\\n",
    "Your runtime beats 5.01 % of python3 submissions\\\n",
    "Your memory usage beats 33.36 % of python3 submissions (15.5 MB)"
   ],
   "metadata": {}
  },
  {
   "cell_type": "markdown",
   "source": [
    "time: O(n^4)\n",
    "\n",
    "space: O(n^2)\n",
    "\n",
    "> 耗时主要是在更新vis，每次搜索回溯都需要花费O(n^2)时间遍历每个元素。\\\n",
    "> 实际上搜索回溯会远远低于O(n^2)。"
   ],
   "metadata": {}
  },
  {
   "cell_type": "markdown",
   "source": [
    "> 题解感觉是用技巧优化空间。\n",
    "\n",
    "> 是有点慢，但是是自己做出来的，还不错:)"
   ],
   "metadata": {}
  }
 ],
 "metadata": {
  "orig_nbformat": 4,
  "language_info": {
   "name": "python",
   "version": "3.8.10",
   "mimetype": "text/x-python",
   "codemirror_mode": {
    "name": "ipython",
    "version": 3
   },
   "pygments_lexer": "ipython3",
   "nbconvert_exporter": "python",
   "file_extension": ".py"
  },
  "kernelspec": {
   "name": "python3",
   "display_name": "Python 3.8.10 64-bit"
  },
  "interpreter": {
   "hash": "31f2aee4e71d21fbe5cf8b01ff0e069b9275f58929596ceb00d14d90e3e16cd6"
  }
 },
 "nbformat": 4,
 "nbformat_minor": 2
}