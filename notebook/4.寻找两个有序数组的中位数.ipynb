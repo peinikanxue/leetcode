{
 "cells": [
  {
   "cell_type": "markdown",
   "metadata": {},
   "source": [
    "## 准备"
   ]
  },
  {
   "cell_type": "code",
   "execution_count": 1,
   "metadata": {},
   "outputs": [],
   "source": [
    "from typing import List"
   ]
  },
  {
   "cell_type": "markdown",
   "metadata": {},
   "source": [
    "## 过程"
   ]
  },
  {
   "cell_type": "markdown",
   "metadata": {},
   "source": [
    "### 1"
   ]
  },
  {
   "cell_type": "markdown",
   "metadata": {},
   "source": [
    "第一想法就是，将两数组加在一起，排序，取出中间的数。"
   ]
  },
  {
   "cell_type": "code",
   "execution_count": 3,
   "metadata": {},
   "outputs": [],
   "source": [
    "class Solution:\n",
    "    def findMedianSortedArrays(self, nums1: List[int], nums2: List[int]) -> float:\n",
    "        nums = nums1 + nums2\n",
    "        nums.sort()\n",
    "\n",
    "        length = len(nums)\n",
    "        if length % 2 == 0:\n",
    "            return (nums[length//2-1] + nums[length//2]) / 2\n",
    "        else:\n",
    "            return nums[length//2]"
   ]
  },
  {
   "cell_type": "markdown",
   "metadata": {},
   "source": [
    "执行用时 :72 ms, 在所有 Python3 提交中击败了92.80%的用户\n",
    "\n",
    "内存消耗 :13.3 MB, 在所有 Python3 提交中击败了66.49%的用户"
   ]
  },
  {
   "cell_type": "markdown",
   "metadata": {},
   "source": [
    "时间复杂度：O(m + n) + O((m + n)log(m + n))    (合并数组 + 快速排序)\n",
    "\n",
    "空间复杂度：O(m + n)"
   ]
  },
  {
   "cell_type": "markdown",
   "metadata": {},
   "source": [
    "PS：\n",
    "\n",
    "试试\n",
    "\n",
    "就过了?\n",
    "\n",
    "考虑到题目中所说难度`困难`。。。\n",
    "\n",
    "还要求时间复杂度`O(log(m + n))`，应该是指快速排序的开销。\n",
    "\n",
    "也没用上`有序`的条件。\n",
    "\n",
    "看一下题解。。。"
   ]
  },
  {
   "cell_type": "markdown",
   "metadata": {},
   "source": [
    "## 2"
   ]
  },
  {
   "cell_type": "markdown",
   "metadata": {},
   "source": [
    "考虑到两个数组有序，直接拼接到一个新的数组里。\n",
    "\n",
    "如果新数组已经有了(m+n)/2个数，那么就可以停止了，取最后1个或2个数作中位数。"
   ]
  },
  {
   "cell_type": "code",
   "execution_count": 4,
   "metadata": {},
   "outputs": [
    {
     "name": "stdout",
     "output_type": "stream",
     "text": [
      "2\n",
      "2.5\n",
      "1\n",
      "2\n"
     ]
    }
   ],
   "source": [
    "class Solution:\n",
    "    def findMedianSortedArrays(self, nums1: List[int], nums2: List[int]) -> float:\n",
    "        length = len(nums1) + len(nums2)\n",
    "        cycle = length // 2 - 1\n",
    "        \n",
    "        # 取出2数组中前面多余的元素\n",
    "        for i in range(cycle):\n",
    "            if nums2 == [] or (nums1 != [] and nums2 != [] and nums1[0] < nums2[0]):\n",
    "                nums1.pop(0)\n",
    "            else:\n",
    "                nums2.pop(0)\n",
    "\n",
    "        # 如果2个数组总共只有1个元素，直接返回\n",
    "        if length == 1:\n",
    "            return nums1[0] if nums1 != [] else nums2[0]\n",
    "        \n",
    "        # 元素多于1个的情况\n",
    "        result = []\n",
    "        for i in range(2):\n",
    "            if nums2 == [] or (nums1 != [] and nums2 != [] and nums1[0] < nums2[0]):\n",
    "                result.append(nums1.pop(0))\n",
    "            else:\n",
    "                result.append(nums2.pop(0))\n",
    "        \n",
    "        if length % 2 == 0:\n",
    "            return sum(result) / 2\n",
    "        else:\n",
    "            return result[1]\n",
    "            \n",
    "\n",
    "nums_list = [\n",
    "    ([1, 3], [2]),\n",
    "    ([1, 2], [3, 4]),\n",
    "    ([], [1]),\n",
    "    ([2], [])\n",
    "    ]\n",
    "for nums1, nums2 in nums_list:\n",
    "    print(Solution().findMedianSortedArrays(nums1, nums2))"
   ]
  },
  {
   "cell_type": "markdown",
   "metadata": {},
   "source": [
    "执行用时 :76 ms, 在所有 Python3 提交中击败了86.94%的用户\n",
    "\n",
    "内存消耗 :13.1 MB, 在所有 Python3 提交中击败了96.86%的用户"
   ]
  },
  {
   "cell_type": "markdown",
   "metadata": {},
   "source": [
    "时间复杂度：O((m + n) / 2)\n",
    "\n",
    "空间复杂度：O(1)"
   ]
  },
  {
   "cell_type": "markdown",
   "metadata": {},
   "source": [
    "en,好像差不多。\n",
    "\n",
    "其实好像也不用pop操作，记录两数组当前位置即可。"
   ]
  },
  {
   "cell_type": "markdown",
   "metadata": {},
   "source": [
    "## 题解"
   ]
  },
  {
   "cell_type": "markdown",
   "metadata": {},
   "source": [
    "凑凑答案...\n",
    "\n",
    "原来时间复杂度log是这么来的。\n",
    "\n",
    "1.在两数组之间二分法查找到使其满足以下条件即可：\n",
    "- len(left_part)=len(right_part)\n",
    "- max(left_part)≤min(right_part)\n",
    "\n",
    "其中 $j = \\frac{m + n + 1}{2} - i$\n",
    "\n",
    "2.在循环搜索中，我们只会遇到三种情况：\n",
    "\n",
    "- (j = 0 or i = m or B[j - 1] ≤ A[i] 或是 (i = 0 or j = n or A[i-1] ≤ B[j])，这意味着 ii 是完美的，我们可以停止搜索。\n",
    "- j > 0 and i < m and B[j - 1] > A[i] 这意味着 ii 太小，我们必须增大它。\n",
    "- i > 0 and j < n and A[i - 1] > B[j] 这意味着 ii 太大，我们必须减小它。\n",
    "\n",
    "3.当找到i时，中位数为：\n",
    "\n",
    "- $\\max(\\text{A}[i-1], \\text{B}[j-1])$, 当 m+n 为奇数时\n",
    "- $\\frac{\\max(\\text{A}[i-1], \\text{B}[j-1]) + \\min(\\text{A}[i], \\text{B}[j])}{2}$, 当 m+n 为偶数时\n",
    "\n",
    "注意：\n",
    "\n",
    "- 需要检查临界值：A或B空、i = 0 or m、j = 0 or n。\n",
    "- 奇数个元素的数组，如果割在一个数上，那么这个数即属于左边，也属于右边。\n",
    "\n",
    "PS：\n",
    "\n",
    "其中，`2.`中的条件可以进一步通过数学推导简化：\n",
    "\n",
    "i < m ⟹  j > 0 以及 i > 0  ⟹  j < n 始终成立，这是因为：\n",
    "\n",
    "- $m ≤ n, i < m ⟹ j = \\frac{m+n+1}{2} - i > \\frac{m+n+1}{2} - m ≥ \\frac{2m+1}{2} - m ≥ 0$\n",
    "- $m ≤, i > 0 ⟹ j = \\frac{m+n+1}{2} - i < \\frac{m+n+1}{2} ≤ \\frac{2n+1}{2} ≤ n $\n",
    "\n",
    "所以，在情况2和3中，我们不需要检查j > 0或j < n是否成立。"
   ]
  },
  {
   "cell_type": "code",
   "execution_count": 5,
   "metadata": {},
   "outputs": [
    {
     "name": "stdout",
     "output_type": "stream",
     "text": [
      "2\n",
      "2.5\n",
      "3.5\n",
      "3\n",
      "100\n",
      "1\n",
      "2\n"
     ]
    }
   ],
   "source": [
    "class Solution:\n",
    "    def findMedianSortedArrays(self, nums1: List[int], nums2: List[int]) -> float:\n",
    "        A, B = nums1, nums2\n",
    "        m, n = len(A), len(B)\n",
    "        if m > n:   # 将对称问题约束简化情况\n",
    "            A, B, m, n = B, A, n, m\n",
    "        if n == 0:\n",
    "            raise ValueError\n",
    "\n",
    "        imin, imax, half_len = 0, m, (m + n + 1) // 2\n",
    "        while imin <= imax:\n",
    "            i = (imin + imax) // 2\n",
    "            j = half_len - i\n",
    "            if i < m and B[j-1] > A[i]:\n",
    "                # i is too small, must increase it\n",
    "                imin = i + 1\n",
    "            elif i > 0 and A[i-1] > B[j]:\n",
    "                # i is too big, must decrease it\n",
    "                imax = i - 1\n",
    "            else:\n",
    "                # i is perfect\n",
    "\n",
    "                if i == 0: max_of_left = B[j-1]\n",
    "                elif j == 0: max_of_left = A[i-1]\n",
    "                else: max_of_left = max(A[i-1], B[j-1])\n",
    "\n",
    "                if (m + n) % 2 == 1:\n",
    "                    return max_of_left\n",
    "\n",
    "                if i == m: min_of_right = B[j]\n",
    "                elif j == n: min_of_right = A[i]\n",
    "                else: min_of_right = min(A[i], B[j])\n",
    "\n",
    "                return (max_of_left + min_of_right) / 2.0\n",
    "        \n",
    "            \n",
    "nums_list = [\n",
    "    ([1, 3], [2]),\n",
    "    ([1, 2], [3, 4]),\n",
    "    ([1, 3, 5], [2, 4, 6]),\n",
    "    ([1, 3, 5], [2, 4]),\n",
    "    ([1, 100, 200, 300, 1000], [2, 10]),\n",
    "    ([], [1]),\n",
    "    ([2], [])\n",
    "    ]\n",
    "for nums1, nums2 in nums_list:\n",
    "    print(Solution().findMedianSortedArrays(nums1, nums2))"
   ]
  },
  {
   "cell_type": "markdown",
   "metadata": {},
   "source": [
    "时间复杂度：O(log(min(m, n)))\n",
    "\n",
    "空间复杂度：O(1)"
   ]
  },
  {
   "cell_type": "markdown",
   "metadata": {},
   "source": [
    "PS：尝试根据题解的解释写了半天，总在边界处理上解决不清楚。归根到底属于思路不够理清。\n",
    "\n",
    "PS：注意到题解代码一开始通过判断长短，将一个对称的问题约束简化到一个固定情况。"
   ]
  }
 ],
 "metadata": {
  "kernelspec": {
   "display_name": "Python 3",
   "language": "python",
   "name": "python3"
  },
  "language_info": {
   "codemirror_mode": {
    "name": "ipython",
    "version": 3
   },
   "file_extension": ".py",
   "mimetype": "text/x-python",
   "name": "python",
   "nbconvert_exporter": "python",
   "pygments_lexer": "ipython3",
   "version": "3.6.8"
  }
 },
 "nbformat": 4,
 "nbformat_minor": 2
}
