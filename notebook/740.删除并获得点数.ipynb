{
 "cells": [
  {
   "cell_type": "markdown",
   "source": [
    "# 1"
   ],
   "metadata": {}
  },
  {
   "cell_type": "markdown",
   "source": [
    "动态规划\n",
    "\n",
    "> 本题与198题打家劫舍放在一起出，给了不少灵感。\n",
    "\n",
    "两侧元素不能取，哪么可以将本题看作打家劫舍。\\\n",
    "稍微转换一下。\n",
    "\n",
    "例如：nums = [2,2,3,3,3,4,7] 可以转换为如下图所示的形式。\n",
    "\n",
    "![](../imgs/740.svg)"
   ],
   "metadata": {}
  },
  {
   "cell_type": "code",
   "execution_count": 16,
   "source": [
    "from typing import List\n",
    "from collections import Counter\n",
    "\n",
    "class Solution:\n",
    "    def deleteAndEarn(self, nums: List[int]) -> int:\n",
    "        # 1.将原问题转为打家劫舍\n",
    "        def convert(nums):\n",
    "            nums.sort()\n",
    "            # 空缺补0\n",
    "            tmp = nums[0]\n",
    "            idx = 1\n",
    "            while idx < len(nums):\n",
    "                if nums[idx] > tmp + 1:\n",
    "                    # nums.insert(idx, 0)\n",
    "                    nums.insert(idx, -idx)  # 为了区分，补负值方便处理\n",
    "                    idx += 1\n",
    "                tmp = nums[idx]\n",
    "                idx += 1\n",
    "            # print(nums)\n",
    "            nums = [k*v for k,v in Counter(nums).items()]\n",
    "            nums = list(map(lambda x: x if x > 0 else 0, nums)) # 将负数改为0\n",
    "            # print(nums)\n",
    "            return nums\n",
    "\n",
    "        # 2.打劫\n",
    "        def rob(nums):\n",
    "            nums = [0] * 3 + nums   # 哨，可以干掉下面的注释\n",
    "            dp = nums   # 可以直接原地处理\n",
    "            \n",
    "            for i in range(3, len(nums)):\n",
    "                dp[i] = max(dp[i-2]+nums[i], dp[i-3]+nums[i])\n",
    "            return max(dp)\n",
    "\n",
    "        nums = convert(nums)\n",
    "        return rob(nums)\n",
    "\n",
    "\n",
    "if __name__ == '__main__':\n",
    "    nums_list = [\n",
    "        [3,4,2],\n",
    "        [2,2,3,3,3,4],\n",
    "        [7,9,2,2,3,3,3,4],\n",
    "        [1,1,1,2,4,5,5,5,6],\n",
    "    ]\n",
    "\n",
    "    for nums in nums_list:\n",
    "        print(Solution().deleteAndEarn(nums))"
   ],
   "outputs": [
    {
     "output_type": "stream",
     "name": "stdout",
     "text": [
      "6\n",
      "9\n",
      "25\n",
      "18\n"
     ]
    }
   ],
   "metadata": {}
  },
  {
   "cell_type": "markdown",
   "source": [
    "48/48 cases passed (28 ms)\\\n",
    "Your runtime beats 95.98 % of python3 submissions\\\n",
    "Your memory usage beats 16.27 % of python3 submissions (15.3 MB)"
   ],
   "metadata": {}
  },
  {
   "cell_type": "markdown",
   "source": [
    "time: O(n)\n",
    "\n",
    "space: O(1)"
   ],
   "metadata": {}
  }
 ],
 "metadata": {
  "orig_nbformat": 4,
  "language_info": {
   "name": "python",
   "version": "3.8.10",
   "mimetype": "text/x-python",
   "codemirror_mode": {
    "name": "ipython",
    "version": 3
   },
   "pygments_lexer": "ipython3",
   "nbconvert_exporter": "python",
   "file_extension": ".py"
  },
  "kernelspec": {
   "name": "python3",
   "display_name": "Python 3.8.10 64-bit"
  },
  "interpreter": {
   "hash": "31f2aee4e71d21fbe5cf8b01ff0e069b9275f58929596ceb00d14d90e3e16cd6"
  }
 },
 "nbformat": 4,
 "nbformat_minor": 2
}