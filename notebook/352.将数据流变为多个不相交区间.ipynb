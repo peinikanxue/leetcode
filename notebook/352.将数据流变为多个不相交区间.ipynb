{
 "cells": [
  {
   "cell_type": "markdown",
   "metadata": {},
   "source": [
    "# 1"
   ]
  },
  {
   "cell_type": "markdown",
   "metadata": {},
   "source": [
    "类似功能开发，如果直接给出所有数字，排序就可以依次扫描分区。\n",
    "\n",
    "不确定的添加需要一个合理的数据结构，减少查询和插入的开销。\n",
    "\n",
    "使用字典和列表记录每个值的区间。"
   ]
  },
  {
   "cell_type": "markdown",
   "metadata": {},
   "source": [
    "![](../imgs/352.svg)"
   ]
  },
  {
   "cell_type": "markdown",
   "metadata": {},
   "source": [
    "✘"
   ]
  },
  {
   "cell_type": "code",
   "execution_count": null,
   "metadata": {},
   "outputs": [],
   "source": [
    "#include <iostream>\n",
    "#include <vector>\n",
    "#include <map>\n",
    "using namespace std;\n",
    "\n",
    "class SummaryRanges {\n",
    "public:\n",
    "    \n",
    "    map<int, vector<int>> interval_dict;\n",
    "    vector<vector<int>> ans;\n",
    "\n",
    "    SummaryRanges() {\n",
    "    }\n",
    "    \n",
    "    void addNum(int val) {\n",
    "        map<int, vector<int>>::iterator it_pre = interval_dict.find(val-1);\n",
    "        map<int, vector<int>>::iterator it_back = interval_dict.find(val+1);\n",
    "        if(interval_dict.find(val) != interval_dict.end()){                     // 1.要添加的元素存在\n",
    "            return; // 存在，不重复添加\n",
    "        }\n",
    "        \n",
    "        if(it_pre != interval_dict.end() || it_back != interval_dict.end()){    // 2.要添加的元素前后至少存在一个情况\n",
    "            vector<int> *tmp = nullptr;\n",
    "            if(it_pre != interval_dict.end()){      // val-1元素存在\n",
    "                tmp = &interval_dict[val-1];\n",
    "                (*tmp)[1] = val;\n",
    "            }\n",
    "            if(it_back != interval_dict.end()){     // val+1元素存在\n",
    "                if(tmp != nullptr){\n",
    "                    (*tmp)[1] = interval_dict[val+1][1];\n",
    "                    // interval_dict[val+1] = (*tmp);  // 后一个指向前一个  // 应该取地址\n",
    "                    auto p_back = &interval_dict[val+1];\n",
    "                    p_back = tmp;\n",
    "                }else{\n",
    "                    tmp = &interval_dict[val+1];\n",
    "                    (*tmp)[0] = val;\n",
    "                }\n",
    "                // interval_dict.erase(val+1);     // 保留前一个，删除后一个    // 因为后续一个区间的元素都会指向同一个，如果这样移除可能会导致被清除，因为使用的标准库，所以应该会自动清除没引用的元素，应该不会内存泄露\n",
    "            }\n",
    "            interval_dict[val] = (*tmp); // 应该取地址\n",
    "            // auto p_cur = &interval_dict[val];   // error，键为val不存在\n",
    "            // p_cur = tmp;\n",
    "        }else{                                                                  // 3.要添加的元素，以及前后都不存在\n",
    "            interval_dict[val] = {val, val};\n",
    "            ans.push_back(interval_dict[val]);\n",
    "        }\n",
    "    }\n",
    "    \n",
    "    vector<vector<int>> getIntervals() {\n",
    "        return ans;\n",
    "    }\n",
    "};\n",
    "\n",
    "int main(int argc, char const *argv[])\n",
    "{\n",
    "    SummaryRanges* obj = new SummaryRanges();\n",
    "    obj->addNum(1);\n",
    "    obj->getIntervals();\n",
    "    obj->addNum(3);\n",
    "    obj->getIntervals();\n",
    "    obj->addNum(7);\n",
    "    obj->getIntervals();\n",
    "    obj->addNum(2);\n",
    "    obj->getIntervals();\n",
    "    obj->addNum(6);\n",
    "    obj->getIntervals();\n",
    "    obj->addNum(9);\n",
    "    obj->getIntervals();\n",
    "    obj->addNum(10);\n",
    "    obj->getIntervals();\n",
    "    obj->addNum(8);\n",
    "    obj->getIntervals();\n",
    "\n",
    "    return 0;\n",
    "}"
   ]
  },
  {
   "cell_type": "markdown",
   "metadata": {},
   "source": [
    "代码写的有问题，没有能共享，\\\n",
    "map<int, vector<int>>依旧是值传递，\\\n",
    "map<int, vector<int>*>应该使用指针，实现引用。"
   ]
  },
  {
   "cell_type": "code",
   "execution_count": null,
   "metadata": {},
   "outputs": [],
   "source": [
    "#include <iostream>\n",
    "#include <vector>\n",
    "#include <map>\n",
    "using namespace std;\n",
    "\n",
    "\n",
    "class SummaryRanges {\n",
    "public:\n",
    "    \n",
    "    map<int, vector<int>*> interval_dict;\n",
    "\n",
    "    SummaryRanges() {\n",
    "    }\n",
    "    \n",
    "    void addNum(int val) {\n",
    "        map<int, vector<int>*>::iterator it_pre = interval_dict.find(val-1);\n",
    "        map<int, vector<int>*>::iterator it_back = interval_dict.find(val+1);\n",
    "        if(interval_dict.find(val) != interval_dict.end()){                     // 1.要添加的元素存在\n",
    "            return; // 存在，不重复添加\n",
    "        }\n",
    "\n",
    "        if(it_pre != interval_dict.end() || it_back != interval_dict.end()){    // 2.要添加的元素前后至少存在一个情况\n",
    "            vector<int> *tmp = nullptr;\n",
    "            if(it_pre != interval_dict.end()){      // val-1元素存在    // 连接前面部分\n",
    "                tmp = interval_dict[val-1];\n",
    "                (*tmp)[1] = val;\n",
    "            }\n",
    "            if(it_back != interval_dict.end()){     // val+1元素存在\n",
    "                if(tmp != nullptr){                 // 连接前后\n",
    "                    (*tmp)[1] = (*interval_dict[val+1])[1];\n",
    "                    auto p_back = interval_dict[val+1];\n",
    "                    delete p_back;                  // 释放掉后面部分申请的空间\n",
    "                    for(int i=val+1; i <= (*tmp)[1]; ++i){ // 往后遍历，后面属于区间内的重新指向\n",
    "                        interval_dict[i] = tmp;\n",
    "                    }\n",
    "                }else{                              // 连接后面部分\n",
    "                    tmp = interval_dict[val+1];\n",
    "                    (*tmp)[0] = val;\n",
    "                }\n",
    "            }\n",
    "            interval_dict[val] = tmp;\n",
    "        }else{                                                                  // 3.要添加的元素和前后元素都不存在，分配空间添加\n",
    "            interval_dict[val] = new vector<int>{val, val};\n",
    "        }\n",
    "    }\n",
    "    \n",
    "    vector<vector<int>> getIntervals() {\n",
    "        vector<vector<int>> ans;\n",
    "        int pre = -1;\n",
    "        for(auto d : interval_dict){\n",
    "            if((*d.second)[1] != pre){\n",
    "                ans.push_back(*d.second);\n",
    "                pre = (*d.second)[1];\n",
    "            }\n",
    "        }\n",
    "        return ans;\n",
    "    }\n",
    "};\n",
    "\n",
    "\n",
    "int main(int argc, char const *argv[])\n",
    "{\n",
    "    SummaryRanges* obj = new SummaryRanges();\n",
    "    obj->addNum(1);\n",
    "    obj->getIntervals();\n",
    "    obj->addNum(3);\n",
    "    obj->getIntervals();\n",
    "    obj->addNum(7);\n",
    "    obj->getIntervals();\n",
    "    obj->addNum(2);\n",
    "    obj->getIntervals();\n",
    "    obj->addNum(6);\n",
    "    obj->getIntervals();\n",
    "    obj->addNum(9);\n",
    "    obj->getIntervals();\n",
    "    obj->addNum(10);\n",
    "    obj->getIntervals();\n",
    "    obj->addNum(5);\n",
    "    obj->getIntervals();\n",
    "    obj->addNum(11);\n",
    "    obj->getIntervals();\n",
    "    obj->addNum(8);\n",
    "    obj->getIntervals();\n",
    "\n",
    "    for(auto d : obj->interval_dict){\n",
    "        cout << d.first << \" \" << (*d.second)[0] << \" \" << (*d.second)[1] << endl;\n",
    "    }\n",
    "\n",
    "    return 0;\n",
    "}"
   ]
  },
  {
   "cell_type": "markdown",
   "metadata": {},
   "source": [
    "9/9 cases passed (76 ms)\\\n",
    "Your runtime beats 24.67 % of cpp submissions\\\n",
    "Your memory usage beats 23.89 % of cpp submissions (32.8 MB)"
   ]
  },
  {
   "cell_type": "markdown",
   "metadata": {},
   "source": [
    "addNum() - time: O(n)\\\n",
    "getIntervals() - time: O(n)\n",
    "\n",
    "space: O(n)\n",
    "\n",
    "做复杂的数据结构，插入看似近乎O(1)，考虑到向后的遍历，没有优点。\n",
    "\n",
    "为了简单，在getIntervals中也没有从中获益。如果能在addNum中将结果同时操作，哪么应该会有些提升。"
   ]
  },
  {
   "cell_type": "markdown",
   "metadata": {},
   "source": [
    "# 题解1"
   ]
  },
  {
   "cell_type": "markdown",
   "metadata": {},
   "source": [
    "分五种情况：\\\n",
    "情况一： l_0 <= val <= l_1 \\\n",
    "情况二： r_0 + 1 = val \\\n",
    "情况三： l_1 - 1 = val \\\n",
    "情况四： r_0 + 1 = val 并且 l_1 - 1 = val \\\n",
    "情况五： 上述情况均不满足。"
   ]
  },
  {
   "cell_type": "markdown",
   "metadata": {},
   "source": [
    "题解采用`map<int, int>`作为其数据结构，\\\n",
    "第一个int作为前区间，第二个int作为后区间，\\\n",
    "使用`upper_bound`二分查找map，时间复杂度为O(logn)。\n",
    "\n",
    "然后根据不同情况进行处理。"
   ]
  },
  {
   "cell_type": "markdown",
   "metadata": {},
   "source": [
    "> 相比自己使用的数据结构，更加便捷直观高效。（map居然有标准库二分查找）"
   ]
  },
  {
   "cell_type": "code",
   "execution_count": null,
   "metadata": {},
   "outputs": [],
   "source": [
    "#include<map>\n",
    "#include<vector>\n",
    "\n",
    "using namespace std;\n",
    "\n",
    "class SummaryRanges {\n",
    "private:\n",
    "    map<int, int> intervals;\n",
    "\n",
    "public:\n",
    "    SummaryRanges() {}\n",
    "    \n",
    "    void addNum(int val) {\n",
    "        // 找到 l1 最小的且满足 l1 > val 的区间 interval1 = [l1, r1]\n",
    "        // 如果不存在这样的区间，interval1 为尾迭代器\n",
    "        auto interval1 = intervals.upper_bound(val);\n",
    "        // 找到 l0 最大的且满足 l0 <= val 的区间 interval0 = [l0, r0]\n",
    "        // 在有序集合中，interval0 就是 interval1 的前一个区间\n",
    "        // 如果不存在这样的区间，interval0 为尾迭代器\n",
    "        auto interval0 = (interval1 == intervals.begin() ? intervals.end() : prev(interval1));\n",
    "\n",
    "        if (interval0 != intervals.end() && interval0->first <= val && val <= interval0->second) {\n",
    "            // 情况一\n",
    "            return;\n",
    "        }\n",
    "        else {\n",
    "            bool left_aside = (interval0 != intervals.end() && interval0->second + 1 == val);\n",
    "            bool right_aside = (interval1 != intervals.end() && interval1->first - 1 == val);\n",
    "            if (left_aside && right_aside) {\n",
    "                // 情况四\n",
    "                int left = interval0->first, right = interval1->second;\n",
    "                intervals.erase(interval0);\n",
    "                intervals.erase(interval1);\n",
    "                intervals.emplace(left, right);\n",
    "            }\n",
    "            else if (left_aside) {\n",
    "                // 情况二\n",
    "                ++interval0->second;\n",
    "            }\n",
    "            else if (right_aside) {\n",
    "                // 情况三\n",
    "                int right = interval1->second;\n",
    "                intervals.erase(interval1);\n",
    "                intervals.emplace(val, right);\n",
    "            }\n",
    "            else {\n",
    "                // 情况五\n",
    "                intervals.emplace(val, val);\n",
    "            }\n",
    "        }\n",
    "    }\n",
    "    \n",
    "    vector<vector<int>> getIntervals() {\n",
    "        vector<vector<int>> ans;\n",
    "        for (const auto& [left, right]: intervals) {\n",
    "            ans.push_back({left, right});\n",
    "        }\n",
    "        return ans;\n",
    "    }\n",
    "};"
   ]
  },
  {
   "cell_type": "markdown",
   "metadata": {},
   "source": [
    "9/9 cases passed (52 ms)\\\n",
    "Your runtime beats 64.64 % of cpp submissions\\\n",
    "Your memory usage beats 54.16 % of cpp submissions (32.4 MB)"
   ]
  },
  {
   "cell_type": "markdown",
   "metadata": {},
   "source": [
    "addNum() - time: O(logn)\\\n",
    "getIntervals() - time: O(n)\n",
    "\n",
    "space: O(n)"
   ]
  },
  {
   "cell_type": "markdown",
   "metadata": {},
   "source": [
    "# 题解2"
   ]
  },
  {
   "cell_type": "markdown",
   "metadata": {},
   "source": [
    "二分查找插入 + 扫描取区间\n",
    "\n",
    "实现直观容易，空间开销虽然也是O(n)，但却是稳定的O(n)，而不是题解1的小于O(n)。"
   ]
  }
 ],
 "metadata": {
  "interpreter": {
   "hash": "31f2aee4e71d21fbe5cf8b01ff0e069b9275f58929596ceb00d14d90e3e16cd6"
  },
  "kernelspec": {
   "display_name": "Python 3.8.10 64-bit",
   "name": "python3"
  },
  "language_info": {
   "name": "python",
   "version": "3.8.10"
  },
  "orig_nbformat": 4
 },
 "nbformat": 4,
 "nbformat_minor": 2
}
