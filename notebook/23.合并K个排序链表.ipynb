{
 "cells": [
  {
   "cell_type": "markdown",
   "source": [
    "# 1"
   ],
   "metadata": {}
  },
  {
   "cell_type": "markdown",
   "source": [
    "逐一比较。"
   ],
   "metadata": {}
  },
  {
   "cell_type": "code",
   "execution_count": 1,
   "source": [
    "from typing import List\n",
    "\n",
    "# Definition for singly-linked list.\n",
    "class ListNode:\n",
    "    def __init__(self, x):\n",
    "        self.val = x\n",
    "        self.next = None\n",
    "\n",
    "class Solution:\n",
    "    def mergeKLists(self, lists: List[ListNode]) -> ListNode:\n",
    "\n",
    "        i = 0\n",
    "        while i < len(lists): # 清除空链表\n",
    "            if not lists[i]:\n",
    "                lists.remove(lists[i])\n",
    "                continue\n",
    "            i += 1\n",
    "\n",
    "        if len(lists) == 1:     # 只有一条链表就返回\n",
    "            return lists[0]\n",
    "\n",
    "        hx = lx = ListNode(0)   # 亚结点\n",
    "\n",
    "        while lists:    # lists不为空\n",
    "            index = 0\n",
    "            p_min = lists[0]\n",
    "            for i in range(1, len(lists)):\n",
    "                if lists[i].val < p_min.val:\n",
    "                    p_min = lists[i]    # 记录最小的节点\n",
    "                    index = i           # 记录索引位置\n",
    "\n",
    "            lx.next = lists[index]             # 添加到新链表\n",
    "            lx = lx.next\n",
    "            lists[index] = lists[index].next   # 向后移\n",
    "            while lists[index] and lists[index].val == p_min.val:    # 结点存在的话，遍历完所有相同值的结点\n",
    "                lx.next = lists[index]\n",
    "                lx = lx.next\n",
    "                lists[index] = lists[index].next\n",
    "            if lists[index] == None:    # 移除遍历完的链表\n",
    "                lists.remove(lists[index])\n",
    "            \n",
    "            if len(lists) == 1:         # 如果只有一个链表了,剩下的全部接在后面\n",
    "                lx.next = lists[0]\n",
    "                break\n",
    "        \n",
    "        return hx.next\n",
    "\n",
    "    \n",
    "    \n",
    "def create_list(val_list):\n",
    "    head = li = ListNode(0)\n",
    "    for val in val_list:\n",
    "        li.next = ListNode(val)\n",
    "        li = li.next\n",
    "    li = head\n",
    "    head = head.next\n",
    "    del li\n",
    "    return head\n",
    "\n",
    "if __name__ == \"__main__\":\n",
    "    vals_list = [\n",
    "        ([1, 4, 5], [1, 3, 4], [2, 6]),\n",
    "        ([0,1,2],[-10,-8,-5,-4],[],[],[-3],[-10,-9,-6,-4,-3,-2,-2,-1,2],[-9,-9,-2,-1,0,1],[-9,-4,-3,-2,2,2,3,3,4]),\n",
    "    ]\n",
    "\n",
    "    for vals in vals_list:\n",
    "        lists = []\n",
    "        for val in vals:\n",
    "            lists.append(create_list(val))\n",
    "\n",
    "        result = Solution().mergeKLists(lists)\n",
    "\n",
    "        while result:\n",
    "            print(result.val, '->', end='')\n",
    "            result = result.next\n",
    "        print()"
   ],
   "outputs": [
    {
     "output_type": "stream",
     "name": "stdout",
     "text": [
      "1 ->1 ->2 ->3 ->4 ->4 ->5 ->6 ->\n",
      "-10 ->-10 ->-9 ->-9 ->-9 ->-9 ->-8 ->-6 ->-5 ->-4 ->-4 ->-4 ->-3 ->-3 ->-3 ->-2 ->-2 ->-2 ->-2 ->-1 ->-1 ->0 ->0 ->1 ->1 ->2 ->2 ->2 ->2 ->3 ->3 ->4 ->\n"
     ]
    }
   ],
   "metadata": {}
  },
  {
   "cell_type": "markdown",
   "source": [
    "执行用时 :5388 ms, 在所有 python3 提交中击败了5.28%的用户\n",
    "\n",
    "内存消耗 :17.1 MB, 在所有 python3 提交中击败了47.54%的用户"
   ],
   "metadata": {}
  },
  {
   "cell_type": "markdown",
   "source": [
    "时间复杂度：O(kN)\n",
    "\n",
    "空间复杂度：O(1)\n",
    "\n",
    "k是链表的数量"
   ],
   "metadata": {}
  },
  {
   "cell_type": "markdown",
   "source": [
    "# 题解"
   ],
   "metadata": {}
  },
  {
   "cell_type": "markdown",
   "source": [
    "分治"
   ],
   "metadata": {}
  },
  {
   "cell_type": "code",
   "execution_count": 2,
   "source": [
    "class Solution(object):\n",
    "    def mergeKLists(self, lists: List[ListNode]) -> ListNode:\n",
    "        amount = len(lists)\n",
    "        interval = 1\n",
    "        while interval < amount:\n",
    "            for i in range(0, amount - interval, interval * 2):\n",
    "                lists[i] = self.merge2Lists(lists[i], lists[i + interval])\n",
    "            interval *= 2\n",
    "        return lists[0] if amount > 0 else lists\n",
    "\n",
    "    def merge2Lists(self, l1: ListNode, l2: ListNode) -> ListNode:\n",
    "        head = point = ListNode(0)\n",
    "        while l1 and l2:\n",
    "            if l1.val <= l2.val:\n",
    "                point.next = l1\n",
    "                l1 = l1.next\n",
    "            else:\n",
    "                point.next = l2\n",
    "                l2 = l1\n",
    "                l1 = point.next.next\n",
    "            point = point.next\n",
    "        if not l1:\n",
    "            point.next=l2\n",
    "        else:\n",
    "            point.next=l1\n",
    "        return head.next"
   ],
   "outputs": [],
   "metadata": {}
  },
  {
   "cell_type": "markdown",
   "source": [
    "执行用时 :132 ms, 在所有 python3 提交中击败了84.01%的用户\n",
    "\n",
    "内存消耗 :17.1 MB, 在所有 python3 提交中击败了46.65%的用户"
   ],
   "metadata": {}
  },
  {
   "cell_type": "markdown",
   "source": [
    "时间复杂度：O(Nlogk)\n",
    "\n",
    "空间复杂度：O(1)"
   ],
   "metadata": {}
  },
  {
   "cell_type": "markdown",
   "source": [
    "理解：优化的地方，应该在于逐个比较时，多个链表有重复的比较操作。"
   ],
   "metadata": {}
  },
  {
   "cell_type": "markdown",
   "source": [
    "分治 - 递归"
   ],
   "metadata": {}
  },
  {
   "cell_type": "code",
   "execution_count": 3,
   "source": [
    "class Solution:\n",
    "    def mergeKLists(self, lists: List[ListNode]) -> ListNode:\n",
    "        if not lists:return \n",
    "        n = len(lists)\n",
    "        return self.merge(lists, 0, n-1)\n",
    "    def merge(self, lists, left, right):\n",
    "        if left == right:\n",
    "            return lists[left]\n",
    "        mid = left + (right - left) // 2\n",
    "        l1 = self.merge(lists, left, mid)\n",
    "        l2 = self.merge(lists, mid+1, right)\n",
    "        return self.mergeTwoLists(l1, l2)\n",
    "    def mergeTwoLists(self, l1, l2):\n",
    "        if not l1:return l2\n",
    "        if not l2:return l1\n",
    "        if l1.val < l2.val:\n",
    "            l1.next = self.mergeTwoLists(l1.next, l2)\n",
    "            return l1\n",
    "        else:\n",
    "            l2.next = self.mergeTwoLists(l1, l2.next)\n",
    "            return l2"
   ],
   "outputs": [],
   "metadata": {}
  },
  {
   "cell_type": "markdown",
   "source": [
    "执行用时 :184 ms, 在所有 python3 提交中击败了44.59%的用户\n",
    "\n",
    "内存消耗 :25.9 MB, 在所有 python3 提交中击败了5.22%的用户"
   ],
   "metadata": {}
  },
  {
   "cell_type": "markdown",
   "source": [
    "时间复杂度：O(Nlogk)\n",
    "\n",
    "空间复杂度：O(1)"
   ],
   "metadata": {}
  }
 ],
 "metadata": {
  "kernelspec": {
   "display_name": "Python 3",
   "language": "python",
   "name": "python3"
  },
  "language_info": {
   "codemirror_mode": {
    "name": "ipython",
    "version": 3
   },
   "file_extension": ".py",
   "mimetype": "text/x-python",
   "name": "python",
   "nbconvert_exporter": "python",
   "pygments_lexer": "ipython3",
   "version": "3.6.8"
  }
 },
 "nbformat": 4,
 "nbformat_minor": 2
}