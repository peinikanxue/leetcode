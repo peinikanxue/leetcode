{
 "cells": [
  {
   "cell_type": "markdown",
   "source": [
    "# 1"
   ],
   "metadata": {}
  },
  {
   "cell_type": "markdown",
   "source": [
    "与509题的fib一样，没有区别。"
   ],
   "metadata": {}
  },
  {
   "cell_type": "code",
   "execution_count": 5,
   "source": [
    "class Solution:\n",
    "    def tribonacci(self, n: int) -> int:\n",
    "        if n <= 1:\n",
    "            return n\n",
    "        elif n == 2:\n",
    "            return 1\n",
    "\n",
    "        dp = [0, 1, 1]\n",
    "        ans = 0\n",
    "        for i in range(3, n+1):\n",
    "            ans = dp[0] + dp[1] + dp[2]\n",
    "            dp[0], dp[1], dp[2] = dp[1], dp[2], ans\n",
    "        return ans\n",
    "\n",
    "\n",
    "if __name__ == '__main__':\n",
    "    n_list = [\n",
    "        4,\n",
    "        25,\n",
    "        2,\n",
    "        100,\n",
    "    ]\n",
    "\n",
    "    for n in n_list:\n",
    "        print(Solution().tribonacci(n))"
   ],
   "outputs": [
    {
     "output_type": "stream",
     "name": "stdout",
     "text": [
      "2\n",
      "4\n",
      "1389537\n",
      "98079530178586034536500564\n"
     ]
    }
   ],
   "metadata": {}
  },
  {
   "cell_type": "markdown",
   "source": [
    "39/39 cases passed (36 ms)\\\n",
    "Your runtime beats 33.59 % of python3 submissions\\\n",
    "Your memory usage beats 95.91 % of python3 submissions (14.7 MB)"
   ],
   "metadata": {}
  },
  {
   "cell_type": "markdown",
   "source": [
    "time: O(n)\n",
    "\n",
    "space: O(1)"
   ],
   "metadata": {}
  }
 ],
 "metadata": {
  "orig_nbformat": 4,
  "language_info": {
   "name": "python",
   "version": "3.8.10",
   "mimetype": "text/x-python",
   "codemirror_mode": {
    "name": "ipython",
    "version": 3
   },
   "pygments_lexer": "ipython3",
   "nbconvert_exporter": "python",
   "file_extension": ".py"
  },
  "kernelspec": {
   "name": "python3",
   "display_name": "Python 3.8.10 64-bit"
  },
  "interpreter": {
   "hash": "31f2aee4e71d21fbe5cf8b01ff0e069b9275f58929596ceb00d14d90e3e16cd6"
  }
 },
 "nbformat": 4,
 "nbformat_minor": 2
}