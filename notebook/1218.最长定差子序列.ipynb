{
 "cells": [
  {
   "cell_type": "markdown",
   "metadata": {},
   "source": [
    "# 1"
   ]
  },
  {
   "cell_type": "markdown",
   "metadata": {},
   "source": [
    "暴力"
   ]
  },
  {
   "cell_type": "code",
   "execution_count": null,
   "metadata": {},
   "outputs": [],
   "source": [
    "#include <vector>\n",
    "#include <algorithm>\n",
    "\n",
    "using namespace std;\n",
    "\n",
    "// @lc code=start\n",
    "\n",
    "class Solution {\n",
    "public:\n",
    "    int longestSubsequence(vector<int>& arr, int difference) {\n",
    "        int ans = 1, next_x, count;\n",
    "\n",
    "        for(int i = 0; i < arr.size(); ++i){\n",
    "            count = 1;\n",
    "            next_x = arr[i] + difference;\n",
    "            for(int j = i + 1; j < arr.size(); ++j){\n",
    "                if(arr[j] == next_x){\n",
    "                    next_x = arr[j] + difference;\n",
    "                    ++count;\n",
    "                    ans = max(count, ans);\n",
    "                }\n",
    "            }\n",
    "        }\n",
    "\n",
    "        return ans;\n",
    "    }\n",
    "};\n",
    "// @lc code=end\n",
    "\n",
    "\n",
    "int main(int argc, char const *argv[])\n",
    "{\n",
    "    vector<int> arr {1,5,7,8,5,3,4,2,1};\n",
    "    Solution().longestSubsequence(arr, -2);\n",
    "    return 0;\n",
    "}"
   ]
  },
  {
   "cell_type": "markdown",
   "metadata": {},
   "source": [
    "time: O(nlogn + n)\n",
    "\n",
    "space: O(n)"
   ]
  },
  {
   "cell_type": "markdown",
   "metadata": {},
   "source": [
    "Time Limit Exceeded\\\n",
    "34/39 cases passed (N/A)"
   ]
  },
  {
   "cell_type": "markdown",
   "metadata": {},
   "source": [
    "傻了，顺序/逆序都试了，\\\n",
    "怎么就老盯着单个元素搜寻，\\\n",
    "思维大局观还不够。"
   ]
  },
  {
   "cell_type": "markdown",
   "metadata": {},
   "source": [
    "# 题解"
   ]
  },
  {
   "cell_type": "markdown",
   "metadata": {},
   "source": [
    "扫描每个元素，只关心 (当前元素 - difference) 之前存在就计数。"
   ]
  },
  {
   "cell_type": "code",
   "execution_count": null,
   "metadata": {},
   "outputs": [],
   "source": [
    "class Solution {\n",
    "public:\n",
    "    int longestSubsequence(vector<int>& arr, int difference) {\n",
    "        unordered_map<int, int> dp;\n",
    "        int ans = 1;\n",
    "\n",
    "        for(const int &x : arr){\n",
    "            dp[x] = dp[x - difference] + 1;\n",
    "            ans = max(ans, dp[x]);\n",
    "        }\n",
    "        return ans;\n",
    "    }\n",
    "};"
   ]
  },
  {
   "cell_type": "markdown",
   "metadata": {},
   "source": [
    "time: O(n)\n",
    "\n",
    "space: O(n)"
   ]
  }
 ],
 "metadata": {
  "interpreter": {
   "hash": "31f2aee4e71d21fbe5cf8b01ff0e069b9275f58929596ceb00d14d90e3e16cd6"
  },
  "kernelspec": {
   "display_name": "Python 3.8.10 64-bit",
   "name": "python3"
  },
  "language_info": {
   "name": "python",
   "version": "3.8.10"
  },
  "orig_nbformat": 4
 },
 "nbformat": 4,
 "nbformat_minor": 2
}
