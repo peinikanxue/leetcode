{
 "cells": [
  {
   "cell_type": "markdown",
   "metadata": {},
   "source": [
    "# 1"
   ]
  },
  {
   "cell_type": "markdown",
   "metadata": {},
   "source": [
    "利用了python list，直接del。\n",
    "\n",
    "其它语言需要将后面的元素向前移动。"
   ]
  },
  {
   "cell_type": "code",
   "execution_count": 1,
   "metadata": {},
   "outputs": [],
   "source": [
    "from utils import *"
   ]
  },
  {
   "cell_type": "code",
   "execution_count": 2,
   "metadata": {},
   "outputs": [
    {
     "name": "stdout",
     "output_type": "stream",
     "text": [
      "0 - []\n",
      "2 - [2, 2]\n"
     ]
    }
   ],
   "source": [
    "from utils import *\n",
    "\n",
    "class Solution:\n",
    "    def removeElement(self, nums: List[int], val: int) -> int:\n",
    "        \n",
    "        i = 0\n",
    "\n",
    "        while i < len(nums):\n",
    "            if nums[i] == val:\n",
    "                del nums[i]\n",
    "                continue\n",
    "            i += 1\n",
    "        return len(nums)\n",
    "\n",
    "if __name__ == \"__main__\":\n",
    "    nums_list = [\n",
    "        [],\n",
    "        [3, 2, 2, 3],\n",
    "    ]\n",
    "    val_list = [1, 3]\n",
    "\n",
    "    for nums, val in zip(nums_list, val_list):\n",
    "        print(Solution().removeElement(nums, val), end=' - ')\n",
    "        print(nums)"
   ]
  },
  {
   "cell_type": "markdown",
   "metadata": {},
   "source": [
    "执行用时 :40 ms, 在所有 python3 提交中击败了95.75%的用户\n",
    "\n",
    "内存消耗 :13.7 MB, 在所有 python3 提交中击败了5.37%的用户"
   ]
  },
  {
   "cell_type": "markdown",
   "metadata": {},
   "source": [
    "time:O(n)\n",
    "\n",
    "space:O(1)"
   ]
  }
 ],
 "metadata": {
  "kernelspec": {
   "display_name": "Python 3",
   "language": "python",
   "name": "python3"
  },
  "language_info": {
   "codemirror_mode": {
    "name": "ipython",
    "version": 3
   },
   "file_extension": ".py",
   "mimetype": "text/x-python",
   "name": "python",
   "nbconvert_exporter": "python",
   "pygments_lexer": "ipython3",
   "version": "3.6.8"
  }
 },
 "nbformat": 4,
 "nbformat_minor": 2
}
