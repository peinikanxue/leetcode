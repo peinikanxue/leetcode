{
 "cells": [
  {
   "cell_type": "markdown",
   "source": [
    "## 1"
   ],
   "metadata": {}
  },
  {
   "cell_type": "code",
   "execution_count": 1,
   "source": [
    "from typing import List\n",
    "\n",
    "# Definition for singly-linked list.\n",
    "class ListNode:\n",
    "    def __init__(self, x):\n",
    "        self.val = x\n",
    "        self.next = None"
   ],
   "outputs": [],
   "metadata": {}
  },
  {
   "cell_type": "code",
   "execution_count": 2,
   "source": [
    "class Solution:\n",
    "    def addTwoNumbers(self, l1: ListNode, l2: ListNode) -> ListNode:\n",
    "        l3_head = ListNode(0)\n",
    "        l3 = l3_head\n",
    "        \n",
    "        CF = 0  # 进位标志位\n",
    "        \n",
    "        while True:\n",
    "            if l1 == None and l2 == None and CF == 0:   # 结束条件：两链表都遍历完，并且进位标志为0\n",
    "                return l3_head.next\n",
    "            \n",
    "            # 没有遍历完，建新节点继续\n",
    "            l3.next = ListNode(0)\n",
    "            l3 = l3.next\n",
    "            \n",
    "            l1_val = l1.val if l1 != None else 0\n",
    "            l2_val = l2.val if l2 != None else 0\n",
    "            l3.val = l1_val + l2_val + CF\n",
    "            \n",
    "            # 进位处理\n",
    "            if l3.val >= 10:\n",
    "                CF = 1\n",
    "                l3.val %= 10\n",
    "            else:\n",
    "                CF = 0\n",
    "            \n",
    "            # 遍历链表下一个节点值\n",
    "            l1 = l1.next if l1 != None else None\n",
    "            l2 = l2.next if l2 != None else None"
   ],
   "outputs": [],
   "metadata": {}
  },
  {
   "cell_type": "markdown",
   "source": [
    "执行用时 : 116 ms, 在Add Two Numbers的Python3提交中击败了80.80% 的用户\n",
    "\n",
    "内存消耗 : 12.9 MB, 在Add Two Numbers的Python3提交中击败了99.32% 的用户"
   ],
   "metadata": {}
  },
  {
   "cell_type": "markdown",
   "source": [
    "注意处理进位问题即可"
   ],
   "metadata": {}
  }
 ],
 "metadata": {
  "kernelspec": {
   "display_name": "Python 3",
   "language": "python",
   "name": "python3"
  },
  "language_info": {
   "codemirror_mode": {
    "name": "ipython",
    "version": 3
   },
   "file_extension": ".py",
   "mimetype": "text/x-python",
   "name": "python",
   "nbconvert_exporter": "python",
   "pygments_lexer": "ipython3",
   "version": "3.6.8"
  }
 },
 "nbformat": 4,
 "nbformat_minor": 2
}