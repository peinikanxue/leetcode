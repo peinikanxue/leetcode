{
 "cells": [
  {
   "cell_type": "markdown",
   "source": [
    "# 1"
   ],
   "metadata": {}
  },
  {
   "cell_type": "code",
   "execution_count": 28,
   "source": [
    "from typing import List\n",
    "\n",
    "class Solution:\n",
    "    def permute(self, nums: List[int]) -> List[List[int]]:\n",
    "        self.ans = []\n",
    "\n",
    "        for i, x in enumerate(nums):    # nums循环\n",
    "            if self.ans == []:          # 如果空,插入第1个元素\n",
    "                self.ans.append([x])\n",
    "                continue\n",
    "            # print(self.ans)\n",
    "            while len(self.ans[0]) == i:    # self.ans循环\n",
    "                clone = self.ans.pop(0)\n",
    "                # print(clone)\n",
    "                for j in range(len(clone) + 1): # self.ans中的列表循环,每个空隙都插入当前元素(一共len(clone)+1次)\n",
    "                    new_clone = clone.copy()\n",
    "                    new_clone.insert(j, x)\n",
    "                    self.ans.append(new_clone)\n",
    "                # print(self.ans)\n",
    "        return self.ans\n",
    "\n",
    "\n",
    "if __name__ == '__main__':\n",
    "    nums_list = [\n",
    "        [1,2,3,4],\n",
    "        [0,1],\n",
    "        [1],\n",
    "    ]\n",
    "    for nums in nums_list:\n",
    "        print(Solution().permute(nums))"
   ],
   "outputs": [
    {
     "output_type": "stream",
     "name": "stdout",
     "text": [
      "[[4, 3, 2, 1], [3, 4, 2, 1], [3, 2, 4, 1], [3, 2, 1, 4], [4, 2, 3, 1], [2, 4, 3, 1], [2, 3, 4, 1], [2, 3, 1, 4], [4, 2, 1, 3], [2, 4, 1, 3], [2, 1, 4, 3], [2, 1, 3, 4], [4, 3, 1, 2], [3, 4, 1, 2], [3, 1, 4, 2], [3, 1, 2, 4], [4, 1, 3, 2], [1, 4, 3, 2], [1, 3, 4, 2], [1, 3, 2, 4], [4, 1, 2, 3], [1, 4, 2, 3], [1, 2, 4, 3], [1, 2, 3, 4]]\n",
      "[[1, 0], [0, 1]]\n",
      "[[1]]\n"
     ]
    }
   ],
   "metadata": {}
  },
  {
   "cell_type": "markdown",
   "source": [
    "执行用时 :24 ms, 在所有 Python3 提交中击败了98.59 %的用户\n",
    "\n",
    "内存消耗 :15.1 MB, 在所有 Python3 提交中击败了68.72 %的用户"
   ],
   "metadata": {}
  },
  {
   "cell_type": "markdown",
   "source": [
    "time: O(n!)\n",
    "\n",
    "space: O(n * n!) \n",
    "\n",
    "n!是全排列$A_n^n$"
   ],
   "metadata": {}
  },
  {
   "cell_type": "markdown",
   "source": [
    "> 原本以为这是最差的, 没想到击败这么多人. 看来全排列没什么优化空间."
   ],
   "metadata": {}
  }
 ],
 "metadata": {
  "language_info": {
   "codemirror_mode": {
    "name": "ipython",
    "version": 3
   },
   "file_extension": ".py",
   "mimetype": "text/x-python",
   "name": "python",
   "nbconvert_exporter": "python",
   "pygments_lexer": "ipython3",
   "version": "3.8.10"
  },
  "orig_nbformat": 2,
  "kernelspec": {
   "name": "python3",
   "display_name": "Python 3.8.10 64-bit"
  },
  "interpreter": {
   "hash": "916dbcbb3f70747c44a77c7bcd40155683ae19c65e1c03b4aa3499c5328201f1"
  }
 },
 "nbformat": 4,
 "nbformat_minor": 2
}