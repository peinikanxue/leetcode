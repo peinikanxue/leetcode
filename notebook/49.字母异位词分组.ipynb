{
 "cells": [
  {
   "cell_type": "markdown",
   "source": [
    "# 1"
   ],
   "metadata": {}
  },
  {
   "cell_type": "markdown",
   "source": [
    "统计a-z的每个字母的数量，数量相同为一组。\n",
    "\n",
    "以统计值为key，词为value。\n",
    "\n",
    "python中可以随便处理，最简单还是直接排序后转为字符串作为key。\\\n",
    "其它语言可以考虑将其拼接为字符串作为key。（例如：apple -> a1e1l1p2）"
   ],
   "metadata": {}
  },
  {
   "cell_type": "code",
   "execution_count": 10,
   "source": [
    "from typing import List\n",
    "from collections import defaultdict\n",
    "\n",
    "class Solution:\n",
    "    def groupAnagrams(self, strs: List[str]) -> List[List[str]]:\n",
    "        group = defaultdict(list)\n",
    "\n",
    "        for word in strs:\n",
    "            group[''.join(sorted(list(word)))].append(word)\n",
    "        return [v for k, v in group.items()]\n",
    "\n",
    "\n",
    "if __name__ == '__main__':\n",
    "    strs_list = [\n",
    "        [\"eat\", \"tea\", \"tan\", \"ate\", \"nat\", \"bat\"],\n",
    "        [\"\"],\n",
    "        [\"a\"],\n",
    "    ]\n",
    "\n",
    "    for strs in strs_list:\n",
    "        print(Solution().groupAnagrams(strs))"
   ],
   "outputs": [
    {
     "output_type": "stream",
     "name": "stdout",
     "text": [
      "[['eat', 'tea', 'ate'], ['tan', 'nat'], ['bat']]\n",
      "[['']]\n",
      "[['a']]\n"
     ]
    }
   ],
   "metadata": {}
  },
  {
   "cell_type": "markdown",
   "source": [
    "115/115 cases passed (52 ms)\\\n",
    "Your runtime beats 57.37 % of python3 submissions\\\n",
    "Your memory usage beats 41.8 % of python3 submissions (17.9 MB)"
   ],
   "metadata": {}
  },
  {
   "cell_type": "markdown",
   "source": [
    "time: O(nlogn)\n",
    "\n",
    "space: O(n)\n",
    "\n",
    "> O(nlogn)是由于用到了排序。"
   ],
   "metadata": {}
  }
 ],
 "metadata": {
  "orig_nbformat": 4,
  "language_info": {
   "name": "python",
   "version": "3.8.10",
   "mimetype": "text/x-python",
   "codemirror_mode": {
    "name": "ipython",
    "version": 3
   },
   "pygments_lexer": "ipython3",
   "nbconvert_exporter": "python",
   "file_extension": ".py"
  },
  "kernelspec": {
   "name": "python3",
   "display_name": "Python 3.8.10 64-bit"
  },
  "interpreter": {
   "hash": "31f2aee4e71d21fbe5cf8b01ff0e069b9275f58929596ceb00d14d90e3e16cd6"
  }
 },
 "nbformat": 4,
 "nbformat_minor": 2
}