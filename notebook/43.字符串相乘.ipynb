{
 "cells": [
  {
   "cell_type": "markdown",
   "source": [
    "# 1"
   ],
   "metadata": {}
  },
  {
   "cell_type": "markdown",
   "source": [
    "不允许使用库函数，模拟手算过程。\n",
    "\n",
    "num1为m位，num2为n位，哪么，结果最少为m+n-1位，最多为m+n位。\\\n",
    "\n",
    "例如：num1为4位，num2为3位。 \\\n",
    "第1位的结果依赖，num1的第1位（从右往左）+num2的第1位，简称1-1。\\\n",
    "第2位的结果依赖，num1的第2位+num2的第1位，num1的第1位+num2的第2位，简称1-2、2-1。（还有上一步的进位）\\\n",
    "第3位的结果依赖，1-3，2-2，3-1，进位。\\\n",
    "第4位的结果依赖，1-4，2-3，3-2，进位。 \\\n",
    "第5位的结果依赖，2-4，3-3，进位。 \\\n",
    "第6位的结果依赖，3-4，进位。 \\\n",
    "观察规律。\n",
    "\n",
    "每次只计算一个竖列，得到add的当前位cur，并保存进位CF（提供给高位做累加）。\n",
    "\n",
    "如图所示：\n",
    "\n",
    "![43](../imgs/43.svg)"
   ],
   "metadata": {}
  },
  {
   "cell_type": "code",
   "execution_count": 59,
   "source": [
    "# # 核心\n",
    "# class Solution:\n",
    "#     def multiply(self, num1: str, num2: str) -> str:\n",
    "#         ans = []\n",
    "#         ACC = []\n",
    "#         CF = []\n",
    "\n",
    "#         if num1 == '0' or num2 == '0':      # 边界：乘0\n",
    "#             return '0'\n",
    "\n",
    "#         if len(num1) < len(num2):\n",
    "#             num1, num2 = num2, num1\n",
    "#         num1, num2 = num1[::-1], num2[::-1]         # 逆序，方便从右往左开始\n",
    "\n",
    "#         for c in range(1, len(num1) + len(num2)):   # c从1开始，行才能从0开始，位数不超过两个数位的总和\n",
    "#             ACC.extend(CF)  # 进位加入累加器\n",
    "#             CF.clear()      # 清空上一次的进位\n",
    "#             for r in range(min(c, len(num2))):  # r-c中r不超过len(num2)\n",
    "#                 if c-r-1 < len(num1):           # r-c中c不超过len(num1)\n",
    "#                     print(f'{r+1}-{c-r-1+1}') # debug 索引从1开始，便于查看\n",
    "#             print('---')                      # debug\n",
    "#         print('=======')\n",
    "\n",
    "# if __name__ == '__main__':\n",
    "#     num_list = [\n",
    "#         [\"2\", \"3\"],\n",
    "#         [\"1234\", \"567\"],\n",
    "#         [\"123\", \"456\"],\n",
    "#         [\"9\", \"9\"],\n",
    "#         [\"999\", \"999\"],\n",
    "#         [\"9133\", \"0\"],\n",
    "#     ]\n",
    "#     for num1, num2 in num_list:\n",
    "#         print(Solution().multiply(num1, num2))"
   ],
   "outputs": [],
   "metadata": {}
  },
  {
   "cell_type": "code",
   "execution_count": 56,
   "source": [
    "class Solution:\n",
    "    def multiply(self, num1: str, num2: str) -> str:\n",
    "        ans = []\n",
    "        ACC = []\n",
    "        CF = []\n",
    "\n",
    "        if num1 == '0' or num2 == '0':      # 边界：乘0\n",
    "            return '0'\n",
    "\n",
    "        if len(num1) < len(num2):\n",
    "            num1, num2 = num2, num1\n",
    "        num1, num2 = num1[::-1], num2[::-1]         # 逆序，方便从右往左开始\n",
    "\n",
    "        for c in range(1, len(num1) + len(num2)):   # c从1开始，行才能从0开始，位数不超过两个数位的总和\n",
    "            ACC.extend(CF)  # 进位加入累加器\n",
    "            CF.clear()      # 清空上一次的进位\n",
    "            for r in range(min(c, len(num2))):  # r-c中r不超过len(num2)\n",
    "                if c-r-1 < len(num1):           # r-c中c不超过len(num1)\n",
    "            #         print(f'{r+1}-{c-r-1+1}') # debug 索引从1开始，便于查看\n",
    "                    multi = int(num2[r]) * int(num1[c-r-1])\n",
    "                    cur = multi % 10    # 取个位\n",
    "                    cf = multi // 10    # 取十位\n",
    "                    ACC.append(cur)\n",
    "                    if cf != 0:\n",
    "                        CF.append(cf)\n",
    "                    # print(f'{r}-{c-r-1} v:{num2[r]}*{num1[c-r-1]} m:{multi}')           # debug 索引从0开始\n",
    "            # print('---')                      # debug\n",
    "            add = sum(ACC)\n",
    "            cur = add % 10\n",
    "            cf = add // 10\n",
    "            # print(f'ACC:{ACC}, CF:{CF}, cur:{cur}, ans:{ans}\\n========')      # debug\n",
    "            ACC.clear()\n",
    "            ans.insert(0, str(cur))\n",
    "            if cf != 0:\n",
    "                CF.append(cf)   # 进位\n",
    "        if CF != []:            # 如果进位还剩\n",
    "            # print(f'CF:{CF}')\n",
    "            ans.insert(0, str(sum(CF)))\n",
    "        return ''.join(ans)\n",
    "\n",
    "\n",
    "if __name__ == '__main__':\n",
    "    num_list = [\n",
    "        [\"2\", \"3\"],\n",
    "        [\"1234\", \"567\"],\n",
    "        [\"123\", \"456\"],\n",
    "        [\"9\", \"9\"],\n",
    "        [\"999\", \"999\"],\n",
    "        [\"9133\", \"0\"],\n",
    "    ]\n",
    "    for num1, num2 in num_list:\n",
    "        print(Solution().multiply(num1, num2))"
   ],
   "outputs": [
    {
     "output_type": "stream",
     "name": "stdout",
     "text": [
      "6\n",
      "699678\n",
      "56088\n",
      "81\n",
      "998001\n",
      "0000\n"
     ]
    }
   ],
   "metadata": {}
  },
  {
   "cell_type": "markdown",
   "source": [
    "执行用时 :200 ms, 在所有 Python3 提交中击败了25.73 %的用户\n",
    "\n",
    "内存消耗 :14.9 MB, 在所有 Python3 提交中击败了87.68 %的用户"
   ],
   "metadata": {}
  },
  {
   "cell_type": "markdown",
   "source": [
    "time: O(n * m)  n,m分别是num1和num2字符串长度\n",
    "\n",
    "space: O(min(n, m))"
   ],
   "metadata": {}
  },
  {
   "cell_type": "markdown",
   "source": [
    "> 查看题解，发现与方法二比较相似。"
   ],
   "metadata": {}
  }
 ],
 "metadata": {
  "language_info": {
   "codemirror_mode": {
    "name": "ipython",
    "version": 3
   },
   "file_extension": ".py",
   "mimetype": "text/x-python",
   "name": "python",
   "nbconvert_exporter": "python",
   "pygments_lexer": "ipython3",
   "version": "3.8.10"
  },
  "orig_nbformat": 2,
  "kernelspec": {
   "name": "python3",
   "display_name": "Python 3.8.10 64-bit"
  },
  "interpreter": {
   "hash": "916dbcbb3f70747c44a77c7bcd40155683ae19c65e1c03b4aa3499c5328201f1"
  }
 },
 "nbformat": 4,
 "nbformat_minor": 2
}