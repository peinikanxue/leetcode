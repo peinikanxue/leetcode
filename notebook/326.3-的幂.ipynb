{
 "cells": [
  {
   "cell_type": "markdown",
   "source": [
    "# 1"
   ],
   "metadata": {}
  },
  {
   "cell_type": "markdown",
   "source": [
    "附加要求：不使用循环或者递归。\n",
    "\n",
    "查字典？这不更差吗？"
   ],
   "metadata": {}
  },
  {
   "cell_type": "code",
   "execution_count": 6,
   "source": [
    "class Solution:\n",
    "    def isPowerOfThree(self, n: int) -> bool:\n",
    "        # dic = {3**i for i in range(0, 20)}\n",
    "        # return n in dic\n",
    "        if n == 1:\n",
    "            return True\n",
    "        elif n < 1:\n",
    "            return False\n",
    "        return n % 3 == 0 and self.isPowerOfThree(n // 3)\n",
    "\n",
    "\n",
    "if __name__ == '__main__':\n",
    "    n_list = [\n",
    "        27,\n",
    "        0,\n",
    "        9,\n",
    "        45\n",
    "    ]\n",
    "\n",
    "    for n in n_list:\n",
    "        print(Solution().isPowerOfThree(n))"
   ],
   "outputs": [
    {
     "output_type": "stream",
     "name": "stdout",
     "text": [
      "True\n",
      "False\n",
      "True\n",
      "False\n"
     ]
    }
   ],
   "metadata": {}
  },
  {
   "cell_type": "markdown",
   "source": [
    "21038/21038 cases passed (80 ms)\\\n",
    "Your runtime beats 57 % of python3 submissions\\\n",
    "Your memory usage beats 75.74 % of python3 submissions (14.9 MB)"
   ],
   "metadata": {}
  },
  {
   "cell_type": "markdown",
   "source": [
    "time: O($log_3n$)\n",
    "\n",
    "space: O(1)"
   ],
   "metadata": {}
  },
  {
   "cell_type": "markdown",
   "source": [
    "# 题解"
   ],
   "metadata": {}
  },
  {
   "cell_type": "markdown",
   "source": [
    "在题目给定的32位有符号整数的范围内，最大的3的幂为3^19=1162261467。我们只需要判断n是否是3^19的约数即可。\n",
    "\n",
    "> 还能通过计算约数，没反应过来，不过还是简单题。"
   ],
   "metadata": {}
  },
  {
   "cell_type": "code",
   "execution_count": 7,
   "source": [
    "class Solution:\n",
    "    def isPowerOfThree(self, n: int) -> bool:\n",
    "        return n > 0 and 1162261467 % n == 0"
   ],
   "outputs": [],
   "metadata": {}
  }
 ],
 "metadata": {
  "orig_nbformat": 4,
  "language_info": {
   "name": "python",
   "version": "3.8.10",
   "mimetype": "text/x-python",
   "codemirror_mode": {
    "name": "ipython",
    "version": 3
   },
   "pygments_lexer": "ipython3",
   "nbconvert_exporter": "python",
   "file_extension": ".py"
  },
  "kernelspec": {
   "name": "python3",
   "display_name": "Python 3.8.10 64-bit"
  },
  "interpreter": {
   "hash": "31f2aee4e71d21fbe5cf8b01ff0e069b9275f58929596ceb00d14d90e3e16cd6"
  }
 },
 "nbformat": 4,
 "nbformat_minor": 2
}