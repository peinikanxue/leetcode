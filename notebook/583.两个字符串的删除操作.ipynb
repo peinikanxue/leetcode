{
 "cells": [
  {
   "cell_type": "markdown",
   "source": [
    "# 1"
   ],
   "metadata": {}
  },
  {
   "cell_type": "markdown",
   "source": [
    "记录字符位置，查看规律。\n",
    "\n",
    "(实际上，固定了word1的顺序，可以简化任务)\n",
    "\n",
    "![](../imgs/583-1.svg)\n",
    "\n",
    "可以发现，题转变为了之前的300题，找最长递增子序列。\n",
    "\n",
    "使用贪心算法，可以将时间复杂度将为nlogn。\n",
    "\n",
    "![](../imgs/583-2.svg)"
   ],
   "metadata": {}
  },
  {
   "cell_type": "code",
   "execution_count": 16,
   "source": [
    "import bisect\n",
    "\n",
    "class Solution:\n",
    "    def minDistance(self, word1: str, word2: str) -> int:\n",
    "        # 1.转换为求最长递增子序列\n",
    "        pos_list = []\n",
    "        for x in word1:\n",
    "            if x in word2:\n",
    "                pos_list.append(word2.index(x))\n",
    "        print(pos_list)\n",
    "        \n",
    "        # 2.贪心算法求最长递增子序列\n",
    "        tails = []\n",
    "        for pos in pos_list:\n",
    "            idx = bisect.bisect_left(tails, pos)\n",
    "            if idx == len(tails):   # 大于最后一个值，插入\n",
    "                tails.append(pos)\n",
    "            else:                   # 小于其中的值，替换\n",
    "                if pos < tails[idx]:\n",
    "                    tails[idx] = pos\n",
    "        max_subsequence_len = len(tails)\n",
    "        return len(word1) - max_subsequence_len + len(word2) - max_subsequence_len\n",
    "\n",
    "        \n",
    "if __name__ == '__main__':\n",
    "    word1_word2 = [\n",
    "        [\"sea\", \"eat\"],\n",
    "        [\"aesxat\", \"eats\"],\n",
    "        [\"aesxateats\", \"eats\"],\n",
    "        [\"\", \"\"],\n",
    "        [\"a\", \"\"],\n",
    "        [\"\", \"a\"],\n",
    "        [\"kitten\", \"sitting\"],  # 不能处理两个同样的字母\n",
    "    ]\n",
    "\n",
    "    for word1, word2 in word1_word2:\n",
    "        print(Solution().minDistance(word1, word2))"
   ],
   "outputs": [
    {
     "output_type": "stream",
     "name": "stdout",
     "text": [
      "[0, 1]\n",
      "2\n",
      "[1, 0, 3, 1, 2]\n",
      "4\n",
      "[1, 0, 3, 1, 2, 0, 1, 2, 3]\n",
      "6\n",
      "[]\n",
      "0\n",
      "[]\n",
      "1\n",
      "[]\n",
      "1\n",
      "[1, 2, 2, 5]\n",
      "7\n"
     ]
    }
   ],
   "metadata": {}
  },
  {
   "cell_type": "markdown",
   "source": [
    "529/1306 cases passed (N/A)"
   ],
   "metadata": {}
  },
  {
   "cell_type": "markdown",
   "source": [
    "不能处理两个以上的相同字母，\\\n",
    "使用字典记录是否使用过。\n",
    "\n",
    "例如sitting可以记录为：{'s':[1], 'i':[2,5], 't':[3,4], 'n':[6], 'g':[7]}\n",
    "\n",
    "使用完，如果多于1个元素就丢弃。"
   ],
   "metadata": {}
  },
  {
   "cell_type": "code",
   "execution_count": 13,
   "source": [
    "import bisect\n",
    "from collections import defaultdict\n",
    "\n",
    "class Solution:\n",
    "    def minDistance(self, word1: str, word2: str) -> int:\n",
    "        pos_list = []\n",
    "        pos2_dict = defaultdict(list)\n",
    "        for i, x in enumerate(word2):\n",
    "            pos2_dict[x].append(i)\n",
    "        for x in word1:\n",
    "            if x in word2:\n",
    "                if len(pos2_dict[x]) > 1:       # 多于1个元素，就弹出该值\n",
    "                    tmp = pos2_dict[x].pop(0)\n",
    "                else:\n",
    "                    tmp = pos2_dict[x][0]\n",
    "                pos_list.append(tmp)\n",
    "        # print(pos_list, pos2_dict)\n",
    "        \n",
    "        tails = []\n",
    "        for pos in pos_list:\n",
    "            idx = bisect.bisect_left(tails, pos)\n",
    "            if idx == len(tails):   # 大于最后一个值，插入\n",
    "                tails.append(pos)\n",
    "            else:                   # 小于其中的值，替换\n",
    "                if pos < tails[idx]:\n",
    "                    tails[idx] = pos\n",
    "        max_subsequence_len = len(tails)\n",
    "        return len(word1) - max_subsequence_len + len(word2) - max_subsequence_len\n",
    "\n",
    "        \n",
    "if __name__ == '__main__':\n",
    "    word1_word2 = [\n",
    "        [\"sea\", \"eat\"],\n",
    "        [\"aesxat\", \"eats\"],\n",
    "        [\"aesxateats\", \"eats\"],\n",
    "        [\"\", \"\"],\n",
    "        [\"a\", \"\"],\n",
    "        [\"\", \"a\"],\n",
    "        [\"kitten\", \"sitting\"],\n",
    "        [\"algorithm\", \"altruistic\"],    # 最后的't'，应该取第二次出现的\n",
    "    ]\n",
    "\n",
    "    for word1, word2 in word1_word2:\n",
    "        print(Solution().minDistance(word1, word2))"
   ],
   "outputs": [
    {
     "output_type": "stream",
     "name": "stdout",
     "text": [
      "[0, 1] defaultdict(<class 'list'>, {'e': [0], 'a': [1], 't': [2]})\n",
      "2\n",
      "[1, 0, 3, 1, 2] defaultdict(<class 'list'>, {'e': [0], 'a': [1], 't': [2], 's': [3]})\n",
      "4\n",
      "[1, 0, 3, 1, 2, 0, 1, 2, 3] defaultdict(<class 'list'>, {'e': [0], 'a': [1], 't': [2], 's': [3]})\n",
      "6\n",
      "[] defaultdict(<class 'list'>, {})\n",
      "0\n",
      "[] defaultdict(<class 'list'>, {})\n",
      "1\n",
      "[] defaultdict(<class 'list'>, {'a': [0]})\n",
      "1\n",
      "[1, 2, 3, 5] defaultdict(<class 'list'>, {'s': [0], 'i': [4], 't': [3], 'n': [5], 'g': [6]})\n",
      "5\n",
      "[0, 1, 3, 5, 2] defaultdict(<class 'list'>, {'a': [0], 'l': [1], 't': [7], 'r': [3], 'u': [4], 'i': [8], 's': [6], 'c': [9]})\n",
      "11\n"
     ]
    }
   ],
   "metadata": {}
  },
  {
   "cell_type": "markdown",
   "source": [
    "899/1306 cases passed (N/A)"
   ],
   "metadata": {}
  },
  {
   "cell_type": "markdown",
   "source": [
    "不管是[\"kitten\", \"sitting\"]还是[\"algorithm\", \"altruistic\"]，\\\n",
    "分别特殊处理的话，绝不是一个好的算法。"
   ],
   "metadata": {}
  },
  {
   "cell_type": "markdown",
   "source": [
    "加一思考，\\\n",
    "只要不影响最长子序列，其实将我们并不在乎，步骤1生成的序列长度，\\\n",
    "为了包含足够的信息，可将从word2找到的索引都包含进来，\\\n",
    "又为了不影响子序列，可以逆序添加。如下图所示。\n",
    "\n",
    "![](../imgs/583-3.svg)"
   ],
   "metadata": {}
  },
  {
   "cell_type": "code",
   "execution_count": 24,
   "source": [
    "import bisect\n",
    "from collections import defaultdict\n",
    "\n",
    "class Solution:\n",
    "    def minDistance(self, word1: str, word2: str) -> int:\n",
    "        pos_list = []\n",
    "        pos2_dict = defaultdict(list)\n",
    "        for i, x in enumerate(word2):\n",
    "            pos2_dict[x].append(i)\n",
    "        for x in word1:\n",
    "            if x in word2:\n",
    "                pos_list.extend(pos2_dict[x][::-1])\n",
    "        # print(pos_list, pos2_dict)\n",
    "        \n",
    "        tails = []\n",
    "        for pos in pos_list:\n",
    "            idx = bisect.bisect_left(tails, pos)\n",
    "            if idx == len(tails):   # 大于最后一个值，插入\n",
    "                tails.append(pos)\n",
    "            else:                   # 小于其中的值，替换\n",
    "                if pos < tails[idx]:\n",
    "                    tails[idx] = pos\n",
    "        max_subsequence_len = len(tails)\n",
    "        return len(word1) - max_subsequence_len + len(word2) - max_subsequence_len\n",
    "\n",
    "        \n",
    "if __name__ == '__main__':\n",
    "    word1_word2 = [\n",
    "        [\"sea\", \"eat\"],\n",
    "        [\"aesxat\", \"eats\"],\n",
    "        [\"aesxateats\", \"eats\"],\n",
    "        [\"\", \"\"],\n",
    "        [\"a\", \"\"],\n",
    "        [\"\", \"a\"],\n",
    "        [\"kitten\", \"sitting\"],\n",
    "        [\"algorithm\", \"altruistic\"],\n",
    "    ]\n",
    "\n",
    "    for word1, word2 in word1_word2:\n",
    "        print(Solution().minDistance(word1, word2))"
   ],
   "outputs": [
    {
     "output_type": "stream",
     "name": "stdout",
     "text": [
      "[0, 1] defaultdict(<class 'list'>, {'e': [0], 'a': [1], 't': [2]})\n",
      "2\n",
      "[1, 0, 3, 1, 2] defaultdict(<class 'list'>, {'e': [0], 'a': [1], 't': [2], 's': [3]})\n",
      "4\n",
      "[1, 0, 3, 1, 2, 0, 1, 2, 3] defaultdict(<class 'list'>, {'e': [0], 'a': [1], 't': [2], 's': [3]})\n",
      "6\n",
      "[] defaultdict(<class 'list'>, {})\n",
      "0\n",
      "[] defaultdict(<class 'list'>, {})\n",
      "1\n",
      "[] defaultdict(<class 'list'>, {'a': [0]})\n",
      "1\n",
      "[4, 1, 3, 2, 3, 2, 5] defaultdict(<class 'list'>, {'s': [0], 'i': [1, 4], 't': [2, 3], 'n': [5], 'g': [6]})\n",
      "5\n",
      "[0, 1, 3, 8, 5, 7, 2] defaultdict(<class 'list'>, {'a': [0], 'l': [1], 't': [2, 7], 'r': [3], 'u': [4], 'i': [5, 8], 's': [6], 'c': [9]})\n",
      "9\n"
     ]
    }
   ],
   "metadata": {}
  },
  {
   "cell_type": "markdown",
   "source": [
    "1306/1306 cases passed (40 ms)\\\n",
    "Your runtime beats 99.92 % of python3 submissions\\\n",
    "Your memory usage beats 94.62 % of python3 submissions (15.1 MB)"
   ],
   "metadata": {}
  },
  {
   "cell_type": "markdown",
   "source": [
    "time: O(n)\n",
    "\n",
    "space: O(n)"
   ],
   "metadata": {}
  },
  {
   "cell_type": "markdown",
   "source": [
    "握🍀，第一次在时间和空间上都开销这么小。"
   ],
   "metadata": {}
  }
 ],
 "metadata": {
  "orig_nbformat": 4,
  "language_info": {
   "name": "python",
   "version": "3.8.10",
   "mimetype": "text/x-python",
   "codemirror_mode": {
    "name": "ipython",
    "version": 3
   },
   "pygments_lexer": "ipython3",
   "nbconvert_exporter": "python",
   "file_extension": ".py"
  },
  "kernelspec": {
   "name": "python3",
   "display_name": "Python 3.8.10 64-bit"
  },
  "interpreter": {
   "hash": "31f2aee4e71d21fbe5cf8b01ff0e069b9275f58929596ceb00d14d90e3e16cd6"
  }
 },
 "nbformat": 4,
 "nbformat_minor": 2
}