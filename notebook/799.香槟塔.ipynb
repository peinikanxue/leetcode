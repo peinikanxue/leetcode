{
 "cells": [
  {
   "cell_type": "markdown",
   "metadata": {},
   "source": [
    "# 题解"
   ]
  },
  {
   "cell_type": "markdown",
   "metadata": {},
   "source": [
    "模拟\n",
    "\n",
    "不是1杯1杯倒，计算。\n",
    "\n",
    "而是，以全局的角度，全杯倒下，大于1就流入下面一层。 就可不用考虑哪杯流到哪？速度怎么样？这些复杂的问题。"
   ]
  },
  {
   "cell_type": "code",
   "execution_count": null,
   "metadata": {},
   "outputs": [],
   "source": [
    "class Solution:\n",
    "    def champagneTower(self, poured: int, query_row: int, query_glass: int) -> float:\n",
    "        T = [[0] * k for k in range(1, 102)]\n",
    "        T[0][0] = poured\n",
    "\n",
    "        for row in range(query_row + 1):\n",
    "            for col in range(row + 1):\n",
    "                half = (T[row][col] - 1.0) / 2\n",
    "                if half > 0:\n",
    "                    T[row+1][col] += half\n",
    "                    T[row+1][col+1] += half\n",
    "        return min(1, T[query_row][query_glass])"
   ]
  },
  {
   "cell_type": "markdown",
   "metadata": {},
   "source": [
    "time: O(R^2)\n",
    "\n",
    "space: O(R^2) (R：查询的杯子的层数)"
   ]
  }
 ],
 "metadata": {
  "language_info": {
   "codemirror_mode": {
    "name": "ipython",
    "version": 3
   },
   "file_extension": ".py",
   "mimetype": "text/x-python",
   "name": "python",
   "nbconvert_exporter": "python",
   "pygments_lexer": "ipython3",
   "version": 3
  },
  "orig_nbformat": 2
 },
 "nbformat": 4,
 "nbformat_minor": 2
}