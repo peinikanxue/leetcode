{
 "cells": [
  {
   "cell_type": "markdown",
   "source": [
    "# 1"
   ],
   "metadata": {}
  },
  {
   "cell_type": "code",
   "execution_count": 6,
   "source": [
    "from typing import List\n",
    "\n",
    "class Solution:\n",
    "    def search(self, nums: List[int], target: int) -> int:\n",
    "        l, r = 0, len(nums)-1\n",
    "        while l <= r:\n",
    "            m = (l + r) // 2\n",
    "            if nums[m] > target:\n",
    "                r = m - 1\n",
    "            elif nums[m] < target:\n",
    "                l = m + 1\n",
    "            else:\n",
    "                return m\n",
    "        return -1\n",
    "\n",
    "\n",
    "if __name__ == '__main__':\n",
    "    print(Solution().search([-1,0,3,5,9,12], 9))"
   ],
   "outputs": [
    {
     "output_type": "stream",
     "name": "stdout",
     "text": [
      "4\n"
     ]
    }
   ],
   "metadata": {}
  }
 ],
 "metadata": {
  "language_info": {
   "codemirror_mode": {
    "name": "ipython",
    "version": 3
   },
   "file_extension": ".py",
   "mimetype": "text/x-python",
   "name": "python",
   "nbconvert_exporter": "python",
   "pygments_lexer": "ipython3",
   "version": "3.8.10"
  },
  "orig_nbformat": 2,
  "kernelspec": {
   "name": "python3",
   "display_name": "Python 3.8.10 64-bit"
  },
  "interpreter": {
   "hash": "916dbcbb3f70747c44a77c7bcd40155683ae19c65e1c03b4aa3499c5328201f1"
  }
 },
 "nbformat": 4,
 "nbformat_minor": 2
}