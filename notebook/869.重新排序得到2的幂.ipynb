{
 "nbformat": 4,
 "nbformat_minor": 2,
 "metadata": {
  "language_info": {
   "name": "python",
   "codemirror_mode": {
    "name": "ipython",
    "version": 3
   },
   "version": "3.6.9-final"
  },
  "orig_nbformat": 2,
  "file_extension": ".py",
  "mimetype": "text/x-python",
  "name": "python",
  "npconvert_exporter": "python",
  "pygments_lexer": "ipython3",
  "version": 3,
  "kernelspec": {
   "name": "python36964bite598b62db32c485f95dbcc3befe555ab",
   "display_name": "Python 3.6.9 64-bit"
  }
 },
 "cells": [
  {
   "cell_type": "markdown",
   "metadata": {},
   "source": [
    "# 1\n",
    "查找表方法，\n",
    "\n",
    "将2^0 ~ 2^30之间的数使用表存放，对N一位一位的判断是否在表中。"
   ]
  },
  {
   "cell_type": "code",
   "execution_count": 1,
   "metadata": {},
   "outputs": [
    {
     "name": "stdout",
     "output_type": "stream",
     "text": "True\nFalse\nTrue\nFalse\nTrue\n"
    }
   ],
   "source": [
    "class Solution:\n",
    "    def reorderedPowerOf2(self, N: int) -> bool:\n",
    "\n",
    "        # 获取1~10^10 -> 2^0~2^30的查找表\n",
    "        def make_dict():\n",
    "            l1 = [x for x in range(30)]\n",
    "            l1 = list(map(lambda x: 2**x, l1))\n",
    "            d = {}\n",
    "\n",
    "            for ll1 in l1:\n",
    "                count = 0\n",
    "                l2 = []\n",
    "                while ll1 > 0:\n",
    "                    l2.append(ll1 % 10)\n",
    "                    ll1 //= 10\n",
    "                    count += 1\n",
    "                if count not in d:\n",
    "                    d[count] = []\n",
    "                d[count].append(l2)\n",
    "            return d\n",
    "        \n",
    "        my_dict = make_dict()\n",
    "        \n",
    "        # 计数\n",
    "        M = N\n",
    "        count = 0\n",
    "        while M > 0:\n",
    "            count += 1\n",
    "            M //= 10\n",
    "        # 查表\n",
    "        if count in my_dict:\n",
    "            table = my_dict[count]\n",
    "        else:\n",
    "            # print('不存在表')\n",
    "            return False\n",
    "        # 有多个表\n",
    "        def query(table, N):\n",
    "            while N > 0:\n",
    "                val = N % 10\n",
    "                N //= 10\n",
    "                if val in table:\n",
    "                    table.remove(val)\n",
    "                else:       # 不成立\n",
    "                    return False\n",
    "            return True     # 全部遍历完，成立\n",
    "        if isinstance(table[0], list):\n",
    "            for t in table:\n",
    "                if query(t, N):\n",
    "                    return True\n",
    "        # 只有一个表\n",
    "        else:\n",
    "            if query(table, N):\n",
    "                return True\n",
    "        # 全部表查完，没有满足的\n",
    "        return False\n",
    "\n",
    "\n",
    "\n",
    "if __name__ == \"__main__\":\n",
    "    N_list = [1, 10, 16, 24, 46]\n",
    "\n",
    "    for N in N_list:\n",
    "        print(Solution().reorderedPowerOf2(N))"
   ]
  },
  {
   "cell_type": "markdown",
   "metadata": {},
   "source": [
    "执行用时 :68 ms, 在所有 Python3 提交中击败了6.82%的用户\n",
    "\n",
    "内存消耗 :13.4 MB, 在所有 Python3 提交中击败了16.13%的用户"
   ]
  },
  {
   "cell_type": "markdown",
   "metadata": {},
   "source": [
    "time:(n)\n",
    "\n",
    "space:(n)"
   ]
  }
 ]
}