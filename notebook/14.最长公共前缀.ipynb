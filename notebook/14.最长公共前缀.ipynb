{
 "cells": [
  {
   "cell_type": "markdown",
   "metadata": {},
   "source": [
    "## 1"
   ]
  },
  {
   "cell_type": "markdown",
   "metadata": {},
   "source": [
    "只需要判断前缀，直接比较。"
   ]
  },
  {
   "cell_type": "code",
   "execution_count": 1,
   "metadata": {},
   "outputs": [
    {
     "name": "stdout",
     "output_type": "stream",
     "text": [
      "fl\n",
      "\n"
     ]
    }
   ],
   "source": [
    "from typing import List\n",
    "\n",
    "class Solution:\n",
    "    def longestCommonPrefix(self, strs: List[str]) -> str:\n",
    "        \n",
    "        if strs == [] or '' in strs:\n",
    "            return ''\n",
    "        \n",
    "        i = 0\n",
    "        prefix = ''\n",
    "\n",
    "        while True:\n",
    "            c = strs[0][i] if i < len(strs[0]) else ''  # 如果字符长度够，获取当前字符\n",
    "            for s in strs:\n",
    "                if i < len(s) and s[i] != c:    # 如果当前字符长度够\n",
    "                    return prefix\n",
    "                elif i >= len(s):\n",
    "                    return prefix\n",
    "                    \n",
    "            prefix += c\n",
    "            i += 1\n",
    "        \n",
    "\n",
    "\n",
    "if __name__ == \"__main__\":\n",
    "    strs_list = [\n",
    "        [\"flower\",\"flow\",\"flight\"],\n",
    "        [\"dog\",\"racecar\",\"car\"],\n",
    "    ]\n",
    "    for strs in strs_list:\n",
    "        print(Solution().longestCommonPrefix(strs))"
   ]
  },
  {
   "cell_type": "markdown",
   "metadata": {},
   "source": [
    "执行用时 :40 ms, 在所有 python3 提交中击败了96.51%的用户\n",
    "\n",
    "内存消耗 :13.7 MB, 在所有 python3 提交中击败了5.53%的用户"
   ]
  },
  {
   "cell_type": "markdown",
   "metadata": {},
   "source": [
    "时间复杂度：O(n)\n",
    "\n",
    "空间复杂度：O(1)"
   ]
  }
 ],
 "metadata": {
  "kernelspec": {
   "display_name": "Python 3",
   "language": "python",
   "name": "python3"
  },
  "language_info": {
   "codemirror_mode": {
    "name": "ipython",
    "version": 3
   },
   "file_extension": ".py",
   "mimetype": "text/x-python",
   "name": "python",
   "nbconvert_exporter": "python",
   "pygments_lexer": "ipython3",
   "version": "3.6.8"
  }
 },
 "nbformat": 4,
 "nbformat_minor": 2
}
