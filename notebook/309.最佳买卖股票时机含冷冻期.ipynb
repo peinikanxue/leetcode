{
 "cells": [
  {
   "cell_type": "markdown",
   "metadata": {},
   "source": [
    "# 1✘"
   ]
  },
  {
   "cell_type": "markdown",
   "metadata": {},
   "source": [
    "简单的视为类似198题打家劫舍，是加上前一次；还是保持上一次的状态。\n",
    "\n",
    "![](../imgs/309.svg)\n",
    "\n",
    "这方法是有问题的，无法保持相跨较远的买卖。"
   ]
  },
  {
   "cell_type": "code",
   "execution_count": null,
   "metadata": {},
   "outputs": [],
   "source": [
    "class Solution {\n",
    "public:\n",
    "    int maxProfit(vector<int>& prices) {\n",
    "        vector<int> dp(prices.size()+3);\n",
    "        int start = prices[0], inc_val = 0;\n",
    "        for(int i=1; i<prices.size(); ++i){\n",
    "            if(prices[i] > prices[i-1])\n",
    "                inc_val = prices[i] - start;\n",
    "            else{\n",
    "                start = prices[i];\n",
    "                inc_val = 0;\n",
    "            }\n",
    "            dp[i+3] = max(dp[i+2], dp[i]+inc_val);\n",
    "        }\n",
    "\n",
    "        return dp.back();\n",
    "    }\n",
    "};"
   ]
  },
  {
   "cell_type": "markdown",
   "metadata": {},
   "source": [
    "# 题解"
   ]
  },
  {
   "cell_type": "markdown",
   "metadata": {},
   "source": [
    "![](../imgs/309-ans.svg)"
   ]
  },
  {
   "cell_type": "markdown",
   "metadata": {},
   "source": [
    "比许多动态规划题，需要考虑的转移状态更多。\n",
    "\n",
    "[评论区的题解，比官方题解更易理解](https://leetcode-cn.com/problems/best-time-to-buy-and-sell-stock-with-cooldown/solution/fei-zhuang-tai-ji-de-dpjiang-jie-chao-ji-tong-su-y/)"
   ]
  },
  {
   "cell_type": "code",
   "execution_count": null,
   "metadata": {},
   "outputs": [],
   "source": [
    "#include <iostream>\n",
    "#include <vector>\n",
    "\n",
    "using namespace std;\n",
    "\n",
    "// @lc code=start\n",
    "\n",
    "class Solution\n",
    "{\n",
    "public:\n",
    "    int maxProfit(vector<int> &prices)\n",
    "    {\n",
    "\n",
    "        vector<vector<int>> dp(prices.size(), vector<int>(4));\n",
    "        dp[0][0] = 0;               // 不持有股票，之前就不持有，继续保持；\n",
    "        dp[0][1] = 0;               // 不持有股票，由于卖出去了（冷冻）；\n",
    "        dp[0][2] = -1 * prices[0];  // 持有股票，今天买入的；\n",
    "        dp[0][3] = -1 * prices[0];  // 持有股票，非今天买入的，继续保持；\n",
    "        for (int i = 1; i < prices.size(); i++)\n",
    "        {\n",
    "            dp[i][0] = max(dp[i - 1][0], dp[i - 1][1]);                 // 前一天不持有股票的两种情况的最大值\n",
    "            dp[i][1] = max(dp[i - 1][2], dp[i - 1][3]) + prices[i];     // 今天卖出股票，前一天持有股票的最大值+prices[i]\n",
    "            dp[i][2] = dp[i - 1][0] - prices[i];                        // 今天买入股票，前一天一定没有卖出股票\n",
    "            dp[i][3] = max(dp[i - 1][2], dp[i - 1][3]);                 // 今天没买股票，却持有股票，是前一天继承来的,有两种情况\n",
    "        }\n",
    "\n",
    "        return max(dp[prices.size() - 1][0], dp[prices.size() - 1][1]);\n",
    "    }\n",
    "};\n",
    "// @lc code=end\n",
    "\n",
    "int main(int argc, char const *argv[])\n",
    "{\n",
    "    vector<int> prices{\n",
    "        // 7, 1, 4, 2, 5, 2, 4, 5, 1, 6, 4\n",
    "        6, 1, 3, 2, 4, 7};\n",
    "    cout << Solution().maxProfit(prices) << endl;\n",
    "    return 0;\n",
    "}"
   ]
  },
  {
   "cell_type": "markdown",
   "metadata": {},
   "source": [
    "time: O(n)\n",
    "\n",
    "space: O(n) （可以轻易优化到O(1)）"
   ]
  }
 ],
 "metadata": {
  "interpreter": {
   "hash": "31f2aee4e71d21fbe5cf8b01ff0e069b9275f58929596ceb00d14d90e3e16cd6"
  },
  "kernelspec": {
   "display_name": "Python 3.8.10 64-bit",
   "name": "python3"
  },
  "language_info": {
   "name": "python",
   "version": "3.8.10"
  },
  "orig_nbformat": 4
 },
 "nbformat": 4,
 "nbformat_minor": 2
}
