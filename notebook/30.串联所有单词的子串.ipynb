{
 "cells": [
  {
   "cell_type": "markdown",
   "metadata": {},
   "source": [
    "# 1"
   ]
  },
  {
   "cell_type": "markdown",
   "metadata": {},
   "source": [
    "全排列，kmp查找。\n",
    "\n",
    "（超时）"
   ]
  },
  {
   "cell_type": "code",
   "execution_count": 1,
   "metadata": {},
   "outputs": [],
   "source": [
    "from utils import *"
   ]
  },
  {
   "cell_type": "code",
   "execution_count": 2,
   "metadata": {
    "scrolled": true
   },
   "outputs": [
    {
     "name": "stdout",
     "output_type": "stream",
     "text": [
      "[0, 9, 12, 25]\n",
      "[8]\n",
      "[0, 3, 6]\n",
      "[]\n",
      "[]\n",
      "[]\n",
      "[0, 1]\n",
      "[0]\n",
      "[0, 1, 2]\n"
     ]
    }
   ],
   "source": [
    "# 超时\n",
    "import itertools\n",
    "\n",
    "class Solution:\n",
    "    def findSubstring(self, s: str, words: List[str]) -> List[int]:\n",
    "\n",
    "        if not s:\n",
    "            return []\n",
    "        \n",
    "        result = []\n",
    "\n",
    "        for w in itertools.permutations(words):\n",
    "            result.extend(self.kmp(s, ''.join(w)))\n",
    "\n",
    "        return list(set(result))\n",
    "    \n",
    "    def kmp(self, s: str, pattern: str):\n",
    "\n",
    "        if not s and not pattern or not pattern: # 边界：都为空字符串，或模式串为空\n",
    "            return []\n",
    "        \n",
    "        next_list = self.get_next(pattern)\n",
    "        pos = []\n",
    "\n",
    "        i = j = 0\n",
    "        while j < len(pattern) and len(s) - i >= len(pattern) - j:\n",
    "            if s[i] == pattern[j]:\n",
    "                i += 1\n",
    "                j += 1\n",
    "                if j == len(pattern):\n",
    "                    pos.append(i - j)\n",
    "                    i = i - len(pattern) + 1\n",
    "                    j = 0\n",
    "            else:\n",
    "                j = next_list[j]\n",
    "                if j == -1:\n",
    "                    i += 1\n",
    "                    j = 0\n",
    "                if len(s) - i < len(pattern) - j: # 剩余子串不够匹配\n",
    "                    break\n",
    "        return pos\n",
    "\n",
    "\n",
    "    def get_next(self, s):\n",
    "        i = 0\n",
    "        j = -1\n",
    "        next_list = [-1]\n",
    "\n",
    "        while i < len(s) - 1:\n",
    "            if j == -1 or s[i] == s[j]:\n",
    "                i += 1\n",
    "                j += 1\n",
    "                next_list.append(j)\n",
    "            else:\n",
    "                j = next_list[j]\n",
    "        return next_list\n",
    "\n",
    "if __name__ == \"__main__\":\n",
    "    s_list = [\n",
    "        'barfoothefoobarfoomanfooabarfoo',\n",
    "        \"wordgoodgoodgoodbestword\",\n",
    "        \"foobarfoobar\",\n",
    "        \"\",\n",
    "        \"abc\",\n",
    "        \"\",\n",
    "        \"aaa\",\n",
    "        \"a\",\n",
    "        \"aaaaaaaa\",\n",
    "    ]\n",
    "    words_list = [\n",
    "        [\"foo\",\"bar\"],\n",
    "        [\"word\",\"good\",\"best\",\"good\"],\n",
    "        [\"foo\",\"bar\"],\n",
    "        [],\n",
    "        [],\n",
    "        [\"a\"],\n",
    "        ['a', 'a'],\n",
    "        [\"a\"],\n",
    "        ['aa', 'aa', 'aa'],\n",
    "    ]\n",
    "    \n",
    "    for s, words in zip(s_list, words_list):\n",
    "        print(Solution().findSubstring(s, words))"
   ]
  },
  {
   "cell_type": "markdown",
   "metadata": {},
   "source": [
    "time:O(m*n*k!)\n",
    "\n",
    "space:O(n*k!)\n",
    "\n",
    "(m:words总长度, n:s长度, k:words数量)"
   ]
  },
  {
   "cell_type": "markdown",
   "metadata": {},
   "source": [
    "# 2"
   ]
  },
  {
   "cell_type": "markdown",
   "metadata": {},
   "source": [
    "先将所有词的数量存入字典，\n",
    "\n",
    "再kmp找到每个词的所有位置存入字典，\n",
    "\n",
    "遍历字符串，以前2个词典做判断，找到满足匹配。\n",
    "\n",
    "（超时）"
   ]
  },
  {
   "cell_type": "code",
   "execution_count": 3,
   "metadata": {
    "scrolled": true
   },
   "outputs": [
    {
     "name": "stdout",
     "output_type": "stream",
     "text": [
      "[0, 9, 12, 25]\n",
      "[8]\n",
      "[0, 3, 6]\n",
      "[]\n",
      "[]\n",
      "[]\n",
      "[0, 1]\n",
      "[0]\n",
      "[0, 1, 2]\n"
     ]
    }
   ],
   "source": [
    "# 超时\n",
    "from collections import Counter\n",
    "\n",
    "class Solution:\n",
    "    def findSubstring(self, s: str, words: List[str]) -> List[int]:\n",
    "\n",
    "        if not s or not words:   # 边界：s,words无字符\n",
    "            return []\n",
    "        \n",
    "        result = []\n",
    "        pos_dict = {}\n",
    "        words_dict = Counter(words)\n",
    "\n",
    "        for word in words:\n",
    "            for index in self.kmp(s, word):\n",
    "                pos_dict[index] = word\n",
    "        \n",
    "        for key in sorted(pos_dict):\n",
    "            i = key\n",
    "            w_dict = words_dict.copy()\n",
    "            while i <= len(s):\n",
    "                if i in pos_dict and pos_dict[i] in w_dict:   # 位置在字典中，并且位置对应的字符串存在可用词典中\n",
    "                    w_dict[pos_dict[i]] -= 1    # 可用词的词典计数-1\n",
    "                    if w_dict[pos_dict[i]] == 0:  # 可用词的词典计数为0，删除\n",
    "                        del w_dict[pos_dict[i]]\n",
    "                else:\n",
    "                    if not w_dict:      # 满足匹配(后一个子字符串属于字典)\n",
    "                        result.append(key)\n",
    "                    break\n",
    "                \n",
    "                i = i + len(pos_dict[i])\n",
    "\n",
    "        return result\n",
    "\n",
    "    \n",
    "    def kmp(self, s: str, pattern: str):\n",
    "\n",
    "        if not s and not pattern or not pattern: # 边界：都为空字符串，或模式串为空\n",
    "            return []\n",
    "        \n",
    "        next_list = self.get_next(pattern)\n",
    "        pos = []\n",
    "\n",
    "        i = j = 0\n",
    "        while j < len(pattern) and len(s) - i >= len(pattern) - j:\n",
    "            if s[i] == pattern[j]:\n",
    "                i += 1\n",
    "                j += 1\n",
    "                if j == len(pattern):\n",
    "                    pos.append(i - j)\n",
    "                    i = i - len(pattern) + 1\n",
    "                    j = 0\n",
    "            else:\n",
    "                j = next_list[j]\n",
    "                if j == -1:\n",
    "                    i += 1\n",
    "                    j = 0\n",
    "                if len(s) - i < len(pattern) - j: # 剩余子串不够匹配\n",
    "                    break\n",
    "        return pos\n",
    "\n",
    "\n",
    "    def get_next(self, s):\n",
    "        i = 0\n",
    "        j = -1\n",
    "        next_list = [-1]\n",
    "\n",
    "        while i < len(s) - 1:\n",
    "            if j == -1 or s[i] == s[j]:\n",
    "                i += 1\n",
    "                j += 1\n",
    "                next_list.append(j)\n",
    "            else:\n",
    "                j = next_list[j]\n",
    "        return next_list\n",
    "\n",
    "\n",
    "if __name__ == \"__main__\":\n",
    "    s_list = [\n",
    "        'barfoothefoobarfoomanfooabarfoo',\n",
    "        \"wordgoodgoodgoodbestword\",\n",
    "        \"foobarfoobar\",\n",
    "        \"\",\n",
    "        \"abc\",\n",
    "        \"\",\n",
    "        \"aaa\",\n",
    "        \"a\",\n",
    "        \"aaaaaaaa\",\n",
    "    ]\n",
    "    words_list = [\n",
    "        [\"foo\",\"bar\"],\n",
    "        [\"word\",\"good\",\"best\",\"good\"],\n",
    "        [\"foo\",\"bar\"],\n",
    "        [],\n",
    "        [],\n",
    "        [\"a\"],\n",
    "        ['a', 'a'],\n",
    "        [\"a\"],\n",
    "        ['aa', 'aa', 'aa'],\n",
    "    ]\n",
    "    \n",
    "    for s, words in zip(s_list, words_list):\n",
    "        print(Solution().findSubstring(s, words))"
   ]
  },
  {
   "cell_type": "markdown",
   "metadata": {},
   "source": [
    "time:O(kmn)\n",
    "\n",
    "space:O(m)\n",
    "\n",
    "(m:words总长度, n:s长度, k:words数量)"
   ]
  },
  {
   "cell_type": "markdown",
   "metadata": {},
   "source": [
    "# 3"
   ]
  },
  {
   "cell_type": "markdown",
   "metadata": {},
   "source": [
    "审题后，发现每个词的长度一样。\n",
    "\n",
    "采用滑动窗口的方式，并将每个词放入字典中，方便查找是否存在。"
   ]
  },
  {
   "cell_type": "code",
   "execution_count": 4,
   "metadata": {},
   "outputs": [
    {
     "name": "stdout",
     "output_type": "stream",
     "text": [
      "[0, 9, 12, 26]\n",
      "[8]\n",
      "[0, 3, 6]\n",
      "[]\n",
      "[]\n",
      "[]\n",
      "[0, 1]\n",
      "[0]\n",
      "[0, 1, 2]\n",
      "[13]\n"
     ]
    }
   ],
   "source": [
    "from collections import Counter\n",
    "\n",
    "class Solution:\n",
    "    def findSubstring(self, s: str, words: List[str]) -> List[int]:\n",
    "\n",
    "        if not s or not words:  # 边界：空s或空words\n",
    "            return []\n",
    "        \n",
    "        result = []\n",
    "        used_words_dict = Counter(words)\n",
    "\n",
    "        i = 0                               # 索引\n",
    "        len_word = len(words[0])            # 一个词的长度\n",
    "        len_words = len_word * len(words)   # 所有词的总长度\n",
    "        count = 0                           # 计数已用了几个词\n",
    "        uwd = used_words_dict.copy()        # 复制的表\n",
    "\n",
    "        while i < len(s):\n",
    "            word = s[i:(i+len_word)]\n",
    "            i += len_word\n",
    "\n",
    "            if word in uwd:\n",
    "                uwd[word] -= 1\n",
    "                count += 1\n",
    "                if uwd[word] == 0:\n",
    "                    del uwd[word]\n",
    "                if not uwd:                 # 表中单词已使用完\n",
    "                    result.append(i - len_words)\n",
    "            else:\n",
    "                uwd = used_words_dict.copy()\n",
    "                i = i - (count + 1) * len_word + 1\n",
    "                count = 0\n",
    "                if i > len(s) - len_words:\n",
    "                    break\n",
    "        \n",
    "        return result\n",
    "\n",
    "\n",
    "if __name__ == \"__main__\":\n",
    "    s_list = [\n",
    "        'barfoothefoobarfoomanfooabbarfoo',\n",
    "        \"wordgoodgoodgoodbestword\",\n",
    "        \"foobarfoobar\",\n",
    "        \"\",\n",
    "        \"abc\",\n",
    "        \"\",\n",
    "        \"aaa\",\n",
    "        \"a\",\n",
    "        \"aaaaaaaa\",\n",
    "        \"lingmindraboofooowingdingbarrwingmonkeypoundcake\",\n",
    "    ]\n",
    "\n",
    "    words_list = [\n",
    "        [\"foo\",\"bar\"],\n",
    "        [\"word\",\"good\",\"best\",\"good\"],\n",
    "        [\"foo\",\"bar\"],\n",
    "        [],\n",
    "        [],\n",
    "        [\"a\"],\n",
    "        ['a', 'a'],\n",
    "        [\"a\"],\n",
    "        ['aa', 'aa', 'aa'],\n",
    "        [\"fooo\",\"barr\",\"wing\",\"ding\",\"wing\"],\n",
    "    ]\n",
    "    \n",
    "    for s, words in zip(s_list, words_list):\n",
    "        print(Solution().findSubstring(s, words))"
   ]
  },
  {
   "cell_type": "markdown",
   "metadata": {},
   "source": [
    "执行用时 :876 ms, 在所有 python3 提交中击败了48.67%的用户\n",
    "\n",
    "内存消耗 :13.9 MB, 在所有 python3 提交中击败了5.30%的用户"
   ]
  },
  {
   "cell_type": "markdown",
   "metadata": {},
   "source": [
    "time:O(mn)\n",
    "\n",
    "space:O(m)\n",
    "\n",
    "(m:words总长度, n:s长度)"
   ]
  }
 ],
 "metadata": {
  "kernelspec": {
   "display_name": "Python 3",
   "language": "python",
   "name": "python3"
  },
  "language_info": {
   "codemirror_mode": {
    "name": "ipython",
    "version": 3
   },
   "file_extension": ".py",
   "mimetype": "text/x-python",
   "name": "python",
   "nbconvert_exporter": "python",
   "pygments_lexer": "ipython3",
   "version": "3.6.8"
  }
 },
 "nbformat": 4,
 "nbformat_minor": 2
}
