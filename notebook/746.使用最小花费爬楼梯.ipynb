{
 "cells": [
  {
   "cell_type": "markdown",
   "source": [
    "# 1"
   ],
   "metadata": {}
  },
  {
   "cell_type": "markdown",
   "source": [
    "动态规划\n",
    "\n",
    "到达当前楼梯的代价为dp[i] = min(dp[i-1], dp[i-2])；\\\n",
    "由于可以选择从第0个或第1个开始，所以dp可从第2个开始；\\\n",
    "本题的状态转移可以直接在原数组上进行。"
   ],
   "metadata": {}
  },
  {
   "cell_type": "code",
   "execution_count": 3,
   "source": [
    "from typing import List\n",
    "\n",
    "class Solution:\n",
    "    def minCostClimbingStairs(self, cost: List[int]) -> int:\n",
    "        if len(cost) < 3:\n",
    "            return min(cost)\n",
    "        \n",
    "        cost.append(0)  # 哨\n",
    "        for i in range(2, len(cost)):\n",
    "            cost[i] += min(cost[i-1], cost[i-2])\n",
    "        return cost[-1]\n",
    "\n",
    "\n",
    "if __name__ == '__main__':\n",
    "    cost_list = [\n",
    "        [10, 15, 20],\n",
    "        [1, 100, 1, 1, 1, 100, 1, 1, 100, 1],\n",
    "    ]\n",
    "\n",
    "    for cost in cost_list:\n",
    "        print(Solution().minCostClimbingStairs(cost))"
   ],
   "outputs": [
    {
     "output_type": "stream",
     "name": "stdout",
     "text": [
      "15\n",
      "6\n"
     ]
    }
   ],
   "metadata": {}
  },
  {
   "cell_type": "markdown",
   "source": [
    "283/283 cases passed (44 ms)\\\n",
    "Your runtime beats 29.33 % of python3 submissions\\\n",
    "Your memory usage beats 29.01 % of python3 submissions (15.1 MB)"
   ],
   "metadata": {}
  },
  {
   "cell_type": "markdown",
   "source": [
    "time: O(n)\n",
    "\n",
    "space: O(1)"
   ],
   "metadata": {}
  }
 ],
 "metadata": {
  "orig_nbformat": 4,
  "language_info": {
   "name": "python",
   "version": "3.8.10",
   "mimetype": "text/x-python",
   "codemirror_mode": {
    "name": "ipython",
    "version": 3
   },
   "pygments_lexer": "ipython3",
   "nbconvert_exporter": "python",
   "file_extension": ".py"
  },
  "kernelspec": {
   "name": "python3",
   "display_name": "Python 3.8.10 64-bit"
  },
  "interpreter": {
   "hash": "31f2aee4e71d21fbe5cf8b01ff0e069b9275f58929596ceb00d14d90e3e16cd6"
  }
 },
 "nbformat": 4,
 "nbformat_minor": 2
}