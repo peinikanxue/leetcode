{
 "cells": [
  {
   "cell_type": "markdown",
   "metadata": {},
   "source": [
    "# 1"
   ]
  },
  {
   "cell_type": "markdown",
   "metadata": {},
   "source": [
    "以前面`三数之和`作参考改写。"
   ]
  },
  {
   "cell_type": "code",
   "execution_count": 1,
   "metadata": {},
   "outputs": [
    {
     "name": "stdout",
     "output_type": "stream",
     "text": [
      "[[-2, -1, 1, 2], [-2, 0, 0, 2], [-1, 0, 0, 1]]\n",
      "[[0, 0, 0, 0]]\n",
      "[]\n",
      "[[-4, 0, 1, 2], [-1, -1, 0, 1]]\n",
      "[[-3, -2, 2, 3], [-3, -1, 1, 3], [-3, 0, 0, 3], [-3, 0, 1, 2], [-2, -1, 0, 3], [-2, -1, 1, 2], [-2, 0, 0, 2], [-1, 0, 0, 1]]\n",
      "[[0, 4, 4, 4], [2, 2, 4, 4]]\n"
     ]
    }
   ],
   "source": [
    "from typing import List\n",
    "\n",
    "class Solution:\n",
    "    def fourSum(self, nums: List[int], target: int) -> List[List[int]]:\n",
    "\n",
    "        # 特殊值\n",
    "        if nums == [] or len(nums) < 4:\n",
    "            return []\n",
    "\n",
    "        nums.sort() # 排序便于回溯\n",
    "\n",
    "        L = 1\n",
    "        R = len(nums) - 1\n",
    "        tmp_sum = 0\n",
    "        result_list = []\n",
    "\n",
    "\n",
    "        for i in range(len(nums)-3):\n",
    "            \n",
    "            if i > 0 and nums[i] == nums[i-1]:  # 去重\n",
    "                continue\n",
    "\n",
    "            for j in range(i+1, len(nums)-2):\n",
    "                if j > 1 and j-i > 1 and nums[j] == nums[j-1]:  # 去重\n",
    "                    continue\n",
    "\n",
    "                L = j + 1\n",
    "                R = len(nums) - 1\n",
    "                while L < R:\n",
    "                    tmp_sum = nums[i] + nums[j] + nums[L] + nums[R] - target\n",
    "                    if tmp_sum == 0:\n",
    "                        result = [nums[i], nums[j], nums[L], nums[R]]\n",
    "                        result.sort()\n",
    "                        result_list.append(result)\n",
    "\n",
    "                        # 去重\n",
    "                        while(L<R and nums[L] == nums[L+1]):\n",
    "                            L += 1\n",
    "                        while(L<R and nums[R] == nums[R-1]):\n",
    "                            R -= 1\n",
    "                        L += 1\n",
    "                        R -= 1\n",
    "                    elif tmp_sum < 0:\n",
    "                        L += 1\n",
    "                    else:\n",
    "                        R -= 1\n",
    "        \n",
    "        return result_list\n",
    "\n",
    "\n",
    "if __name__ == \"__main__\":\n",
    "    test_list = [\n",
    "        ([1, 0, -1, 0, -2, 2], 0),\n",
    "        ([0,0,0,0], 0),\n",
    "        ([0,0,0,0], 1),\n",
    "        ([-1,0,1,2,-1,-4], -1),\n",
    "        ([-3,-2,-1,0,0,1,2,3], 0),\n",
    "        ([0,4,-5,2,-2,4,2,-1,4], 12),\n",
    "    ]\n",
    "    for test in test_list:\n",
    "        print(Solution().fourSum(test[0], test[1]))"
   ]
  },
  {
   "cell_type": "markdown",
   "metadata": {},
   "source": [
    "执行用时 :1160 ms, 在所有 python3 提交中击败了49.36%的用户\n",
    "\n",
    "内存消耗 :13.9 MB, 在所有 python3 提交中击败了11.17%的用户"
   ]
  },
  {
   "cell_type": "markdown",
   "metadata": {},
   "source": [
    "时间复杂度：O(n^3)\n",
    "\n",
    "空间复杂度：O(1)"
   ]
  }
 ],
 "metadata": {
  "kernelspec": {
   "display_name": "Python 3",
   "language": "python",
   "name": "python3"
  },
  "language_info": {
   "codemirror_mode": {
    "name": "ipython",
    "version": 3
   },
   "file_extension": ".py",
   "mimetype": "text/x-python",
   "name": "python",
   "nbconvert_exporter": "python",
   "pygments_lexer": "ipython3",
   "version": "3.6.8"
  }
 },
 "nbformat": 4,
 "nbformat_minor": 2
}
