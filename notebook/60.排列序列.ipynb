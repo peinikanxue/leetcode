{
 "cells": [
  {
   "cell_type": "markdown",
   "metadata": {},
   "source": [
    "# 1"
   ]
  },
  {
   "cell_type": "markdown",
   "metadata": {},
   "source": [
    "可计算每一位是第几个数字，根据排列组合的可能性。\n",
    "\n",
    "![](../imgs/60.svg)"
   ]
  },
  {
   "cell_type": "code",
   "execution_count": null,
   "metadata": {},
   "outputs": [],
   "source": [
    "#include <iostream>\n",
    "#include <vector>\n",
    "#include <string>\n",
    "\n",
    "using namespace std;\n",
    "\n",
    "// @lc code=start\n",
    "class Solution {\n",
    "public:\n",
    "    string getPermutation(int n, int k) {\n",
    "        string ans;\n",
    "        vector<string> seq;\n",
    "        for(int i=1; i<=n; i++){\n",
    "            seq.push_back(to_string(i));\n",
    "        }\n",
    "\n",
    "        for(int i=1; i<n; i++){\n",
    "            int num_prob = factoral(n-i);\n",
    "            int idx = k / num_prob;\n",
    "            if(k != 0 && k % num_prob == 0)\n",
    "                --idx;\n",
    "            k = num_prob * idx >= k ? 0 : k - num_prob * idx;\n",
    "            ans += seq[idx];\n",
    "            seq.erase(seq.begin()+idx);\n",
    "        }\n",
    "        ans += seq[0];\n",
    "\n",
    "        return ans;\n",
    "    }\n",
    "\n",
    "    int factoral(int i){\n",
    "        return i < 2 ? 1 : i * factoral(i-1);\n",
    "    }\n",
    "};\n",
    "// @lc code=end\n",
    "\n",
    "int main(int argc, char const *argv[])\n",
    "{\n",
    "    Solution solution;\n",
    "    cout << solution.getPermutation(4, 9) << endl;;\n",
    "    return 0;\n",
    "}"
   ]
  },
  {
   "cell_type": "markdown",
   "metadata": {},
   "source": [
    "200/200 cases passed (0 ms)\\\n",
    "Your runtime beats 100 % of cpp submissions\\\n",
    "Your memory usage beats 7.3 % of cpp submissions (6.1 MB)"
   ]
  },
  {
   "cell_type": "markdown",
   "metadata": {},
   "source": [
    "time: O(n)\n",
    "\n",
    "space: O(n)"
   ]
  }
 ],
 "metadata": {
  "interpreter": {
   "hash": "31f2aee4e71d21fbe5cf8b01ff0e069b9275f58929596ceb00d14d90e3e16cd6"
  },
  "kernelspec": {
   "display_name": "Python 3.8.10 64-bit",
   "name": "python3"
  },
  "language_info": {
   "name": "python",
   "version": "3.8.10"
  },
  "orig_nbformat": 4
 },
 "nbformat": 4,
 "nbformat_minor": 2
}
