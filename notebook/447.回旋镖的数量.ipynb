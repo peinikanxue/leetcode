{
 "cells": [
  {
   "cell_type": "markdown",
   "source": [
    "# 1"
   ],
   "metadata": {}
  },
  {
   "cell_type": "markdown",
   "source": [
    "先计算出两两之间的距离，存在字典中，方便查找相同距离的。"
   ],
   "metadata": {}
  },
  {
   "cell_type": "code",
   "execution_count": 15,
   "source": [
    "from typing import List\n",
    "from collections import defaultdict\n",
    "from math import factorial\n",
    "\n",
    "class Solution:\n",
    "    def numberOfBoomerangs(self, points: List[List[int]]) -> int:\n",
    "        if len(points) < 3:\n",
    "            return 0\n",
    "        \n",
    "        ans = 0\n",
    "        for i, (x1, y1) in enumerate(points):\n",
    "            dis_dict = defaultdict(list)\n",
    "            for j, (x2, y2) in enumerate(points):\n",
    "                if i == j:\n",
    "                    continue\n",
    "                dis = ((x2-x1)**2 + (y2-y1)**2)**(1/2)\n",
    "                dis_dict[dis].append([x2, y2])\n",
    "            for _, v in dis_dict.items():   # 集中计算排列数\n",
    "                if len(v) > 1:\n",
    "                    ans += factorial(len(v)) // factorial(len(v) - 2)\n",
    "            # print(dis_dict)\n",
    "        return ans\n",
    "\n",
    "\n",
    "if __name__ == '__main__':\n",
    "    points_list = [\n",
    "        [[0,0],[1,0],[2,0]],\n",
    "        [[1,1],[2,2],[3,3]],\n",
    "        [[1,1]],\n",
    "        [[0,0],[1,0],[-1,0],[0,1],[0,-1]],\n",
    "    ]\n",
    "    for points in points_list:\n",
    "        print(Solution().numberOfBoomerangs(points))"
   ],
   "outputs": [
    {
     "output_type": "stream",
     "name": "stdout",
     "text": [
      "2\n",
      "2\n",
      "0\n",
      "20\n"
     ]
    }
   ],
   "metadata": {}
  },
  {
   "cell_type": "markdown",
   "source": [
    "执行用时 :1640 ms, 在所有 Python3 提交中击败了8.09%的用户\n",
    "\n",
    "内存消耗 :15.2 MB, 在所有 Python3 提交中击败了33.81%的用户"
   ],
   "metadata": {}
  },
  {
   "cell_type": "markdown",
   "source": [
    "time: O(n^2)\n",
    "\n",
    "space: O(n)"
   ],
   "metadata": {}
  }
 ],
 "metadata": {
  "orig_nbformat": 4,
  "language_info": {
   "name": "python",
   "version": "3.8.10",
   "mimetype": "text/x-python",
   "codemirror_mode": {
    "name": "ipython",
    "version": 3
   },
   "pygments_lexer": "ipython3",
   "nbconvert_exporter": "python",
   "file_extension": ".py"
  },
  "kernelspec": {
   "name": "python3",
   "display_name": "Python 3.8.10 64-bit"
  },
  "interpreter": {
   "hash": "31f2aee4e71d21fbe5cf8b01ff0e069b9275f58929596ceb00d14d90e3e16cd6"
  }
 },
 "nbformat": 4,
 "nbformat_minor": 2
}