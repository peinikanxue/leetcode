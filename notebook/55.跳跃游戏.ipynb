{
 "cells": [
  {
   "cell_type": "markdown",
   "source": [
    "# 1"
   ],
   "metadata": {}
  },
  {
   "cell_type": "markdown",
   "source": [
    "贪心法\n",
    "\n",
    "相比45题，难度骤降，明显的贪心法，\\\n",
    "只需要记录每个点能到的最远距离。"
   ],
   "metadata": {}
  },
  {
   "cell_type": "code",
   "execution_count": 4,
   "source": [
    "from typing import List\n",
    "\n",
    "class Solution:\n",
    "    def canJump(self, nums: List[int]) -> bool:\n",
    "        max_pos = 0\n",
    "        for i, x in enumerate(nums):\n",
    "            max_pos = max(i+x, max_pos)\n",
    "            # print(max_pos, end=' ')\n",
    "            if max_pos >= len(nums)-1:\n",
    "                return True\n",
    "            elif max_pos == i and x == 0:\n",
    "                return False\n",
    "        return False\n",
    "\n",
    "\n",
    "if __name__ == '__main__':\n",
    "    nums_list = [\n",
    "        [2,3,1,1,4],\n",
    "        [3,2,1,0,4],\n",
    "        [1],\n",
    "        [0],\n",
    "    ]\n",
    "\n",
    "    for nums in nums_list:\n",
    "        print(Solution().canJump(nums))"
   ],
   "outputs": [
    {
     "output_type": "stream",
     "name": "stdout",
     "text": [
      "True\n",
      "False\n",
      "True\n",
      "True\n"
     ]
    }
   ],
   "metadata": {}
  },
  {
   "cell_type": "markdown",
   "source": [
    "166/166 cases passed (116 ms)\\\n",
    "Your runtime beats 24.32 % of python3 submissions\\\n",
    "Your memory usage beats 63.01 % of python3 submissions (15.4 MB)"
   ],
   "metadata": {}
  },
  {
   "cell_type": "markdown",
   "source": [
    "time: O(n)\n",
    "\n",
    "space: O(1)"
   ],
   "metadata": {}
  }
 ],
 "metadata": {
  "orig_nbformat": 4,
  "language_info": {
   "name": "python",
   "version": "3.8.10",
   "mimetype": "text/x-python",
   "codemirror_mode": {
    "name": "ipython",
    "version": 3
   },
   "pygments_lexer": "ipython3",
   "nbconvert_exporter": "python",
   "file_extension": ".py"
  },
  "kernelspec": {
   "name": "python3",
   "display_name": "Python 3.8.10 64-bit"
  },
  "interpreter": {
   "hash": "31f2aee4e71d21fbe5cf8b01ff0e069b9275f58929596ceb00d14d90e3e16cd6"
  }
 },
 "nbformat": 4,
 "nbformat_minor": 2
}