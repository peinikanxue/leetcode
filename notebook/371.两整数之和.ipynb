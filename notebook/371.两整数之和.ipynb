{
 "cells": [
  {
   "cell_type": "markdown",
   "source": [
    "# 1 ✘"
   ],
   "metadata": {}
  },
  {
   "cell_type": "markdown",
   "source": [
    "限制：不使用加法运算符\n",
    "\n",
    "实际上，就是想让自己模拟累加器，\\\n",
    "利用位运算。"
   ],
   "metadata": {}
  },
  {
   "cell_type": "code",
   "execution_count": 15,
   "source": [
    "class Solution:\n",
    "    def getSum(self, a: int, b: int) -> int:\n",
    "        def cal_x(A, B, C):\n",
    "            return A^B^C\n",
    "        def cal_c(A, B, C):\n",
    "            return ((A^B)&C) | (A&B)\n",
    "\n",
    "        ans = 0\n",
    "        C = 0\n",
    "        # print(f'A B C X ans')\n",
    "        for i in range(len(bin(max(a, b)))-2):\n",
    "            A = 1 if a & 1 << i else 0\n",
    "            B = 1 if b & 1 << i else 0\n",
    "            X = cal_x(A, B, C)\n",
    "            C = cal_c(A, B, C)\n",
    "            ans |= X << i\n",
    "            # print(A, B, C, X, ans)\n",
    "        ans |= C << (i+1)\n",
    "        return ans\n",
    "        \n",
    "\n",
    "if __name__ == '__main__':\n",
    "    a_b = [\n",
    "        [1, 2],\n",
    "        [2, 3],\n",
    "        [6, 11],\n",
    "        [11, 6],\n",
    "        [0, 0],\n",
    "        [0, 1],\n",
    "        [1, 0],\n",
    "        [-1, 1],\n",
    "        [-2, 1],\n",
    "        [-2, -1],\n",
    "    ]\n",
    "\n",
    "    for a, b in a_b:\n",
    "        print(Solution().getSum(a, b))"
   ],
   "outputs": [
    {
     "output_type": "stream",
     "name": "stdout",
     "text": [
      "3\n",
      "5\n",
      "17\n",
      "17\n",
      "0\n",
      "1\n",
      "1\n",
      "2\n",
      "1\n",
      "5\n"
     ]
    }
   ],
   "metadata": {}
  },
  {
   "cell_type": "code",
   "execution_count": 23,
   "source": [
    "class Solution:\n",
    "    def getSum(self, a: int, b: int) -> int:\n",
    "        def cal_x(A, B, C):\n",
    "            return A^B^C\n",
    "        def cal_c(A, B, C):\n",
    "            return ((A^B)&C) | (A&B)\n",
    "\n",
    "        ans = 0\n",
    "        C = 0\n",
    "        # print(f'A B C X ans')\n",
    "        for i in range(len(bin(max(a, b)))-2):\n",
    "            A = 1 if a & 1 << i else 0\n",
    "            B = 1 if b & 1 << i else 0\n",
    "            X = cal_x(A, B, C)\n",
    "            C = cal_c(A, B, C)\n",
    "            ans |= X << i\n",
    "            # print(A, B, C, X, ans)\n",
    "        ans |= C << (i+1)\n",
    "        \n",
    "        return ans\n",
    "        \n",
    "\n",
    "if __name__ == '__main__':\n",
    "    a_b = [\n",
    "        [1, 2],\n",
    "        [2, 3],\n",
    "        [6, 11],\n",
    "        [11, 6],\n",
    "        [0, 0],\n",
    "        [0, 1],\n",
    "        [1, 0],\n",
    "        [-1, 1],\n",
    "        [-2, 1],\n",
    "        [-2, -1],\n",
    "    ]\n",
    "\n",
    "    for a, b in a_b:\n",
    "        print(Solution().getSum(a, b))"
   ],
   "outputs": [
    {
     "output_type": "stream",
     "name": "stdout",
     "text": [
      "3\n",
      "5\n",
      "17\n",
      "17\n",
      "0\n",
      "1\n",
      "1\n",
      "2\n",
      "1\n",
      "5\n"
     ]
    }
   ],
   "metadata": {}
  },
  {
   "cell_type": "markdown",
   "source": [
    "由于python位数不固定，只实现了计算正数。"
   ],
   "metadata": {}
  },
  {
   "cell_type": "markdown",
   "source": [
    "# 题解"
   ],
   "metadata": {}
  },
  {
   "cell_type": "markdown",
   "source": [
    "没想到还有这么个关系，\\\n",
    "两数异或：无进位加法\\\n",
    "两数与：进位的数。\n",
    "\n",
    "由于python位数不固定处理麻烦，使用c++。\n",
    "\n",
    "[ref](https://leetcode-cn.com/problems/sum-of-two-integers/solution/wei-yun-suan-xiang-jie-yi-ji-zai-python-zhong-xu-y/])"
   ],
   "metadata": {}
  },
  {
   "cell_type": "markdown",
   "source": [
    "```c++\n",
    "class Solution {\n",
    "public:\n",
    "    int getSum(int a, int b) {\n",
    "        while (b != 0) {\n",
    "            unsigned int carry = (unsigned int)(a & b) << 1;\n",
    "            a = a ^ b;\n",
    "            b = carry;\n",
    "        }\n",
    "        return a;\n",
    "    }\n",
    "};\n",
    "```"
   ],
   "metadata": {}
  }
 ],
 "metadata": {
  "orig_nbformat": 4,
  "language_info": {
   "name": "python",
   "version": "3.8.10",
   "mimetype": "text/x-python",
   "codemirror_mode": {
    "name": "ipython",
    "version": 3
   },
   "pygments_lexer": "ipython3",
   "nbconvert_exporter": "python",
   "file_extension": ".py"
  },
  "kernelspec": {
   "name": "python3",
   "display_name": "Python 3.8.10 64-bit"
  },
  "interpreter": {
   "hash": "31f2aee4e71d21fbe5cf8b01ff0e069b9275f58929596ceb00d14d90e3e16cd6"
  }
 },
 "nbformat": 4,
 "nbformat_minor": 2
}