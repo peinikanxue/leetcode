{
 "cells": [
  {
   "cell_type": "markdown",
   "metadata": {},
   "source": [
    "### 1"
   ]
  },
  {
   "cell_type": "markdown",
   "metadata": {},
   "source": [
    "回文的判断存在大量重复的判断，这是主要的优化点。\n",
    "\n",
    "如果判断到下一个字符与前面的构成更长的子串，应向右移动滑动窗口，如果不能，也有可能在将来构成更长的子串。"
   ]
  },
  {
   "cell_type": "markdown",
   "metadata": {},
   "source": [
    "思路不够清晰，并没有写出代码。\n",
    "\n",
    "因以前有看过这种题的解法，强行想去最优，而没记住这种Manacher特殊解法。"
   ]
  },
  {
   "cell_type": "markdown",
   "metadata": {},
   "source": [
    "## 题解"
   ]
  },
  {
   "cell_type": "markdown",
   "metadata": {},
   "source": [
    "### 1"
   ]
  },
  {
   "cell_type": "markdown",
   "metadata": {},
   "source": [
    "动态规划，利用状态表，避免了验证回文的开销，减少不必要的计算。\n",
    "\n",
    "$P(l, r) = S_l == S_r \\ and \\ (r-l <= 2 \\ or \\ P(l+1, r-1))$\n",
    "\n",
    "其中，条件r-l<=2，长度只有1,2,3时，$S_l==S_r$条件即可判断"
   ]
  },
  {
   "cell_type": "code",
   "execution_count": 2,
   "metadata": {},
   "outputs": [
    {
     "name": "stdout",
     "output_type": "stream",
     "text": [
      "bab\n",
      "bb\n",
      "abcdcba\n"
     ]
    }
   ],
   "source": [
    "class Solution:\n",
    "    def longestPalindrome(self, s: str) -> str:\n",
    "        size = len(s)\n",
    "\n",
    "        if size <= 1:\n",
    "            return s\n",
    "\n",
    "        status = [[False for _ in range(size)] for _ in range(size)]\n",
    "        \n",
    "        max_len = 1\n",
    "        s_max = s[0]\n",
    "\n",
    "        for r in range(1, size):\n",
    "            for l in range(r):\n",
    "                # 如果一个字符串的左右边界相等,满足二者之一即可：\n",
    "                # 1.长度为1、2、3的字符串皆可r - 1 <= 2。\n",
    "                # 2.长度超过3个字符串的，需要判断[l + 1][r - 1]是不是回文。\n",
    "                if s[l] == s[r] and (r - l <= 2 or status[l + 1][r - 1]):\n",
    "                    status[l][r] = True\n",
    "\n",
    "                    cur_len = r - l + 1\n",
    "                    if cur_len > max_len:\n",
    "                        max_len = cur_len\n",
    "                        s_max = s[l : r + 1]\n",
    "        return s_max\n",
    "\n",
    "                    \n",
    "\n",
    "s_list = ['babad', 'cbbd', 'babadabcdcbae']\n",
    "for s in s_list:\n",
    "    print(Solution().longestPalindrome(s))"
   ]
  },
  {
   "cell_type": "markdown",
   "metadata": {},
   "source": [
    "根据题解提示，提交了动态规划解法的代码。"
   ]
  },
  {
   "cell_type": "markdown",
   "metadata": {},
   "source": [
    "执行用时 :3852 ms, 在所有 Python3 提交中击败了38.78%的用户\n",
    "\n",
    "内存消耗 :22.3 MB, 在所有 Python3 提交中击败了5.09%的用户\n",
    "\n",
    "时间复杂度：$O(n^2)$\n",
    "\n",
    "空间复杂度：$O(n^2)$"
   ]
  },
  {
   "cell_type": "markdown",
   "metadata": {},
   "source": [
    "### 2"
   ]
  },
  {
   "cell_type": "markdown",
   "metadata": {},
   "source": [
    "中心扩展法，从2n-1个中心展开（因奇偶数的中心不同）。"
   ]
  },
  {
   "cell_type": "code",
   "execution_count": 3,
   "metadata": {},
   "outputs": [
    {
     "name": "stdout",
     "output_type": "stream",
     "text": [
      "bab\n",
      "bb\n",
      "abcdcba\n",
      "ccc\n",
      "bb\n",
      "abcba\n"
     ]
    }
   ],
   "source": [
    "class Solution:\n",
    "    def longestPalindrome(self, s: str) -> str:\n",
    "\n",
    "        self.size = len(s)\n",
    "\n",
    "        if self.size <= 1:\n",
    "            return s\n",
    "\n",
    "        self.max_len = 1\n",
    "        self.s_max = s[0]\n",
    "\n",
    "        for m in range(self.size):\n",
    "            self.cur_len = 0\n",
    "            self.process(s, m, m)\n",
    "            self.cur_len = 0\n",
    "            self.process(s, m, m + 1)\n",
    "\n",
    "        return self.s_max\n",
    "    \n",
    "    def process(self, s, l, r):\n",
    "        for raduis in range(self.size):\n",
    "            if l >= 0 and r < self.size and s[l] == s[r]:\n",
    "                self.cur_len = self.cur_len + 1 if l == r else self.cur_len + 2 # l==r时，只有一个字符，长度只+1\n",
    "                if self.cur_len > self.max_len:\n",
    "                    self.max_len = self.cur_len\n",
    "                    self.s_max = s[l: r + 1]\n",
    "            else:\n",
    "                break\n",
    "\n",
    "            l -= 1\n",
    "            r += 1\n",
    "\n",
    "s_list = ['babad', 'cbbd', 'babadabcdcbae', 'ccc', 'cbbd', 'abcba']\n",
    "for s in s_list:\n",
    "    print(Solution().longestPalindrome(s))"
   ]
  },
  {
   "cell_type": "markdown",
   "metadata": {},
   "source": [
    "执行用时 :1992 ms, 在所有 Python3 提交中击败了54.44%的用户\n",
    "\n",
    "内存消耗 :13.6 MB, 在所有 Python3 提交中击败了20.16%的用户\n",
    "\n",
    "时间复杂度：$O(n^2)$\n",
    "\n",
    "空间复杂度：$O(1)$"
   ]
  },
  {
   "cell_type": "markdown",
   "metadata": {},
   "source": [
    "### 3"
   ]
  },
  {
   "cell_type": "markdown",
   "metadata": {},
   "source": [
    "Manacher算法，属于这个题的专属解法，使用了类似KMP的技巧，充分挖掘了已经进行回文判定的子串的特点。\n",
    "\n",
    "插入n+1个'#'号做分隔符，便于消除回文是奇偶数的问题。\n",
    "\n",
    "采用中心扩展法，并记录每个索引的最长子串的长度，在后面做中心扩展时，通过判断当前索引是否在一个已验证的子串范围内，可以减少多余的子串验证。\n",
    "\n",
    "通过对p[j]和mx-i的大小对比，分几种情况判断，当前需要做中心扩展的索引i的子串验证的起始位置。"
   ]
  },
  {
   "cell_type": "code",
   "execution_count": 4,
   "metadata": {},
   "outputs": [],
   "source": [
    "# http://en.wikipedia.org/wiki/Longest_palindromic_substring"
   ]
  },
  {
   "cell_type": "markdown",
   "metadata": {},
   "source": [
    "时间复杂度：$O(N)$\n",
    "\n",
    "空间复杂度：$O(N)$"
   ]
  }
 ],
 "metadata": {
  "kernelspec": {
   "display_name": "Python 3",
   "language": "python",
   "name": "python3"
  },
  "language_info": {
   "codemirror_mode": {
    "name": "ipython",
    "version": 3
   },
   "file_extension": ".py",
   "mimetype": "text/x-python",
   "name": "python",
   "nbconvert_exporter": "python",
   "pygments_lexer": "ipython3",
   "version": "3.6.8"
  }
 },
 "nbformat": 4,
 "nbformat_minor": 2
}
