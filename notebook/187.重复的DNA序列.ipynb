{
 "cells": [
  {
   "cell_type": "markdown",
   "metadata": {},
   "source": [
    "# 1"
   ]
  },
  {
   "cell_type": "markdown",
   "metadata": {},
   "source": [
    "竟如此简单"
   ]
  },
  {
   "cell_type": "code",
   "execution_count": null,
   "metadata": {},
   "outputs": [],
   "source": [
    "from typing import List\n",
    "\n",
    "class Solution:\n",
    "    def findRepeatedDnaSequences(self, s: str) -> List[str]:\n",
    "        ans = {}\n",
    "        record = {}\n",
    "        for i in range(0, len(s)-9):\n",
    "            tmp = s[i:i+10]\n",
    "            if tmp in record:\n",
    "                ans[tmp] = 1\n",
    "            else:\n",
    "                record[tmp] = 1\n",
    "        return list(ans)"
   ]
  },
  {
   "cell_type": "markdown",
   "metadata": {},
   "source": [
    "31/31 cases passed (56 ms)\\\n",
    "Your runtime beats 81.19 % of python3 submissions\\\n",
    "Your memory usage beats 45.66 % of python3 submissions (27.5 MB)"
   ]
  },
  {
   "cell_type": "markdown",
   "metadata": {},
   "source": [
    "time: O(kn)\n",
    "\n",
    "space: O(kn)"
   ]
  },
  {
   "cell_type": "markdown",
   "metadata": {},
   "source": [
    "# 题解"
   ]
  },
  {
   "cell_type": "markdown",
   "metadata": {},
   "source": [
    "对ACGT进行编码（{A:00, C:01, G:10, T:11}），\\\n",
    "利用位运算，可以节省时间和空间。"
   ]
  },
  {
   "cell_type": "code",
   "execution_count": null,
   "metadata": {},
   "outputs": [],
   "source": [
    "from collections import defaultdict\n",
    "\n",
    "L = 10\n",
    "bin = {'A': 0, 'C': 1, 'G': 2, 'T': 3}\n",
    "\n",
    "class Solution:\n",
    "    def findRepeatedDnaSequences(self, s: str) -> List[str]:\n",
    "        n = len(s)\n",
    "        if n <= L:\n",
    "            return []\n",
    "        ans = []\n",
    "        x = 0\n",
    "        for ch in s[:L - 1]:\n",
    "            x = (x << 2) | bin[ch]\n",
    "        cnt = defaultdict(int)\n",
    "        for i in range(n - L + 1):\n",
    "            x = ((x << 2) | bin[s[i + L - 1]]) & ((1 << (L * 2)) - 1)\n",
    "            cnt[x] += 1\n",
    "            if cnt[x] == 2:\n",
    "                ans.append(s[i : i + L])\n",
    "        return ans"
   ]
  },
  {
   "cell_type": "markdown",
   "metadata": {},
   "source": [
    "time: O(n)\n",
    "\n",
    "space: O(n)"
   ]
  }
 ],
 "metadata": {
  "interpreter": {
   "hash": "31f2aee4e71d21fbe5cf8b01ff0e069b9275f58929596ceb00d14d90e3e16cd6"
  },
  "kernelspec": {
   "display_name": "Python 3.8.10 64-bit",
   "name": "python3"
  },
  "language_info": {
   "name": "python",
   "version": "3.8.10"
  },
  "orig_nbformat": 4
 },
 "nbformat": 4,
 "nbformat_minor": 2
}
