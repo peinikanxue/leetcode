{
 "cells": [
  {
   "cell_type": "markdown",
   "metadata": {},
   "source": [
    "# 1"
   ]
  },
  {
   "cell_type": "markdown",
   "metadata": {},
   "source": [
    "发现乘积不能跨过0，所以以0分割成子任务。\\\n",
    "再根据负数的数量进行分割。\n",
    "\n",
    "![](../imgs/152.svg)"
   ]
  },
  {
   "cell_type": "code",
   "execution_count": null,
   "metadata": {},
   "outputs": [],
   "source": [
    "#include <iostream>\n",
    "#include <vector>\n",
    "#include <algorithm>\n",
    "#include <numeric>\n",
    "#include <limits>\n",
    "\n",
    "using namespace std;\n",
    "\n",
    "// @lc code=start\n",
    "class Solution {\n",
    "public:\n",
    "    int maxProduct(vector<int>& nums) {\n",
    "        // int max_val = *max_element(nums.begin(), nums.end());\n",
    "        int max_val = INT32_MIN;    //0x80000000\n",
    "        int tmp;\n",
    "        vector<int>::iterator l = nums.begin();\n",
    "        if(nums.size() == 1)    // 只有一个元素\n",
    "            return nums[0];\n",
    "        else if(nums.size() == 0)\n",
    "            return max_val;\n",
    "        for(auto r=nums.begin();; ++r){\n",
    "            if(r == nums.end() || *r == 0){ // 判断顺序反的话，会发生越界访问\n",
    "                if(l != r && (tmp = sub_max_product(nums, l, r)) > max_val) max_val = tmp;\n",
    "                l = r+1;\n",
    "            }\n",
    "\n",
    "            if(r==nums.end()) break;\n",
    "        }\n",
    "        return max_val;\n",
    "    }\n",
    "\n",
    "    int sub_max_product(vector<int>& nums, vector<int>::iterator l, vector<int>::iterator r){\n",
    "        vector<vector<int>::iterator> negative_iters;\n",
    "        int sub_max_val;\n",
    "        for(auto it=l; it!=r; ++it){\n",
    "            if(*it < 0) negative_iters.push_back(it);\n",
    "        }\n",
    "        if(r - l == 1 && *l <= 0)   // 只有一个元素，且小于0\n",
    "            return 0;\n",
    "        if(negative_iters.size() % 2 == 0){\n",
    "            sub_max_val = accumulate(l, r, 1, multiplies<int>());\n",
    "        }else{\n",
    "            sub_max_val = max(\n",
    "                accumulate(l, negative_iters.back(), 1, multiplies<int>()), \n",
    "                accumulate(negative_iters.front()+1, r, 1, multiplies<int>())\n",
    "            );\n",
    "        }\n",
    "        // cout << *l << \":\" << *r << \" \" << sub_max_val << endl;\n",
    "        return sub_max_val;\n",
    "    }\n",
    "};\n",
    "// @lc code=end\n",
    "\n",
    "int main(int argc, char const *argv[])\n",
    "{\n",
    "    vector<int> nums {\n",
    "        -17, 0, 3, 5, -2, 10, 0, -10, 7, -6, 2, 0, -5, -10, 6, -3, 8, -10, 7, -4, 9, 6, 0, -2, -3, -4\n",
    "        // 2, 3, -2, 4\n",
    "        // -2, 0, -1\n",
    "        // -2\n",
    "    };\n",
    "    cout << Solution().maxProduct(nums) << endl;\n",
    "    return 0;\n",
    "}"
   ]
  },
  {
   "cell_type": "markdown",
   "metadata": {},
   "source": [
    "187/187 cases passed (8 ms)\\\n",
    "Your runtime beats 35.8 % of cpp submissions\\\n",
    "Your memory usage beats 36.99 % of cpp submissions (11.6 MB)"
   ]
  },
  {
   "cell_type": "markdown",
   "metadata": {},
   "source": [
    "time: O(n)\n",
    "\n",
    "space: O(n)\n",
    "\n",
    "空间开销主要是在存储负数的iter，可以优化为O(1)，不过代码没这么简洁。"
   ]
  },
  {
   "cell_type": "markdown",
   "metadata": {},
   "source": [
    "不如题解的动态规划简洁。"
   ]
  },
  {
   "cell_type": "markdown",
   "metadata": {},
   "source": [
    "# 题解"
   ]
  },
  {
   "cell_type": "markdown",
   "metadata": {},
   "source": [
    "动态规划\n",
    "\n",
    "根据「53. 最大子序和」推出的状态转移方程：$fmax(i)=\\mathop{max}_{i=1}^{n}\\{f(i-1) \\times a_i, a_i\\}$，**这样是错误的**，因为不满足「最优子结构」（即当前位置的最优解未必是由前一个位置的最优解转移得到的。）。\n",
    "\n",
    "**可以根据正负性进行分类讨论。**\n",
    "\n",
    "考虑当前位置如果是一个负数的话，那么我们希望以它前一个位置结尾的某个段的积也是个负数，这样就可以负负得正，并且我们希望这个积尽可能「负得更多」，即尽可能小。如果当前位置是一个正数的话，我们更希望以它前一个位置结尾的某个段的积也是个正数，并且希望它尽可能地大。于是这里我们可以再维护一个 $fmin(i)$，它表示以第 i 个元素结尾的乘积最小子数组的乘积，那么我们可以得到这样的动态规划转移方程：\n",
    "$$fmax(i)=\\mathop{max}_{i=1}^{n}\\{fmax(i-1) \\times a_i, fmin(i-1) \\times a_i, a_i\\}$$\n",
    "$$fmin(i)=\\mathop{min}_{i=1}^{n}\\{fmax(i-1) \\times a_i, fmin(i-1) \\times a_i, a_i\\}$$\n",
    "\n",
    "[ref](https://leetcode-cn.com/problems/maximum-product-subarray/solution/cheng-ji-zui-da-zi-shu-zu-by-leetcode-solution/)"
   ]
  },
  {
   "cell_type": "code",
   "execution_count": null,
   "metadata": {},
   "outputs": [],
   "source": [
    "class Solution {\n",
    "public:\n",
    "    int maxProduct(vector<int>& nums) {\n",
    "        vector <int> maxF(nums), minF(nums);\n",
    "        for (int i = 1; i < nums.size(); ++i) {\n",
    "            maxF[i] = max(maxF[i - 1] * nums[i], max(nums[i], minF[i - 1] * nums[i]));\n",
    "            minF[i] = min(minF[i - 1] * nums[i], min(nums[i], maxF[i - 1] * nums[i]));\n",
    "        }\n",
    "        return *max_element(maxF.begin(), maxF.end());\n",
    "    }\n",
    "};"
   ]
  },
  {
   "cell_type": "markdown",
   "metadata": {},
   "source": [
    "time: O(n)\n",
    "\n",
    "space: O(n)"
   ]
  },
  {
   "cell_type": "markdown",
   "metadata": {},
   "source": [
    "**考虑优化空间。**\n",
    "\n",
    "由于第 i 个状态只和第 i-1 个状态相关，根据「滚动数组」思想，我们可以只用两个变量来维护 i-1 时刻的状态，一个维护fmax，一个维护fmin。"
   ]
  },
  {
   "cell_type": "code",
   "execution_count": null,
   "metadata": {},
   "outputs": [],
   "source": [
    "class Solution {\n",
    "public:\n",
    "    int maxProduct(vector<int>& nums) {\n",
    "        int maxF = nums[0], minF = nums[0], ans = nums[0];\n",
    "        for (int i = 1; i < nums.size(); ++i) {\n",
    "            int mx = maxF, mn = minF;\n",
    "            maxF = max(mx * nums[i], max(nums[i], mn * nums[i]));\n",
    "            minF = min(mn * nums[i], min(nums[i], mx * nums[i]));\n",
    "            ans = max(maxF, ans);\n",
    "        }\n",
    "        return ans;\n",
    "    }\n",
    "};"
   ]
  },
  {
   "cell_type": "markdown",
   "metadata": {},
   "source": [
    "time: O(n)\n",
    "\n",
    "space: O(1)"
   ]
  }
 ],
 "metadata": {
  "interpreter": {
   "hash": "31f2aee4e71d21fbe5cf8b01ff0e069b9275f58929596ceb00d14d90e3e16cd6"
  },
  "kernelspec": {
   "display_name": "Python 3.8.10 64-bit",
   "name": "python3"
  },
  "language_info": {
   "name": "python",
   "version": "3.8.10"
  },
  "orig_nbformat": 4
 },
 "nbformat": 4,
 "nbformat_minor": 2
}
