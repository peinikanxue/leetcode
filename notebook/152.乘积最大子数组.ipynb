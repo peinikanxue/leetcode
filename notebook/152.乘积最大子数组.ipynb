{
 "cells": [
  {
   "cell_type": "markdown",
   "metadata": {},
   "source": [
    "# 1"
   ]
  },
  {
   "cell_type": "markdown",
   "metadata": {},
   "source": [
    "发现乘积不能跨过0，所以以0分割成子任务。\\\n",
    "再根据负数的数量进行分割。\n",
    "\n",
    "![](../imgs/152.svg)"
   ]
  },
  {
   "cell_type": "code",
   "execution_count": null,
   "metadata": {},
   "outputs": [],
   "source": [
    "#include <iostream>\n",
    "#include <vector>\n",
    "#include <algorithm>\n",
    "#include <numeric>\n",
    "#include <limits>\n",
    "\n",
    "using namespace std;\n",
    "\n",
    "// @lc code=start\n",
    "class Solution {\n",
    "public:\n",
    "    int maxProduct(vector<int>& nums) {\n",
    "        // int max_val = *max_element(nums.begin(), nums.end());\n",
    "        int max_val = INT32_MIN;    //0x80000000\n",
    "        int tmp;\n",
    "        vector<int>::iterator l = nums.begin();\n",
    "        if(nums.size() == 1)    // 只有一个元素\n",
    "            return nums[0];\n",
    "        else if(nums.size() == 0)\n",
    "            return max_val;\n",
    "        for(auto r=nums.begin();; ++r){\n",
    "            if(r == nums.end() || *r == 0){ // 判断顺序反的话，会发生越界访问\n",
    "                if(l != r && (tmp = sub_max_product(nums, l, r)) > max_val) max_val = tmp;\n",
    "                l = r+1;\n",
    "            }\n",
    "\n",
    "            if(r==nums.end()) break;\n",
    "        }\n",
    "        return max_val;\n",
    "    }\n",
    "\n",
    "    int sub_max_product(vector<int>& nums, vector<int>::iterator l, vector<int>::iterator r){\n",
    "        vector<vector<int>::iterator> negative_iters;\n",
    "        int sub_max_val;\n",
    "        for(auto it=l; it!=r; ++it){\n",
    "            if(*it < 0) negative_iters.push_back(it);\n",
    "        }\n",
    "        if(r - l == 1 && *l <= 0)   // 只有一个元素，且小于0\n",
    "            return 0;\n",
    "        if(negative_iters.size() % 2 == 0){\n",
    "            sub_max_val = accumulate(l, r, 1, multiplies<int>());\n",
    "        }else{\n",
    "            sub_max_val = max(\n",
    "                accumulate(l, negative_iters.back(), 1, multiplies<int>()), \n",
    "                accumulate(negative_iters.front()+1, r, 1, multiplies<int>())\n",
    "            );\n",
    "        }\n",
    "        // cout << *l << \":\" << *r << \" \" << sub_max_val << endl;\n",
    "        return sub_max_val;\n",
    "    }\n",
    "};\n",
    "// @lc code=end\n",
    "\n",
    "int main(int argc, char const *argv[])\n",
    "{\n",
    "    vector<int> nums {\n",
    "        -17, 0, 3, 5, -2, 10, 0, -10, 7, -6, 2, 0, -5, -10, 6, -3, 8, -10, 7, -4, 9, 6, 0, -2, -3, -4\n",
    "        // 2, 3, -2, 4\n",
    "        // -2, 0, -1\n",
    "        // -2\n",
    "    };\n",
    "    cout << Solution().maxProduct(nums) << endl;\n",
    "    return 0;\n",
    "}"
   ]
  },
  {
   "cell_type": "markdown",
   "metadata": {},
   "source": [
    "187/187 cases passed (8 ms)\\\n",
    "Your runtime beats 35.8 % of cpp submissions\\\n",
    "Your memory usage beats 36.99 % of cpp submissions (11.6 MB)"
   ]
  },
  {
   "cell_type": "markdown",
   "metadata": {},
   "source": [
    "time: O(n)\n",
    "\n",
    "space: O(n)\n",
    "\n",
    "空间开销主要是在存储负数的iter，可以优化为O(1)，不过代码没这么简洁。"
   ]
  }
 ],
 "metadata": {
  "interpreter": {
   "hash": "31f2aee4e71d21fbe5cf8b01ff0e069b9275f58929596ceb00d14d90e3e16cd6"
  },
  "kernelspec": {
   "display_name": "Python 3.8.10 64-bit",
   "name": "python3"
  },
  "language_info": {
   "name": "python",
   "version": "3.8.10"
  },
  "orig_nbformat": 4
 },
 "nbformat": 4,
 "nbformat_minor": 2
}
