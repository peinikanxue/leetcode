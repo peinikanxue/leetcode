{
 "cells": [
  {
   "cell_type": "markdown",
   "source": [
    "# 1"
   ],
   "metadata": {}
  },
  {
   "cell_type": "markdown",
   "source": [
    "前缀树是用于判断前缀比较方便的数据结构。（实际场景用途有：自动补完、拼写检查）\n",
    "\n",
    "查询完定义后，树结构如下：\n",
    "\n",
    "![](../imgs/208.svg)"
   ],
   "metadata": {}
  },
  {
   "cell_type": "markdown",
   "source": [
    "此处，python使用字典做节点比较方便，兄弟节点查询花费O(1)。\n",
    "\n",
    "```python\n",
    "{'a': {'p': {'p': {'l': {'e': {}}}}}}\n",
    "```\n",
    "\n",
    "其它语言还是设计个Node类或结构体。"
   ],
   "metadata": {}
  },
  {
   "cell_type": "code",
   "execution_count": 42,
   "source": [
    "class Trie:\n",
    "\n",
    "    def __init__(self):\n",
    "        \"\"\"\n",
    "        Initialize your data structure here.\n",
    "        \"\"\"\n",
    "        self.head = {}\n",
    "\n",
    "\n",
    "    def insert(self, word: str) -> None:\n",
    "        \"\"\"\n",
    "        Inserts a word into the trie.\n",
    "        \"\"\"\n",
    "        tmp, idx = self.head, 0\n",
    "        while idx < len(word) and word[idx] in tmp: # 找到插入的节点\n",
    "            tmp = tmp[word[idx]]\n",
    "            idx += 1\n",
    "        for x in word[idx:]:    # 插入单词\n",
    "            tmp[x] = {}\n",
    "            tmp = tmp[x]\n",
    "\n",
    "\n",
    "    # def search(self, word: str) -> bool:\n",
    "    #     \"\"\"\n",
    "    #     Returns if the word is in the trie.\n",
    "    #     \"\"\"\n",
    "    #     tmp, idx = self.head, 0\n",
    "    #     while idx < len(word) and word[idx] in tmp: # 找到插入的节点\n",
    "    #         tmp = tmp[word[idx]]\n",
    "    #         idx += 1\n",
    "    #     return idx == len(word)\n",
    "\n",
    "\n",
    "    def startsWith(self, prefix: str) -> bool:\n",
    "        \"\"\"\n",
    "        Returns if there is any word in the trie that starts with the given prefix.\n",
    "        \"\"\"\n",
    "        tmp, idx = self.head, 0\n",
    "        while idx < len(prefix) and prefix[idx] in tmp: # 找到插入的节点\n",
    "            tmp = tmp[prefix[idx]]\n",
    "            idx += 1\n",
    "        return idx == len(prefix)\n",
    "\n",
    "\n",
    "if __name__ == '__main__':\n",
    "    trie = Trie()\n",
    "    # trie.insert(\"apple\")\n",
    "    # trie.search(\"apple\")\n",
    "    # trie.search(\"app\")\n",
    "    # trie.startsWith(\"app\")\n",
    "    # trie.insert(\"app\")\n",
    "    # trie.search(\"app\")\n",
    "\n",
    "    # print(trie.search(\"apple\"))\n",
    "    # print(trie.search(\"app\"))\n",
    "    # print(trie.search(\"ap\"))\n",
    "    # print(trie.search(\"apple\"))\n",
    "    # trie.insert(\"apple\")\n",
    "    trie.insert(\"ap\")\n",
    "    trie.insert(\"ax\")\n",
    "    print(trie.startsWith(\"app\"))\n",
    "    print(trie.startsWith(\"apple\"))\n",
    "    print(trie.startsWith(\"apx\"))\n",
    "    print(trie.head)"
   ],
   "outputs": [
    {
     "output_type": "stream",
     "name": "stdout",
     "text": [
      "False\n",
      "False\n",
      "False\n",
      "{'a': {'p': {}, 'x': {}}}\n"
     ]
    }
   ],
   "metadata": {}
  },
  {
   "cell_type": "markdown",
   "source": [
    "为了实现search功能，需要记录单词是否完整。\n",
    "\n",
    "利用列表，增加一个属性。\n",
    "\n",
    "```python\n",
    "{'a':[False, {'p':[False, {'p':[True, {'l':[False, {'e': [True, {}]}]}]}]}]}\n",
    "```"
   ],
   "metadata": {}
  },
  {
   "cell_type": "code",
   "execution_count": 122,
   "source": [
    "class Trie:\n",
    "\n",
    "    def __init__(self):\n",
    "        \"\"\"\n",
    "        Initialize your data structure here.\n",
    "        \"\"\"\n",
    "        self.head = {}\n",
    "\n",
    "\n",
    "    def insert(self, word: str) -> None:\n",
    "        \"\"\"\n",
    "        Inserts a word into the trie.\n",
    "        \"\"\"\n",
    "        tmp, idx = self.head, 0\n",
    "        while idx < len(word) and word[idx] in tmp: # 找到插入的节点\n",
    "            if idx == len(word)-1:          # 单词的最后一个字母\n",
    "                tmp[word[idx]][0] = True\n",
    "            tmp = tmp[word[idx]][1]\n",
    "            idx += 1\n",
    "        for i, x in enumerate(word[idx:]):  # 插入单词\n",
    "            tmp[x] = [False, {}]\n",
    "            if i == len(word[idx:])-1:      # 单词的最后一个字母\n",
    "                tmp[x][0] = True\n",
    "            tmp = tmp[x][1]\n",
    "\n",
    "\n",
    "    def search(self, word: str) -> bool:\n",
    "        \"\"\"\n",
    "        Returns if the word is in the trie.\n",
    "        \"\"\"\n",
    "        tmp, idx, pre_status = self.head, 0, False\n",
    "        while idx < len(word) and word[idx] in tmp: # 找到插入的节点\n",
    "            pre_status = tmp[word[idx]][0]\n",
    "            tmp = tmp[word[idx]][1]\n",
    "            idx += 1\n",
    "        return pre_status and idx == len(word)\n",
    "\n",
    "\n",
    "    def startsWith(self, prefix: str) -> bool:\n",
    "        \"\"\"\n",
    "        Returns if there is any word in the trie that starts with the given prefix.\n",
    "        \"\"\"\n",
    "        tmp, idx = self.head, 0\n",
    "        while idx < len(prefix) and prefix[idx] in tmp: # 找到插入的节点\n",
    "            tmp = tmp[prefix[idx]][1]\n",
    "            idx += 1\n",
    "        return idx == len(prefix)\n",
    "\n",
    "\n",
    "if __name__ == '__main__':\n",
    "    trie = Trie()\n",
    "    print(trie.search(\"a\"))\n",
    "    trie.insert(\"apple\")\n",
    "    print(trie.search(\"apple\"))\n",
    "    print(trie.search(\"app\"))\n",
    "    print(trie.startsWith(\"app\"))\n",
    "    trie.insert(\"app\")\n",
    "    print(trie.search(\"app\"))\n",
    "    print(trie.head)\n",
    "\n",
    "    trie = Trie()\n",
    "    trie.insert(\"ab\")\n",
    "    trie.insert(\"abc\")\n",
    "    print(trie.head)\n",
    "\n",
    "    trie = Trie()\n",
    "    trie.insert(\"ab\")\n",
    "    print(trie.search(\"abc\"))\n",
    "    print(trie.search(\"ab\"))\n",
    "    print(trie.startsWith(\"abc\"))\n",
    "    print(trie.startsWith(\"ab\"))\n",
    "    trie.insert(\"ab\")\n",
    "    print(trie.search(\"abc\"))\n",
    "    print(trie.startsWith(\"abc\"))\n",
    "    trie.insert(\"abc\")\n",
    "    print(trie.search(\"abc\"))\n",
    "    print(trie.startsWith(\"abc\"))\n",
    "    print(trie.head)"
   ],
   "outputs": [
    {
     "output_type": "stream",
     "name": "stdout",
     "text": [
      "False\n",
      "True\n",
      "False\n",
      "True\n",
      "True\n",
      "{'a': [False, {'p': [False, {'p': [True, {'l': [False, {'e': [True, {}]}]}]}]}]}\n",
      "{'a': [False, {'b': [True, {'c': [True, {}]}]}]}\n",
      "False\n",
      "True\n",
      "False\n",
      "True\n",
      "False\n",
      "False\n",
      "True\n",
      "True\n",
      "{'a': [False, {'b': [True, {'c': [True, {}]}]}]}\n"
     ]
    }
   ],
   "metadata": {}
  },
  {
   "cell_type": "markdown",
   "source": [
    "15/15 cases passed (144 ms)\\\n",
    "Your runtime beats 70.04 % of python3 submissions\\\n",
    "Your memory usage beats 65.9 % of python3 submissions (29.4 MB)"
   ],
   "metadata": {}
  },
  {
   "cell_type": "markdown",
   "source": [
    "time: O(n^2)\n",
    "\n",
    "space: O(n^2)"
   ],
   "metadata": {}
  }
 ],
 "metadata": {
  "orig_nbformat": 4,
  "language_info": {
   "name": "python",
   "version": "3.8.10",
   "mimetype": "text/x-python",
   "codemirror_mode": {
    "name": "ipython",
    "version": 3
   },
   "pygments_lexer": "ipython3",
   "nbconvert_exporter": "python",
   "file_extension": ".py"
  },
  "kernelspec": {
   "name": "python3",
   "display_name": "Python 3.8.10 64-bit"
  },
  "interpreter": {
   "hash": "31f2aee4e71d21fbe5cf8b01ff0e069b9275f58929596ceb00d14d90e3e16cd6"
  }
 },
 "nbformat": 4,
 "nbformat_minor": 2
}