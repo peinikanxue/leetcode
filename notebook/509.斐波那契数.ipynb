{
 "cells": [
  {
   "cell_type": "markdown",
   "source": [
    "# 1"
   ],
   "metadata": {}
  },
  {
   "cell_type": "markdown",
   "source": [
    "动态规划入门题\n",
    "\n",
    "递归计算的话，自顶向下推，\\\n",
    "会存在大量的重复计算，n稍微大一点，就会超时。"
   ],
   "metadata": {}
  },
  {
   "cell_type": "code",
   "execution_count": 7,
   "source": [
    "class Solution:\n",
    "    def fib(self, n: int) -> int:\n",
    "        if n <= 1:\n",
    "            return n\n",
    "        return self.fib(n - 1) + self.fib(n - 2)\n",
    "\n",
    "\n",
    "if __name__ == '__main__':\n",
    "    n_list = [\n",
    "        2,\n",
    "        3,\n",
    "        4,\n",
    "        35,\n",
    "    ]\n",
    "\n",
    "    for n in n_list:\n",
    "        print(Solution().fib(n))"
   ],
   "outputs": [
    {
     "output_type": "stream",
     "name": "stdout",
     "text": [
      "1\n",
      "2\n",
      "3\n",
      "9227465\n"
     ]
    }
   ],
   "metadata": {}
  },
  {
   "cell_type": "markdown",
   "source": [
    "# 2\n",
    "\n",
    "动态规划\n",
    "\n",
    "当前值依赖f(n-1)和f(n-2)，\\\n",
    "哪么直接从n=1开始推，每次仅仅依赖前两个值。\n",
    "\n",
    "（实际上靠3个变量即可完成fib的计算。）"
   ],
   "metadata": {}
  },
  {
   "cell_type": "code",
   "execution_count": 12,
   "source": [
    "class Solution:\n",
    "    def fib(self, n: int) -> int:\n",
    "        if n <= 1:\n",
    "            return n\n",
    "\n",
    "        dp = [0, 1]\n",
    "        ans = 0\n",
    "        for i in range(2, n+1):\n",
    "            ans = dp[0] + dp[1]\n",
    "            dp[0], dp[1] = dp[1], ans\n",
    "        return ans\n",
    "\n",
    "\n",
    "if __name__ == '__main__':\n",
    "    n_list = [\n",
    "        2,\n",
    "        3,\n",
    "        4,\n",
    "        100,\n",
    "    ]\n",
    "\n",
    "    for n in n_list:\n",
    "        print(Solution().fib(n))"
   ],
   "outputs": [
    {
     "output_type": "stream",
     "name": "stdout",
     "text": [
      "1\n",
      "2\n",
      "3\n",
      "354224848179261915075\n"
     ]
    }
   ],
   "metadata": {}
  },
  {
   "cell_type": "markdown",
   "source": [
    "31/31 cases passed (36 ms)\\\n",
    "Your runtime beats 52.09 % of python3 submissions\\\n",
    "Your memory usage beats 30.33 % of python3 submissions (15 MB)"
   ],
   "metadata": {}
  },
  {
   "cell_type": "markdown",
   "source": [
    "time: O(n)\n",
    "\n",
    "space: O(1)"
   ],
   "metadata": {}
  }
 ],
 "metadata": {
  "orig_nbformat": 4,
  "language_info": {
   "name": "python",
   "version": "3.8.10",
   "mimetype": "text/x-python",
   "codemirror_mode": {
    "name": "ipython",
    "version": 3
   },
   "pygments_lexer": "ipython3",
   "nbconvert_exporter": "python",
   "file_extension": ".py"
  },
  "kernelspec": {
   "name": "python3",
   "display_name": "Python 3.8.10 64-bit"
  },
  "interpreter": {
   "hash": "31f2aee4e71d21fbe5cf8b01ff0e069b9275f58929596ceb00d14d90e3e16cd6"
  }
 },
 "nbformat": 4,
 "nbformat_minor": 2
}