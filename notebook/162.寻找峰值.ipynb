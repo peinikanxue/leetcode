{
 "cells": [
  {
   "cell_type": "markdown",
   "source": [
    "# 1"
   ],
   "metadata": {}
  },
  {
   "cell_type": "markdown",
   "source": [
    "只需要返回一个峰即可。且 条件nums[i] != nums[i + 1]，说明必有峰值。\n",
    "\n",
    "本题要求时间复杂度为O(logn)，\\\n",
    "满足logn的考虑二分查找。"
   ],
   "metadata": {}
  },
  {
   "cell_type": "code",
   "execution_count": 1,
   "source": [
    "from typing import List\n",
    "\n",
    "\n",
    "class Solution:\n",
    "    def findPeakElement(self, nums: List[int]) -> int:\n",
    "        nums.insert(0, float('-inf'))   # 哨\n",
    "        nums.append(float('-inf'))      # 哨\n",
    "\n",
    "        ans = 0\n",
    "        for i in range(1, len(nums)-1):\n",
    "            if nums[i] > nums[i-1] and nums[i] > nums[i+1]:\n",
    "                ans = i-1\n",
    "                break\n",
    "        return ans\n",
    "\n",
    "\n",
    "if __name__ == '__main__':\n",
    "    nums_list = [\n",
    "        [1,2,3,1],\n",
    "        [1,2,1,3,5,6,4],\n",
    "    ]\n",
    "\n",
    "    for nums in nums_list:\n",
    "        print(Solution().findPeakElement(nums))"
   ],
   "outputs": [
    {
     "output_type": "stream",
     "name": "stdout",
     "text": [
      "2\n",
      "1\n"
     ]
    }
   ],
   "metadata": {}
  },
  {
   "cell_type": "markdown",
   "source": [
    "63/63 cases passed (28 ms)\\\n",
    "Your runtime beats 89.55 % of python3 submissions\\\n",
    "Your memory usage beats 16.28 % of python3 submissions (15.1 MB)"
   ],
   "metadata": {}
  },
  {
   "cell_type": "markdown",
   "source": [
    "time: O(n)\n",
    "\n",
    "space: O(1)"
   ],
   "metadata": {}
  },
  {
   "cell_type": "markdown",
   "source": [
    "随便一试就通过了，尽管不满足O(logn)。\n",
    "\n",
    "考虑到要二分查找，一时忘了梯度下降这思维，本题只是要找一个峰而已。"
   ],
   "metadata": {}
  },
  {
   "cell_type": "markdown",
   "source": [
    "# 题解\n",
    "\n",
    "[ref](https://leetcode-cn.com/problems/find-peak-element/solution/162-xun-zhao-feng-zhi-pa-shan-ren-ru-he-00u8c/)"
   ],
   "metadata": {}
  },
  {
   "cell_type": "code",
   "execution_count": 2,
   "source": [
    "from typing import List\n",
    "\n",
    "\n",
    "class Solution:\n",
    "    def findPeakElement(self, nums: List[int]) -> int:\n",
    "        l, r = 0, len(nums)-1\n",
    "        while l < r:\n",
    "            m = (l + r) // 2\n",
    "            if nums[m+1] > nums[m]: # 右侧是上坡\n",
    "                l = m + 1\n",
    "            else:                   # 左侧是上坡\n",
    "                r = m               # 整除//可能会访问到l=m+1，却不一定访问到r=m-1，所以r=m\n",
    "        return r\n",
    "\n",
    "\n",
    "if __name__ == '__main__':\n",
    "    nums_list = [\n",
    "        [1,2,3,1],\n",
    "        [1,2,1,3,5,6,4],\n",
    "    ]\n",
    "\n",
    "    for nums in nums_list:\n",
    "        print(Solution().findPeakElement(nums))"
   ],
   "outputs": [
    {
     "output_type": "stream",
     "name": "stdout",
     "text": [
      "2\n",
      "5\n"
     ]
    }
   ],
   "metadata": {}
  },
  {
   "cell_type": "markdown",
   "source": [
    "63/63 cases passed (32 ms)\\\n",
    "Your runtime beats 71.73 % of python3 submissions\\\n",
    "Your memory usage beats 59.86 % of python3 submissions (15 MB)"
   ],
   "metadata": {}
  },
  {
   "cell_type": "markdown",
   "source": [
    "time: O(logn)\n",
    "\n",
    "space: O(1)"
   ],
   "metadata": {}
  }
 ],
 "metadata": {
  "orig_nbformat": 4,
  "language_info": {
   "name": "python",
   "version": "3.8.10",
   "mimetype": "text/x-python",
   "codemirror_mode": {
    "name": "ipython",
    "version": 3
   },
   "pygments_lexer": "ipython3",
   "nbconvert_exporter": "python",
   "file_extension": ".py"
  },
  "kernelspec": {
   "name": "python3",
   "display_name": "Python 3.8.10 64-bit"
  },
  "interpreter": {
   "hash": "31f2aee4e71d21fbe5cf8b01ff0e069b9275f58929596ceb00d14d90e3e16cd6"
  }
 },
 "nbformat": 4,
 "nbformat_minor": 2
}