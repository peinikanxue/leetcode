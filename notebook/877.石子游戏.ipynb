{
 "nbformat": 4,
 "nbformat_minor": 2,
 "metadata": {
  "language_info": {
   "name": "python",
   "codemirror_mode": {
    "name": "ipython",
    "version": 3
   },
   "version": "3.6.9-final"
  },
  "orig_nbformat": 2,
  "file_extension": ".py",
  "mimetype": "text/x-python",
  "name": "python",
  "npconvert_exporter": "python",
  "pygments_lexer": "ipython3",
  "version": 3,
  "kernelspec": {
   "name": "python36964bite598b62db32c485f95dbcc3befe555ab",
   "display_name": "Python 3.6.9 64-bit"
  }
 },
 "cells": [
  {
   "cell_type": "markdown",
   "metadata": {},
   "source": [
    "# 1\n",
    "博弈问题，转化为求最大值。\n",
    "\n",
    "2个玩家皆可控制对手的下一步选择。A选择第一个，则B可选第2个或最后1个。B亦然。"
   ]
  },
  {
   "cell_type": "markdown",
   "metadata": {},
   "source": [
    "# 2\n",
    "n = 2，选大的。\n",
    "\n",
    "n = 4，A先选，可控制下一步拿到的2或3。"
   ]
  },
  {
   "cell_type": "markdown",
   "metadata": {},
   "source": [
    "# 解1 - 动态规划\n",
    "\n",
    "改变游戏规则，使得每当B得分时，都会从A的分数中扣除。\n",
    "\n",
    "可以根据 dp(i + 1，j) 和 dp(i，j-1) 来制定 dp(i，j) 的递归，我们可以使用动态编程以不重复这个递归中的工作。该方法可以输出正确的答案，因为状态形成一个DAG（有向无环图）。\n",
    "\n",
    "代码：\n",
    "\n",
    "当剩下的堆的石子数是 piles[i], piles[i+1], ..., piles[j] 时，轮到的玩家最多有 2 种行为。\n",
    "\n",
    "可以通过比较 j-i+N%2 来找出轮到的人。\n",
    "\n",
    "如果玩家是A，那么她将取走 piles[i] 或 piles[j] 颗石子，增加她的分数。\n",
    "\n",
    "之后，总分为 piles[i] + dp(i+1, j) 或 piles[j] + dp(i, j-1)；我们想要其中的最大可能得分。\n",
    "\n",
    "如果玩家是B，那么他将取走 piles[i] 或 piles[j] 颗石子，减少A这一数量的分数。\n",
    "\n",
    "之后，总分为 -piles[i] + dp(i+1, j) 或 -piles[j] + dp(i, j-1)；我们想要其中的最小可能得分。"
   ]
  },
  {
   "cell_type": "code",
   "execution_count": 1,
   "metadata": {},
   "outputs": [],
   "source": [
    "from functools import lru_cache\n",
    "\n",
    "class Solution:\n",
    "    def stoneGame(self, piles):\n",
    "        N = len(piles)\n",
    "\n",
    "        @lru_cache(None)\n",
    "        def dp(i, j):\n",
    "            # The value of the game [piles[i], piles[i+1], ..., piles[j]].\n",
    "            if i > j: return 0\n",
    "            parity = (j - i - N) % 2\n",
    "            if parity == 1:  # first player\n",
    "                return max(piles[i] + dp(i+1,j), piles[j] + dp(i,j-1))\n",
    "            else:\n",
    "                return min(-piles[i] + dp(i+1,j), -piles[j] + dp(i,j-1))\n",
    "\n",
    "        return dp(0, N - 1) > 0"
   ]
  },
  {
   "cell_type": "markdown",
   "metadata": {},
   "source": [
    "time:O(n^2)\n",
    "\n",
    "space:O(n^2)"
   ]
  },
  {
   "cell_type": "markdown",
   "metadata": {},
   "source": [
    "PS：此处采用的是递归的方式实现动态规划，代码直观简洁。"
   ]
  },
  {
   "cell_type": "markdown",
   "metadata": {},
   "source": [
    "# 解2 - 数学方法\n",
    "n = 2时，A可获胜。\n",
    "\n",
    "n = 4时，A可控制获得1,3或2,4。\n",
    "\n",
    "推广，n > 4时，A实际上可以获得所有的奇数堆或偶数堆，所以一定可以获胜。"
   ]
  },
  {
   "cell_type": "code",
   "execution_count": 2,
   "metadata": {},
   "outputs": [],
   "source": [
    "class Solution:\n",
    "    def stoneGame(self, piles):\n",
    "        return True"
   ]
  },
  {
   "cell_type": "markdown",
   "metadata": {},
   "source": [
    "time:O(1)\n",
    "\n",
    "space:O(1)"
   ]
  }
 ]
}