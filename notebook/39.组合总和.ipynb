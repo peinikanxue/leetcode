{
 "cells": [
  {
   "cell_type": "markdown",
   "source": [
    "# 1"
   ],
   "metadata": {}
  },
  {
   "cell_type": "markdown",
   "source": [
    "回溯法，能到达0即可加入结果。\n",
    "为减少查询，从大到小开始。"
   ],
   "metadata": {}
  },
  {
   "cell_type": "code",
   "execution_count": 15,
   "source": [
    "from typing import List\n",
    "\n",
    "class Solution:\n",
    "    def combinationSum(self, candidates: List[int], target: int) -> List[List[int]]:\n",
    "        ans = []\n",
    "        for k in range(len(candidates)-1, -1, -1):\n",
    "            pos = k\n",
    "            record = []\n",
    "            tmp = target\n",
    "            while tmp > 0 and pos >= 0:\n",
    "                tmp = tmp - candidates[pos]\n",
    "                # print(tmp)\n",
    "                if tmp > 0:\n",
    "                    record.append(candidates[pos])\n",
    "                elif tmp < 0:\n",
    "                    pos -= 1\n",
    "                elif tmp == 0:\n",
    "                    record.append(candidates[pos])\n",
    "                    ans.append(record)\n",
    "                    break\n",
    "        return ans\n",
    "\n",
    "\n",
    "if __name__ == '__main__':\n",
    "    candidates_list = [\n",
    "        [2,3,6,7],\n",
    "        [2,3,5],\n",
    "        [2],\n",
    "        [1],\n",
    "        [1],\n",
    "    ]\n",
    "    target_list = [\n",
    "        7,\n",
    "        8,\n",
    "        1,\n",
    "        1,\n",
    "        2,\n",
    "    ]\n",
    "\n",
    "    for candidates, target in zip(candidates_list, target_list):\n",
    "        print(Solution().combinationSum(candidates, target))"
   ],
   "outputs": [
    {
     "output_type": "stream",
     "name": "stdout",
     "text": [
      "[[7]]\n",
      "[[2, 2, 2, 2]]\n",
      "[]\n",
      "[[1]]\n",
      "[[1, 1]]\n"
     ]
    }
   ],
   "metadata": {}
  },
  {
   "cell_type": "markdown",
   "source": [
    "没过！考虑的格局不够。总想从局部条件去一一判断。"
   ],
   "metadata": {}
  },
  {
   "cell_type": "markdown",
   "source": [
    "# 题解"
   ],
   "metadata": {}
  },
  {
   "cell_type": "markdown",
   "source": [
    "搜索回溯，\n",
    "每个元素的选择有2种，要么用当前元素；要么不用当前元素，并进入下一个元素的抉择。\n",
    "因为元素可重复，所以，用了当前元素后，还可以抉择是否继续使用当前元素，或者进入下一元素的抉择。\n",
    "\n",
    "宏观上，形成了二叉树的形式：\n",
    "```\n",
    "                        7\n",
    "                    [2,3,6,7]\n",
    "                    /       \\\n",
    "                next      use 2\n",
    "                /               \\\n",
    "              7                  5\n",
    "        [_,3,6,7]            [2,3,6,7]\n",
    "         /    \\                  /    \\\n",
    "       next   use 3           next   use 2\n",
    "      /          \\             /         \\\n",
    "     7            4           5           3\n",
    "[_,_,6,7]     [_,_,6,7]    [_,3,6,7]   [2,3,6,7]\n",
    " ...             ...        ...           ...\n",
    "```\n",
    "  \n",
    "对二叉树的搜索（dfs, bfs），加上剪枝可以优化时间。（排序，在后面元素都不可能时，直接剪掉。）\n",
    "\n",
    "（本质看上去就是 枚举。不过考虑清除了如何枚举方式，不重复。）"
   ],
   "metadata": {}
  },
  {
   "cell_type": "code",
   "execution_count": 14,
   "source": [
    "# from typing import *\n",
    "\n",
    "# class Solution:\n",
    "#     def combinationSum(self, candidates: List[int], target: int) -> List[List[int]]:\n",
    "#         self.ans = []\n",
    "#         self.dfs(candidates, target, 0, [])\n",
    "#         return self.ans\n",
    "\n",
    "#     def dfs(self, candidates, target, idx, record):\n",
    "#         if idx >= len(candidates) or target <= 0:\n",
    "#             if target == 0:\n",
    "#                 self.ans.append(record)\n",
    "#             return\n",
    "\n",
    "#         tmp = record.copy()                                     # 跳过该元素，为了让record各自记录其分支情况\n",
    "#         self.dfs(candidates, target, idx + 1, tmp)              # 跳过该元素\n",
    "\n",
    "#         tmp = record.copy()                                     # 使用当前元素， 为了让record各自记录其分支情况\n",
    "#         tmp.append(candidates[idx])                             # 使用当前元素\n",
    "#         self.dfs(candidates, target-candidates[idx], idx, tmp)  # 使用当前元素\n",
    "\n",
    "\n",
    "# if __name__ == '__main__':\n",
    "#     candidates_list = [\n",
    "#         [2,3,6,7],\n",
    "#         [2,3,5],\n",
    "#         [2],\n",
    "#         [1],\n",
    "#         [1],\n",
    "#     ]\n",
    "#     target_list = [\n",
    "#         7,\n",
    "#         8,\n",
    "#         1,\n",
    "#         1,\n",
    "#         2,\n",
    "#     ]\n",
    "\n",
    "#     for candidates, target in zip(candidates_list, target_list):\n",
    "#         print(Solution().combinationSum(candidates, target))"
   ],
   "outputs": [],
   "metadata": {}
  },
  {
   "cell_type": "markdown",
   "source": [
    "执行用时：116 ms, 在所有 Python3 提交中击败了14.47%的用户\n",
    "\n",
    "内存消耗：15.1 MB, 在所有 Python3 提交中击败了23.43%的用户"
   ],
   "metadata": {}
  },
  {
   "cell_type": "markdown",
   "source": [
    "优化记录组合的变量record，通过push和pop成对，避免每次dfs分支都复制一份。"
   ],
   "metadata": {}
  },
  {
   "cell_type": "code",
   "execution_count": 13,
   "source": [
    "from typing import *\n",
    "\n",
    "class Solution:\n",
    "    def combinationSum(self, candidates: List[int], target: int) -> List[List[int]]:\n",
    "        self.ans = []\n",
    "        self.dfs(candidates, target, 0, [])\n",
    "        return self.ans\n",
    "\n",
    "    def dfs(self, candidates, target, idx, record):\n",
    "        if idx == len(candidates):\n",
    "            return\n",
    "        if target == 0:\n",
    "            self.ans.append(record.copy())                              # 防止record被接下来的操作覆盖\n",
    "            return\n",
    "        \n",
    "        self.dfs(candidates, target, idx + 1, record)                   # 跳过该元素\n",
    "\n",
    "        if target - candidates[idx] >= 0:\n",
    "            record.append(candidates[idx])                              # push当前元素\n",
    "            self.dfs(candidates, target-candidates[idx], idx, record)   # 使用当前元素\n",
    "            record.pop()                                                # pop\"最后\"元素（递归的最里层依次返回，pop的最后其实就是当前元素）\n",
    "\n",
    "\n",
    "if __name__ == '__main__':\n",
    "    candidates_list = [\n",
    "        [2,3,6,7],\n",
    "        [2,3,5],\n",
    "        [2],\n",
    "        [1],\n",
    "        [1],\n",
    "    ]\n",
    "    target_list = [\n",
    "        7,\n",
    "        8,\n",
    "        1,\n",
    "        1,\n",
    "        2,\n",
    "    ]\n",
    "\n",
    "    for candidates, target in zip(candidates_list, target_list):\n",
    "        print(Solution().combinationSum(candidates, target))"
   ],
   "outputs": [
    {
     "output_type": "stream",
     "name": "stdout",
     "text": [
      "[[7], [2, 2, 3]]\n",
      "[[3, 5], [2, 3, 3], [2, 2, 2, 2]]\n",
      "[]\n",
      "[[1]]\n",
      "[[1, 1]]\n"
     ]
    }
   ],
   "metadata": {}
  },
  {
   "cell_type": "markdown",
   "source": [
    "执行用时：64 ms, 在所有 Python3 提交中击败了59.64%的用户\n",
    "\n",
    "内存消耗：15 MB, 在所有 Python3 提交中击败了70.05%的用户"
   ],
   "metadata": {}
  },
  {
   "cell_type": "markdown",
   "source": [
    "time:O(2^n * n) 最差2^n种组合都会被枚举到，O(n)为列表复制。\n",
    "\n",
    "space:O(target) 最差需要递归O(target)层。"
   ],
   "metadata": {}
  },
  {
   "cell_type": "markdown",
   "source": [
    "注：record.append()返回值为None，将其作为参数传入，会出现record为None的错误。\n",
    "```python\n",
    "        self.dfs(candidates, target-candidates[idx], idx, record.copy().append(candidates[idx]))   # 使用当前元素\n",
    "```"
   ],
   "metadata": {}
  }
 ],
 "metadata": {
  "language_info": {
   "codemirror_mode": {
    "name": "ipython",
    "version": 3
   },
   "file_extension": ".py",
   "mimetype": "text/x-python",
   "name": "python",
   "nbconvert_exporter": "python",
   "pygments_lexer": "ipython3",
   "version": "3.8.10"
  },
  "orig_nbformat": 2,
  "kernelspec": {
   "name": "python3",
   "display_name": "Python 3.8.10 64-bit"
  },
  "interpreter": {
   "hash": "916dbcbb3f70747c44a77c7bcd40155683ae19c65e1c03b4aa3499c5328201f1"
  }
 },
 "nbformat": 4,
 "nbformat_minor": 2
}