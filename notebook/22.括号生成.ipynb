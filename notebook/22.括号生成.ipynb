{
 "cells": [
  {
   "cell_type": "markdown",
   "metadata": {},
   "source": [
    "# 1"
   ]
  },
  {
   "cell_type": "markdown",
   "metadata": {},
   "source": [
    "寻找规律，看看n=1,2,3,4...有能递归生成括号不。"
   ]
  },
  {
   "cell_type": "markdown",
   "metadata": {},
   "source": [
    "最终并没发现。。。"
   ]
  },
  {
   "cell_type": "markdown",
   "metadata": {},
   "source": [
    "# 题解"
   ]
  },
  {
   "cell_type": "markdown",
   "metadata": {},
   "source": [
    "回溯法\n",
    "\n",
    "加1个左括号，则表示需要右括号(sign)+1\n",
    "\n",
    "加1个右括号，则表示需要右括号(sign)-1\n",
    "\n",
    "当sign==0回溯。当n==0，sign==0时，满足。"
   ]
  },
  {
   "cell_type": "code",
   "execution_count": 1,
   "metadata": {},
   "outputs": [
    {
     "name": "stdout",
     "output_type": "stream",
     "text": [
      "['((()))', '(()())', '(())()', '()(())', '()()()']\n",
      "['(((())))', '((()()))', '((())())', '((()))()', '(()(()))', '(()()())', '(()())()', '(())(())', '(())()()', '()((()))', '()(()())', '()(())()', '()()(())', '()()()()']\n"
     ]
    }
   ],
   "source": [
    "from typing import List\n",
    "\n",
    "class Solution:\n",
    "    def generateParenthesis(self, n: int) -> List[str]:\n",
    "        \n",
    "        self.result = []\n",
    "\n",
    "        self.generate('', n, 0)\n",
    "\n",
    "        return self.result\n",
    "    \n",
    "    def generate(self, s, n, sign):\n",
    "        if n > 0:\n",
    "            self.generate(s + '(', n-1, sign+1)\n",
    "        if sign > 0:\n",
    "            self.generate(s + ')', n, sign-1)\n",
    "\n",
    "        if sign == 0 and n == 0:\n",
    "            self.result.append(s)\n",
    "\n",
    "\n",
    "if __name__ == \"__main__\":\n",
    "    n_list = [3, 4]\n",
    "\n",
    "    for n in n_list:\n",
    "        print(Solution().generateParenthesis(n))\n"
   ]
  },
  {
   "cell_type": "markdown",
   "metadata": {},
   "source": [
    "执行用时 :48 ms, 在所有 python3 提交中击败了80.49%的用户\n",
    "\n",
    "内存消耗 :13.9 MB, 在所有 python3 提交中击败了5.03%的用户"
   ]
  },
  {
   "cell_type": "markdown",
   "metadata": {},
   "source": [
    "时间复杂度：$ O(\\frac{4^n}{\\sqrt n)} $\n",
    "\n",
    "空间复杂度：$ O(\\frac{4^n}{\\sqrt n)} $\n",
    "\n",
    "不好证明"
   ]
  }
 ],
 "metadata": {
  "kernelspec": {
   "display_name": "Python 3",
   "language": "python",
   "name": "python3"
  },
  "language_info": {
   "codemirror_mode": {
    "name": "ipython",
    "version": 3
   },
   "file_extension": ".py",
   "mimetype": "text/x-python",
   "name": "python",
   "nbconvert_exporter": "python",
   "pygments_lexer": "ipython3",
   "version": "3.6.8"
  }
 },
 "nbformat": 4,
 "nbformat_minor": 2
}
