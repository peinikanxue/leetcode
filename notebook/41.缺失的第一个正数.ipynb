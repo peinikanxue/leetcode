{
 "cells": [
  {
   "cell_type": "markdown",
   "source": [
    "# 1"
   ],
   "metadata": {}
  },
  {
   "cell_type": "markdown",
   "source": [
    "字典"
   ],
   "metadata": {}
  },
  {
   "cell_type": "code",
   "execution_count": 5,
   "source": [
    "from typing import *\n",
    "\n",
    "class Solution:\n",
    "    def firstMissingPositive(self, nums: List[int]) -> int:\n",
    "        vis = {}\n",
    "        for x in nums:\n",
    "            vis[x] = True\n",
    "        \n",
    "        max_val = max(vis)\n",
    "        for i in range(1, max_val):\n",
    "            if i not in vis:\n",
    "                return i\n",
    "        return max(1, max_val + 1)\n",
    "\n",
    "\n",
    "if __name__ == '__main__':\n",
    "    nums_list = [\n",
    "        [1,2,0],\n",
    "        [3,4,-1,1],\n",
    "        [7,8,9,11,12],\n",
    "        [2147483647],\n",
    "    ]\n",
    "\n",
    "    for nums in nums_list:\n",
    "        print(Solution().firstMissingPositive(nums))"
   ],
   "outputs": [
    {
     "output_type": "stream",
     "name": "stdout",
     "text": [
      "3\n",
      "2\n",
      "1\n",
      "1\n"
     ]
    }
   ],
   "metadata": {}
  },
  {
   "cell_type": "markdown",
   "source": [
    "time: O(n)\n",
    "\n",
    "space: O(n)"
   ],
   "metadata": {}
  },
  {
   "cell_type": "markdown",
   "source": [
    "虽然通过了，但没有满足常数空间的要求。空间随着nums数组大小的增大而增多。"
   ],
   "metadata": {}
  },
  {
   "cell_type": "markdown",
   "source": [
    "# 题解"
   ],
   "metadata": {}
  },
  {
   "cell_type": "markdown",
   "source": [
    "（方法比较特殊，比较巧妙。）\n",
    "\n",
    "为了满足常数空间的要求，复用nums数组。\n",
    "\n",
    "由于需要的数从1开始，将数组本身就作为索引，（不考虑`<=0`或`>len(num)`的数，为此，先遍历一遍，将其改为1） \\\n",
    "元素数将对应索引index的元素特殊标记（这里用'-'号表示该值存在）， \\\n",
    "再遍历一遍，首先出现的正数 对应的索引就是要求。"
   ],
   "metadata": {}
  },
  {
   "cell_type": "code",
   "execution_count": 6,
   "source": [
    "from typing import *\n",
    "\n",
    "class Solution:\n",
    "    def firstMissingPositive(self, nums: List[int]) -> int:\n",
    "        exist_1 = False\n",
    "        for i in range(len(nums)):  # 第一次遍历，将负数处理为1，并先找是否有1\n",
    "            if nums[i] == 1:\n",
    "                exist_1 = True\n",
    "            if nums[i] <= 0 or nums[i] > len(nums):\n",
    "                nums[i] = 1\n",
    "        if not exist_1:             # 不存在1，直接返回就行\n",
    "            return 1\n",
    "        \n",
    "        for i in range(len(nums)):  # 第二次遍历\n",
    "            index = abs(nums[i])-1    # 将特殊标记去掉（去掉负号），并且索引从1开始（-1）\n",
    "            nums[index] = - abs(nums[index])   # 将索引位置的值特殊标记上（添加负号）\n",
    "\n",
    "        for i in range(len(nums)):  # 第三次遍历，找出前面正数的索引\n",
    "            if nums[i] > 0:\n",
    "                return i + 1        # 索引从1开始\n",
    "        \n",
    "        return len(nums) + 1\n",
    "            \n",
    "\n",
    "\n",
    "if __name__ == '__main__':\n",
    "    nums_list = [\n",
    "        [1,2,0],\n",
    "        [3,4,-1,1],\n",
    "        [7,8,9,11,12],\n",
    "        [2147483647],\n",
    "    ]\n",
    "\n",
    "    for nums in nums_list:\n",
    "        print(Solution().firstMissingPositive(nums))"
   ],
   "outputs": [
    {
     "output_type": "stream",
     "name": "stdout",
     "text": [
      "3\n",
      "2\n",
      "1\n",
      "1\n"
     ]
    }
   ],
   "metadata": {}
  },
  {
   "cell_type": "markdown",
   "source": [
    "执行用时 :212 ms, 在所有 Python3 提交中击败了31.82 %的用户\n",
    "\n",
    "内存消耗 :46 MB, 在所有 Python3 提交中击败了24.76 %的用户"
   ],
   "metadata": {}
  },
  {
   "cell_type": "markdown",
   "source": [
    "time: O(n)\n",
    "\n",
    "space: O(1)"
   ],
   "metadata": {}
  }
 ],
 "metadata": {
  "language_info": {
   "codemirror_mode": {
    "name": "ipython",
    "version": 3
   },
   "file_extension": ".py",
   "mimetype": "text/x-python",
   "name": "python",
   "nbconvert_exporter": "python",
   "pygments_lexer": "ipython3",
   "version": "3.8.10"
  },
  "orig_nbformat": 2,
  "kernelspec": {
   "name": "python3",
   "display_name": "Python 3.8.10 64-bit"
  },
  "interpreter": {
   "hash": "916dbcbb3f70747c44a77c7bcd40155683ae19c65e1c03b4aa3499c5328201f1"
  }
 },
 "nbformat": 4,
 "nbformat_minor": 2
}