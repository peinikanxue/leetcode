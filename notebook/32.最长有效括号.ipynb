{
 "nbformat": 4,
 "nbformat_minor": 2,
 "metadata": {
  "language_info": {
   "name": "python",
   "codemirror_mode": {
    "name": "ipython",
    "version": 3
   },
   "version": "3.6.9"
  },
  "orig_nbformat": 2,
  "file_extension": ".py",
  "mimetype": "text/x-python",
  "name": "python",
  "npconvert_exporter": "python",
  "pygments_lexer": "ipython3",
  "version": 3
 },
 "cells": [
  {
   "cell_type": "markdown",
   "execution_count": null,
   "metadata": {},
   "outputs": [],
   "source": [
    "# 1"
   ]
  },
  {
   "cell_type": "markdown",
   "execution_count": null,
   "metadata": {},
   "outputs": [],
   "source": [
    "直接考虑一遍扫描。\n",
    "\n",
    "后发现需要处理'('和')'数量不一致，需要验证。\n",
    "\n",
    "采用向右向左各扫描一次。"
   ]
  },
  {
   "cell_type": "code",
   "execution_count": 1,
   "metadata": {},
   "outputs": [
    {
     "name": "stdout",
     "output_type": "stream",
     "text": "4\n2\n4\n2\n4\n0\n2\n0\n2\n4\n4\n4\n22\n"
    }
   ],
   "source": [
    "class Solution:\n",
    "    def longestValidParentheses(self, s: str) -> int:\n",
    "        max_len = 0\n",
    "        left = 0\n",
    "        right = 0\n",
    "\n",
    "        for c in s:\n",
    "            if c == '(':\n",
    "                left += 1\n",
    "            else:\n",
    "                right += 1\n",
    "            if left == right:\n",
    "                max_len = max(max_len, 2 * right)\n",
    "            elif right >= left:\n",
    "                left = right = 0\n",
    "\n",
    "        left = right = 0\n",
    "        for c in s[::-1]:\n",
    "            if c == '(':\n",
    "                left += 1\n",
    "            else:\n",
    "                right += 1\n",
    "            if left == right:\n",
    "                max_len = max(max_len, 2 * left)\n",
    "            elif left >= right:\n",
    "                left = right = 0\n",
    "        \n",
    "        return max_len\n",
    "\n",
    "\n",
    "if __name__ == \"__main__\":\n",
    "    s_list = [\")()())\", \"()(()(((\", '))))())()()(()', '(()', ')()())', '', '))()', '))(', '()(()', '(()()', '(()))())(', '((()()(()((()', ')(((((()())()()))()(()))(']\n",
    "\n",
    "    for s in s_list:\n",
    "        print(Solution().longestValidParentheses(s))"
   ]
  },
  {
   "cell_type": "markdown",
   "execution_count": null,
   "metadata": {},
   "outputs": [],
   "source": [
    "执行用时 :48 ms, 在所有 python3 提交中击败了91.87%的用户\n",
    "\n",
    "内存消耗 :12.8 MB, 在所有 python3 提交中击败了99.75%的用户"
   ]
  },
  {
   "cell_type": "markdown",
   "execution_count": null,
   "metadata": {},
   "outputs": [],
   "source": [
    "time:O(n)\n",
    "\n",
    "space:O(1)"
   ]
  }
 ]
}