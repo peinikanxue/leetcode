{
 "cells": [
  {
   "cell_type": "markdown",
   "source": [
    "# 1"
   ],
   "metadata": {}
  },
  {
   "cell_type": "markdown",
   "source": [
    "逐个匹配，然后记录字典中每个词的匹配结果。\n",
    "\n",
    "实际场景：输入法中的候选词。"
   ],
   "metadata": {}
  },
  {
   "cell_type": "code",
   "execution_count": 23,
   "source": [
    "from typing import List\n",
    "\n",
    "class Solution:\n",
    "    def findLongestWord(self, s: str, dictionary: List[str]) -> str:\n",
    "        # dictionary = [x for x in dictionary if len(x) <= len(s)]    # 仅保留长度小于字符串的字典条目\n",
    "        pos = [0 for _ in dictionary] # 对应每个dictionary的词的位置\n",
    "\n",
    "        for ss in s:\n",
    "            for i, dic in enumerate(dictionary):\n",
    "                cur_pos = pos[i]\n",
    "                if cur_pos < len(dic) and dic[cur_pos] == ss:\n",
    "                    pos[i] += 1\n",
    "        # print(pos)\n",
    "\n",
    "        for i, p, d in zip(range(len(pos)), pos, dictionary):   # 只保留完整匹配的\n",
    "            if p != len(d):\n",
    "                pos[i] = 0\n",
    "        # print(pos)\n",
    "\n",
    "        if max(pos) == 0:               # 边界：都不匹配\n",
    "            return ''\n",
    "\n",
    "        if pos.count(max(pos)) == 1:    # 只有一个最长，直接返回\n",
    "            return dictionary[pos.index(max(pos))]\n",
    "        else:                           # 多个最长，选出字典序最小的（为了方便，直接排序，但排序会打乱，先挑出最长的）\n",
    "            dictionary = [dictionary[i] for i, x in enumerate(pos) if x == max(pos)]\n",
    "            dictionary.sort()\n",
    "            return dictionary[0]\n",
    "\n",
    "\n",
    "if __name__ == '__main__':\n",
    "    s_dictionary =[\n",
    "        [\"abpcplea\", [\"ale\",\"apple\",\"monkey\",\"plea\"]],\n",
    "        [\"abpcplea\", [\"a\",\"b\",\"c\"]],\n",
    "        [\"bab\", [\"ba\",\"ab\",\"a\",\"b\"]],\n",
    "        [\"abpcplea\", [\"ale\",\"apple\",\"monkey\",\"plea\",\"abpcplef\"]],\n",
    "        [\"apple\", [\"zxc\",\"vbn\"]]\n",
    "    ]\n",
    "    for s, dictionary in s_dictionary:\n",
    "        print(Solution().findLongestWord(s, dictionary))"
   ],
   "outputs": [
    {
     "output_type": "stream",
     "name": "stdout",
     "text": [
      "apple\n",
      "a\n",
      "ab\n",
      "apple\n",
      "\n"
     ]
    }
   ],
   "metadata": {}
  },
  {
   "cell_type": "markdown",
   "source": [
    "执行用时 :428 ms, 在所有 Python3 提交中击败了50.21%的用户\n",
    "\n",
    "内存消耗 :16.4 MB, 在所有 Python3 提交中击败了12.71%的用户"
   ],
   "metadata": {}
  },
  {
   "cell_type": "markdown",
   "source": [
    "time: O(m*n)\n",
    "\n",
    "space: O(k)\n",
    "\n",
    "> m为字符串的长度 \\\n",
    "> n为字典中字符串的总长 \\\n",
    "> k为字典字符串的数量"
   ],
   "metadata": {}
  }
 ],
 "metadata": {
  "orig_nbformat": 4,
  "language_info": {
   "name": "python",
   "version": "3.8.10",
   "mimetype": "text/x-python",
   "codemirror_mode": {
    "name": "ipython",
    "version": 3
   },
   "pygments_lexer": "ipython3",
   "nbconvert_exporter": "python",
   "file_extension": ".py"
  },
  "kernelspec": {
   "name": "python3",
   "display_name": "Python 3.8.10 64-bit"
  },
  "interpreter": {
   "hash": "31f2aee4e71d21fbe5cf8b01ff0e069b9275f58929596ceb00d14d90e3e16cd6"
  }
 },
 "nbformat": 4,
 "nbformat_minor": 2
}