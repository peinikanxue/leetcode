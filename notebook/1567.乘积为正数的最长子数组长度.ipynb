{
 "cells": [
  {
   "cell_type": "markdown",
   "metadata": {},
   "source": [
    "# 1"
   ]
  },
  {
   "cell_type": "markdown",
   "metadata": {},
   "source": [
    "同152题乘积最大子数组。\n",
    "\n",
    "本题不关心值大小，只在意正负，所以将乘积改为计数。\n",
    "并且正负分开计数。\n",
    "\n",
    "![](../imgs/1567.svg)"
   ]
  },
  {
   "cell_type": "code",
   "execution_count": null,
   "metadata": {},
   "outputs": [],
   "source": [
    "#include <iostream>\n",
    "#include <vector>\n",
    "\n",
    "using namespace std;\n",
    "\n",
    "// @lc code=start\n",
    "class Solution {\n",
    "public:\n",
    "    int getMaxLen(vector<int>& nums) {\n",
    "        if(nums.size() < 1)\n",
    "            return 0x80000000;\n",
    "        int max_val = nums[0]>0 ? 1 : 0, min_val = nums[0]<0 ? -1 : 0;\n",
    "        int ans = max_val;\n",
    "\n",
    "        for(int i=1; i<nums.size(); ++i){\n",
    "            int x = nums[i] == 0 ? 0 : (nums[i] > 0 ? 1 : -1);\n",
    "            int mx = max_val, mn = min_val;\n",
    "            max_val = max(x*mx>0 ? mx+1: 0, max(x*mn>0 ? -mn+1: 0, x>0 ? 1: 0));\n",
    "            min_val = min(x*mn<0 ? mn-1: 0, min(x*mx<0 ? -mx-1: 0, x<0 ? -1: 0));\n",
    "            // cout << max_val << \"\\t\" << min_val << endl;\n",
    "            ans = max(max_val, ans);\n",
    "        }\n",
    "        return ans;\n",
    "    }\n",
    "};\n",
    "// @lc code=end\n",
    "\n",
    "int main(int argc, char const *argv[])\n",
    "{\n",
    "    vector<int> nums {-17, 0, 3, 5, -2, 10, 0, -10, 7, -6, 2, 0, -5, -10, 6, -3, 8, -10, 7, -4, 9, 6, 0, -2, -3, -4};\n",
    "    cout << Solution().getMaxLen(nums) << endl;\n",
    "    return 0;\n",
    "}"
   ]
  },
  {
   "cell_type": "markdown",
   "metadata": {},
   "source": [
    "112/112 cases passed (72 ms)\\\n",
    "Your runtime beats 99.35 % of cpp submissions\\\n",
    "Your memory usage beats 95.09 % of cpp submissions (56.4 MB)"
   ]
  },
  {
   "cell_type": "markdown",
   "metadata": {},
   "source": [
    "time: O(n)\n",
    "\n",
    "space: O(1)"
   ]
  }
 ],
 "metadata": {
  "interpreter": {
   "hash": "31f2aee4e71d21fbe5cf8b01ff0e069b9275f58929596ceb00d14d90e3e16cd6"
  },
  "kernelspec": {
   "display_name": "Python 3.8.10 64-bit",
   "name": "python3"
  },
  "language_info": {
   "name": "python",
   "version": "3.8.10"
  },
  "orig_nbformat": 4
 },
 "nbformat": 4,
 "nbformat_minor": 2
}
