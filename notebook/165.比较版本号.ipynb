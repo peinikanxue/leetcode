{
 "cells": [
  {
   "cell_type": "markdown",
   "source": [
    "# 1"
   ],
   "metadata": {}
  },
  {
   "cell_type": "markdown",
   "source": [
    "直接做"
   ],
   "metadata": {}
  },
  {
   "cell_type": "code",
   "execution_count": 9,
   "source": [
    "class Solution:\n",
    "    def compareVersion(self, version1: str, version2: str) -> int:\n",
    "        v1 = list(map(int, version1.split('.')))\n",
    "        v2 = list(map(int, version2.split('.')))\n",
    "\n",
    "        if len(v1) > len(v2):\n",
    "            v2 += [0] * (len(v1) - len(v2))\n",
    "        else:\n",
    "            v1 += [0] * (len(v2) - len(v1))\n",
    "        \n",
    "        # print(v1)\n",
    "        # print(v2)\n",
    "\n",
    "        for x1, x2 in zip(v1, v2):\n",
    "            if x1 > x2:\n",
    "                return 1\n",
    "            elif x1 < x2:\n",
    "                return -1\n",
    "            else:\n",
    "                continue\n",
    "        return 0\n",
    "\n",
    "\n",
    "if __name__ == '__main__':\n",
    "    version_list = [\n",
    "        (\"1.01\", \"1.001\"),\n",
    "        (\"1.0\", \"1.0.0\"),\n",
    "        (\"0.1\", \"1.1\"),\n",
    "        (\"1.0.1\", \"1\"),\n",
    "        (\"7.5.2.4\", \"7.5.3\"),\n",
    "    ]\n",
    "\n",
    "    for version1, version2 in version_list:\n",
    "        print(Solution().compareVersion(version1, version2))"
   ],
   "outputs": [
    {
     "output_type": "stream",
     "name": "stdout",
     "text": [
      "0\n",
      "0\n",
      "-1\n",
      "1\n",
      "-1\n"
     ]
    }
   ],
   "metadata": {}
  },
  {
   "cell_type": "markdown",
   "source": [
    "执行用时：36 ms, 在所有 Python3 提交中击败了51.55%的用户\n",
    "\n",
    "内存消耗：15 MB, 在所有 Python3 提交中击败了37.67%的用户"
   ],
   "metadata": {}
  },
  {
   "cell_type": "markdown",
   "source": [
    "time: O(n)\n",
    "\n",
    "space: O(n)"
   ],
   "metadata": {}
  }
 ],
 "metadata": {
  "language_info": {
   "codemirror_mode": {
    "name": "ipython",
    "version": 3
   },
   "file_extension": ".py",
   "mimetype": "text/x-python",
   "name": "python",
   "nbconvert_exporter": "python",
   "pygments_lexer": "ipython3",
   "version": "3.8.10"
  },
  "orig_nbformat": 2,
  "kernelspec": {
   "name": "python3",
   "display_name": "Python 3.8.10 64-bit"
  },
  "interpreter": {
   "hash": "916dbcbb3f70747c44a77c7bcd40155683ae19c65e1c03b4aa3499c5328201f1"
  }
 },
 "nbformat": 4,
 "nbformat_minor": 2
}