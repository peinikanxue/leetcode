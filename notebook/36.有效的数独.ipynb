{
 "nbformat": 4,
 "nbformat_minor": 2,
 "metadata": {
  "language_info": {
   "name": "python",
   "codemirror_mode": {
    "name": "ipython",
    "version": 3
   },
   "version": "3.6.9-final"
  },
  "orig_nbformat": 2,
  "file_extension": ".py",
  "mimetype": "text/x-python",
  "name": "python",
  "npconvert_exporter": "python",
  "pygments_lexer": "ipython3",
  "version": 3,
  "kernelspec": {
   "name": "python36964bite598b62db32c485f95dbcc3befe555ab",
   "display_name": "Python 3.6.9 64-bit"
  }
 },
 "cells": [
  {
   "cell_type": "markdown",
   "execution_count": null,
   "metadata": {},
   "outputs": [],
   "source": [
    "# 1"
   ]
  },
  {
   "cell_type": "markdown",
   "execution_count": null,
   "metadata": {},
   "outputs": [],
   "source": [
    "按行，按列，按3X3方格计数用过的数。"
   ]
  },
  {
   "cell_type": "code",
   "execution_count": 1,
   "metadata": {},
   "outputs": [
    {
     "name": "stdout",
     "output_type": "stream",
     "text": "True\nFalse\nFalse\n"
    }
   ],
   "source": [
    "from utils import *\n",
    "\n",
    "class Solution:\n",
    "    def isValidSudoku(self, board: List[List[str]]) -> bool:\n",
    "        num_dict_origin = {'.':10, '1':1, '2':1, '3':1, '4':1, '5':1, '6':1, '7':1, '8':1, '9':1}\n",
    "        # 行\n",
    "        for row in board:\n",
    "            num_dict = num_dict_origin.copy()\n",
    "            for col in row:\n",
    "                if num_dict[col] > 0: \n",
    "                    num_dict[col] -= 1\n",
    "                else:\n",
    "                    return False\n",
    "        # 列\n",
    "        for c in range(len(board[0])):\n",
    "            num_dict = num_dict_origin.copy()\n",
    "            for r in range(len(board)):\n",
    "                val = board[r][c]\n",
    "                if num_dict[val] > 0:\n",
    "                    num_dict[val] -= 1\n",
    "                else:\n",
    "                    return False\n",
    "        # 3x3\n",
    "        for R in range(len(board)//3):\n",
    "            for C in range(len(board[0])//3):\n",
    "                num_dict = num_dict_origin.copy()\n",
    "                for r in range(3):\n",
    "                    for c in range(3):\n",
    "                        val = board[R*3+r][C*3+c]\n",
    "                        if num_dict[val] > 0:\n",
    "                            num_dict[val] -= 1\n",
    "                        else:\n",
    "                            return False\n",
    "        return True\n",
    "\n",
    "\n",
    "\n",
    "if __name__ == \"__main__\":\n",
    "    board_list = [\n",
    "        [\n",
    "            [\"5\",\"3\",\".\",\".\",\"7\",\".\",\".\",\".\",\".\"],\n",
    "            [\"6\",\".\",\".\",\"1\",\"9\",\"5\",\".\",\".\",\".\"],\n",
    "            [\".\",\"9\",\"8\",\".\",\".\",\".\",\".\",\"6\",\".\"],\n",
    "            [\"8\",\".\",\".\",\".\",\"6\",\".\",\".\",\".\",\"3\"],\n",
    "            [\"4\",\".\",\".\",\"8\",\".\",\"3\",\".\",\".\",\"1\"],\n",
    "            [\"7\",\".\",\".\",\".\",\"2\",\".\",\".\",\".\",\"6\"],\n",
    "            [\".\",\"6\",\".\",\".\",\".\",\".\",\"2\",\"8\",\".\"],\n",
    "            [\".\",\".\",\".\",\"4\",\"1\",\"9\",\".\",\".\",\"5\"],\n",
    "            [\".\",\".\",\".\",\".\",\"8\",\".\",\".\",\"7\",\"9\"]\n",
    "        ],\n",
    "        [\n",
    "            [\"8\",\"3\",\".\",\".\",\"7\",\".\",\".\",\".\",\".\"],\n",
    "            [\"6\",\".\",\".\",\"1\",\"9\",\"5\",\".\",\".\",\".\"],\n",
    "            [\".\",\"9\",\"8\",\".\",\".\",\".\",\".\",\"6\",\".\"],\n",
    "            [\"8\",\".\",\".\",\".\",\"6\",\".\",\".\",\".\",\"3\"],\n",
    "            [\"4\",\".\",\".\",\"8\",\".\",\"3\",\".\",\".\",\"1\"],\n",
    "            [\"7\",\".\",\".\",\".\",\"2\",\".\",\".\",\".\",\"6\"],\n",
    "            [\".\",\"6\",\".\",\".\",\".\",\".\",\"2\",\"8\",\".\"],\n",
    "            [\".\",\".\",\".\",\"4\",\"1\",\"9\",\".\",\".\",\"5\"],\n",
    "            [\".\",\".\",\".\",\".\",\"8\",\".\",\".\",\"7\",\"9\"]\n",
    "        ],\n",
    "        [\n",
    "            [\".\",\".\",\".\",\".\",\"5\",\".\",\".\",\"1\",\".\"],\n",
    "            [\".\",\"4\",\".\",\"3\",\".\",\".\",\".\",\".\",\".\"],\n",
    "            [\".\",\".\",\".\",\".\",\".\",\"3\",\".\",\".\",\"1\"],\n",
    "            [\"8\",\".\",\".\",\".\",\".\",\".\",\".\",\"2\",\".\"],\n",
    "            [\".\",\".\",\"2\",\".\",\"7\",\".\",\".\",\".\",\".\"],\n",
    "            [\".\",\"1\",\"5\",\".\",\".\",\".\",\".\",\".\",\".\"],\n",
    "            [\".\",\".\",\".\",\".\",\".\",\"2\",\".\",\".\",\".\"],\n",
    "            [\".\",\"2\",\".\",\"9\",\".\",\".\",\".\",\".\",\".\"],\n",
    "            [\".\",\".\",\"4\",\".\",\".\",\".\",\".\",\".\",\".\"]\n",
    "        ],\n",
    "    ]\n",
    "\n",
    "    for board in board_list:\n",
    "        print(Solution().isValidSudoku(board))\n"
   ]
  },
  {
   "cell_type": "markdown",
   "execution_count": null,
   "metadata": {},
   "outputs": [],
   "source": [
    "执行用时 :56 ms, 在所有 Python3 提交中击败了89.33%的用户\n",
    "\n",
    "内存消耗 :13.5 MB, 在所有 Python3 提交中击败了95.10%"
   ]
  },
  {
   "cell_type": "markdown",
   "metadata": {},
   "source": [
    "time:O(1)\n",
    "\n",
    "space:O(1)"
   ]
  }
 ]
}