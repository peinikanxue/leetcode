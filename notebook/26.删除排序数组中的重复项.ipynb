{
 "cells": [
  {
   "cell_type": "markdown",
   "source": [
    "# 1"
   ],
   "metadata": {}
  },
  {
   "cell_type": "markdown",
   "source": [
    "直接交换，计数。"
   ],
   "metadata": {}
  },
  {
   "cell_type": "code",
   "execution_count": 2,
   "source": [
    "from typing import List\n",
    "\n",
    "class Solution:\n",
    "    def removeDuplicates(self, nums: List[int]) -> int:\n",
    "\n",
    "        if not nums:    # 边界：没有值\n",
    "            return 0\n",
    "\n",
    "        count = 1   # 计数\n",
    "        index = 1   # 记录交换的位置\n",
    "\n",
    "        for i in range(1, len(nums)):\n",
    "            if nums[i] != nums[i-1]:\n",
    "                count += 1\n",
    "                nums[index] = nums[i]   # 移动值\n",
    "                index += 1\n",
    "        return count\n",
    "\n",
    "\n",
    "if __name__ == \"__main__\":\n",
    "    nums_list = [\n",
    "        [],\n",
    "        [0, 0],\n",
    "        [0, 1],\n",
    "        [0, 0, 1, 1, 1, 2, 2, 3, 3, 4],\n",
    "    ]\n",
    "\n",
    "    for nums in nums_list:\n",
    "        print(Solution().removeDuplicates(nums), end=' - ')\n",
    "        print(nums)"
   ],
   "outputs": [
    {
     "output_type": "stream",
     "name": "stdout",
     "text": [
      "0 - []\n",
      "1 - [0, 0]\n",
      "2 - [0, 1]\n",
      "5 - [0, 1, 2, 3, 4, 2, 2, 3, 3, 4]\n"
     ]
    }
   ],
   "metadata": {}
  },
  {
   "cell_type": "markdown",
   "source": [
    "执行用时 :96 ms, 在所有 python3 提交中击败了98.34%的用户\n",
    "\n",
    "内存消耗 :15.4 MB, 在所有 python3 提交中击败了5.25%的用户"
   ],
   "metadata": {}
  },
  {
   "cell_type": "markdown",
   "source": [
    "time:O(n)\n",
    "\n",
    "space:O(1)"
   ],
   "metadata": {}
  }
 ],
 "metadata": {
  "kernelspec": {
   "display_name": "Python 3",
   "language": "python",
   "name": "python3"
  },
  "language_info": {
   "codemirror_mode": {
    "name": "ipython",
    "version": 3
   },
   "file_extension": ".py",
   "mimetype": "text/x-python",
   "name": "python",
   "nbconvert_exporter": "python",
   "pygments_lexer": "ipython3",
   "version": "3.6.8"
  }
 },
 "nbformat": 4,
 "nbformat_minor": 2
}