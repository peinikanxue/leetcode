{
 "cells": [
  {
   "cell_type": "markdown",
   "metadata": {},
   "source": [
    "# 1"
   ]
  },
  {
   "cell_type": "markdown",
   "metadata": {},
   "source": [
    "思路同前一题。"
   ]
  },
  {
   "cell_type": "code",
   "execution_count": 1,
   "metadata": {},
   "outputs": [
    {
     "name": "stdout",
     "output_type": "stream",
     "text": [
      "3\n",
      "4\n",
      "9\n",
      "58\n",
      "1994\n"
     ]
    }
   ],
   "source": [
    "class Solution:\n",
    "    def romanToInt(self, s: str) -> int:\n",
    "        roman_dict = {\n",
    "            'IV':4,\n",
    "            'IX':9,\n",
    "            'XL':40,\n",
    "            'XC':90,\n",
    "            'CD':400,\n",
    "            'CM':900,\n",
    "            'I':1,\n",
    "            'V':5,\n",
    "            'X':10,\n",
    "            'L':50,\n",
    "            'C':100,\n",
    "            'D':500,\n",
    "            'M':1000,\n",
    "        }\n",
    "\n",
    "        num = 0\n",
    "        i = 0\n",
    "\n",
    "        while True:\n",
    "            if i >= len(s):\n",
    "                break\n",
    "\n",
    "            if s[i:i+2] in roman_dict:\n",
    "                num += roman_dict[s[i:i+2]]\n",
    "                i += 2\n",
    "            else:\n",
    "                num += roman_dict[s[i]]\n",
    "                i += 1\n",
    "        \n",
    "        return num\n",
    "\n",
    "if __name__ == \"__main__\":\n",
    "    s_list = [\"III\", \"IV\", \"IX\", \"LVIII\", \"MCMXCIV\"]\n",
    "    for s in s_list:\n",
    "        print(Solution().romanToInt(s))"
   ]
  },
  {
   "cell_type": "markdown",
   "metadata": {},
   "source": [
    "执行用时 :64 ms, 在所有 python3 提交中击败了86.12%的用户\n",
    "\n",
    "内存消耗 :14 MB, 在所有 python3 提交中击败了5.25%的用户"
   ]
  },
  {
   "cell_type": "markdown",
   "metadata": {},
   "source": [
    "时间复杂度：O(n)\n",
    "\n",
    "空间复杂度：O(1)"
   ]
  }
 ],
 "metadata": {
  "kernelspec": {
   "display_name": "Python 3",
   "language": "python",
   "name": "python3"
  },
  "language_info": {
   "codemirror_mode": {
    "name": "ipython",
    "version": 3
   },
   "file_extension": ".py",
   "mimetype": "text/x-python",
   "name": "python",
   "nbconvert_exporter": "python",
   "pygments_lexer": "ipython3",
   "version": "3.6.8"
  }
 },
 "nbformat": 4,
 "nbformat_minor": 2
}
