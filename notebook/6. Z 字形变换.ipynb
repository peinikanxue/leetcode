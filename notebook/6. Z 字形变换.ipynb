{
 "cells": [
  {
   "cell_type": "markdown",
   "metadata": {},
   "source": [
    "难度：中等"
   ]
  },
  {
   "cell_type": "markdown",
   "metadata": {},
   "source": [
    "将一个给定字符串根据给定的行数，以从上往下、从左到右进行 Z 字形排列。\n",
    "\n",
    "比如输入字符串为 \"LEETCODEISHIRING\" 行数为 3 时，排列如下：\n",
    "\n",
    "```\n",
    "L   C   I   R\n",
    "\n",
    "E T O E S I I G\n",
    "\n",
    "E   D   H   N\n",
    "```\n",
    "之后，你的输出需要从左往右逐行读取，产生出一个新的字符串，比如：\"LCIRETOESIIGEDHN\"。"
   ]
  },
  {
   "cell_type": "markdown",
   "metadata": {},
   "source": [
    "## 最终"
   ]
  },
  {
   "cell_type": "code",
   "execution_count": 1,
   "metadata": {},
   "outputs": [],
   "source": [
    "class Solution:\n",
    "    def convert(self, s: str, numRows: int) -> str:\n",
    "        \n",
    "        if numRows == 1:\n",
    "            return s\n",
    "\n",
    "        out = ''\n",
    "        length = len(s)\n",
    "        col1 = 2 * numRows - 2\n",
    "        col2 = 0\n",
    "\n",
    "        for r in range(numRows):\n",
    "            i = r\n",
    "            \n",
    "            if i >= len(s): # 边界处理\n",
    "                break\n",
    "\n",
    "            while True:\n",
    "                if col1 != 0:\n",
    "                    out += s[i]\n",
    "                    i += col1\n",
    "                    if i >= length:\n",
    "                        break\n",
    "\n",
    "                if col2 != 0:    \n",
    "                    out += s[i]\n",
    "                    i += col2\n",
    "                    if i >= length:\n",
    "                        break\n",
    "            col1 -= 2\n",
    "            col2 += 2\n",
    "        \n",
    "        return out"
   ]
  },
  {
   "cell_type": "markdown",
   "metadata": {},
   "source": [
    "## 过程"
   ]
  },
  {
   "cell_type": "markdown",
   "metadata": {},
   "source": [
    "### 1"
   ]
  },
  {
   "cell_type": "markdown",
   "metadata": {},
   "source": [
    "首先想到建立多个数组，依次添加，再取出。"
   ]
  },
  {
   "cell_type": "code",
   "execution_count": null,
   "metadata": {},
   "outputs": [],
   "source": [
    "class Solution:\n",
    "    def convert(self, s: str, numRows: int) -> str:\n",
    "        \n",
    "        s_list = [[] for i in range(numRows)]\n",
    "\n",
    "        row = 0\n",
    "        flag = True # 顺序:向下?向上?\n",
    "\n",
    "        for i in range(len(s)):\n",
    "            s_list[row].append(s[i])\n",
    "            \n",
    "            if numRows == 1:\n",
    "                continue\n",
    "\n",
    "            row = row + 1 if flag else row - 1\n",
    "\n",
    "            if row == 0:\n",
    "                flag = True\n",
    "            elif row == numRows - 1:\n",
    "                flag = False\n",
    "        \n",
    "        out = ''\n",
    "        for x in s_list:\n",
    "            for y in x:\n",
    "                out += y\n",
    "        \n",
    "        return out\n",
    "\n",
    "s_list = ['LEETCODEISHIRING', 'LEETCODEISHIRING', 'AB']\n",
    "numRows_list = [3, 4, 1]\n",
    "\n",
    "for i in range(len(s_list)):\n",
    "    print(Solution().convert(s_list[i], numRows_list[i]))"
   ]
  },
  {
   "cell_type": "markdown",
   "metadata": {},
   "source": [
    "执行用时 :104 ms, 在所有 Python3 提交中击败了50.31%的用户\n",
    "\n",
    "内存消耗 :14 MB, 在所有 Python3 提交中击败了7.68%的用户\n",
    "\n",
    "时间复杂度：$O(N*2)$\n",
    "\n",
    "空间复杂度：$O(N)$"
   ]
  },
  {
   "cell_type": "markdown",
   "metadata": {},
   "source": [
    "### 2"
   ]
  },
  {
   "cell_type": "markdown",
   "metadata": {},
   "source": [
    "观察规律，计算出取数的位置，移除了空间的消耗。"
   ]
  },
  {
   "cell_type": "code",
   "execution_count": 2,
   "metadata": {},
   "outputs": [
    {
     "name": "stdout",
     "output_type": "stream",
     "text": [
      "LCIRETOESIIGEDHN\n",
      "LDREOEIIECIHNTSG\n",
      "AB\n",
      "A\n",
      "AB\n"
     ]
    }
   ],
   "source": [
    "class Solution:\n",
    "    def convert(self, s: str, numRows: int) -> str:\n",
    "        \n",
    "        if numRows == 1:\n",
    "            return s\n",
    "\n",
    "        out = ''\n",
    "        length = len(s)\n",
    "        col1 = 2 * numRows - 2\n",
    "        col2 = 0\n",
    "\n",
    "        for r in range(numRows):\n",
    "            i = r\n",
    "            \n",
    "            if i >= len(s): # 边界处理\n",
    "                break\n",
    "\n",
    "            while True:\n",
    "                if col1 != 0:\n",
    "                    out += s[i]\n",
    "                    i += col1\n",
    "                    if i >= length:\n",
    "                        break\n",
    "\n",
    "                if col2 != 0:    \n",
    "                    out += s[i]\n",
    "                    i += col2\n",
    "                    if i >= length:\n",
    "                        break\n",
    "            col1 -= 2\n",
    "            col2 += 2\n",
    "        \n",
    "        return out\n",
    "        \n",
    "\n",
    "s_list = ['LEETCODEISHIRING', 'LEETCODEISHIRING', 'AB', 'A', 'AB']\n",
    "numRows_list = [3, 4, 1, 2, 3]\n",
    "\n",
    "for i in range(len(s_list)):\n",
    "    print(Solution().convert(s_list[i], numRows_list[i]))"
   ]
  },
  {
   "cell_type": "markdown",
   "metadata": {},
   "source": [
    "执行用时 :68 ms, 在所有 Python3 提交中击败了98.79%的用户\n",
    "\n",
    "内存消耗 :14 MB, 在所有 Python3 提交中击败了7.68%的用户\n",
    "\n",
    "时间复杂度：$O(N)$\n",
    "\n",
    "空间复杂度：$O(1)$"
   ]
  }
 ],
 "metadata": {
  "kernelspec": {
   "display_name": "Python 3",
   "language": "python",
   "name": "python3"
  },
  "language_info": {
   "codemirror_mode": {
    "name": "ipython",
    "version": 3
   },
   "file_extension": ".py",
   "mimetype": "text/x-python",
   "name": "python",
   "nbconvert_exporter": "python",
   "pygments_lexer": "ipython3",
   "version": "3.6.8"
  }
 },
 "nbformat": 4,
 "nbformat_minor": 2
}
