{
 "cells": [
  {
   "cell_type": "markdown",
   "source": [
    "# 1"
   ],
   "metadata": {}
  },
  {
   "cell_type": "markdown",
   "source": [
    "贪心\n",
    "\n",
    "同53题，\\\n",
    "最简单的是重复n遍，以不同的位置作为起始。"
   ],
   "metadata": {}
  },
  {
   "cell_type": "code",
   "execution_count": 9,
   "source": [
    "from typing import List\n",
    "\n",
    "\n",
    "class Solution:\n",
    "    def maxSubarraySumCircular(self, nums: List[int]) -> int:\n",
    "        ans = nums[0]\n",
    "        for i in range(len(nums)):\n",
    "            tmp = nums[i]\n",
    "            for range_x in [range(i+1, len(nums)), range(i)]:\n",
    "                for j in range_x:\n",
    "                    # print(j, end=' ')\n",
    "                    tmp = max(tmp, 0)\n",
    "                    tmp += nums[j]\n",
    "                    ans = max(tmp, ans)\n",
    "        return ans\n",
    "\n",
    "\n",
    "if __name__ == '__main__':\n",
    "    nums_list = [\n",
    "        [1,-2,3,-2],\n",
    "        [5,-3,5],\n",
    "        [3,-1,2,-1],\n",
    "        [3,-2,2,-3],\n",
    "        [-2,-3,-1],\n",
    "        [3, -3, 1, -3, 4, -1, 2, 1, -3, 4, -1],\n",
    "    ]\n",
    "\n",
    "    for nums in nums_list:\n",
    "        print(Solution().maxSubarraySumCircular(nums))"
   ],
   "outputs": [
    {
     "output_type": "stream",
     "name": "stdout",
     "text": [
      "3\n",
      "10\n",
      "4\n",
      "3\n",
      "-1\n",
      "9\n"
     ]
    }
   ],
   "metadata": {}
  },
  {
   "cell_type": "markdown",
   "source": [
    "超时"
   ],
   "metadata": {}
  },
  {
   "cell_type": "markdown",
   "source": [
    "# 2 ✘"
   ],
   "metadata": {}
  },
  {
   "cell_type": "markdown",
   "source": [
    "为了联系首尾，在第一次遍历完，继续重头再遍历到重置点。\n",
    "\n",
    "分情况讨论，特殊处理。"
   ],
   "metadata": {}
  },
  {
   "cell_type": "code",
   "execution_count": 23,
   "source": [
    "from typing import List\n",
    "\n",
    "\n",
    "class Solution:\n",
    "    def maxSubarraySumCircular(self, nums: List[int]) -> int:\n",
    "        def max_or_min_subarray(nums, start, end, init_val, func=max):\n",
    "            ans = init_val\n",
    "            tmp = ans\n",
    "            idx_start, idx_end = 0, 0\n",
    "            for i in range(start, end):\n",
    "                tmp = func(tmp, 0)\n",
    "                idx_start = i if tmp == 0 else idx_start\n",
    "                tmp += nums[i]\n",
    "                ans = func(tmp, ans)\n",
    "                idx_end = i if tmp == ans else idx_end\n",
    "            return ans, (idx_start, idx_end), tmp\n",
    "        \n",
    "        ans, (idx_start, idx_end), ans_end = max_or_min_subarray(nums, 1, len(nums), nums[0], max)\n",
    "        print('max:', ans, f'idx:{idx_start}-{idx_end}', 'tmp:', ans_end, end='\\t')\n",
    "        if idx_start == 0:\n",
    "            min_ans, (idx_start2, idx_end2), _ = max_or_min_subarray(nums, 1, len(nums), nums[0], min)\n",
    "            if ans > 0 and min_ans < 0: # ans>0除去最大和为负数的情况，min_ans<0除去数组全大于0的情况\n",
    "                if idx_start <= idx_start2 and idx_end >= idx_end2:\n",
    "                    ans -= min_ans\n",
    "                else:   # 不在idx_start-idx_end之间，ans和ans_end-min_ans比\n",
    "                    ans = max(ans, ans_end-min_ans)\n",
    "            print('min:', min_ans)\n",
    "        else:\n",
    "            ans_start, _, _ = max_or_min_subarray(nums, 0, idx_start, ans_end, max)\n",
    "            ans = max(ans, ans_start)\n",
    "            print('start_max:', ans_start)\n",
    "        return ans\n",
    "\n",
    "\n",
    "if __name__ == '__main__':\n",
    "    nums_list = [\n",
    "        [1,-2,3,-2],\n",
    "        [5,-3,5],\n",
    "        [3,-1,2,-1],\n",
    "        [3,-2,2,-3],\n",
    "        [-2,-3,-1],\n",
    "        [3, -3, 1, -3, 4, -1, 2, 1, -3, 4, -1],\n",
    "        [-2],\n",
    "        [3,1,3,2,6],\n",
    "        [5,5,0,-5,3,-3,2],\n",
    "        [0,5,8,-9,9,-7,3,-2],\n",
    "    ]\n",
    "\n",
    "    for nums in nums_list:\n",
    "        print(Solution().maxSubarraySumCircular(nums))"
   ],
   "outputs": [
    {
     "output_type": "stream",
     "name": "stdout",
     "text": [
      "max: 3 idx:2-2 tmp: 1\tstart_max: 2\n",
      "3\n",
      "max: 7 idx:0-2 tmp: 7\tmin: -3\n",
      "10\n",
      "max: 4 idx:0-2 tmp: 3\tmin: -1\n",
      "4\n",
      "max: 3 idx:0-2 tmp: 0\tmin: -3\n",
      "3\n",
      "max: -1 idx:2-2 tmp: -1\tstart_max: -1\n",
      "-1\n",
      "max: 7 idx:4-9 tmp: 6\tstart_max: 9\n",
      "9\n",
      "max: -2 idx:0-0 tmp: -2\tmin: -2\n",
      "-2\n",
      "max: 15 idx:0-4 tmp: 15\tmin: 1\n",
      "15\n",
      "max: 10 idx:0-2 tmp: 7\tmin: -5\n",
      "12\n",
      "max: 13 idx:1-4 tmp: 7\tstart_max: 7\n",
      "13\n"
     ]
    }
   ],
   "metadata": {}
  },
  {
   "cell_type": "markdown",
   "source": [
    "101/110 cases passed"
   ],
   "metadata": {}
  },
  {
   "cell_type": "markdown",
   "source": [
    "未全部通过，特殊处理太多，不够精简。"
   ],
   "metadata": {}
  },
  {
   "cell_type": "markdown",
   "source": [
    "# 3"
   ],
   "metadata": {}
  },
  {
   "cell_type": "markdown",
   "source": [
    "更换思路，分成2部分。\n",
    "\n",
    "第一部分是从头开始。\\\n",
    "第二部分是除去最小和之外的两端。\n",
    "\n",
    "![](../imgs/918.svg)"
   ],
   "metadata": {}
  },
  {
   "cell_type": "code",
   "execution_count": 53,
   "source": [
    "from typing import List\n",
    "\n",
    "\n",
    "class Solution:\n",
    "    def maxSubarraySumCircular(self, nums: List[int]) -> int:\n",
    "        def max_or_min_subarray(nums, range_x, init_val, func=max):\n",
    "            ans = init_val\n",
    "            tmp = ans\n",
    "            idx_start, idx_end = [], 0  # max/min的起点不确定，用列表存起来\n",
    "            for i in range_x:\n",
    "                tmp = func(tmp, 0)\n",
    "                if tmp == 0:\n",
    "                    idx_start.append(i)\n",
    "                tmp += nums[i]\n",
    "                ans = func(tmp, ans)\n",
    "                idx_end = i if tmp == ans else idx_end\n",
    "            idx_start = [x for x in idx_start if x<=idx_end]    # 挑出起点\n",
    "            idx_start = idx_start[-1] if idx_start else 0\n",
    "            return ans, (idx_start, idx_end)\n",
    "        \n",
    "        ans, _ = max_or_min_subarray(nums, range(1, len(nums)), nums[0])\n",
    "        # print('ans1:', ans, end='\\t')\n",
    "        _, (idx_start, idx_end) = max_or_min_subarray(nums, range(1, len(nums)), nums[0], func=min)\n",
    "        # print(f'min_ans:{_} idx:{idx_start}-{idx_end}', end='\\t')\n",
    "        range_x = list(range(idx_end+1, len(nums))) + list(range(idx_start))  # 两端\n",
    "        if range_x:\n",
    "            ans2, _ = max_or_min_subarray(nums, range_x[1:], nums[range_x[0]])\n",
    "            ans = max(ans, ans2)\n",
    "        # print(range_x)\n",
    "        return ans\n",
    "\n",
    "\n",
    "if __name__ == '__main__':\n",
    "    nums_list = [\n",
    "        [1,-2,3,-2],\n",
    "        [5,-3,5],\n",
    "        [3,-1,2,-1],\n",
    "        [3,-2,2,-3],\n",
    "        [-2,-3,-1],\n",
    "        [3, -3, 1, -3, 4, -1, 2, 1, -3, 4, -1],\n",
    "        [-2],\n",
    "        [3,1,3,2,6],\n",
    "        [5,5,0,-5,3,-3,2],\n",
    "        [0,5,8,-9,9,-7,3,-2],\n",
    "    ]\n",
    "\n",
    "    for nums in nums_list:\n",
    "        print(Solution().maxSubarraySumCircular(nums))"
   ],
   "outputs": [
    {
     "output_type": "stream",
     "name": "stdout",
     "text": [
      "ans1: 3\tmin_ans:-2 idx:3-3\t[0, 1, 2]\n",
      "3\n",
      "ans1: 7\tmin_ans:-3 idx:1-1\t[2, 0]\n",
      "10\n",
      "ans1: 4\tmin_ans:-1 idx:3-3\t[0, 1, 2]\n",
      "4\n",
      "ans1: 3\tmin_ans:-3 idx:3-3\t[0, 1, 2]\n",
      "3\n",
      "ans1: -1\tmin_ans:-6 idx:0-2\t[]\n",
      "-1\n",
      "ans1: 7\tmin_ans:-5 idx:1-3\t[4, 5, 6, 7, 8, 9, 10, 0]\n",
      "9\n",
      "ans1: -2\tmin_ans:-2 idx:0-0\t[]\n",
      "-2\n",
      "ans1: 15\tmin_ans:1 idx:1-1\t[2, 3, 4, 0]\n",
      "15\n",
      "ans1: 10\tmin_ans:-5 idx:3-5\t[6, 0, 1, 2]\n",
      "12\n",
      "ans1: 13\tmin_ans:-9 idx:3-3\t[4, 5, 6, 7, 0, 1, 2]\n",
      "16\n"
     ]
    }
   ],
   "metadata": {}
  },
  {
   "cell_type": "markdown",
   "source": [
    "110/110 cases passed (236 ms)\\\n",
    "Your runtime beats 15.79 % of python3 submissions\\\n",
    "Your memory usage beats 26.47 % of python3 submissions (18.4 MB)"
   ],
   "metadata": {}
  },
  {
   "cell_type": "markdown",
   "source": [
    "time: O(n)\n",
    "\n",
    "space: O(1)\n",
    "\n",
    "> 空间本应该是O(1)，但这里range_x为了方便直接list，实际为O(n)。"
   ],
   "metadata": {}
  },
  {
   "cell_type": "markdown",
   "source": [
    "# 3+"
   ],
   "metadata": {}
  },
  {
   "cell_type": "markdown",
   "source": [
    "看了题解后，突然想到其实徒劳多做了一次range_x的寻找最大子序列和。\\\n",
    "连位置也不用记录了，代码也精简了。"
   ],
   "metadata": {}
  },
  {
   "cell_type": "code",
   "execution_count": 4,
   "source": [
    "from typing import List\n",
    "\n",
    "\n",
    "class Solution:\n",
    "    def maxSubarraySumCircular(self, nums: List[int]) -> int:\n",
    "        def max_or_min_subarray(nums, func=max):\n",
    "            ans = nums[0]\n",
    "            tmp = ans\n",
    "            for i in range(1, len(nums)):\n",
    "                tmp = func(tmp, 0)\n",
    "                tmp += nums[i]\n",
    "                ans = func(tmp, ans)\n",
    "            return ans\n",
    "        \n",
    "        ans = max_or_min_subarray(nums)\n",
    "        if ans < 0:\n",
    "            return ans\n",
    "        ans_min = max_or_min_subarray(nums, func=min)\n",
    "        ans = max(ans, sum(nums)-ans_min)\n",
    "        # print(ans, ans_min)\n",
    "        return ans\n",
    "\n",
    "\n",
    "if __name__ == '__main__':\n",
    "    nums_list = [\n",
    "        [1,-2,3,-2],\n",
    "        [5,-3,5],\n",
    "        [3,-1,2,-1],\n",
    "        [3,-2,2,-3],\n",
    "        [-2,-3,-1],\n",
    "        [3, -3, 1, -3, 4, -1, 2, 1, -3, 4, -1],\n",
    "        [-2],\n",
    "        [3,1,3,2,6],\n",
    "        [5,5,0,-5,3,-3,2],\n",
    "        [0,5,8,-9,9,-7,3,-2],\n",
    "    ]\n",
    "\n",
    "    for nums in nums_list:\n",
    "        print(Solution().maxSubarraySumCircular(nums))"
   ],
   "outputs": [
    {
     "output_type": "stream",
     "name": "stdout",
     "text": [
      "3\n",
      "10\n",
      "4\n",
      "3\n",
      "-1\n",
      "9\n",
      "-2\n",
      "15\n",
      "12\n",
      "16\n"
     ]
    }
   ],
   "metadata": {}
  },
  {
   "cell_type": "markdown",
   "source": [
    "110/110 cases passed (148 ms)\\\n",
    "Your runtime beats 86.85 % of python3 submissions\\\n",
    "Your memory usage beats 78.51 % of python3 submissions (18 MB)"
   ],
   "metadata": {}
  },
  {
   "cell_type": "markdown",
   "source": [
    "time: O(n)\n",
    "\n",
    "space: O(1)"
   ],
   "metadata": {}
  }
 ],
 "metadata": {
  "orig_nbformat": 4,
  "language_info": {
   "name": "python",
   "version": "3.8.10",
   "mimetype": "text/x-python",
   "codemirror_mode": {
    "name": "ipython",
    "version": 3
   },
   "pygments_lexer": "ipython3",
   "nbconvert_exporter": "python",
   "file_extension": ".py"
  },
  "kernelspec": {
   "name": "python3",
   "display_name": "Python 3.8.10 64-bit"
  },
  "interpreter": {
   "hash": "31f2aee4e71d21fbe5cf8b01ff0e069b9275f58929596ceb00d14d90e3e16cd6"
  }
 },
 "nbformat": 4,
 "nbformat_minor": 2
}