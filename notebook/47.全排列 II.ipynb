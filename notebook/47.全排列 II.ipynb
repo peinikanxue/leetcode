{
 "cells": [
  {
   "cell_type": "markdown",
   "source": [
    "# 1"
   ],
   "metadata": {}
  },
  {
   "cell_type": "markdown",
   "source": [
    "本题，难点在于去重，最好是得到的排列就不重复。\n",
    "\n",
    "在前一题全排列的基础上，用set集中去重。\n",
    "\n",
    "虽然通过了，但无任何意义。效率低下。"
   ],
   "metadata": {}
  },
  {
   "cell_type": "code",
   "execution_count": 19,
   "source": [
    "from typing import List\n",
    "\n",
    "class Solution:\n",
    "    def permuteUnique(self, nums: List[int]) -> List[List[int]]:\n",
    "        self.ans = []\n",
    "\n",
    "        for i, x in enumerate(nums):\n",
    "            if self.ans == []:\n",
    "                self.ans.append([x])\n",
    "                continue\n",
    "            # print(self.ans)\n",
    "            while len(self.ans[0]) == i:\n",
    "                clone = self.ans.pop(0)\n",
    "                # print(clone)\n",
    "                for j in range(len(clone) + 1):\n",
    "                    # if j != 0 and j < len(clone) and clone[j] == x: # 核心1：与46题全排列的区别，元素相同则跳过。（保证第一个元素不被阻截。）\n",
    "                    #     continue\n",
    "                    # if j == 0 or (j > 0 and clone[j-1] != x):       # 核心2：插入的元素与上个不同，才能插入。（保证第一个元素不被阻截。）\n",
    "                    new_clone = clone.copy()\n",
    "                    new_clone.insert(j, x)\n",
    "                    self.ans.append(new_clone)\n",
    "                # print(self.ans)\n",
    "        self.ans = set([tuple(x) for x in self.ans])\n",
    "        self.ans = [list(x) for x in self.ans]\n",
    "        return self.ans\n",
    "\n",
    "\n",
    "if __name__ == '__main__':\n",
    "    nums_list = [\n",
    "        [2,2,1,1],\n",
    "    ]\n",
    "    for nums in nums_list:\n",
    "        print(Solution().permuteUnique(nums))"
   ],
   "outputs": [
    {
     "output_type": "stream",
     "name": "stdout",
     "text": [
      "[[1, 2, 1, 2], [1, 2, 2, 1], [2, 2, 1, 1], [2, 1, 1, 2], [2, 1, 2, 1], [1, 1, 2, 2]]\n"
     ]
    }
   ],
   "metadata": {}
  },
  {
   "cell_type": "markdown",
   "source": [
    "执行用时 :1224 ms, 在所有 Python3 提交中击败了5.12 %的用户\n",
    "\n",
    "内存消耗 :26.2 MB, 在所有 Python3 提交中击败了5.13 %的用户"
   ],
   "metadata": {}
  },
  {
   "cell_type": "markdown",
   "source": [
    "time: O(n * n!)\n",
    "\n",
    "space: O(n * n!)"
   ],
   "metadata": {}
  },
  {
   "cell_type": "markdown",
   "source": [
    "# 题解"
   ],
   "metadata": {}
  },
  {
   "cell_type": "markdown",
   "source": [
    "回溯搜索 + 剪枝。\n",
    "\n",
    "兄弟节点之间，数组最后一个元素相同的话，哪么其子节点也相同，将其剪掉。\n",
    "\n",
    "![](https://pic.leetcode-cn.com/1600386643-uhkGmW-image.png)"
   ],
   "metadata": {}
  },
  {
   "cell_type": "code",
   "execution_count": 25,
   "source": [
    "from typing import List\n",
    "\n",
    "class Solution:\n",
    "    def permuteUnique(self, nums: List[int]) -> List[List[int]]:\n",
    "        def dfs(nums, size, depth, path, used, res):\n",
    "            if depth == size:\n",
    "                res.append(path.copy())\n",
    "                return\n",
    "            for i in range(size):\n",
    "                if not used[i]:\n",
    "\n",
    "                    # 剪掉兄弟节点，相同元素只留第一个。\n",
    "                    # 而not used[i-1]更加精准的区分出了父节点和子节点的区别，相当于重新定位相同元素的\"第一个\"。\n",
    "                    if i > 0 and nums[i] == nums[i - 1] and not used[i - 1]:\n",
    "                        continue\n",
    "\n",
    "                    used[i] = True          # 对used的\"压栈\"\n",
    "                    path.append(nums[i])    # path压栈\n",
    "                    dfs(nums, size, depth + 1, path, used, res)\n",
    "                    used[i] = False         # 对used的\"出栈\"\n",
    "                    path.pop()              # path出栈\n",
    "\n",
    "        size = len(nums)\n",
    "        if size == 0:\n",
    "            return []\n",
    "\n",
    "        nums.sort()\n",
    "\n",
    "        used = [False] * len(nums)\n",
    "        res = []\n",
    "        dfs(nums, size, 0, [], used, res)\n",
    "        return res\n",
    "\n",
    "\n",
    "if __name__ == '__main__':\n",
    "    nums_list = [\n",
    "        [2,2,1,1],\n",
    "    ]\n",
    "    for nums in nums_list:\n",
    "        print(Solution().permuteUnique(nums))"
   ],
   "outputs": [
    {
     "output_type": "stream",
     "name": "stdout",
     "text": [
      "[[1, 1, 2, 2], [1, 2, 1, 2], [1, 2, 2, 1], [2, 1, 1, 2], [2, 1, 2, 1], [2, 2, 1, 1]]\n"
     ]
    }
   ],
   "metadata": {}
  }
 ],
 "metadata": {
  "language_info": {
   "codemirror_mode": {
    "name": "ipython",
    "version": 3
   },
   "file_extension": ".py",
   "mimetype": "text/x-python",
   "name": "python",
   "nbconvert_exporter": "python",
   "pygments_lexer": "ipython3",
   "version": "3.8.10"
  },
  "orig_nbformat": 2,
  "kernelspec": {
   "name": "python3",
   "display_name": "Python 3.8.10 64-bit"
  },
  "interpreter": {
   "hash": "916dbcbb3f70747c44a77c7bcd40155683ae19c65e1c03b4aa3499c5328201f1"
  }
 },
 "nbformat": 4,
 "nbformat_minor": 2
}