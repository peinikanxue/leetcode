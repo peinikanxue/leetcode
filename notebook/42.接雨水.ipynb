{
 "cells": [
  {
   "cell_type": "markdown",
   "source": [
    "# 1"
   ],
   "metadata": {}
  },
  {
   "cell_type": "markdown",
   "source": [
    "扫描，记录上升下降的点，计算其中的面积。\n",
    "\n",
    "出现上下变化时，记录左右边界；\\\n",
    "记录最高点，当前右边界如果不是目前的最高点，回退前面非最高点的记录。\n",
    "\n",
    "（为了方便处理，为两端添加0。）（没用上）"
   ],
   "metadata": {}
  },
  {
   "cell_type": "markdown",
   "source": [
    "没有完全通过。"
   ],
   "metadata": {}
  },
  {
   "cell_type": "code",
   "execution_count": 83,
   "source": [
    "from typing import List\n",
    "\n",
    "class Solution:\n",
    "    def trap(self, H: List[int]) -> int:\n",
    "        l, r = 0, 0         # 索引\n",
    "        pre = 0             # 上一个值\n",
    "        max_h = 0           # 最高值\n",
    "        is_max = False      # 是否是最高点的记录\n",
    "\n",
    "        i = 0\n",
    "        record = []         # [(l, r, 该点是否可能是小坑)] 小坑：该点高于最高点的话，就不是小坑。\n",
    "\n",
    "        while i < len(H):\n",
    "            is_max = False\n",
    "            while i < len(H) and H[i] >= pre:     # 找左边界\n",
    "                l = i\n",
    "                if H[i] >= max_h:   # 记录目前的最高点\n",
    "                    max_h = H[i]\n",
    "                pre = H[i]\n",
    "                i += 1\n",
    "            while i < len(H) and H[i] <= pre:     # 找右边界1'\n",
    "                pre = H[i]\n",
    "                i += 1\n",
    "            while i < len(H) and H[i] >= pre:     # 找右边界2'\n",
    "                r = i\n",
    "                if H[i] >= max_h:   # 遇到下一个最高点\n",
    "                    is_max = True\n",
    "                    max_h = H[i]\n",
    "                while record and record[-1][-1] == False and record[-1][1] <= H[i]:    # 截止到is_max==True，如果当前高于前面记录的r时，回滚前面is_max==False的项\n",
    "                    l, _, _ = record.pop()  # 回滚后，左边界更新\n",
    "                pre = H[i]\n",
    "                i += 1\n",
    "            # print(l, r)       # debug\n",
    "            if l < r:\n",
    "                record.append((l, r, is_max))\n",
    "            # print(record)     # debug\n",
    "            l = r                                           # 保存新左边界\n",
    "\n",
    "        ans = 0\n",
    "        for l, r, _ in record:  # 计算雨水面积\n",
    "            area = (r - l - 1) * min(H[l], H[r])  # w * h\n",
    "            # print(f'l:{l} r:{r} w:{r - l - 1} h:{min(H[l], H[r])}', end=' ')\n",
    "            for i in range(l+1, r):\n",
    "                # print(f'(i:{i} -{H[i]})', end=' ')\n",
    "                h = H[i] if H[i] <= min(H[l], H[r]) else min(H[l], H[r])  # 只减l, r最小的高度\n",
    "                area -= h\n",
    "            ans += area\n",
    "            # print()\n",
    "        return ans\n",
    "\n",
    "\n",
    "if __name__ == '__main__':\n",
    "    H_list = [\n",
    "        [0,1,0,2,1,0,1,3,2,1,2,1],\n",
    "        [1,0,1,0,2,1,0,1,4,4,1,2,1,0,3,1],\n",
    "        [4,2,0,3,2,5],\n",
    "        [5,4,1,2],\n",
    "        [1,7,5],\n",
    "        [8,2,8,9,0,1,7,7,9],\n",
    "        [2,8,5,5,6,1,7,4,5],\n",
    "        [6,4,2,0,3,2,0,3,1,4,5,3,2,7,5,3,0,1,2,1,3,4,6,8,1,3],\n",
    "    ]\n",
    "\n",
    "    for H in H_list:\n",
    "        print(Solution().trap(H))"
   ],
   "outputs": [
    {
     "output_type": "stream",
     "name": "stdout",
     "text": [
      "6\n",
      "9\n",
      "9\n",
      "1\n",
      "0\n",
      "27\n",
      "12\n",
      "21\n"
     ]
    }
   ],
   "metadata": {}
  },
  {
   "cell_type": "markdown",
   "source": [
    "# 2"
   ],
   "metadata": {}
  },
  {
   "cell_type": "markdown",
   "source": [
    "改变思路，扫描过去，记录最高点max_h；\\\n",
    "关键在于tmp记录前面出现，并不高于最高的点；\\\n",
    "接着每遇到一个点都记录gate[i]=H[i]，\\\n",
    "并往前查询这个tmp，将不高于当前点的都清除掉，认为没有闸门(gate[j]=0)。"
   ],
   "metadata": {}
  },
  {
   "cell_type": "code",
   "execution_count": 124,
   "source": [
    "from typing import List\n",
    "\n",
    "class Solution:\n",
    "    def trap(self, H: List[int]) -> int:\n",
    "        max_h = 0\n",
    "        gate = []\n",
    "        tmp = []\n",
    "\n",
    "        # 1.找到闸门\n",
    "        for i in range(len(H)):\n",
    "            if H[i] > 0:\n",
    "                max_h = H[i]\n",
    "                break\n",
    "\n",
    "        for i in range(len(H)):\n",
    "            for j in tmp:       # 核心：清除前面小于最高点的索引\n",
    "                if H[j] <= H[i]:\n",
    "                    gate[j] = 0\n",
    "\n",
    "            tmp.append(i)\n",
    "            gate.append(H[i])\n",
    "\n",
    "            if H[i] >= max_h:\n",
    "                max_h = H[i]\n",
    "                tmp.clear()     # 核心：遇到更高的点，清除记录\n",
    "        # print(gate)\n",
    "\n",
    "        # 2.将闸门两端记录下来\n",
    "        interval = []\n",
    "        i = 0\n",
    "        while i < len(gate) and gate[i] == 0:\n",
    "            i += 1\n",
    "        r = i\n",
    "        while i < len(gate):\n",
    "            l = r\n",
    "            while i < len(gate) and gate[i] == 0:\n",
    "                i += 1\n",
    "            if i >= len(gate):\n",
    "                break\n",
    "            r = i\n",
    "            interval.append([l, r])\n",
    "            i += 1\n",
    "        # print(interval)\n",
    "\n",
    "        # 3.计算面积\n",
    "        ans = 0\n",
    "        for l, r in interval:\n",
    "            if l == r or r-l == 1:  # 去除两端，以及紧贴在一起的\n",
    "                continue\n",
    "            area = (r - l - 1) * min(H[l], H[r])  # w * h\n",
    "            for i in range(l+1, r):\n",
    "                h = H[i] if H[i] <= min(H[l], H[r]) else min(H[l], H[r])  # 只减l, r最小的高度\n",
    "                area -= h\n",
    "            ans += area\n",
    "        # print(ans)\n",
    "        return ans\n",
    "\n",
    "if __name__ == '__main__':\n",
    "    H_list = [\n",
    "        [0,1,0,2,1,0,1,3,2,1,2,1],\n",
    "        [1,0,1,0,2,1,0,1,4,4,1,2,1,0,3,1],\n",
    "        [0],\n",
    "        [0,2,0],\n",
    "        [4,2,0,3,2,5],\n",
    "        [5,4,1,2],\n",
    "        [1,7,5],\n",
    "        [8,2,8,9,0,1,7,7,9],\n",
    "        [2,8,5,5,6,1,7,4,5],\n",
    "        [6,4,2,0,3,2,0,3,1,4,5,3,2,7,5,3,0,1,2,1,3,4,6,8,1,3],\n",
    "    ]\n",
    "\n",
    "    for H in H_list:\n",
    "        print(Solution().trap(H))"
   ],
   "outputs": [
    {
     "output_type": "stream",
     "name": "stdout",
     "text": [
      "6\n",
      "14\n",
      "0\n",
      "0\n",
      "9\n",
      "1\n",
      "0\n",
      "27\n",
      "12\n",
      "83\n"
     ]
    }
   ],
   "metadata": {}
  },
  {
   "cell_type": "markdown",
   "source": [
    "执行用时 :956 ms, 在所有 Python3 提交中击败了5.01 %的用户\n",
    "\n",
    "内存消耗 :17.4 MB, 在所有 Python3 提交中击败了5.06 %的用户"
   ],
   "metadata": {}
  },
  {
   "cell_type": "markdown",
   "source": [
    "time: O(n^2)\n",
    "\n",
    "space: O(n)"
   ],
   "metadata": {}
  },
  {
   "cell_type": "markdown",
   "source": [
    "# 题解1"
   ],
   "metadata": {}
  },
  {
   "cell_type": "markdown",
   "source": [
    "暴力法\n",
    "\n",
    "计算当前点，左右的最高点，减去当前点的高度。 \\\n",
    "每个点都左右各查找一次。"
   ],
   "metadata": {}
  },
  {
   "cell_type": "markdown",
   "source": [
    "time: O(n^2)\n",
    "\n",
    "space: O(1)"
   ],
   "metadata": {}
  },
  {
   "cell_type": "markdown",
   "source": [
    "# 题解2"
   ],
   "metadata": {}
  },
  {
   "cell_type": "markdown",
   "source": [
    "动态规划 - 左右各扫描一遍\n",
    "\n",
    "在暴力方法中，我们仅仅为了找到最大值每次都要向左和向右扫描一次。但是我们可以提前存储这个值。因此，可以通过动态编程解决。\n",
    "\n",
    "通过以下图解，合并的重叠部分，很巧妙的就是积水部分。\n",
    "\n",
    "![](https://pic.leetcode-cn.com/53ab7a66023039ed4dce42b709b4997d2ba0089077912d39a0b31d3572a55d0b-trapping_rain_water.png)"
   ],
   "metadata": {}
  },
  {
   "cell_type": "markdown",
   "source": [
    "time: O(n)\n",
    "\n",
    "space: O(n)"
   ],
   "metadata": {}
  },
  {
   "cell_type": "markdown",
   "source": [
    "# 题解3"
   ],
   "metadata": {}
  },
  {
   "cell_type": "markdown",
   "source": [
    "双指针\n",
    "\n",
    "只要 right_max[i]>left_max[i]，积水高度将由 left_max 决定。\n",
    "\n",
    "所以我们可以认为如果一端有更高的条形块（例如右端），积水的高度依赖于当前方向的高度（从左到右）。\\\n",
    "当我们发现另一侧（右侧）的条形块高度不是最高的，我们则开始从相反的方向遍历（从右到左）。\n",
    "\n",
    "我们必须在遍历时维护 left_max 和 right_max ，但是我们现在可以使用两个指针交替进行，实现 1 次遍历即可完成。"
   ],
   "metadata": {}
  },
  {
   "cell_type": "markdown",
   "source": [
    "time: O(n)\n",
    "\n",
    "space: O(1)"
   ],
   "metadata": {}
  },
  {
   "cell_type": "markdown",
   "source": [
    "（看着像11题，想过用双指针法，但没考虑到积水高度由一侧决定（关键），然后交替使用两个指针的方法。）"
   ],
   "metadata": {}
  }
 ],
 "metadata": {
  "language_info": {
   "codemirror_mode": {
    "name": "ipython",
    "version": 3
   },
   "file_extension": ".py",
   "mimetype": "text/x-python",
   "name": "python",
   "nbconvert_exporter": "python",
   "pygments_lexer": "ipython3",
   "version": "3.8.10"
  },
  "orig_nbformat": 2,
  "kernelspec": {
   "name": "python3",
   "display_name": "Python 3.8.10 64-bit"
  },
  "interpreter": {
   "hash": "916dbcbb3f70747c44a77c7bcd40155683ae19c65e1c03b4aa3499c5328201f1"
  }
 },
 "nbformat": 4,
 "nbformat_minor": 2
}