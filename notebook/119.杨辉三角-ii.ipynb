{
 "cells": [
  {
   "cell_type": "markdown",
   "metadata": {},
   "source": [
    "# 1"
   ]
  },
  {
   "cell_type": "markdown",
   "metadata": {},
   "source": [
    "为了不被覆盖，逆序遍历。"
   ]
  },
  {
   "cell_type": "code",
   "execution_count": null,
   "metadata": {},
   "outputs": [],
   "source": [
    "#include <iostream>\n",
    "#include <vector>\n",
    "using namespace std;\n",
    "\n",
    "class Solution {\n",
    "public:\n",
    "    vector<int> getRow(int rowIndex) {\n",
    "        vector<int> ans;\n",
    "        ans.push_back(1);\n",
    "\n",
    "        for(int i = 1; i < rowIndex+1; ++i){\n",
    "            for(int j = i-1; j > 0; --j){\n",
    "                ans[j] = ans[j-1] + ans[j];\n",
    "            }\n",
    "            ans.push_back(1);\n",
    "\n",
    "            // for(auto x : ans){\n",
    "            //     cout << x << \" \";\n",
    "            // }\n",
    "            // cout << endl;\n",
    "        }\n",
    "\n",
    "        return ans;\n",
    "    }\n",
    "};\n",
    "\n",
    "int main(int argc, char const *argv[])\n",
    "{\n",
    "    Solution s = Solution();\n",
    "    vector<int> ans = s.getRow(5);\n",
    "\n",
    "    for(auto x : ans){\n",
    "        cout << x << \" \";\n",
    "    }\n",
    "    cout << endl;\n",
    "    return 0;\n",
    "}"
   ]
  },
  {
   "cell_type": "markdown",
   "metadata": {},
   "source": [
    "34/34 cases passed (0 ms)\\\n",
    "Your runtime beats 100 % of cpp submissions\\\n",
    "Your memory usage beats 47.12 % of cpp submissions (6.3 MB)"
   ]
  },
  {
   "cell_type": "markdown",
   "metadata": {},
   "source": [
    "time: O(n^2 / 2)\n",
    "\n",
    "space: O(n)"
   ]
  }
 ],
 "metadata": {
  "interpreter": {
   "hash": "31f2aee4e71d21fbe5cf8b01ff0e069b9275f58929596ceb00d14d90e3e16cd6"
  },
  "kernelspec": {
   "display_name": "Python 3.8.10 64-bit",
   "name": "python3"
  },
  "language_info": {
   "name": "python",
   "version": "3.8.10"
  },
  "orig_nbformat": 4
 },
 "nbformat": 4,
 "nbformat_minor": 2
}
