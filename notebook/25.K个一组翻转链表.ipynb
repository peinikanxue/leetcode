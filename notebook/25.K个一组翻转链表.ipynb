{
 "cells": [
  {
   "cell_type": "markdown",
   "source": [
    "# 1"
   ],
   "metadata": {}
  },
  {
   "cell_type": "markdown",
   "source": [
    "翻转前K个节点，递归后n-k个节点。"
   ],
   "metadata": {}
  },
  {
   "cell_type": "code",
   "execution_count": 1,
   "source": [
    "from typing import List\n",
    "\n",
    "# Definition for singly-linked list.\n",
    "class ListNode:\n",
    "    def __init__(self, x):\n",
    "        self.val = x\n",
    "        self.next = None\n",
    "\n",
    "class Util:\n",
    "    '''\n",
    "        主要方便链表的一些操作\n",
    "    '''\n",
    "    def create_linked_list(self, val_list):\n",
    "        head = li = ListNode(0)\n",
    "        for val in val_list:\n",
    "            li.next = ListNode(val)\n",
    "            li = li.next\n",
    "        li = head\n",
    "        head = head.next\n",
    "        del li\n",
    "        return head\n",
    "\n",
    "    def print_linked_list(self, li):\n",
    "        if not li:\n",
    "            return\n",
    "            \n",
    "        while li.next:\n",
    "            print(li.val, '-> ', end='')\n",
    "            li = li.next\n",
    "        else:\n",
    "            print(li.val)\n",
    "util = Util()"
   ],
   "outputs": [],
   "metadata": {}
  },
  {
   "cell_type": "code",
   "execution_count": 2,
   "source": [
    "class Solution:\n",
    "    def reverseKGroup(self, head: ListNode, k: int) -> ListNode:\n",
    "        \n",
    "        if not head:    # 边界：没有节点\n",
    "            return\n",
    "\n",
    "        p1 = p2 = new_head = p_next = head\n",
    "        count = k - 1\n",
    "\n",
    "        while count and new_head.next:    # 计数，看看后面的节点是否还够翻转\n",
    "            count -= 1\n",
    "            new_head = new_head.next\n",
    "        \n",
    "        if count == 0:  # 可以翻转\n",
    "            p_next = new_head.next\n",
    "            p2 = p1.next\n",
    "\n",
    "            while p1 != new_head:   # 交换这k个节点\n",
    "                p_tmp = p2.next\n",
    "                p2.next = p1\n",
    "                p1 = p2\n",
    "                p2 = p_tmp\n",
    "            \n",
    "            head.next = self.reverseKGroup(p_next, k)   # 迭代后面的节点\n",
    "        else:\n",
    "            new_head = head\n",
    "        \n",
    "        return new_head\n",
    "\n",
    "\n",
    "if __name__ == \"__main__\":\n",
    "    \n",
    "    val_list = [\n",
    "        [],\n",
    "        [1, 2, 3, 4, 5],\n",
    "        [1, 2, 3, 4, 5],\n",
    "        [1, 2, 3, 4, 5],\n",
    "    ]\n",
    "    k_list = [1, 2, 3, 7]\n",
    "\n",
    "    for val, k in zip(val_list, k_list):\n",
    "        l = util.create_linked_list(val)\n",
    "        result = Solution().reverseKGroup(l, k)\n",
    "        util.print_linked_list(result)"
   ],
   "outputs": [
    {
     "output_type": "stream",
     "name": "stdout",
     "text": [
      "2 -> 1 -> 4 -> 3 -> 5\n",
      "3 -> 2 -> 1 -> 4 -> 5\n",
      "1 -> 2 -> 3 -> 4 -> 5\n"
     ]
    }
   ],
   "metadata": {}
  },
  {
   "cell_type": "markdown",
   "source": [
    "执行用时 :52 ms, 在所有 python3 提交中击败了97.52%的用户\n",
    "\n",
    "内存消耗 :14.6 MB, 在所有 python3 提交中击败了10.66%的用户"
   ],
   "metadata": {}
  },
  {
   "cell_type": "markdown",
   "source": [
    "time:O(2n)\n",
    "\n",
    "space:O(1)"
   ],
   "metadata": {}
  }
 ],
 "metadata": {
  "kernelspec": {
   "display_name": "Python 3",
   "language": "python",
   "name": "python3"
  },
  "language_info": {
   "codemirror_mode": {
    "name": "ipython",
    "version": 3
   },
   "file_extension": ".py",
   "mimetype": "text/x-python",
   "name": "python",
   "nbconvert_exporter": "python",
   "pygments_lexer": "ipython3",
   "version": "3.6.8"
  }
 },
 "nbformat": 4,
 "nbformat_minor": 2
}