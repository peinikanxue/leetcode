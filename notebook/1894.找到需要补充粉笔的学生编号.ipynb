{
 "cells": [
  {
   "cell_type": "markdown",
   "source": [
    "# 1"
   ],
   "metadata": {}
  },
  {
   "cell_type": "markdown",
   "source": [
    "求余数,\\\n",
    "然后找到余数对应到索引."
   ],
   "metadata": {}
  },
  {
   "cell_type": "code",
   "execution_count": 2,
   "source": [
    "from typing import List\n",
    "\n",
    "class Solution:\n",
    "    def chalkReplacer(self, chalk: List[int], k: int) -> int:\n",
    "        k = k % sum(chalk)\n",
    "\n",
    "        for i, x in enumerate(chalk):\n",
    "            if k == 0:      # 上一个同学用完了,当前同学一支没有\n",
    "                return i\n",
    "            k -= x\n",
    "            if k < 0:       # 当前同学不够用\n",
    "                return i\n",
    "\n",
    "\n",
    "if __name__ == '__main__':\n",
    "    chalk_k_list = [\n",
    "        [[5,1,5], 22],\n",
    "        [[3,4,1,2], 25],\n",
    "    ]\n",
    "\n",
    "    for chalk, k in chalk_k_list:\n",
    "        print(Solution().chalkReplacer(chalk, k))"
   ],
   "outputs": [
    {
     "output_type": "stream",
     "name": "stdout",
     "text": [
      "0\n",
      "1\n"
     ]
    }
   ],
   "metadata": {}
  },
  {
   "cell_type": "markdown",
   "source": [
    "执行用时 :60 ms, 在所有 Python3 提交中击败了95.16 %的用户\n",
    "\n",
    "内存消耗 :25.3 MB, 在所有 Python3 提交中击败了29.24 %的用户"
   ],
   "metadata": {}
  },
  {
   "cell_type": "markdown",
   "source": [
    "time: O(n)\n",
    "\n",
    "space: O(1)"
   ],
   "metadata": {}
  }
 ],
 "metadata": {
  "language_info": {
   "codemirror_mode": {
    "name": "ipython",
    "version": 3
   },
   "file_extension": ".py",
   "mimetype": "text/x-python",
   "name": "python",
   "nbconvert_exporter": "python",
   "pygments_lexer": "ipython3",
   "version": "3.8.10"
  },
  "orig_nbformat": 2,
  "kernelspec": {
   "name": "python3",
   "display_name": "Python 3.8.10 64-bit"
  },
  "interpreter": {
   "hash": "916dbcbb3f70747c44a77c7bcd40155683ae19c65e1c03b4aa3499c5328201f1"
  }
 },
 "nbformat": 4,
 "nbformat_minor": 2
}