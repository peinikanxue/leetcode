{
 "cells": [
  {
   "cell_type": "markdown",
   "metadata": {},
   "source": [
    "## 1"
   ]
  },
  {
   "cell_type": "markdown",
   "metadata": {},
   "source": [
    "基本原理同前一题,不过通过转化,可以将题简化便于思考.\n",
    "\n",
    "$a+b+c \\approx target$ -> $ a+b+c-target \\approx \\epsilon $\n",
    "\n",
    "分别考虑求和的值为正负,两种情况下2指针应该如何移动.\n",
    "\n",
    "及时在距离增大时回溯,减少不必要的遍历.(单加了这个回溯条件,用时从超过32%到了87%)"
   ]
  },
  {
   "cell_type": "code",
   "execution_count": 1,
   "metadata": {},
   "outputs": [
    {
     "name": "stdout",
     "output_type": "stream",
     "text": [
      "2\n",
      "3\n",
      "3\n",
      "0\n",
      "-1\n",
      "2\n"
     ]
    }
   ],
   "source": [
    "from typing import List\n",
    "\n",
    "class Solution:\n",
    "    def threeSumClosest(self, nums: List[int], target: int) -> int:\n",
    "        \n",
    "        result = 0\n",
    "        min_sum = float('inf')\n",
    "        is_smaller = False    # 回溯条件:是否从更小后变大\n",
    "\n",
    "        nums.sort()\n",
    "\n",
    "        for i in range(len(nums)-2):\n",
    "\n",
    "            L = i + 1\n",
    "            R = len(nums) - 1\n",
    "            \n",
    "            while L < R:\n",
    "                tmp_sum = nums[i] + nums[L] + nums[R] - target\n",
    "                if tmp_sum == 0:    # 最小情况\n",
    "                    return target\n",
    "                elif abs(tmp_sum) < abs(min_sum):   # 距离更小\n",
    "                    min_sum = tmp_sum\n",
    "                    is_smaller = True\n",
    "                elif is_smaller and abs(tmp_sum) > abs(min_sum):   # 距离更大,小循环里距离变过更小,然后变大了,可以回溯了\n",
    "                    is_smaller = False\n",
    "                    break\n",
    "                    \n",
    "                    \n",
    "                if tmp_sum <= 0:    # 负轴方向\n",
    "                    L += 1\n",
    "                else:       # 正轴方向\n",
    "                    R -= 1\n",
    "\n",
    "            # 去重i\n",
    "            if i != 0 and nums[i] == nums[i+1]:\n",
    "                continue\n",
    "            is_smaller = False\n",
    "        \n",
    "        result = min_sum + target\n",
    "        return result\n",
    "\n",
    "\n",
    "if __name__ == \"__main__\":\n",
    "    test_list = [\n",
    "        ([-1, 2, 1, -4], 1),\n",
    "        ([0,1,2], 3),\n",
    "        ([1,1,1,0], 100),\n",
    "        ([0,2,1,-3], 1),\n",
    "        ([1,1,-1,-1,3], -1),\n",
    "        ([-1,0,1,1,55], 3)\n",
    "    ]\n",
    "    \n",
    "\n",
    "    for test in test_list:\n",
    "        print(Solution().threeSumClosest(test[0], test[1]))\n"
   ]
  },
  {
   "cell_type": "markdown",
   "metadata": {},
   "source": [
    "执行用时 :124 ms, 在所有 python3 提交中击败了87.92%的用户\n",
    "\n",
    "内存消耗 :13.8 MB, 在所有 python3 提交中击败了5.04%的用户"
   ]
  },
  {
   "cell_type": "markdown",
   "metadata": {},
   "source": [
    "时间复杂度:O(n^2 + nlogn)\n",
    "\n",
    "空间复杂度:O(1)"
   ]
  }
 ],
 "metadata": {
  "kernelspec": {
   "display_name": "Python 3",
   "language": "python",
   "name": "python3"
  },
  "language_info": {
   "codemirror_mode": {
    "name": "ipython",
    "version": 3
   },
   "file_extension": ".py",
   "mimetype": "text/x-python",
   "name": "python",
   "nbconvert_exporter": "python",
   "pygments_lexer": "ipython3",
   "version": "3.6.8"
  }
 },
 "nbformat": 4,
 "nbformat_minor": 2
}
