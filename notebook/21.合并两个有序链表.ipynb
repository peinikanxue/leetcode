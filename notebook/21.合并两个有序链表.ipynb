{
 "cells": [
  {
   "cell_type": "markdown",
   "metadata": {},
   "source": [
    "# 1"
   ]
  },
  {
   "cell_type": "markdown",
   "metadata": {},
   "source": [
    "因为有序，直接顺序比较。\n",
    "\n",
    "为了节省空间，直接在原链表上操作。"
   ]
  },
  {
   "cell_type": "code",
   "execution_count": 1,
   "metadata": {},
   "outputs": [
    {
     "name": "stdout",
     "output_type": "stream",
     "text": [
      "1 ->1 ->2 ->3 ->4 ->4\n",
      "1 ->2\n"
     ]
    }
   ],
   "source": [
    "from typing import List\n",
    "\n",
    "# Definition for singly-linked list.\n",
    "class ListNode:\n",
    "    def __init__(self, x):\n",
    "        self.val = x\n",
    "        self.next = None\n",
    "\n",
    "class Solution:\n",
    "    def mergeTwoLists(self, l1: ListNode, l2: ListNode) -> ListNode:\n",
    "        \n",
    "        # 边界处理\n",
    "        if not l1:\n",
    "            return l2\n",
    "        elif not l2:\n",
    "            return l1\n",
    "        \n",
    "        # 交换，简化情况\n",
    "        if l1.val > l2.val:\n",
    "            l1, l2 = l2, l1\n",
    "\n",
    "        h1 = l1\n",
    "\n",
    "        while l1 and l2:\n",
    "            if l1.val <= l2.val and l1.next and l1.next.val >= l2.val or not l1.next:\n",
    "                tmp = l2\n",
    "                l2 = l2.next\n",
    "                tmp.next = l1.next\n",
    "                l1.next = tmp\n",
    "            else:\n",
    "                l1 = l1.next\n",
    "\n",
    "        return h1\n",
    "\n",
    "\n",
    "\n",
    "if __name__ == \"__main__\":\n",
    "\n",
    "    l1_vals = [\n",
    "        [1, 2, 4],\n",
    "        [2],\n",
    "    ]\n",
    "\n",
    "    l2_vals = [\n",
    "        [1, 3, 4],\n",
    "        [1],\n",
    "    ]\n",
    "\n",
    "    for i in range(len(l1_vals)):\n",
    "        h1 = l1 = ListNode(0)\n",
    "        for val in l1_vals[i]:\n",
    "            l1.next = ListNode(val)\n",
    "            l1 = l1.next\n",
    "\n",
    "        h2 = l2 = ListNode(0)\n",
    "        for val in l2_vals[i]:\n",
    "            l2.next = ListNode(val)\n",
    "            l2 = l2.next\n",
    "    \n",
    "        h1 = h1.next\n",
    "        h2 = h2.next\n",
    "\n",
    "        result = Solution().mergeTwoLists(h1, h2)\n",
    "\n",
    "        while result.next:\n",
    "            print(result.val, '->', end='')\n",
    "            result = result.next\n",
    "        else:\n",
    "            print(result.val)"
   ]
  },
  {
   "cell_type": "markdown",
   "metadata": {},
   "source": [
    "执行用时 :52 ms, 在所有 python3 提交中击败了75.23%的用户\n",
    "\n",
    "内存消耗 :13.9 MB, 在所有 python3 提交中击败了5.66%的用户"
   ]
  },
  {
   "cell_type": "markdown",
   "metadata": {},
   "source": [
    "时间复杂度：O(n)\n",
    "\n",
    "空间复杂度：O(1)"
   ]
  }
 ],
 "metadata": {
  "kernelspec": {
   "display_name": "Python 3",
   "language": "python",
   "name": "python3"
  },
  "language_info": {
   "codemirror_mode": {
    "name": "ipython",
    "version": 3
   },
   "file_extension": ".py",
   "mimetype": "text/x-python",
   "name": "python",
   "nbconvert_exporter": "python",
   "pygments_lexer": "ipython3",
   "version": "3.6.8"
  }
 },
 "nbformat": 4,
 "nbformat_minor": 2
}
