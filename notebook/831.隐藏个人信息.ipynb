{
 "cells": [
  {
   "cell_type": "markdown",
   "metadata": {},
   "source": [
    "# 1"
   ]
  },
  {
   "cell_type": "markdown",
   "metadata": {},
   "source": [
    "字符串处理"
   ]
  },
  {
   "cell_type": "code",
   "execution_count": null,
   "metadata": {},
   "outputs": [],
   "source": [
    "class Solution:\n",
    "    def maskPII(self, S: str) -> str:\n",
    "\n",
    "        if '@' in S:\n",
    "            return self.mask_email(S)\n",
    "        else:\n",
    "            return self.mask_phone(S)\n",
    "    \n",
    "\n",
    "    def mask_email(self, S):\n",
    "        S = S.lower()\n",
    "        name, company = S.split('@')\n",
    "        return name[0] + '*****' + name[-1] + '@' + company\n",
    "\n",
    "\n",
    "\n",
    "    def mask_phone(self, S):\n",
    "        filter_list = ['+', '-', '(', ')', ' ']\n",
    "        for f in filter_list:\n",
    "            S = S.replace(f, '')\n",
    "        if len(S) <= 10:\n",
    "            prefix = '***-***-'\n",
    "        else:\n",
    "            prefix = '+' + '*'*(len(S)-10) + '-***-***-'\n",
    "        return prefix + S[-4:]"
   ]
  },
  {
   "cell_type": "markdown",
   "metadata": {},
   "source": [
    "Your runtime beats 60.82 % of python3 submissions\n",
    "\n",
    "Your memory usage beats 100 % of python3 submissions (13.7 MB)"
   ]
  },
  {
   "cell_type": "markdown",
   "metadata": {},
   "source": [
    "time: O(n) (逐字符处理情况，使用replace慢一些)\n",
    "\n",
    "space: O(n)"
   ]
  }
 ],
 "metadata": {
  "language_info": {
   "codemirror_mode": {
    "name": "ipython",
    "version": 3
   },
   "file_extension": ".py",
   "mimetype": "text/x-python",
   "name": "python",
   "nbconvert_exporter": "python",
   "pygments_lexer": "ipython3",
   "version": 3
  },
  "orig_nbformat": 2
 },
 "nbformat": 4,
 "nbformat_minor": 2
}