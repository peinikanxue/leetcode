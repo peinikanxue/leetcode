{
 "cells": [
  {
   "cell_type": "markdown",
   "metadata": {},
   "source": [
    "# 1"
   ]
  },
  {
   "cell_type": "markdown",
   "metadata": {},
   "source": [
    "kmp算法。\n",
    "\n",
    "需注意算next数组的方法，防止超时。"
   ]
  },
  {
   "cell_type": "code",
   "execution_count": 1,
   "metadata": {},
   "outputs": [
    {
     "name": "stdout",
     "output_type": "stream",
     "text": [
      "2\n",
      "0\n",
      "-1\n",
      "0\n",
      "0\n",
      "-1\n",
      "4\n"
     ]
    }
   ],
   "source": [
    "class Solution:\n",
    "    def strStr(self, haystack: str, needle: str) -> int:\n",
    "\n",
    "        if not haystack and not needle or not needle: # 边界：都为空字符串，或模式串为空\n",
    "            return 0\n",
    "        \n",
    "        next_list = self.get_next(needle)\n",
    "        pos = -1\n",
    "\n",
    "        i = j = 0\n",
    "        while j < len(needle) and len(haystack) >= len(needle):\n",
    "            if haystack[i] == needle[j]:\n",
    "                i += 1\n",
    "                j += 1\n",
    "                if j == len(needle):\n",
    "                    pos = i - j\n",
    "                    break\n",
    "            else:\n",
    "                j = next_list[j]\n",
    "                if j == -1:\n",
    "                    i += 1\n",
    "                    j = 0\n",
    "                if len(haystack) - i < len(needle) - j: # 剩余子串不够匹配\n",
    "                    break\n",
    "        return pos\n",
    "\n",
    "\n",
    "    def get_next(self, s):\n",
    "        i = 0\n",
    "        j = -1\n",
    "        next_list = [-1]\n",
    "\n",
    "        while i < len(s) - 1:\n",
    "            if j == -1 or s[i] == s[j]:\n",
    "                i += 1\n",
    "                j += 1\n",
    "                next_list.append(j)\n",
    "            else:\n",
    "                j = next_list[j]\n",
    "        return next_list\n",
    "\n",
    "\n",
    "if __name__ == \"__main__\":\n",
    "    haystack_list = ['hello', '', '', 'a', 'aaa', 'aaaaa', 'aabaaabaaac']\n",
    "    needle_list = ['ll','', 'a', '', 'aaa', 'bba', 'aabaaac']\n",
    "\n",
    "    for haystack, needle in zip(haystack_list, needle_list):\n",
    "        print(Solution().strStr(haystack, needle))"
   ]
  },
  {
   "cell_type": "markdown",
   "metadata": {},
   "source": [
    "执行用时 :56 ms, 在所有 python3 提交中击败了41.11%的用户\n",
    "\n",
    "内存消耗 :14.8 MB, 在所有 python3 提交中击败了5.04%的用户"
   ]
  },
  {
   "cell_type": "markdown",
   "metadata": {},
   "source": [
    "time:O(mn)\n",
    "\n",
    "space:O(n)\n",
    "\n",
    "(m:pattern长度, n:s长度)"
   ]
  }
 ],
 "metadata": {
  "kernelspec": {
   "display_name": "Python 3",
   "language": "python",
   "name": "python3"
  },
  "language_info": {
   "codemirror_mode": {
    "name": "ipython",
    "version": 3
   },
   "file_extension": ".py",
   "mimetype": "text/x-python",
   "name": "python",
   "nbconvert_exporter": "python",
   "pygments_lexer": "ipython3",
   "version": "3.6.8"
  }
 },
 "nbformat": 4,
 "nbformat_minor": 2
}
