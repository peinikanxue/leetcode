{
 "cells": [
  {
   "cell_type": "markdown",
   "metadata": {},
   "source": [
    "# 过程"
   ]
  },
  {
   "cell_type": "markdown",
   "metadata": {},
   "source": [
    "## 1"
   ]
  },
  {
   "cell_type": "markdown",
   "metadata": {},
   "source": [
    "通过查表的方式，\n",
    "\n",
    "将问题a+b+c=0，改为a+b=-c。\n",
    "\n",
    "从时间复杂度从O(n^3)到O(n^2)，空间复杂度从O(1)到O(n)。"
   ]
  },
  {
   "cell_type": "code",
   "execution_count": 1,
   "metadata": {},
   "outputs": [
    {
     "name": "stdout",
     "output_type": "stream",
     "text": [
      "[[-1, 0, 1], [-1, -1, 2]]\n",
      "[]\n",
      "[[-1, 0, 1]]\n",
      "[[-1, 0, 1]]\n",
      "[[-1, 0, 1], [-1, -1, 2]]\n",
      "[[-2, 0, 2]]\n",
      "[[-2, -1, 3], [-2, 0, 2], [-1, 0, 1]]\n"
     ]
    }
   ],
   "source": [
    "from typing import List\n",
    "\n",
    "class Solution:\n",
    "    def threeSum(self, nums: List[int]) -> List[List[int]]:\n",
    "        '''\n",
    "            a+b=-c\n",
    "        '''\n",
    "\n",
    "        if nums == []:\n",
    "            return []\n",
    "        \n",
    "        result_list = []\n",
    "\n",
    "        query_dict = dict(zip(nums, [0]*len(nums))) # 查询表\n",
    "        skip_a_dict = {}    # 记录大循环已用过的a\n",
    "        skip_bc_dict = {}   # 记录小循环已用过的b,c\n",
    "\n",
    "        # 构建查询表\n",
    "        for num in nums:\n",
    "            query_dict[num] += 1\n",
    "        \n",
    "        # 查询满足的数，并添加到列表\n",
    "        for i in range(len(nums)):\n",
    "            a = nums[i]\n",
    "\n",
    "            if query_dict[a] > 0:\n",
    "                for j in range(i+1, len(nums)):\n",
    "                    b = nums[j]\n",
    "                    c = -(a+b)\n",
    "\n",
    "                    # 使用计数\n",
    "                    query_dict[a] -= 1\n",
    "                    query_dict[b] -= 1\n",
    "\n",
    "                    # 添加满足条件的列表\n",
    "                    if c in query_dict and query_dict[c] > 0 and b not in skip_a_dict and b not in skip_bc_dict:\n",
    "                        result = [a, b, c]\n",
    "                        result.sort()\n",
    "                        result_list.append(result)\n",
    "\n",
    "                        # 暂时记下小循环里使用的数\n",
    "                        skip_bc_dict[b] = True\n",
    "                        skip_bc_dict[c] = True\n",
    "                    \n",
    "                    # 使用计数恢复\n",
    "                    query_dict[a] += 1\n",
    "                    query_dict[b] += 1\n",
    "            \n",
    "            # 消除大循环使用过的数\n",
    "            query_dict[a] = 0\n",
    "            skip_a_dict[a] = True\n",
    "            skip_bc_dict = {}\n",
    "\n",
    "        return result_list\n",
    "            \n",
    "\n",
    "if __name__ == \"__main__\":\n",
    "    nums_list = [\n",
    "        [-1, 0, 1, 2, -1, -4], # [-4, -1, -1, 0, 1, 2]\n",
    "        [],\n",
    "        [-1,0,1],\n",
    "        [-1,0,1,0],\n",
    "        [-1,0,1,2,-1,-4],\n",
    "        [-2,0,0,2,2],\n",
    "        [3,0,-2,-1,1,2],\n",
    "    ]\n",
    "    for nums in nums_list:\n",
    "        print(Solution().threeSum(nums))"
   ]
  },
  {
   "cell_type": "markdown",
   "metadata": {},
   "source": [
    "执行用时 :2184 ms, 在所有 python3 提交中击败了8.08%的用户\n",
    "\n",
    "内存消耗 :17.8 MB, 在所有 python3 提交中击败了5.71%的用户"
   ]
  },
  {
   "cell_type": "markdown",
   "metadata": {},
   "source": [
    "时间复杂度：O(n^2)\n",
    "\n",
    "空间复杂度：O(n)"
   ]
  },
  {
   "cell_type": "markdown",
   "metadata": {},
   "source": [
    "# 题解"
   ]
  },
  {
   "cell_type": "markdown",
   "metadata": {},
   "source": [
    "通过排序使之有序，使用3个索引，i是当前需要判断的数，L是i的后一个，R是最后一个。\n",
    "\n",
    "如果求和的值>0，因为有序，故L右移寻求更大的数，\n",
    "\n",
    "如果求和的值<0，因为有序，故R左移寻求更小的数，\n",
    "\n",
    "使用到了有序的特点，减少不必要的计算。剩下的是处理重复，也运用了有序的特点。"
   ]
  },
  {
   "cell_type": "markdown",
   "metadata": {},
   "source": [
    "ps：虽然有想到使用排序，但没合理使用到有序的特点。"
   ]
  },
  {
   "cell_type": "code",
   "execution_count": 2,
   "metadata": {},
   "outputs": [
    {
     "name": "stdout",
     "output_type": "stream",
     "text": [
      "[[-1, -1, 2], [-1, 0, 1]]\n",
      "[]\n",
      "[[-1, 0, 1]]\n",
      "[[-1, 0, 1]]\n",
      "[[-1, -1, 2], [-1, 0, 1]]\n",
      "[[-2, 0, 2]]\n",
      "[[-2, -1, 3], [-2, 0, 2], [-1, 0, 1]]\n",
      "[[0, 0, 0]]\n"
     ]
    }
   ],
   "source": [
    "class Solution:\n",
    "    def threeSum(self, nums: List[int]) -> List[List[int]]:\n",
    "\n",
    "        # 特殊值\n",
    "        if nums == [] or len(nums) < 3:\n",
    "            return []\n",
    "\n",
    "        nums.sort() # 排序便于回溯\n",
    "\n",
    "        L = 1\n",
    "        R = len(nums) - 1\n",
    "        tmp_sum = 0\n",
    "        result_list = []\n",
    "\n",
    "        for i in range(len(nums)-2):\n",
    "            if nums[i] > 0: # 如果当前数字大于0，三个数必然无法满足\n",
    "                break\n",
    "            if i > 0 and nums[i] == nums[i-1]:  # 去重\n",
    "                continue\n",
    "\n",
    "            L = i + 1\n",
    "            R = len(nums) - 1\n",
    "            while L < R:\n",
    "                tmp_sum = nums[i] + nums[L] + nums[R]\n",
    "                if tmp_sum == 0:\n",
    "                    result = [nums[i], nums[L], nums[R]]\n",
    "                    result.sort()\n",
    "                    result_list.append(result)\n",
    "\n",
    "                    # 去重\n",
    "                    while(L<R and nums[L] == nums[L+1]):\n",
    "                        L += 1\n",
    "                    while(L<R and nums[R] == nums[R-1]):\n",
    "                        R -= 1\n",
    "                    L += 1\n",
    "                    R -= 1\n",
    "                elif tmp_sum < 0:\n",
    "                    L += 1\n",
    "                else:\n",
    "                    R -= 1\n",
    "        \n",
    "        return result_list\n",
    "\n",
    "            \n",
    "\n",
    "if __name__ == \"__main__\":\n",
    "    nums_list = [\n",
    "        [-1, 0, 1, 2, -1, -4], # [-4, -1, -1, 0, 1, 2]\n",
    "        [],\n",
    "        [-1,0,1],\n",
    "        [-1,0,1,0],\n",
    "        [-1,0,1,2,-1,-4],\n",
    "        [-2,0,0,2,2],\n",
    "        [3,0,-2,-1,1,2],\n",
    "        [0,0,0,0],\n",
    "    ]\n",
    "    for nums in nums_list:\n",
    "        print(Solution().threeSum(nums))"
   ]
  },
  {
   "cell_type": "markdown",
   "metadata": {},
   "source": [
    "执行用时 :912 ms, 在所有 python3 提交中击败了86.43%的用户\n",
    "\n",
    "内存消耗 :17.1 MB, 在所有 python3 提交中击败了23.32%的用户"
   ]
  },
  {
   "cell_type": "markdown",
   "metadata": {},
   "source": [
    "时间复杂度：O(n^2)\n",
    "\n",
    "空间复杂度：O(1)"
   ]
  }
 ],
 "metadata": {
  "kernelspec": {
   "display_name": "Python 3",
   "language": "python",
   "name": "python3"
  },
  "language_info": {
   "codemirror_mode": {
    "name": "ipython",
    "version": 3
   },
   "file_extension": ".py",
   "mimetype": "text/x-python",
   "name": "python",
   "nbconvert_exporter": "python",
   "pygments_lexer": "ipython3",
   "version": "3.6.8"
  }
 },
 "nbformat": 4,
 "nbformat_minor": 2
}
