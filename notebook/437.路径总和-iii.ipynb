{
 "cells": [
  {
   "cell_type": "markdown",
   "source": [
    "# 1"
   ],
   "metadata": {}
  },
  {
   "cell_type": "markdown",
   "source": [
    "有关树的操作，基本递归比较好使。\n",
    "\n",
    "由于可以从任意节点开始，\\\n",
    "所以应该传递一个列表，\\\n",
    "1.列表需要记录到这个节点之前的累积和；\\\n",
    "2.然后就是如果从当前节点开始，也要加入列表。\\\n",
    "最后判断是否满足条件。\n",
    "\n",
    "![](../imgs/437.svg)\n",
    "\n",
    "> 为了节省空间，可以在递归前压入，返回后弹出。\\\n",
    "> 由于会对每个元素都进行操作，弹出后还需要对每个元素减去压入的值。\n",
    "\n",
    "此处还是直接复制列表吧，方便。"
   ],
   "metadata": {}
  },
  {
   "cell_type": "code",
   "execution_count": 5,
   "source": [
    "class TreeNode:\n",
    "    def __init__(self, val=0, left=None, right=None):\n",
    "        self.val = val\n",
    "        self.left = left\n",
    "        self.right = right\n",
    "\n",
    "\n",
    "class Solution:\n",
    "    def pathSum(self, root: TreeNode, targetSum: int) -> int:\n",
    "        self.ans = 0\n",
    "        def dfs(node, target_sum, record):\n",
    "            record.append(0)\n",
    "            record = list(map(lambda x: x+node.val, record))\n",
    "            self.ans += record.count(target_sum)\n",
    "            if node.left:\n",
    "                dfs(node.left, target_sum, record.copy())\n",
    "            if node.right:\n",
    "                dfs(node.right, target_sum, record.copy())\n",
    "        if root:\n",
    "            dfs(root, targetSum, [])\n",
    "        return self.ans\n",
    "\n",
    "\n",
    "if __name__ == '__main__':\n",
    "    root = TreeNode(10)\n",
    "    root.left, root.right = TreeNode(5), TreeNode(-3)\n",
    "    root.left.left, root.left.right, root.right.right = TreeNode(3), TreeNode(2), TreeNode(11)\n",
    "    root.left.left.left, root.left.left.right, root.left.right.right = TreeNode(3), TreeNode(-2), TreeNode(1)\n",
    "    print(Solution().pathSum(root, 8))\n",
    "\n",
    "    print(Solution().pathSum(None, 0))\n",
    "\n",
    "    root = TreeNode(0)\n",
    "    root.left, root.right = TreeNode(1), TreeNode(1)\n",
    "    print(Solution().pathSum(root, 1))"
   ],
   "outputs": [
    {
     "output_type": "stream",
     "name": "stdout",
     "text": [
      "3\n",
      "0\n",
      "4\n"
     ]
    }
   ],
   "metadata": {}
  },
  {
   "cell_type": "markdown",
   "source": [
    "126/126 cases passed (220 ms)\\\n",
    "Your runtime beats 48.37 % of python3 submissions\\\n",
    "Your memory usage beats 5.02 % of python3 submissions (39.9 MB)"
   ],
   "metadata": {}
  },
  {
   "cell_type": "markdown",
   "source": [
    "time: O(nlogn)\n",
    "\n",
    "space: O(2^logn * logn)\n",
    "\n",
    "> 每个节点都对记录的所有元素都进行了一次加法运算。\\\n",
    "> 二叉树有logn层，叶子节点有2^logn个列表记录，每个记录最多有logn个元素。\\\n",
    "> 如果复用记录的空间的话，可以降低空间复杂度到O(logn)，对于调用开辟的调用栈，空间复杂度应该为O(n)。"
   ],
   "metadata": {}
  },
  {
   "cell_type": "markdown",
   "source": [
    "# 题解1"
   ],
   "metadata": {}
  },
  {
   "cell_type": "markdown",
   "source": [
    "思路一样，\\\n",
    "但设计了2个函数的递归，实现了从不同节点开始。\n",
    "\n",
    "这样的好处是不需要用列表记录，空间开销变小，但栈的递归变多了。"
   ],
   "metadata": {}
  },
  {
   "cell_type": "code",
   "execution_count": 14,
   "source": [
    "class Solution:\n",
    "    def pathSum(self, root: TreeNode, targetSum: int) -> int:\n",
    "        def rootSum(root, targetSum):\n",
    "            if root is None:\n",
    "                return 0\n",
    "\n",
    "            ret = 0\n",
    "            if root.val == targetSum:\n",
    "                ret += 1\n",
    "\n",
    "            ret += rootSum(root.left, targetSum - root.val)\n",
    "            ret += rootSum(root.right, targetSum - root.val)\n",
    "            return ret\n",
    "        \n",
    "        if root is None:\n",
    "            return 0\n",
    "            \n",
    "        ret = rootSum(root, targetSum)\n",
    "        ret += self.pathSum(root.left, targetSum)\n",
    "        ret += self.pathSum(root.right, targetSum)\n",
    "        return ret"
   ],
   "outputs": [],
   "metadata": {}
  },
  {
   "cell_type": "markdown",
   "source": [
    "time: O(n^2)\n",
    "\n",
    "space: O(n)\n",
    "\n",
    "> 空间主要是函数调用，栈的开辟。"
   ],
   "metadata": {}
  },
  {
   "cell_type": "markdown",
   "source": [
    "# 题解2"
   ],
   "metadata": {}
  },
  {
   "cell_type": "markdown",
   "source": [
    "题解方法比较巧妙，但不具普适性。\n",
    "\n",
    "方法被称为前缀和，图解比较容易理解。\n",
    "\n",
    "![](../imgs/437-ans.svg)\n",
    "\n",
    "求出从根开始到每个节点的和，\\\n",
    "将其记录到字典中，\\\n",
    "最后，查找字典中节点之间的差等于目标值即可。\n",
    "\n",
    "（例如，图中，有三个节点值为18，它们减去节点值10，就可以的到目标值。）"
   ],
   "metadata": {}
  },
  {
   "cell_type": "code",
   "execution_count": 15,
   "source": [
    "import collections\n",
    "\n",
    "class Solution:\n",
    "    def pathSum(self, root: TreeNode, targetSum: int) -> int:\n",
    "        prefix = collections.defaultdict(int)\n",
    "        prefix[0] = 1\n",
    "\n",
    "        def dfs(root, curr):\n",
    "            if not root:\n",
    "                return 0\n",
    "            \n",
    "            ret = 0\n",
    "            curr += root.val\n",
    "            ret += prefix[curr - targetSum]\n",
    "            prefix[curr] += 1\n",
    "            ret += dfs(root.left, curr)\n",
    "            ret += dfs(root.right, curr)\n",
    "            prefix[curr] -= 1\n",
    "\n",
    "            return ret\n",
    "\n",
    "        return dfs(root, 0)"
   ],
   "outputs": [],
   "metadata": {}
  },
  {
   "cell_type": "markdown",
   "source": [
    "time: O(n)\n",
    "\n",
    "space: O(n)"
   ],
   "metadata": {}
  }
 ],
 "metadata": {
  "orig_nbformat": 4,
  "language_info": {
   "name": "python",
   "version": "3.8.10",
   "mimetype": "text/x-python",
   "codemirror_mode": {
    "name": "ipython",
    "version": 3
   },
   "pygments_lexer": "ipython3",
   "nbconvert_exporter": "python",
   "file_extension": ".py"
  },
  "kernelspec": {
   "name": "python3",
   "display_name": "Python 3.8.10 64-bit"
  },
  "interpreter": {
   "hash": "31f2aee4e71d21fbe5cf8b01ff0e069b9275f58929596ceb00d14d90e3e16cd6"
  }
 },
 "nbformat": 4,
 "nbformat_minor": 2
}