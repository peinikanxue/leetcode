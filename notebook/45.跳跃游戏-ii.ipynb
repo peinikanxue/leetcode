{
 "cells": [
  {
   "cell_type": "markdown",
   "source": [
    "# 1"
   ],
   "metadata": {}
  },
  {
   "cell_type": "markdown",
   "source": [
    "动态规划\n",
    "\n",
    "记录nums[i]等到达的nums[j]最小步数，\\\n",
    "由于dp[i-1]可能没有步数，所以需要二维数组记录之前的。"
   ],
   "metadata": {}
  },
  {
   "cell_type": "markdown",
   "source": [
    "超时，过了94/106，说明思路没错。\\\n",
    "查找上一位置最小的步数花费时间太多。"
   ],
   "metadata": {}
  },
  {
   "cell_type": "code",
   "execution_count": 26,
   "source": [
    "from typing import List\n",
    "from pprint import pprint\n",
    "\n",
    "\n",
    "class Solution:\n",
    "    def jump(self, nums: List[int]) -> int:\n",
    "        nums = [1] + nums   # 哨(1步到初始点)\n",
    "        dp = [[float('inf') for _ in range(len(nums))] for _ in range(len(nums))]\n",
    "        dp[0][1] = 0\n",
    "\n",
    "        for i in range(1, len(nums)):\n",
    "            step_tmp = nums[i]\n",
    "            min_tmp = float('inf')\n",
    "            for k in range(i):  # 查找这一列最小的数，遍历（可优化）\n",
    "                min_tmp = min(dp[k][i], min_tmp) if nums[i] > 0 else min_tmp    # 上一位置，nums如果可以跳1个以上，记下其最小值\n",
    "            for j in range(i+1, len(nums)):\n",
    "                dp[i][j] = min_tmp + 1\n",
    "                step_tmp -= 1\n",
    "                if step_tmp <= 0:\n",
    "                    break\n",
    "        pprint(dp)\n",
    "        ans = min([dp[i][-1] for i in range(len(nums))])\n",
    "        return ans\n",
    "\n",
    "\n",
    "if __name__ == '__main__':\n",
    "    nums_list = [\n",
    "        # [2,3,1,1,4],\n",
    "        # [2,3,0,1,4],\n",
    "        [2,3,0,1,4,1],\n",
    "        [1,1,1,1,0]\n",
    "    ]\n",
    "\n",
    "    for nums in nums_list:\n",
    "        print(Solution().jump(nums))"
   ],
   "outputs": [
    {
     "output_type": "stream",
     "name": "stdout",
     "text": [
      "[[inf, 0, inf, inf, inf, inf, inf],\n",
      " [inf, inf, 1, 1, inf, inf, inf],\n",
      " [inf, inf, inf, 2, 2, 2, inf],\n",
      " [inf, inf, inf, inf, inf, inf, inf],\n",
      " [inf, inf, inf, inf, inf, 3, inf],\n",
      " [inf, inf, inf, inf, inf, inf, 3],\n",
      " [inf, inf, inf, inf, inf, inf, inf]]\n",
      "3\n",
      "[[inf, 0, inf, inf, inf, inf],\n",
      " [inf, inf, 1, inf, inf, inf],\n",
      " [inf, inf, inf, 2, inf, inf],\n",
      " [inf, inf, inf, inf, 3, inf],\n",
      " [inf, inf, inf, inf, inf, 4],\n",
      " [inf, inf, inf, inf, inf, inf]]\n",
      "4\n"
     ]
    }
   ],
   "metadata": {}
  },
  {
   "cell_type": "markdown",
   "source": [
    "# 2"
   ],
   "metadata": {}
  },
  {
   "cell_type": "markdown",
   "source": [
    "动态规划\n",
    "\n",
    "在上述中优化，好像可以不用二维数组。\n",
    "\n",
    "对于当前元素i，dp[k] = min(dp[i] + 1, dp[k])；\\\n",
    "对于每个元素，都需要循环nums[i]次。（k从i+1~i+1+nums[i]）"
   ],
   "metadata": {}
  },
  {
   "cell_type": "code",
   "execution_count": 55,
   "source": [
    "from typing import List\n",
    "\n",
    "class Solution:\n",
    "    def jump(self, nums: List[int]) -> int:\n",
    "        nums = [1] + nums\n",
    "        dp = [float('inf') for _ in range(len(nums))]\n",
    "        dp[1] = 0\n",
    "\n",
    "        for i in range(1, len(nums)):\n",
    "            for k in range(i + 1, min(i + 1 + nums[i], len(nums))):    # 从i开始到i+nums[k]（闭区间，所以再+1），注意避免越界\n",
    "                dp[k] = min(dp[i] + 1, dp[k])\n",
    "        # print(dp)\n",
    "        return dp[-1]\n",
    "\n",
    "\n",
    "if __name__ == '__main__':\n",
    "    nums_list = [\n",
    "        [2,3,1,1,4],\n",
    "        [2,3,0,1,4],\n",
    "        [2,3,0,1,4,1],\n",
    "        [1,1,1,1,0]\n",
    "    ]\n",
    "\n",
    "    for nums in nums_list:\n",
    "        print(Solution().jump(nums))"
   ],
   "outputs": [
    {
     "output_type": "stream",
     "name": "stdout",
     "text": [
      "[inf, 0, 1, 1, 2, 2]\n",
      "2\n",
      "[inf, 0, 1, 1, 2, 2]\n",
      "2\n",
      "[inf, 0, 1, 1, 2, 2, 3]\n",
      "3\n",
      "[inf, 0, 1, 2, 3, 4]\n",
      "4\n"
     ]
    }
   ],
   "metadata": {}
  },
  {
   "cell_type": "markdown",
   "source": [
    "执行用时 :4516 ms, 在所有 Python3 提交中击败了15.44 %的用户\n",
    "\n",
    "内存消耗 :15.6 MB, 在所有 Python3 提交中击败了8.66 %的用户"
   ],
   "metadata": {}
  },
  {
   "cell_type": "markdown",
   "source": [
    "time: O(n * k)，k为nums中最大的数（k<=len(nums)）\n",
    "\n",
    "space: O(n)"
   ],
   "metadata": {}
  }
 ],
 "metadata": {
  "orig_nbformat": 4,
  "language_info": {
   "name": "python",
   "version": "3.8.10",
   "mimetype": "text/x-python",
   "codemirror_mode": {
    "name": "ipython",
    "version": 3
   },
   "pygments_lexer": "ipython3",
   "nbconvert_exporter": "python",
   "file_extension": ".py"
  },
  "kernelspec": {
   "name": "python3",
   "display_name": "Python 3.8.10 64-bit"
  },
  "interpreter": {
   "hash": "31f2aee4e71d21fbe5cf8b01ff0e069b9275f58929596ceb00d14d90e3e16cd6"
  }
 },
 "nbformat": 4,
 "nbformat_minor": 2
}