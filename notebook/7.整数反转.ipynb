{
 "cells": [
  {
   "cell_type": "markdown",
   "metadata": {},
   "source": [
    "# 过程"
   ]
  },
  {
   "cell_type": "markdown",
   "metadata": {},
   "source": [
    "## 1"
   ]
  },
  {
   "cell_type": "markdown",
   "metadata": {},
   "source": [
    "直接取出每一位，再判断是否超出int的取值范围。"
   ]
  },
  {
   "cell_type": "code",
   "execution_count": 1,
   "metadata": {},
   "outputs": [
    {
     "name": "stdout",
     "output_type": "stream",
     "text": [
      "321\n",
      "-321\n",
      "21\n"
     ]
    }
   ],
   "source": [
    "class Solution:\n",
    "    def reverse(self, x: int) -> int:\n",
    "        \"\"\"\n",
    "        :type x: int\n",
    "        :rtype: int\n",
    "        \"\"\"\n",
    "        result = 0\n",
    "\n",
    "        INT_MIN = -2**31\n",
    "        INT_MAX = 2**31-1\n",
    "\n",
    "        # 保留符号\n",
    "        is_negative = -1 if x < 0 else 1\n",
    "        x = abs(x)\n",
    "\n",
    "        while x:\n",
    "            result = result * 10 + x % 10\n",
    "            x //= 10\n",
    "\n",
    "            # 判断是否越界\n",
    "            if result*is_negative < INT_MIN or result*is_negative > INT_MAX:\n",
    "                return 0\n",
    "\n",
    "        # 添加符号\n",
    "        result *= is_negative\n",
    "\n",
    "        return result\n",
    "        \n",
    "\n",
    "if __name__ == \"__main__\":\n",
    "    x_list = [123, -123, 120]\n",
    "    for x in x_list:\n",
    "        print(Solution().reverse(x))"
   ]
  },
  {
   "cell_type": "markdown",
   "metadata": {},
   "source": [
    "时间复杂度：O(n)\n",
    "\n",
    "空间复杂度：O(n)"
   ]
  },
  {
   "cell_type": "markdown",
   "metadata": {},
   "source": [
    "执行用时 :36 ms, 在所有 Python3 提交中击败了99.75%的用户\n",
    "\n",
    "内存消耗 :14 MB, 在所有 Python3 提交中击败了5.21%的用户"
   ]
  },
  {
   "cell_type": "markdown",
   "metadata": {},
   "source": [
    "注：使用python直接越过了中间变量可能出现溢出的问题。"
   ]
  }
 ],
 "metadata": {
  "kernelspec": {
   "display_name": "Python 3",
   "language": "python",
   "name": "python3"
  },
  "language_info": {
   "codemirror_mode": {
    "name": "ipython",
    "version": 3
   },
   "file_extension": ".py",
   "mimetype": "text/x-python",
   "name": "python",
   "nbconvert_exporter": "python",
   "pygments_lexer": "ipython3",
   "version": "3.6.8"
  }
 },
 "nbformat": 4,
 "nbformat_minor": 2
}
