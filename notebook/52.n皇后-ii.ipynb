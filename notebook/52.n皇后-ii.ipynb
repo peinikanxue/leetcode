{
 "cells": [
  {
   "cell_type": "markdown",
   "source": [
    "# 1"
   ],
   "metadata": {}
  },
  {
   "cell_type": "markdown",
   "source": [
    "同52题。"
   ],
   "metadata": {}
  },
  {
   "cell_type": "code",
   "execution_count": 4,
   "source": [
    "class Solution:\n",
    "    def totalNQueens(self, n: int) -> int:\n",
    "\n",
    "        # 根据Q的位置列表，将位置占领\n",
    "        def update_vis(vis, Q_pos):\n",
    "            direction = [(+1, +1), (-1, -1), (-1, +1), (+1, -1)]\n",
    "            rows, cols = [x[0] for x in Q_pos], [x[1] for x in Q_pos]\n",
    "            vis_pos, n = [], len(vis)\n",
    "            [[[vis_pos.append((row+x*rate, col+y*rate)) for rate in range(n) if 0<=row+x*rate<n and 0<=col+y*rate<n] for x, y in direction] for row, col in Q_pos]\n",
    "            vis_pos = set(vis_pos)\n",
    "\n",
    "            for i in range(n):\n",
    "                for j in range(n):\n",
    "                    if i in rows or j in cols or (i, j) in vis_pos:\n",
    "                        vis[i][j] = True\n",
    "                    else:\n",
    "                        vis[i][j] = False\n",
    "            return vis\n",
    "\n",
    "        # 搜索回溯\n",
    "        def dfs(vis, Q_pos, row, ans):\n",
    "            '''\n",
    "                棋盘，是否被占据，棋盘边长，已经放置了几个，第几行\n",
    "            '''\n",
    "            n = len(vis)\n",
    "            if len(Q_pos) == n:                 # 满足条件，加入答案\n",
    "                # print(Q_pos)\n",
    "                ans.append(True)\n",
    "            if row >= n:\n",
    "                return\n",
    "\n",
    "            # vis = get_vis(vis, Q_pos)   # 占据位置\n",
    "            for col in range(n):\n",
    "                if not vis[row][col]:\n",
    "                    # print(f'{row},{col}')\n",
    "                    Q_pos.append((row, col))\n",
    "                    vis = update_vis(vis, Q_pos)   # 更新占据的位置\n",
    "                    # print(row, ' append:', Q_pos)\n",
    "                    dfs(vis, Q_pos, row+1, ans) # 前往下一层\n",
    "                    Q_pos.pop()                 # 回溯\n",
    "                    vis = update_vis(vis, Q_pos)   # 更新占据的位置\n",
    "                    # print(row, ' pop:', Q_pos)\n",
    "\n",
    "        # 1.搜索\n",
    "        vis = [[False] * n for _ in range(n)]\n",
    "        ans = []\n",
    "        dfs(vis, [], 0, ans)\n",
    "\n",
    "        return len(ans)\n",
    "\n",
    "\n",
    "if __name__ == '__main__':\n",
    "    n_list = [\n",
    "        4,\n",
    "        1,\n",
    "    ]\n",
    "\n",
    "    for n in n_list:\n",
    "        print(Solution().totalNQueens(n))"
   ],
   "outputs": [
    {
     "output_type": "stream",
     "name": "stdout",
     "text": [
      "2\n",
      "1\n"
     ]
    }
   ],
   "metadata": {}
  },
  {
   "cell_type": "markdown",
   "source": [
    "9/9 cases passed (1092 ms)\\\n",
    "Your runtime beats 5.18 % of python3 submissions\\\n",
    "Your memory usage beats 17.09 % of python3 submissions (15.2 MB)"
   ],
   "metadata": {}
  },
  {
   "cell_type": "markdown",
   "source": [
    "time: O(n^4)\n",
    "\n",
    "space: O(n^2)"
   ],
   "metadata": {}
  }
 ],
 "metadata": {
  "orig_nbformat": 4,
  "language_info": {
   "name": "python",
   "version": "3.8.10",
   "mimetype": "text/x-python",
   "codemirror_mode": {
    "name": "ipython",
    "version": 3
   },
   "pygments_lexer": "ipython3",
   "nbconvert_exporter": "python",
   "file_extension": ".py"
  },
  "kernelspec": {
   "name": "python3",
   "display_name": "Python 3.8.10 64-bit"
  },
  "interpreter": {
   "hash": "31f2aee4e71d21fbe5cf8b01ff0e069b9275f58929596ceb00d14d90e3e16cd6"
  }
 },
 "nbformat": 4,
 "nbformat_minor": 2
}