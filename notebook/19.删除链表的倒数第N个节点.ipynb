{
 "cells": [
  {
   "cell_type": "markdown",
   "metadata": {},
   "source": [
    "## 1"
   ]
  },
  {
   "cell_type": "markdown",
   "metadata": {},
   "source": [
    "题目想要一次遍历，只想到了使用一个表存储每个节点。\n",
    "\n",
    "前面添加哑结点便于操作。"
   ]
  },
  {
   "cell_type": "code",
   "execution_count": 1,
   "metadata": {},
   "outputs": [
    {
     "name": "stdout",
     "output_type": "stream",
     "text": [
      "1  -> 2  -> 3  -> 5\n",
      "2\n",
      "1\n"
     ]
    }
   ],
   "source": [
    "# Definition for singly-linked list.\n",
    "class ListNode:\n",
    "    def __init__(self, x):\n",
    "        self.val = x\n",
    "        self.next = None\n",
    "\n",
    "class Solution:\n",
    "    def removeNthFromEnd(self, head: ListNode, n: int) -> ListNode:\n",
    "\n",
    "        nodes = []\n",
    "        node = ListNode(0)  # 在前面加一个节点便于操作\n",
    "        node.next = head\n",
    "        new_head = node\n",
    "\n",
    "        while node.next:\n",
    "            nodes.append(node)\n",
    "            node = node.next\n",
    "        else:\n",
    "            nodes.append(node)\n",
    "        \n",
    "        if n == 1:  # 边界情况\n",
    "            nodes[-2].next = None\n",
    "        elif len(nodes) < 3:    # 边界情况\n",
    "            nodes[-n-1].next = None\n",
    "        elif nodes[-n].next:\n",
    "            nodes[-n-1].next = nodes[-n+1]\n",
    "\n",
    "        return new_head.next\n",
    "\n",
    "    \n",
    "if __name__ == \"__main__\":\n",
    "    vals = [\n",
    "        [1, 2, 3, 4, 5],\n",
    "        [1],\n",
    "        [1, 2],\n",
    "        [1, 2],\n",
    "    ]\n",
    "    n_list = [2, 1, 2, 1]\n",
    "\n",
    "    for i in range(len(vals)):\n",
    "        head = None\n",
    "        is_frist = True\n",
    "        for val in vals[i]:\n",
    "            if is_frist:\n",
    "                head = node = ListNode(val)\n",
    "                is_frist = False\n",
    "                continue\n",
    "            node.next = ListNode(val)\n",
    "            node = node.next\n",
    "\n",
    "        result = Solution().removeNthFromEnd(head, n_list[i])\n",
    "        if result:\n",
    "            while result.next:\n",
    "                print(result.val, ' -> ', end='')\n",
    "                result = result.next\n",
    "            else:\n",
    "                print(result.val)"
   ]
  },
  {
   "cell_type": "markdown",
   "metadata": {},
   "source": [
    "执行用时 :40 ms, 在所有 python3 提交中击败了95.13%的用户\n",
    "\n",
    "内存消耗 :13.8 MB, 在所有 python3 提交中击败了5.53%的用户"
   ]
  },
  {
   "cell_type": "markdown",
   "metadata": {},
   "source": [
    "时间复杂度：O(n)\n",
    "\n",
    "空间复杂度：O(n)"
   ]
  },
  {
   "cell_type": "markdown",
   "metadata": {},
   "source": [
    "# 题解"
   ]
  },
  {
   "cell_type": "markdown",
   "metadata": {},
   "source": [
    "使用双指针，辅以哑结点。"
   ]
  },
  {
   "cell_type": "markdown",
   "metadata": {},
   "source": [
    "leetcode题解图示: ![19](https://pic.leetcode-cn.com/4e134986ba59f69042b2769b84e3f2682f6745033af7bcabcab42922a58091ba-file_1555694482088)"
   ]
  },
  {
   "cell_type": "code",
   "execution_count": 2,
   "metadata": {},
   "outputs": [],
   "source": [
    "class Solution:\n",
    "    def removeNthFromEnd(self, head: ListNode, n: int) -> ListNode:\n",
    "\n",
    "        new_head = p1 = p2 = ListNode(0)\n",
    "        p1.next = head\n",
    "\n",
    "        while n+1:\n",
    "            p1 = p1.next\n",
    "            n -= 1\n",
    "        \n",
    "        while p1:\n",
    "            p1 = p1.next\n",
    "            p2 = p2.next\n",
    "        \n",
    "        p2.next = p2.next.next\n",
    "\n",
    "        return new_head.next"
   ]
  },
  {
   "cell_type": "markdown",
   "metadata": {},
   "source": [
    "执行用时 :44 ms, 在所有 python3 提交中击败了87.66%的用户\n",
    "\n",
    "内存消耗 :13.9 MB, 在所有 python3 提交中击败了5.53%的用户"
   ]
  },
  {
   "cell_type": "markdown",
   "metadata": {},
   "source": [
    "时间复杂度：O(n)\n",
    "\n",
    "空间复杂度：O(1)"
   ]
  }
 ],
 "metadata": {
  "kernelspec": {
   "display_name": "Python 3",
   "language": "python",
   "name": "python3"
  },
  "language_info": {
   "codemirror_mode": {
    "name": "ipython",
    "version": 3
   },
   "file_extension": ".py",
   "mimetype": "text/x-python",
   "name": "python",
   "nbconvert_exporter": "python",
   "pygments_lexer": "ipython3",
   "version": "3.6.8"
  }
 },
 "nbformat": 4,
 "nbformat_minor": 2
}
