{
 "cells": [
  {
   "cell_type": "markdown",
   "metadata": {},
   "source": [
    "## 1"
   ]
  },
  {
   "cell_type": "markdown",
   "metadata": {},
   "source": [
    "直接做，多个if。"
   ]
  },
  {
   "cell_type": "code",
   "execution_count": 1,
   "metadata": {
    "scrolled": true
   },
   "outputs": [
    {
     "name": "stdout",
     "output_type": "stream",
     "text": [
      "42\n",
      "-42\n",
      "4193\n",
      "0\n",
      "-2147483648\n",
      "123\n"
     ]
    }
   ],
   "source": [
    "class Solution:\n",
    "    def myAtoi(self, s: str) -> int:\n",
    "        result = 0\n",
    "\n",
    "        is_start = False\n",
    "        symbol = 1\n",
    "\n",
    "        for i in range(len(s)):\n",
    "            c = s[i]\n",
    "\n",
    "            # 还没开始数字处理\n",
    "            if not is_start:\n",
    "                # 跳过前面的空格\n",
    "                if c == ' ':\n",
    "                    continue\n",
    "\n",
    "                # 不为'+','-',数字时\n",
    "                if c != '+' and c != '-' and (ord(c) < ord('0') or ord(c) > ord('9')):\n",
    "                    return 0\n",
    "\n",
    "                # 如果为'+'或'-'，并且还有下一个字符，下一个字符应为数字\n",
    "                if (c == '+' or c == '-') and i+1 < len(s) and (ord(s[i+1]) < ord('0') or ord(s[i+1]) > ord('9')):\n",
    "                    return 0\n",
    "\n",
    "                # 开启数字处理\n",
    "                if ord('0') <= ord(c) <= ord('9'):\n",
    "                    is_start = True\n",
    "                    if i-1 >= 0 and s[i-1] == '-':\n",
    "                        symbol = -1\n",
    "\n",
    "            # 数字处理\n",
    "            if is_start:\n",
    "                if ord('0') <= ord(c) <= ord('9'):\n",
    "                    result = result * 10 + int(c)\n",
    "                else:\n",
    "                    break\n",
    "                \n",
    "        # 加上符号\n",
    "        result *= symbol\n",
    "\n",
    "        # 32位取值范围处理\n",
    "        result = max(min(result, 2**31-1), -2**31)\n",
    "            \n",
    "        return result\n",
    "\n",
    "if __name__ == \"__main__\":\n",
    "    s_list = [\"42\", \"   -42\", \"4193 with words\", \"words and 987\", \"-91283472332\", \"123-\"]\n",
    "    for s in s_list:\n",
    "        print(Solution().myAtoi(s))\n"
   ]
  },
  {
   "cell_type": "markdown",
   "metadata": {},
   "source": [
    "时间复杂度：O(n)\n",
    "空间复杂度：O(n)"
   ]
  },
  {
   "cell_type": "markdown",
   "metadata": {},
   "source": [
    "执行用时 :48 ms, 在所有 Python3 提交中击败了92.78%的用户\n",
    "\n",
    "内存消耗 :13.8 MB, 在所有 Python3 提交中击败了5.16%的用户"
   ]
  },
  {
   "cell_type": "markdown",
   "metadata": {},
   "source": [
    "# 题解"
   ]
  },
  {
   "cell_type": "markdown",
   "metadata": {},
   "source": [
    "题解有使用一行re正则表达式解决。\n",
    "\n",
    "```python\n",
    "return max(min(int(*re.findall('^[\\+\\-]?\\d+', s.lstrip())), 2**31 - 1), -2**31)\n",
    "```"
   ]
  }
 ],
 "metadata": {
  "kernelspec": {
   "display_name": "Python 3",
   "language": "python",
   "name": "python3"
  },
  "language_info": {
   "codemirror_mode": {
    "name": "ipython",
    "version": 3
   },
   "file_extension": ".py",
   "mimetype": "text/x-python",
   "name": "python",
   "nbconvert_exporter": "python",
   "pygments_lexer": "ipython3",
   "version": "3.6.8"
  }
 },
 "nbformat": 4,
 "nbformat_minor": 2
}
