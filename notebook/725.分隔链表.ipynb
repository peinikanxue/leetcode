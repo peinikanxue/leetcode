{
 "cells": [
  {
   "cell_type": "markdown",
   "source": [
    "# 1"
   ],
   "metadata": {}
  },
  {
   "cell_type": "markdown",
   "source": [
    "与68题很相似，都是要均匀分布。\n",
    "\n",
    "没啥难度。"
   ],
   "metadata": {}
  },
  {
   "cell_type": "code",
   "execution_count": 39,
   "source": [
    "from typing import List\n",
    "class ListNode:\n",
    "    def __init__(self, val=0, next=None):\n",
    "        self.val = val\n",
    "        self.next = next\n",
    "\n",
    "\n",
    "class Solution:\n",
    "    def splitListToParts(self, head: ListNode, k: int) -> List[ListNode]:\n",
    "        # 先遍历一遍，得到链表长度\n",
    "        num_len, tmp = 0, head\n",
    "        while tmp:\n",
    "            num_len += 1\n",
    "            tmp = tmp.next\n",
    "        \n",
    "        # 计算怎么分配\n",
    "        alloc_list = [num_len // k] * k     # 平均分配\n",
    "        last = num_len - num_len // k * k   # 剩余\n",
    "        for i in range(last):\n",
    "            alloc_list[i] += 1\n",
    "        \n",
    "        # 拆分链表\n",
    "        ans = []\n",
    "        for x in alloc_list:\n",
    "            tail = head\n",
    "            if tail:\n",
    "                for _ in range(x-1):\n",
    "                    tail = tail.next\n",
    "                ans.append(head)\n",
    "                head = tail.next\n",
    "                tail.next = None\n",
    "            else:\n",
    "                ans.append(None)\n",
    "        return ans\n",
    "\n",
    "\n",
    "if __name__ == '__main__':\n",
    "    head_k = [\n",
    "        [[1,2,3], 5],\n",
    "        [[1,2,3,4,5,6,7,8,9,10], 3],\n",
    "    ]\n",
    "\n",
    "    for head, k in head_k:\n",
    "        ln = ListNode()\n",
    "        ln.val = head[0]\n",
    "        tmp = ln\n",
    "        for x in head[1:]:\n",
    "            tmp.next = ListNode()\n",
    "            tmp = tmp.next\n",
    "            tmp.val = x\n",
    "        for a in Solution().splitListToParts(ln, k):\n",
    "            while a:\n",
    "                print(a.val, end='->')\n",
    "                a = a.next\n",
    "            print(' ')\n",
    "        print('---')"
   ],
   "outputs": [
    {
     "output_type": "stream",
     "name": "stdout",
     "text": [
      "1-> \n",
      "2-> \n",
      "3-> \n",
      " \n",
      " \n",
      "---\n",
      "1->2->3->4-> \n",
      "5->6->7-> \n",
      "8->9->10-> \n",
      "---\n"
     ]
    }
   ],
   "metadata": {}
  },
  {
   "cell_type": "markdown",
   "source": [
    "43/43 cases passed (28 ms)\\\n",
    "Your runtime beats 98.91 % of python3 submissions\\\n",
    "Your memory usage beats 57.09 % of python3 submissions (15.4 MB)"
   ],
   "metadata": {}
  },
  {
   "cell_type": "markdown",
   "source": [
    "time: O(n)\n",
    "\n",
    "space: O(k)\n",
    "\n",
    "> k为拆分的段数"
   ],
   "metadata": {}
  }
 ],
 "metadata": {
  "orig_nbformat": 4,
  "language_info": {
   "name": "python",
   "version": "3.8.10",
   "mimetype": "text/x-python",
   "codemirror_mode": {
    "name": "ipython",
    "version": 3
   },
   "pygments_lexer": "ipython3",
   "nbconvert_exporter": "python",
   "file_extension": ".py"
  },
  "kernelspec": {
   "name": "python3",
   "display_name": "Python 3.8.10 64-bit"
  },
  "interpreter": {
   "hash": "31f2aee4e71d21fbe5cf8b01ff0e069b9275f58929596ceb00d14d90e3e16cd6"
  }
 },
 "nbformat": 4,
 "nbformat_minor": 2
}