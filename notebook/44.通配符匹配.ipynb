{
 "cells": [
  {
   "cell_type": "markdown",
   "source": [
    "# 1"
   ],
   "metadata": {}
  },
  {
   "cell_type": "markdown",
   "source": [
    "思路参考之前的10题。\n",
    "\n",
    "递归判断。\n",
    "\n",
    "*可消耗，可不消耗。\\\n",
    "?必须消耗。\n",
    "\n",
    "注意：这是'通配符'，而非正则表达式。\\\n",
    "'*'和'?'也作为字符匹配，而不是表示前面字符的数量。"
   ],
   "metadata": {}
  },
  {
   "cell_type": "markdown",
   "source": [
    "超时！"
   ],
   "metadata": {}
  },
  {
   "cell_type": "code",
   "execution_count": 74,
   "source": [
    "class Solution:\n",
    "    def isMatch(self, s: str, p: str) -> bool:\n",
    "        if not p:   # p为空\n",
    "            return not s\n",
    "        if len(p) >= 2 and p[0] == '*' and p[1] == '*':    # 跳过p中连着的*\n",
    "            return self.isMatch(s, p[1:])\n",
    "        if not s:   # s为空\n",
    "            return not p or p[0] == '*' and self.isMatch(s, p[1:])   # s没了，p还有，继续匹配p是否为*\n",
    "\n",
    "        first_match = bool(s) and p[0] in ('?', s[0])\n",
    "\n",
    "        if p[0] == '*':\n",
    "            return (self.isMatch(s, p[1:]) or       # 匹配0个\n",
    "                    self.isMatch(s[1:], p[1:]) or   # 匹配1个\n",
    "                    self.isMatch(s[1:], p))         # 匹配1个以上\n",
    "        else:\n",
    "            return first_match and self.isMatch(s[1:], p[1:])\n",
    "\n",
    "\n",
    "if __name__ == '__main__':\n",
    "    s_p = [\n",
    "        ['aa', 'a'],\n",
    "        ['aa', '*'],\n",
    "        ['cb', '?a'],\n",
    "        ['adceb', 'a*b'],\n",
    "        ['acdcb', 'a*c?b'],\n",
    "        ['', '******'],\n",
    "        ['babaaababaabababbbbbbaabaabbabababbaababbaaabbbaaab', '***bba**a*bbba**aab**b'],\n",
    "        ['aa', '*'],\n",
    "        ['aa', '?*'],\n",
    "        ['abaabaaaabbabbaaabaabababbaabaabbabaaaaabababbababaabbabaabbbbaabbbbbbbabaaabbaaaaabbaabbbaaaaabbbabb', 'ab*aaba**abbaaaa**b*b****aa***a*b**ba*a**ba*baaa*b*ab*'],\n",
    "        ['bbbbbbbabbaabbabbbbaaabbabbabaaabbababbbabbbabaaabaab', 'b*b*ab**ba*b**b***bba'], # 超时\n",
    "    ]\n",
    "\n",
    "    for s, p in s_p:\n",
    "        print(Solution().isMatch(s, p))"
   ],
   "outputs": [
    {
     "output_type": "stream",
     "name": "stdout",
     "text": [
      "False\n",
      "True\n",
      "False\n",
      "True\n",
      "False\n",
      "True\n",
      "False\n",
      "True\n",
      "True\n",
      "False\n",
      "False\n"
     ]
    }
   ],
   "metadata": {}
  },
  {
   "cell_type": "markdown",
   "source": [
    "# 题解1\n",
    "\n"
   ],
   "metadata": {}
  },
  {
   "cell_type": "markdown",
   "source": [
    "动态规划\n",
    "\n",
    "字符串匹配，只往前走，只能往右下角走。\n",
    "\n",
    "![1](https://pic.leetcode-cn.com/6d81e12e8aa6f3ff5bf08dcd602fed756f4cfe9fceeba7c5b7c01b3e7c87f1f5-%E6%B0%B4%E5%8D%B0_%E5%B1%8F%E5%B9%95%E5%BF%AB%E7%85%A7%202020-07-05%20%E4%B8%8B%E5%8D%882.03.39.png)\n",
    "![2](https://pic.leetcode-cn.com/a319e64f7824ab0590ef1dbaa016d6e47f22c631424b124cb1ecea842ba002c8-gaitubao_%E5%B1%8F%E5%B9%95%E5%BF%AB%E7%85%A7%202020-07-05%20%E4%B8%8B%E5%8D%882.09.44.png)\n",
    "![3](https://pic.leetcode-cn.com/c97b033d8e3f45686f87a3264404177411ac8095201c07c3e1af0b25953067b0-gaitubao_%E5%B1%8F%E5%B9%95%E5%BF%AB%E7%85%A7%202020-07-05%20%E4%B8%8B%E5%8D%882.20.13.png)\n",
    "![4](https://pic.leetcode-cn.com/abee7c42685e277f93c1693447d403044e30a33d1a90f763a96d3373ed66ce2f-gaitubao_%E5%B1%8F%E5%B9%95%E5%BF%AB%E7%85%A7%202020-07-05%20%E4%B8%8B%E5%8D%882.44.25.png)\n",
    "![5](https://pic.leetcode-cn.com/401a04aafc325886cb448e3d9c0c78aa223f2387e3512ff17f9966daef15d705-gaitubao_%E5%B1%8F%E5%B9%95%E5%BF%AB%E7%85%A7%202020-07-05%20%E4%B8%8B%E5%8D%882.25.03.png)\n",
    "![6](https://pic.leetcode-cn.com/79bb8ed8011d87781e87346361f44547d0b162594639ef81b38d2aaeda05f162-gaitubao_%E5%B1%8F%E5%B9%95%E5%BF%AB%E7%85%A7%202020-07-05%20%E4%B8%8B%E5%8D%882.26.42.png)"
   ],
   "metadata": {}
  },
  {
   "cell_type": "code",
   "execution_count": 122,
   "source": [
    "class Solution:\n",
    "    def isMatch(self, s: str, p: str) -> bool:\n",
    "        s, p = ' ' + s, ' ' + p # 哨\n",
    "        m, n = len(s), len(p)\n",
    "        dp = [[False for _ in range(m)] for _ in range(n)]\n",
    "\n",
    "        dp[0][0] = True\n",
    "\n",
    "        for i in range(1, n):   # 题解抄来，单独处理*开头的情况（后面就不再管了）\n",
    "            if p[i] == '*':\n",
    "                dp[i][0] = True\n",
    "            else:\n",
    "                break\n",
    "\n",
    "        for i in range(1, n):\n",
    "            for j in range(1, m):\n",
    "                # dp[i][j] = (\n",
    "                #     (p[i] in (s[j], '?') and (dp[i-1][j-1] or (p[i-1] == '*' and dp[i-1][j])))\n",
    "                #     or (p[i] == '*' and (dp[i-1][j] or dp[i][j-1] or dp[i-1][j-1]))\n",
    "                # )\n",
    "                dp[i][j] = (\n",
    "                    (p[i] in (s[j], '?') and (dp[i-1][j-1]))                        # 当前字符相等或为?，并且左上角dp为T\n",
    "                    or (p[i] == '*' and (dp[i-1][j] or dp[i][j-1] or dp[i-1][j-1])) # 当前p为*，并且上面/左边/左上角为T\n",
    "                )\n",
    "        \n",
    "        # print('\\t'.join(list(s)))     # debug\n",
    "        # for i in range(n):\n",
    "        #     print(p[i], end='')\n",
    "        #     for j in range(m):\n",
    "        #         print(f'{\"T\" if dp[i][j] else \" \"}', end='\\t')\n",
    "        #     print()\n",
    "        return dp[-1][-1]\n",
    "\n",
    "\n",
    "if __name__ == '__main__':\n",
    "    s_p = [\n",
    "        # ['aa', 'a'],\n",
    "        # ['aa', '*'],\n",
    "        # ['cb', '?a'],\n",
    "        # ['aa', '?a'],\n",
    "        # ['adceb', 'a*b'],\n",
    "        # ['acdcb', 'a*c?b'],\n",
    "        # ['', '******'],\n",
    "        # ['babaaababaabababbbbbbaabaabbabababbaababbaaabbbaaab', '***bba**a*bbba**aab**b'],\n",
    "        # ['aa', '*'],\n",
    "        # ['aa', '?*'],\n",
    "        # ['abaabaaaabbabbaaabaabababbaabaabbabaaaaabababbababaabbabaabbbbaabbbbbbbabaaabbaaaaabbaabbbaaaaabbbabb', 'ab*aaba**abbaaaa**b*b****aa***a*b**ba*a**ba*baaa*b*ab*'],\n",
    "        # ['bbbbbbbabbaabbabbbbaaabbabbabaaabbababbbabbbabaaabaab', 'b*b*ab**ba*b**b***bba'],\n",
    "        # ['adceb', '*a*b'],\n",
    "        # ['aab', 'c*a*b'],\n",
    "        # ['ab', '?*'],\n",
    "        ['mississippi', 'm??*ss*?i*pi'],    # 不单独处理开头，而是每次都处理上面是*的问题，导致dp[5][4]为T，依次错下去\n",
    "        ['adceb', '*a*b'],\n",
    "    ]\n",
    "\n",
    "    for s, p in s_p:\n",
    "        print(Solution().isMatch(s, p))"
   ],
   "outputs": [
    {
     "output_type": "stream",
     "name": "stdout",
     "text": [
      " \tm\ti\ts\ts\ti\ts\ts\ti\tp\tp\ti\n",
      " T\t \t \t \t \t \t \t \t \t \t \t \t\n",
      "m \tT\t \t \t \t \t \t \t \t \t \t \t\n",
      "? \t \tT\t \t \t \t \t \t \t \t \t \t\n",
      "? \t \t \tT\t \t \t \t \t \t \t \t \t\n",
      "* \t \t \tT\tT\tT\tT\tT\tT\tT\tT\tT\t\n",
      "s \t \t \t \tT\t \tT\tT\t \t \t \t \t\n",
      "s \t \t \t \t \t \t \tT\t \t \t \t \t\n",
      "* \t \t \t \t \t \t \tT\tT\tT\tT\tT\t\n",
      "? \t \t \t \t \t \t \t \tT\tT\tT\tT\t\n",
      "i \t \t \t \t \t \t \t \t \t \t \tT\t\n",
      "* \t \t \t \t \t \t \t \t \t \t \tT\t\n",
      "p \t \t \t \t \t \t \t \t \t \t \t \t\n",
      "i \t \t \t \t \t \t \t \t \t \t \t \t\n",
      "False\n",
      " \ta\td\tc\te\tb\n",
      " T\t \t \t \t \t \t\n",
      "*T\tT\tT\tT\tT\tT\t\n",
      "a \tT\t \t \t \t \t\n",
      "* \tT\tT\tT\tT\tT\t\n",
      "b \t \t \t \t \tT\t\n",
      "True\n"
     ]
    }
   ],
   "metadata": {}
  },
  {
   "cell_type": "markdown",
   "source": [
    "执行用时 :760 ms, 在所有 Python3 提交中击败了30.47 %的用户\n",
    "\n",
    "内存消耗 :23.5 MB, 在所有 Python3 提交中击败了19.97 %的用户"
   ],
   "metadata": {}
  },
  {
   "cell_type": "markdown",
   "source": [
    "time: O(mn)\n",
    "\n",
    "space: O(mn)"
   ],
   "metadata": {}
  },
  {
   "cell_type": "markdown",
   "source": [
    "# 题解2\n",
    "\n",
    "贪心算法\n",
    "\n",
    "分三种情况：\\\n",
    "模式p的开头和结尾是∗； （如：p=∗abcd∗efgh∗i∗）\\\n",
    "模式p的开头字符不是∗；（如：p=abcd∗efgh∗i∗）\\\n",
    "模式p的结尾字符不是∗。（如：p=∗abcd∗efgh∗i）\n",
    "\n",
    "与动态规划相比，空间复杂度降为O(1)。"
   ],
   "metadata": {}
  },
  {
   "cell_type": "markdown",
   "source": [
    "p=∗abcd∗ 为例，pp 可以匹配所有包含子串 abcd 的字符串，也就是说，我们只需要暴力地枚举字符串 ss 中的每个位置作为起始位置，并判断对应的子串是否为 abcd 即可。\n",
    "\n",
    "如果 ss 中多次出现了某个子串，那么我们选择最早出现的位置（贪心），可以使得后续子串能被找到的机会更大。\n",
    "\n",
    "开头或末尾不是∗，则直接匹配。"
   ],
   "metadata": {}
  },
  {
   "cell_type": "markdown",
   "source": [
    "time: O(mn)\n",
    "\n",
    "space: O(1)"
   ],
   "metadata": {}
  }
 ],
 "metadata": {
  "language_info": {
   "codemirror_mode": {
    "name": "ipython",
    "version": 3
   },
   "file_extension": ".py",
   "mimetype": "text/x-python",
   "name": "python",
   "nbconvert_exporter": "python",
   "pygments_lexer": "ipython3",
   "version": "3.8.10"
  },
  "orig_nbformat": 2,
  "kernelspec": {
   "name": "python3",
   "display_name": "Python 3.8.10 64-bit"
  },
  "interpreter": {
   "hash": "916dbcbb3f70747c44a77c7bcd40155683ae19c65e1c03b4aa3499c5328201f1"
  }
 },
 "nbformat": 4,
 "nbformat_minor": 2
}