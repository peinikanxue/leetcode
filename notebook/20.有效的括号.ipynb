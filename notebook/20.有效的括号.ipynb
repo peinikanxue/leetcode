{
 "cells": [
  {
   "cell_type": "markdown",
   "metadata": {},
   "source": [
    "## 1"
   ]
  },
  {
   "cell_type": "markdown",
   "metadata": {},
   "source": [
    "使用栈。"
   ]
  },
  {
   "cell_type": "code",
   "execution_count": 1,
   "metadata": {},
   "outputs": [
    {
     "name": "stdout",
     "output_type": "stream",
     "text": [
      "True\n",
      "True\n",
      "False\n",
      "False\n"
     ]
    }
   ],
   "source": [
    "class Solution:\n",
    "    def isValid(self, s: str) -> bool:\n",
    "\n",
    "        s_dict = {'(':')', '[':']', '{':'}'}\n",
    "        \n",
    "        stack = []\n",
    "\n",
    "        for ss in s:\n",
    "            if ss in s_dict:\n",
    "                stack.append(ss)\n",
    "            else:\n",
    "                if not stack:   # 空栈\n",
    "                    return False\n",
    "                tmp_char = stack.pop()\n",
    "                if ss != s_dict[tmp_char]:\n",
    "                    return False\n",
    "        if stack:   # 还剩有括号\n",
    "            return False\n",
    "        else:\n",
    "            return True\n",
    "\n",
    "\n",
    "if __name__ == \"__main__\":\n",
    "    s_list = [\"()\", \"()[]{}\", \"(]\", '[']\n",
    "\n",
    "    for s in s_list:\n",
    "        print(Solution().isValid(s))"
   ]
  },
  {
   "cell_type": "markdown",
   "metadata": {},
   "source": [
    "执行用时 :52 ms, 在所有 python3 提交中击败了56.30%的用户\n",
    "\n",
    "内存消耗 :14 MB, 在所有 python3 提交中击败了5.51%的用户"
   ]
  },
  {
   "cell_type": "markdown",
   "metadata": {},
   "source": [
    "时间复杂度：O(n)\n",
    "\n",
    "空间复杂度：O(n/2)"
   ]
  }
 ],
 "metadata": {
  "kernelspec": {
   "display_name": "Python 3",
   "language": "python",
   "name": "python3"
  },
  "language_info": {
   "codemirror_mode": {
    "name": "ipython",
    "version": 3
   },
   "file_extension": ".py",
   "mimetype": "text/x-python",
   "name": "python",
   "nbconvert_exporter": "python",
   "pygments_lexer": "ipython3",
   "version": "3.6.8"
  }
 },
 "nbformat": 4,
 "nbformat_minor": 2
}
