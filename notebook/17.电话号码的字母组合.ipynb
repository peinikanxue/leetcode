{
 "cells": [
  {
   "cell_type": "markdown",
   "metadata": {},
   "source": [
    "# 1"
   ]
  },
  {
   "cell_type": "markdown",
   "metadata": {},
   "source": [
    "直接遍历的话,时间复杂度为O(n!)(第一次算错成了n^3).\n",
    "\n",
    "其中,每次遍历,变动的只有前缀,后缀的复用的,可以从这方面入手."
   ]
  },
  {
   "cell_type": "code",
   "execution_count": 1,
   "metadata": {},
   "outputs": [
    {
     "name": "stdout",
     "output_type": "stream",
     "text": [
      "['ad', 'bd', 'cd', 'ae', 'be', 'ce', 'af', 'bf', 'cf']\n",
      "['a', 'b', 'c']\n"
     ]
    }
   ],
   "source": [
    "from typing import List\n",
    "\n",
    "class Solution:\n",
    "    def letterCombinations(self, digits: str) -> List[str]:\n",
    "        char_dict = {\n",
    "            '2' : ['a', 'b', 'c'],\n",
    "            '3' : ['d', 'e', 'f'],\n",
    "            '4' : ['g', 'h', 'i'],\n",
    "            '5' : ['j', 'k', 'l'],\n",
    "            '6' : ['m', 'n', 'o'],\n",
    "            '7' : ['p', 'q', 'r', 's'],\n",
    "            '8' : ['t', 'u', 'v'],\n",
    "            '9' : ['w', 'x', 'y', 'z'],\n",
    "        }\n",
    "\n",
    "        result = []\n",
    "        pre_strs = []\n",
    "        is_first = True\n",
    "\n",
    "        for s in digits[::-1]:\n",
    "            result = []\n",
    "            chars = char_dict[s]\n",
    "            \n",
    "            if is_first:\n",
    "                is_first = False\n",
    "                for char in chars:\n",
    "                    result.append(char)\n",
    "            else:\n",
    "                for pre_str in pre_strs:\n",
    "                    for char in chars:\n",
    "                        result.append(char+pre_str)\n",
    "            pre_strs = result\n",
    "        \n",
    "        return result\n",
    "\n",
    "\n",
    "if __name__ == \"__main__\":\n",
    "    digits_list = [\"23\", \"2\"]\n",
    "\n",
    "    for digits in digits_list:\n",
    "        print(Solution().letterCombinations(digits))"
   ]
  },
  {
   "cell_type": "markdown",
   "metadata": {},
   "source": [
    "执行用时 :36 ms, 在所有 python3 提交中击败了97.54%的用户\n",
    "\n",
    "内存消耗 :13.8 MB, 在所有 python3 提交中击败了5.30%的用户"
   ]
  },
  {
   "cell_type": "markdown",
   "metadata": {},
   "source": [
    "时间复杂度:O(3^n)\n",
    "\n",
    "空间复杂度:O(3^n)"
   ]
  }
 ],
 "metadata": {
  "kernelspec": {
   "display_name": "Python 3",
   "language": "python",
   "name": "python3"
  },
  "language_info": {
   "codemirror_mode": {
    "name": "ipython",
    "version": 3
   },
   "file_extension": ".py",
   "mimetype": "text/x-python",
   "name": "python",
   "nbconvert_exporter": "python",
   "pygments_lexer": "ipython3",
   "version": "3.6.8"
  }
 },
 "nbformat": 4,
 "nbformat_minor": 2
}
