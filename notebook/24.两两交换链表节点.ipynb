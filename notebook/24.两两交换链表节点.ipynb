{
 "cells": [
  {
   "cell_type": "markdown",
   "metadata": {},
   "source": [
    "# 1"
   ]
  },
  {
   "cell_type": "markdown",
   "metadata": {},
   "source": [
    "采用2个指针，以步距2移动，方便交换。\n",
    "\n",
    "后发现需要第3个指针，将之前的p1指向当前的p2。"
   ]
  },
  {
   "cell_type": "code",
   "execution_count": 1,
   "metadata": {},
   "outputs": [],
   "source": [
    "from utils import *"
   ]
  },
  {
   "cell_type": "code",
   "execution_count": 2,
   "metadata": {},
   "outputs": [
    {
     "name": "stdout",
     "output_type": "stream",
     "text": [
      "2 -> 1 -> 3\n",
      "2 -> 1 -> 4 -> 3\n"
     ]
    }
   ],
   "source": [
    "class Solution:\n",
    "    def swapPairs(self, head: ListNode) -> ListNode:\n",
    "        \n",
    "        if not head:    # 边界：没有结点\n",
    "            return\n",
    "\n",
    "        p1 = head\n",
    "        if head.next:   # 如果还有下一个结点\n",
    "            head = head.next\n",
    "            p2 = head\n",
    "        else:           # 边界：只有一个结点\n",
    "            return head\n",
    "        # pre = p1\n",
    "        \n",
    "        while p1 and p2:\n",
    "            pre = p1\n",
    "            p1.next, p2.next = p2.next, p1\n",
    "\n",
    "            if p1.next: # 如果有下一个结点\n",
    "                p1 = p1.next\n",
    "                p2 = p1.next\n",
    "                if p2:  # 如果还有p2，将之前的p1指向当前的p2\n",
    "                    pre.next = p2\n",
    "            else:\n",
    "                p1 = None\n",
    "            \n",
    "        return head\n",
    "\n",
    "\n",
    "if __name__ == \"__main__\":\n",
    "    \n",
    "    val_list = [\n",
    "        [],\n",
    "        [1, 2, 3],\n",
    "        [1, 2, 3, 4],\n",
    "    ]\n",
    "\n",
    "    for val in val_list:\n",
    "        l = util.create_linked_list(val)\n",
    "        result = Solution().swapPairs(l)\n",
    "        util.print_linked_list(result)"
   ]
  },
  {
   "cell_type": "markdown",
   "metadata": {},
   "source": [
    "执行用时 :40 ms, 在所有 python3 提交中击败了90.38%的用户\n",
    "\n",
    "内存消耗 :13.7 MB, 在所有 python3 提交中击败了5.93%的用户"
   ]
  },
  {
   "cell_type": "markdown",
   "metadata": {},
   "source": [
    "time:O(n)\n",
    "\n",
    "space:O(1)"
   ]
  }
 ],
 "metadata": {
  "kernelspec": {
   "display_name": "Python 3",
   "language": "python",
   "name": "python3"
  },
  "language_info": {
   "codemirror_mode": {
    "name": "ipython",
    "version": 3
   },
   "file_extension": ".py",
   "mimetype": "text/x-python",
   "name": "python",
   "nbconvert_exporter": "python",
   "pygments_lexer": "ipython3",
   "version": "3.6.8"
  }
 },
 "nbformat": 4,
 "nbformat_minor": 2
}
